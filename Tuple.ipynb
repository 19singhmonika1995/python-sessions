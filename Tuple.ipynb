{
 "cells": [
  {
   "attachments": {},
   "cell_type": "markdown",
   "id": "57b6c64a-7ee9-4850-980b-60fb7c4b0415",
   "metadata": {},
   "source": [
    "-WRITE AN ARTICLE ON TUPLE\n",
    "\n",
    "        -How to read the tuple\n",
    "        \n",
    "        -type/max/min/len/sum\n",
    "        \n",
    "        -index/mutable\n",
    "\n",
    "        -in/for\n",
    "\n",
    "        -slice\n",
    "\n",
    "        -methods\n",
    "\n",
    "\n",
    "\n",
    "\n"
   ]
  },
  {
   "cell_type": "code",
   "execution_count": null,
   "id": "962d34ba-e706-4187-a4c3-cb3a052354f7",
   "metadata": {},
   "outputs": [],
   "source": []
  }
 ],
 "metadata": {
  "kernelspec": {
   "display_name": "Python 3 (ipykernel)",
   "language": "python",
   "name": "python3"
  },
  "language_info": {
   "codemirror_mode": {
    "name": "ipython",
    "version": 3
   },
   "file_extension": ".py",
   "mimetype": "text/x-python",
   "name": "python",
   "nbconvert_exporter": "python",
   "pygments_lexer": "ipython3",
   "version": "3.12.4"
  }
 },
 "nbformat": 4,
 "nbformat_minor": 5
}
