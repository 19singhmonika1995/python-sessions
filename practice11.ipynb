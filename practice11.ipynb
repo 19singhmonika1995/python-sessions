{
 "cells": [
  {
   "cell_type": "code",
   "execution_count": 1,
   "id": "f3cd46fc-95d3-446a-925d-bdf5e037ade2",
   "metadata": {},
   "outputs": [
    {
     "data": {
      "text/plain": [
       "200"
      ]
     },
     "execution_count": 1,
     "metadata": {},
     "output_type": "execute_result"
    }
   ],
   "source": [
    "num1= 100\n",
    "num2= 200\n",
    "num1\n",
    "num2"
   ]
  },
  {
   "cell_type": "code",
   "execution_count": 2,
   "id": "fbe9520d-1c70-4b5c-bfdc-1ebfc2b9da84",
   "metadata": {},
   "outputs": [
    {
     "name": "stdout",
     "output_type": "stream",
     "text": [
      "100\n",
      "200\n"
     ]
    }
   ],
   "source": [
    "num1= 100\n",
    "num2= 200\n",
    "print (num1)\n",
    "print (num2)"
   ]
  },
  {
   "cell_type": "code",
   "execution_count": 3,
   "id": "50b41fba-1a8f-4bbd-b114-e283d3074580",
   "metadata": {},
   "outputs": [
    {
     "name": "stdout",
     "output_type": "stream",
     "text": [
      "100 200\n"
     ]
    }
   ],
   "source": [
    "print (num1,num2)"
   ]
  },
  {
   "cell_type": "code",
   "execution_count": 4,
   "id": "f9f304f1-d619-4b3d-a0de-b516d791c343",
   "metadata": {},
   "outputs": [
    {
     "name": "stdout",
     "output_type": "stream",
     "text": [
      "HELLOOOO\n",
      "HIIIIIIIIIIII\n",
      "HOW\n",
      "ARE\n",
      "YOU\n"
     ]
    }
   ],
   "source": [
    "print ('HELLOOOO')\n",
    "print ('HIIIIIIIIIIII')\n",
    "print ('HOW')\n",
    "print ('ARE')\n",
    "print ('YOU')"
   ]
  },
  {
   "cell_type": "code",
   "execution_count": 5,
   "id": "30170ddf-8728-4316-bbf4-262ab0cc319b",
   "metadata": {},
   "outputs": [
    {
     "ename": "NameError",
     "evalue": "name 'Hieee' is not defined",
     "output_type": "error",
     "traceback": [
      "\u001b[1;31m---------------------------------------------------------------------------\u001b[0m",
      "\u001b[1;31mNameError\u001b[0m                                 Traceback (most recent call last)",
      "Cell \u001b[1;32mIn[5], line 1\u001b[0m\n\u001b[1;32m----> 1\u001b[0m \u001b[38;5;28mprint\u001b[39m (Hieee)\n",
      "\u001b[1;31mNameError\u001b[0m: name 'Hieee' is not defined"
     ]
    }
   ],
   "source": [
    "print (Hieee)"
   ]
  },
  {
   "cell_type": "code",
   "execution_count": 6,
   "id": "cf39f78f-0fbd-4b83-8d61-8aef5e3ab118",
   "metadata": {},
   "outputs": [
    {
     "name": "stdout",
     "output_type": "stream",
     "text": [
      "Hieee\n"
     ]
    }
   ],
   "source": [
    "print ('Hieee')"
   ]
  },
  {
   "cell_type": "code",
   "execution_count": 7,
   "id": "2f9b4bbb-fa5b-41a7-b9c3-a2c5d024fc04",
   "metadata": {},
   "outputs": [
    {
     "ename": "SyntaxError",
     "evalue": "incomplete input (958250731.py, line 1)",
     "output_type": "error",
     "traceback": [
      "\u001b[1;36m  Cell \u001b[1;32mIn[7], line 1\u001b[1;36m\u001b[0m\n\u001b[1;33m    print ('HELLOOOO','HIIIIIIIIIIII','HOW','ARE','YOU'\u001b[0m\n\u001b[1;37m                                                       ^\u001b[0m\n\u001b[1;31mSyntaxError\u001b[0m\u001b[1;31m:\u001b[0m incomplete input\n"
     ]
    }
   ],
   "source": [
    "print ('HELLOOOO','HIIIIIIIIIIII','HOW','ARE','YOU'\n"
   ]
  },
  {
   "cell_type": "code",
   "execution_count": 8,
   "id": "2886b89e-695d-4fbb-97c5-6cb9a294dddd",
   "metadata": {},
   "outputs": [
    {
     "name": "stdout",
     "output_type": "stream",
     "text": [
      "HELLOOOO HIIIIIIIIIIII HOW ARE YOU\n"
     ]
    }
   ],
   "source": [
    "print ('HELLOOOO','HIIIIIIIIIIII','HOW','ARE','YOU')"
   ]
  },
  {
   "cell_type": "markdown",
   "id": "154b217d-a798-4980-bd04-e7bcacb52f54",
   "metadata": {},
   "source": [
    "****JOINING MULTIPLE PRINT STATEMENTS*******----------->END Operator"
   ]
  },
  {
   "cell_type": "code",
   "execution_count": 9,
   "id": "741ccc29-c7e8-49cf-9a2a-565cedb55f1e",
   "metadata": {},
   "outputs": [
    {
     "name": "stdout",
     "output_type": "stream",
     "text": [
      "HELLOOOO  HIIIIIIIIIIII  HOW  ARE  YOU  "
     ]
    }
   ],
   "source": [
    "print ('HELLOOOO',end='  ')\n",
    "print ('HIIIIIIIIIIII',end='  ')\n",
    "print ('HOW',end='  ')\n",
    "print ('ARE',end='  ')\n",
    "print ('YOU',end='  ')"
   ]
  },
  {
   "cell_type": "code",
   "execution_count": 10,
   "id": "1da5ec16-5b14-460a-84f6-0b8b9c171a1d",
   "metadata": {},
   "outputs": [
    {
     "name": "stdout",
     "output_type": "stream",
     "text": [
      "HELLOOOO.............  HIIIIIIIIIIII  HOW  ARE  YOU  "
     ]
    }
   ],
   "source": [
    "print ('HELLOOOO',end='.............  ')\n",
    "print ('HIIIIIIIIIIII',end='  ')\n",
    "print ('HOW',end='  ')\n",
    "print ('ARE',end='  ')\n",
    "print ('YOU',end='  ')"
   ]
  },
  {
   "cell_type": "code",
   "execution_count": 11,
   "id": "44acdb83-8a12-44be-b8a6-a313f675a258",
   "metadata": {},
   "outputs": [
    {
     "name": "stdout",
     "output_type": "stream",
     "text": [
      "HELLOOOO............  HIIIIIIIIIIII  HOW  ARE  YOU ? "
     ]
    }
   ],
   "source": [
    "print ('HELLOOOO',end='............  ')\n",
    "print ('HIIIIIIIIIIII',end='  ')\n",
    "print ('HOW',end='  ')\n",
    "print ('ARE',end='  ')\n",
    "print ('YOU',end=' ? ')"
   ]
  },
  {
   "cell_type": "code",
   "execution_count": 12,
   "id": "d047a305-eb93-445c-8523-0b94e6a824d1",
   "metadata": {},
   "outputs": [
    {
     "name": "stdout",
     "output_type": "stream",
     "text": [
      "the addition of num1&num2 is 300\n"
     ]
    }
   ],
   "source": [
    "num1= 100\n",
    "num2= 200\n",
    "add= num1+num2\n",
    "print(\"the addition of num1&num2 is\",add)"
   ]
  },
  {
   "cell_type": "markdown",
   "id": "322e550a-a521-4396-9a21-eb05607598bb",
   "metadata": {},
   "source": [
    "*******best approach....[.format]"
   ]
  },
  {
   "cell_type": "markdown",
   "id": "89756905-6a38-4818-81d6-233d0491b7a7",
   "metadata": {},
   "source": [
    "num1= 100\n",
    "num2= 200\n",
    "add= num1+num2\n",
    "print(\"the addition of {} and {} is\",{})"
   ]
  },
  {
   "cell_type": "code",
   "execution_count": 14,
   "id": "87287219-9c70-4b7f-8210-9e2ff8f200fb",
   "metadata": {},
   "outputs": [
    {
     "name": "stdout",
     "output_type": "stream",
     "text": [
      "the addition of 100 and 200 is 300\n"
     ]
    }
   ],
   "source": [
    "num1= 100\n",
    "num2= 200\n",
    "add= num1+num2\n",
    "print(\"the addition of {} and {} is {}\".format(num1,num2,add))"
   ]
  },
  {
   "cell_type": "markdown",
   "id": "173f19d6-d833-4c24-a31c-eb006c35601d",
   "metadata": {},
   "source": [
    "variable name= 'monika'\n",
    "city= 'hajipur'\n",
    "age= 28\n",
    "\n",
    "my naame is monika , i came from hajipur and M 28 YEARS OLD"
   ]
  },
  {
   "cell_type": "code",
   "execution_count": 15,
   "id": "781ba088-0df6-45a1-bf29-7e39e3eaabb0",
   "metadata": {},
   "outputs": [
    {
     "name": "stdout",
     "output_type": "stream",
     "text": [
      "my name is monika. I came from hjp N i am 28 years old\n"
     ]
    }
   ],
   "source": [
    "name= 'monika'\n",
    "cit= 'hjp'\n",
    "age= 28\n",
    "print(\"my name is monika. I came from hjp N i am 28 years old\")"
   ]
  },
  {
   "cell_type": "markdown",
   "id": "02aeb2f0-9461-4fff-8583-af069c36c713",
   "metadata": {},
   "source": [
    "********88best approach*****"
   ]
  },
  {
   "cell_type": "code",
   "execution_count": 16,
   "id": "4443bd98-7c06-429d-b514-e87adadbb9a1",
   "metadata": {},
   "outputs": [
    {
     "name": "stdout",
     "output_type": "stream",
     "text": [
      "my name is monika came from hjp N i am 28 years old\n"
     ]
    }
   ],
   "source": [
    "name= 'monika'\n",
    "city= 'hjp'\n",
    "age= 28\n",
    "print(\"my name is {} came from {} N i am {} years old\".format(name, city, age))"
   ]
  },
  {
   "cell_type": "markdown",
   "id": "4e344f25-d5d1-4fee-8e26-77920410e3e0",
   "metadata": {},
   "source": [
    "step1:value1=20\n",
    "    2:value2=30\n",
    "    3:add=value1+value2\n",
    "      sub=value1-value2\n",
    "      mul=value1*value2\n",
    "      div=value1/value2\n",
    "     the addition of 20 and 30 is: 50\n",
    "     the subtraction of 20 and 30 is: -10\n",
    "     the multiplication of 20 and 30 is: 600\n",
    "     the division of 20 and 30 is: .6666"
   ]
  },
  {
   "cell_type": "code",
   "execution_count": 20,
   "id": "4112ff38-d7da-47a5-b7e6-ac035c6e4fbf",
   "metadata": {},
   "outputs": [
    {
     "name": "stdout",
     "output_type": "stream",
     "text": [
      "the addition of 20 and 30 is 50\n",
      "the subtraction of 20 and 30 is -10\n",
      "the multiplication of 20 and 30 is 600\n",
      "the division of 20 and 30 is 0.67\n"
     ]
    }
   ],
   "source": [
    "value1= 20\n",
    "value2= 30\n",
    "add= value1+value2\n",
    "sub= value1-value2\n",
    "mul= value1*value2\n",
    "div= round(value1/value2,2)\n",
    "print(\"the addition of {} and {} is {}\".format(value1,value2,add))\n",
    "print(\"the subtraction of {} and {} is {}\".format(value1,value2,sub))\n",
    "print(\"the multiplication of {} and {} is {}\".format(value1,value2,mul))\n",
    "print(\"the division of {} and {} is {}\".format(value1,value2,div))\n"
   ]
  },
  {
   "cell_type": "markdown",
   "id": "e8b3f4c8-e34b-41e2-a375-022fb0c0f9e6",
   "metadata": {},
   "source": [
    "****NOTE:**********"
   ]
  },
  {
   "cell_type": "code",
   "execution_count": 21,
   "id": "ebf033c2-d61f-4605-b5d4-fb4f0250b6e9",
   "metadata": {},
   "outputs": [
    {
     "data": {
      "text/plain": [
       "0.6666666666666666"
      ]
     },
     "execution_count": 21,
     "metadata": {},
     "output_type": "execute_result"
    }
   ],
   "source": [
    "20/30"
   ]
  },
  {
   "cell_type": "markdown",
   "id": "b3730f25-1421-4786-8afc-0546571d0a8e",
   "metadata": {},
   "source": [
    "//division"
   ]
  },
  {
   "cell_type": "code",
   "execution_count": 22,
   "id": "6a673892-2439-4ed2-8253-d3ebb1ce4554",
   "metadata": {},
   "outputs": [
    {
     "data": {
      "text/plain": [
       "20"
      ]
     },
     "execution_count": 22,
     "metadata": {},
     "output_type": "execute_result"
    }
   ],
   "source": [
    "20%30"
   ]
  },
  {
   "cell_type": "markdown",
   "id": "79c722f2-6fbf-4f8d-9f41-52b417603c6c",
   "metadata": {},
   "source": [
    "//modulus.......remainder"
   ]
  },
  {
   "cell_type": "code",
   "execution_count": 23,
   "id": "c14e064d-8baf-4329-85ea-d64e72aef8b3",
   "metadata": {},
   "outputs": [
    {
     "data": {
      "text/plain": [
       "0"
      ]
     },
     "execution_count": 23,
     "metadata": {},
     "output_type": "execute_result"
    }
   ],
   "source": [
    "20//30"
   ]
  },
  {
   "cell_type": "markdown",
   "id": "05216d04-3afa-4878-a97b-02e0ac25179f",
   "metadata": {},
   "source": [
    "//floor division..........quotient"
   ]
  },
  {
   "cell_type": "markdown",
   "id": "4fbf0b26-d2af-48a5-a3f0-215dd7d9e877",
   "metadata": {},
   "source": [
    "**********input******"
   ]
  },
  {
   "cell_type": "code",
   "execution_count": 24,
   "id": "a99cf5b9-07b5-40e3-8217-a90669a382f9",
   "metadata": {},
   "outputs": [
    {
     "name": "stdin",
     "output_type": "stream",
     "text": [
      "enter a number 200\n"
     ]
    },
    {
     "data": {
      "text/plain": [
       "'200'"
      ]
     },
     "execution_count": 24,
     "metadata": {},
     "output_type": "execute_result"
    }
   ],
   "source": [
    "input(\"enter a number\")"
   ]
  },
  {
   "cell_type": "code",
   "execution_count": 25,
   "id": "4b027cb1-a08b-4716-8e86-7ee5c0b67dd2",
   "metadata": {},
   "outputs": [
    {
     "name": "stdin",
     "output_type": "stream",
     "text": [
      "enter some name monika\n"
     ]
    },
    {
     "data": {
      "text/plain": [
       "'monika'"
      ]
     },
     "execution_count": 25,
     "metadata": {},
     "output_type": "execute_result"
    }
   ],
   "source": [
    "input(\"enter some name\")"
   ]
  },
  {
   "cell_type": "code",
   "execution_count": 1,
   "id": "114b88ee-0e41-4757-896c-63fff8785d2e",
   "metadata": {},
   "outputs": [
    {
     "name": "stdin",
     "output_type": "stream",
     "text": [
      "what is A for APPLE\n",
      "what is B for BALL\n"
     ]
    },
    {
     "data": {
      "text/plain": [
       "'BALL'"
      ]
     },
     "execution_count": 1,
     "metadata": {},
     "output_type": "execute_result"
    }
   ],
   "source": [
    "input(\"what is A for\")\n",
    "input(\"what is B for\")"
   ]
  },
  {
   "cell_type": "code",
   "execution_count": 2,
   "id": "f69295d1-786c-4c8f-88b2-c45f1c9e5d35",
   "metadata": {},
   "outputs": [
    {
     "ename": "NameError",
     "evalue": "name 'name1' is not defined",
     "output_type": "error",
     "traceback": [
      "\u001b[1;31m---------------------------------------------------------------------------\u001b[0m",
      "\u001b[1;31mNameError\u001b[0m                                 Traceback (most recent call last)",
      "Cell \u001b[1;32mIn[2], line 1\u001b[0m\n\u001b[1;32m----> 1\u001b[0m \u001b[38;5;28mprint\u001b[39m(name1)\n",
      "\u001b[1;31mNameError\u001b[0m: name 'name1' is not defined"
     ]
    }
   ],
   "source": [
    "print(name1)"
   ]
  },
  {
   "cell_type": "code",
   "execution_count": 3,
   "id": "b82ae242-75d9-47e5-98fe-2ba7fb48703f",
   "metadata": {},
   "outputs": [
    {
     "ename": "NameError",
     "evalue": "name 'name1' is not defined",
     "output_type": "error",
     "traceback": [
      "\u001b[1;31m---------------------------------------------------------------------------\u001b[0m",
      "\u001b[1;31mNameError\u001b[0m                                 Traceback (most recent call last)",
      "Cell \u001b[1;32mIn[3], line 1\u001b[0m\n\u001b[1;32m----> 1\u001b[0m \u001b[38;5;28mprint\u001b[39m(name1,name2)\n",
      "\u001b[1;31mNameError\u001b[0m: name 'name1' is not defined"
     ]
    }
   ],
   "source": [
    "print(name1,name2)"
   ]
  },
  {
   "cell_type": "code",
   "execution_count": 4,
   "id": "bd85e28f-7641-485f-8e32-435268885827",
   "metadata": {},
   "outputs": [
    {
     "name": "stdout",
     "output_type": "stream",
     "text": [
      "what is A for\n"
     ]
    }
   ],
   "source": [
    "print(what is A for)"
   ]
  },
  {
   "cell_type": "code",
   "execution_count": 5,
   "id": "f4f16122-6637-4e95-95b8-73f63b66caec",
   "metadata": {},
   "outputs": [
    {
     "ename": "SyntaxError",
     "evalue": "invalid syntax (3589783131.py, line 1)",
     "output_type": "error",
     "traceback": [
      "\u001b[1;36m  Cell \u001b[1;32mIn[5], line 1\u001b[1;36m\u001b[0m\n\u001b[1;33m    print(what is A for)\u001b[0m\n\u001b[1;37m                       ^\u001b[0m\n\u001b[1;31mSyntaxError\u001b[0m\u001b[1;31m:\u001b[0m invalid syntax\n"
     ]
    }
   ],
   "source": [
    "print(what is A for)"
   ]
  },
  {
   "cell_type": "code",
   "execution_count": 6,
   "id": "bc0a243f-ada2-4990-9924-ba93f3235a49",
   "metadata": {},
   "outputs": [
    {
     "name": "stdin",
     "output_type": "stream",
     "text": [
      " 45\n",
      " 43\n"
     ]
    },
    {
     "name": "stdout",
     "output_type": "stream",
     "text": [
      "the addition of 45 and 43 is 4543\n"
     ]
    }
   ],
   "source": [
    "val1= input()\n",
    "val2= input()\n",
    "add=val1+val2\n",
    "print(\"the addition of {} and {} is {}\".format(val1,val2,add))"
   ]
  },
  {
   "attachments": {},
   "cell_type": "markdown",
   "id": "2e125d0f-abc5-45e2-84d1-d41aa584378e",
   "metadata": {},
   "source": [
    "45 + 43 = '4543'...........so need to convert string into integer\n",
    "\n"
   ]
  },
  {
   "cell_type": "code",
   "execution_count": 7,
   "id": "dd6bc765-e6c0-483e-bfde-00e04cd1a586",
   "metadata": {},
   "outputs": [
    {
     "name": "stdin",
     "output_type": "stream",
     "text": [
      "enter num1: 100\n",
      "enter num2: 200.3\n"
     ]
    },
    {
     "name": "stdout",
     "output_type": "stream",
     "text": [
      "300.3\n"
     ]
    }
   ],
   "source": [
    "val1= 100\n",
    "val2= 200.5\n",
    "\n",
    "val1= int(input(\"enter vall1:\"))\n",
    "val2= float(input(\"enter val2:\"))\n",
    "print(val1+val2)"
   ]
  },
  {
   "cell_type": "markdown",
   "id": "02e26efb-22ee-4d60-84d5-42c1552019ce",
   "metadata": {},
   "source": [
    "val1= 100\n",
    "val2= 200.5\n",
    "\n",
    "val1= int(input(\"enter vall1:\"))\n",
    "val2= float(input(\"enter val2:\"))\n",
    "print(val1+val2)"
   ]
  },
  {
   "cell_type": "markdown",
   "id": "c3590601-f5ff-48f2-816f-84e7aa021300",
   "metadata": {},
   "source": [
    "******eval"
   ]
  },
  {
   "cell_type": "markdown",
   "id": "65a823cd-8bf1-4186-81b5-1d87d8c5045d",
   "metadata": {},
   "source": [
    "take 3 number from the keyboard and find the sum and average"
   ]
  },
  {
   "cell_type": "code",
   "execution_count": 8,
   "id": "4fa2b6ac-e59b-4d38-bc1c-7036f037f565",
   "metadata": {},
   "outputs": [
    {
     "name": "stdin",
     "output_type": "stream",
     "text": [
      "enter num1 10\n",
      "enter num2 20\n",
      "enter num3 30\n"
     ]
    },
    {
     "name": "stdout",
     "output_type": "stream",
     "text": [
      "the avg of 10,20 & 30 is 20.0\n"
     ]
    }
   ],
   "source": [
    "num1= eval(input(\"enter num1\"))\n",
    "num2= eval(input(\"enter num2\"))\n",
    "num3= eval(input(\"enter num3\"))\n",
    "average= (num1+num2+num3)/3\n",
    "print(\"the avg of {},{} & {} is {}\".format(num1,num2,num3,average))"
   ]
  },
  {
   "cell_type": "markdown",
   "id": "202d7913-a329-40ec-b4bc-1b8db6da5bb7",
   "metadata": {},
   "source": [
    "****try except"
   ]
  },
  {
   "cell_type": "code",
   "execution_count": 10,
   "id": "013f60c5-8d4f-4999-aea1-bfe6e69891b4",
   "metadata": {},
   "outputs": [
    {
     "ename": "SyntaxError",
     "evalue": "expected ':' (3598376331.py, line 9)",
     "output_type": "error",
     "traceback": [
      "\u001b[1;36m  Cell \u001b[1;32mIn[10], line 9\u001b[1;36m\u001b[0m\n\u001b[1;33m    except exception as e\u001b[0m\n\u001b[1;37m                         ^\u001b[0m\n\u001b[1;31mSyntaxError\u001b[0m\u001b[1;31m:\u001b[0m expected ':'\n"
     ]
    }
   ],
   "source": [
    "try:\n",
    "    num1= eval(input(\"enter num1\"))\n",
    "    num2= eval(input(\"enter num2\"))\n",
    "    num3= eval(input(\"enter num3\"))\n",
    "    average= (num1+num2+num3)/3\n",
    "    print(\"the avg of {},{} & {} is {}\".format(num1,num2,num3,average))\n",
    "# except:\n",
    "#     print(\"check the code\")\n",
    "\n",
    "      OR\n",
    "except exception as e  //e is ALIAS name.......anything we can write\n",
    "print(e)"
   ]
  },
  {
   "cell_type": "code",
   "execution_count": null,
   "id": "5b369822-af49-41d6-adca-2626d821da08",
   "metadata": {},
   "outputs": [],
   "source": []
  }
 ],
 "metadata": {
  "kernelspec": {
   "display_name": "Python 3 (ipykernel)",
   "language": "python",
   "name": "python3"
  },
  "language_info": {
   "codemirror_mode": {
    "name": "ipython",
    "version": 3
   },
   "file_extension": ".py",
   "mimetype": "text/x-python",
   "name": "python",
   "nbconvert_exporter": "python",
   "pygments_lexer": "ipython3",
   "version": "3.12.4"
  }
 },
 "nbformat": 4,
 "nbformat_minor": 5
}
