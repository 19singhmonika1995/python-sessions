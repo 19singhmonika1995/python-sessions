{
 "cells": [
  {
   "cell_type": "code",
   "execution_count": 1,
   "id": "3c078026-ee21-4aac-a45d-37e39df6d7eb",
   "metadata": {},
   "outputs": [],
   "source": [
    "num1= 10\n",
    "num2= 20\n",
    "num3= 20\n",
    "add= num1+num2+num3"
   ]
  },
  {
   "cell_type": "code",
   "execution_count": 2,
   "id": "663f05ea-8be7-4eab-8dda-9041a93a05b2",
   "metadata": {},
   "outputs": [
    {
     "name": "stdout",
     "output_type": "stream",
     "text": [
      "50\n"
     ]
    }
   ],
   "source": [
    "print(add)"
   ]
  },
  {
   "cell_type": "markdown",
   "id": "7453a10b-b6ec-4293-a343-4bcf8158726f",
   "metadata": {},
   "source": [
    "********try&except"
   ]
  },
  {
   "cell_type": "code",
   "execution_count": 5,
   "id": "0dca3f95-25a9-4703-9710-227706ba30a5",
   "metadata": {},
   "outputs": [
    {
     "name": "stdout",
     "output_type": "stream",
     "text": [
      "50\n"
     ]
    }
   ],
   "source": [
    "try:\n",
    "    num1= 10\n",
    "    num2= 20\n",
    "    num3= 20\n",
    "    add= num1+num2+num3\n",
    "    print(add)\n",
    "\n",
    "except:\n",
    "    print(\"if error is there, check code\")"
   ]
  },
  {
   "cell_type": "markdown",
   "id": "50ba6fa0-79cd-4bb9-88b4-7edf6c7199dc",
   "metadata": {},
   "source": [
    "******square of the number"
   ]
  },
  {
   "cell_type": "code",
   "execution_count": 10,
   "id": "aefddc6b-6f69-4be8-8033-000feb9ecdea",
   "metadata": {},
   "outputs": [
    {
     "name": "stdin",
     "output_type": "stream",
     "text": [
      "enter a number: 3\n"
     ]
    },
    {
     "name": "stdout",
     "output_type": "stream",
     "text": [
      "the square of 3 is 9\n"
     ]
    }
   ],
   "source": [
    "try:\n",
    "    num= eval(input(\"enter a number:\"))\n",
    "    print(\"the square of {} is {}\".format(num, num*num))\n",
    "    \n",
    "except Exception as e:\n",
    "    print(e)\n",
    "    print('helloooooo')"
   ]
  },
  {
   "cell_type": "markdown",
   "id": "2a4dbf5d-cf02-44ce-91a9-9ae6530934d1",
   "metadata": {},
   "source": [
    "CONDITIONAL STATEMENTS*******"
   ]
  },
  {
   "cell_type": "markdown",
   "id": "bd749ab5-37a7-46dc-8243-543466b3cb0e",
   "metadata": {},
   "source": [
    "If-else"
   ]
  },
  {
   "cell_type": "markdown",
   "id": "476b2a47-8d4c-4516-9117-fdee35d7dca4",
   "metadata": {},
   "source": [
    "*****\n",
    "name='python'\n",
    "want to make some condition.......whenever the name==python==========> success.....otherwise========>fail\n"
   ]
  },
  {
   "cell_type": "code",
   "execution_count": 1,
   "id": "793d334a-f528-410f-8e4c-18f6fdad20d2",
   "metadata": {},
   "outputs": [
    {
     "name": "stdout",
     "output_type": "stream",
     "text": [
      "WON\n"
     ]
    }
   ],
   "source": [
    "name='python'\n",
    "if name=='python':\n",
    "    print('WON')"
   ]
  },
  {
   "cell_type": "markdown",
   "id": "9d6c38f7-6d7b-4807-9cb2-4d0b55cbe74e",
   "metadata": {},
   "source": []
  },
  {
   "cell_type": "markdown",
   "id": "12e62e34-3a96-4635-954e-b91374135287",
   "metadata": {},
   "source": [
    "#######TRUE case:"
   ]
  },
  {
   "cell_type": "code",
   "execution_count": 10,
   "id": "534b39d2-2317-4bd7-babf-d185d094f956",
   "metadata": {},
   "outputs": [
    {
     "name": "stdout",
     "output_type": "stream",
     "text": [
      "WON\n"
     ]
    }
   ],
   "source": [
    "name= 'python'\n",
    "if name == 'python':\n",
    "    print('WON')\n",
    "else:\n",
    "     print('LOST')\n",
    "    "
   ]
  },
  {
   "cell_type": "markdown",
   "id": "806ed9bc-b3d3-4f35-b409-c22149871473",
   "metadata": {},
   "source": [
    "########FALSE case:"
   ]
  },
  {
   "cell_type": "code",
   "execution_count": 11,
   "id": "c7d2e56a-7c8a-41f6-8318-854ba866c14f",
   "metadata": {},
   "outputs": [
    {
     "name": "stdout",
     "output_type": "stream",
     "text": [
      "LOST\n"
     ]
    }
   ],
   "source": [
    "name= 'python'\n",
    "if name == 'pyn':\n",
    "    print('WON')\n",
    "else:\n",
    "     print('LOST')\n",
    "    "
   ]
  },
  {
   "cell_type": "code",
   "execution_count": null,
   "id": "7b3a228f-1953-4358-8cf0-c3b384f49f2a",
   "metadata": {},
   "outputs": [],
   "source": [
    "print('helloooo')\n",
    "print(10)\n",
    "num1= eval(input(\"enter a num1:\"))\n",
    "num2= eval(input(\"enter a num2:\"))\n",
    "if num1 == num2:\n",
    "    print(\"true case\")\n",
    "    print(\"we r doing addition operation\")\n",
    "    print(\"The addition of {} and {} is: {}\".format(num1,num2,num1+num2))\n",
    "    print(\"happy ending!!\")\n",
    "else:\n",
    "    print(\"false case\")\n",
    "    print(\"we r doing multiplication operation\")\n",
    "    print(\"The multiplication of {} and {} is: {}\".format(num1,num2,num1*num2))\n",
    "    print(\"GREAT!!\")"
   ]
  },
  {
   "cell_type": "markdown",
   "id": "ea773b17-5625-40ec-b847-12b58d126eb0",
   "metadata": {},
   "source": [
    "****WAP ask the user enter a number.....find even or oddd"
   ]
  },
  {
   "cell_type": "code",
   "execution_count": 23,
   "id": "6520f593-0ad4-4df5-9d62-5c73a7a10e98",
   "metadata": {},
   "outputs": [
    {
     "name": "stdin",
     "output_type": "stream",
     "text": [
      "enter a number: 5\n"
     ]
    },
    {
     "name": "stdout",
     "output_type": "stream",
     "text": [
      "the 5 is odd number:\n"
     ]
    }
   ],
   "source": [
    "num1= eval(input(\"enter a number:\"))\n",
    "if(num1 % 2 == 0):\n",
    "    print(\"the {} is even number:\".format(num1))\n",
    "else:\n",
    "    print(\"the {} is odd number:\".format(num1))\n",
    "\n"
   ]
  },
  {
   "cell_type": "code",
   "execution_count": 25,
   "id": "573391a5-8879-4fcb-aa64-f795626537d9",
   "metadata": {},
   "outputs": [
    {
     "ename": "SyntaxError",
     "evalue": "invalid syntax (839477410.py, line 8)",
     "output_type": "error",
     "traceback": [
      "\u001b[1;36m  Cell \u001b[1;32mIn[25], line 8\u001b[1;36m\u001b[0m\n\u001b[1;33m    except Exception as e:\u001b[0m\n\u001b[1;37m    ^\u001b[0m\n\u001b[1;31mSyntaxError\u001b[0m\u001b[1;31m:\u001b[0m invalid syntax\n"
     ]
    }
   ],
   "source": [
    "num1= eval(input(\"enter a number:\"))\n",
    "if(num1 % 2 == 0):\n",
    "    print(\"the {} is even number:\".format(num1))\n",
    "else:\n",
    "    print(\"the {} is odd number:\".format(num1))\n",
    "\n",
    "\n",
    "except Exception as e:\n",
    "    print(e)"
   ]
  },
  {
   "cell_type": "markdown",
   "id": "0aaa567e-de4e-4040-9383-1f0d6be1ee09",
   "metadata": {},
   "source": [
    "*****WAP to get a random number between 1&200......print u won , if num is between 10 to 99: #num>=10 & num<99.......otherwise print u lost"
   ]
  },
  {
   "cell_type": "code",
   "execution_count": 28,
   "id": "3a282ffc-8358-4776-8239-b53786c9f738",
   "metadata": {},
   "outputs": [
    {
     "name": "stdout",
     "output_type": "stream",
     "text": [
      "U lost becoz 198 is between 10&99\n"
     ]
    }
   ],
   "source": [
    "import random\n",
    "try:\n",
    "    num= random.randint(1,200)\n",
    "    if(num>=10 and num<=99):\n",
    "        print(\"U won becoz {} is between 10&99\".format(num))\n",
    "    else:\n",
    "        print(\"U lost becoz {} is between 10&99\".format(num))\n",
    "\n",
    "except Exception as err:\n",
    "    print(err)"
   ]
  },
  {
   "cell_type": "code",
   "execution_count": null,
   "id": "7d51c379-a328-43ca-b1fb-619958ed0457",
   "metadata": {},
   "outputs": [],
   "source": [
    "num= eval(input(\"enter a number:\"))\n",
    "if num>=0:\n",
    "    print(\"positive number\")\n",
    "else:\n",
    "    print(\"positive number\")"
   ]
  },
  {
   "cell_type": "markdown",
   "id": "83900d84-3154-4bea-9a8d-3950d3167710",
   "metadata": {},
   "source": [
    "cond1: >0========positive\n",
    "cond1: <0========negative\n",
    "cond1: =0========zero         \n",
    "#2 conditions: if-else\n",
    " more than 2 conditions: if-elif-else"
   ]
  },
  {
   "cell_type": "markdown",
   "id": "cf1059a8-1109-429e-a07a-34f789fa2560",
   "metadata": {},
   "source": [
    "########2 conditions: if-else\n",
    "#########more than 2 conditions: if-elif-else\n",
    "\n",
    "##if-elif-elif-elif-else"
   ]
  },
  {
   "cell_type": "code",
   "execution_count": 30,
   "id": "1c106692-5e65-4771-88b8-15ce9364e844",
   "metadata": {},
   "outputs": [
    {
     "name": "stdin",
     "output_type": "stream",
     "text": [
      "enter a number: 4\n"
     ]
    },
    {
     "name": "stdout",
     "output_type": "stream",
     "text": [
      "the given number 4 is positive\n"
     ]
    }
   ],
   "source": [
    "num2=eval(input(\"enter a number:\"))\n",
    "if num2>0:\n",
    "    print(\"the given number {} is positive\".format(num2))\n",
    "elif num2<0:\n",
    "    print(\"the given number {} is negative\".format(num2))\n",
    "else:\n",
    "    print(\"the given number {} is zero\".format(num2))"
   ]
  },
  {
   "cell_type": "code",
   "execution_count": 31,
   "id": "9cbcb3a3-bf93-43c6-a220-4c0b8ce217d1",
   "metadata": {},
   "outputs": [
    {
     "name": "stdin",
     "output_type": "stream",
     "text": [
      "enter ur percentage: 56\n"
     ]
    },
    {
     "name": "stdout",
     "output_type": "stream",
     "text": [
      "C grade\n"
     ]
    }
   ],
   "source": [
    "percentage=eval(input(\"enter ur percentage:\"))\n",
    "if percentage >=90:\n",
    "    print(\"A grade\")\n",
    "elif percentage >=70:\n",
    "    print(\"B grade\")\n",
    "elif percentage >=50:\n",
    "    print(\"C grade\")\n",
    "else:\n",
    "    print(\"D grade\")"
   ]
  },
  {
   "cell_type": "code",
   "execution_count": 32,
   "id": "f61eb18c-8c5c-4f20-a8c7-6c2c868ccdb3",
   "metadata": {},
   "outputs": [
    {
     "name": "stdin",
     "output_type": "stream",
     "text": [
      "enter ur age: 54\n"
     ]
    },
    {
     "name": "stdout",
     "output_type": "stream",
     "text": [
      "aged\n"
     ]
    }
   ],
   "source": [
    "age= eval(input(\"enter ur age:\"))\n",
    "if age>=60:\n",
    "    print(\"senior citizen\")\n",
    "elif age>=45:\n",
    "    print(\"aged\")\n",
    "elif age>=30:\n",
    "    print(\"middle age\")\n",
    "elif age>=20:\n",
    "    print(\"young\")\n",
    "elif age>=13:\n",
    "    print(\"teenage\")\n",
    "else:\n",
    "    print(\"child\")"
   ]
  },
  {
   "cell_type": "code",
   "execution_count": 34,
   "id": "d2defb4b-d496-40fe-ae65-ed820d1a404f",
   "metadata": {
    "scrolled": true
   },
   "outputs": [
    {
     "name": "stdin",
     "output_type": "stream",
     "text": [
      "enter distance in km 45\n"
     ]
    },
    {
     "name": "stdout",
     "output_type": "stream",
     "text": [
      "the charge is 100rs\n",
      "the charge is 40rs\n"
     ]
    }
   ],
   "source": [
    "distance= eval(input(\"enter distance in km\"))\n",
    "if distance>=10:\n",
    "    print(\"the charge is 100rs\")\n",
    "elif distance>=7:\n",
    "    print(\"the charge is 70rs\")\n",
    "if distance>=4:\n",
    "    print(\"the charge is 40rs\")\n",
    "else:\n",
    "    print(\"the charge is 30rs\")\n",
    "\n"
   ]
  },
  {
   "cell_type": "code",
   "execution_count": 39,
   "id": "aa1bd8f0-cae4-4af0-aa63-11f572348d01",
   "metadata": {},
   "outputs": [
    {
     "name": "stdin",
     "output_type": "stream",
     "text": [
      "enter salary: 400000\n",
      "enter tax percentage: 4\n"
     ]
    },
    {
     "name": "stdout",
     "output_type": "stream",
     "text": [
      "amount of tax paid: 16000.0\n"
     ]
    }
   ],
   "source": [
    "salary=eval(input(\"enter salary:\"))\n",
    "if salary>=1000000:\n",
    "    tax_percent=eval(input(\"enter tax percentage:\"))\n",
    "    print(\"amount of tax paid:\",(salary* tax_percent/100))\n",
    "elif salary>=700000:\n",
    "    tax_percent=eval(input(\"enter tax percentage:\"))\n",
    "    print(\"amount of tax paid:\",(salary* tax_percent/100))\n",
    "elif salary>=400000:\n",
    "    tax_percent=eval(input(\"enter tax percentage:\"))\n",
    "    print(\"amount of tax paid:\",(salary* tax_percent/100))\n",
    "else:\n",
    "    print(\"no tax required\")"
   ]
  },
  {
   "cell_type": "code",
   "execution_count": 40,
   "id": "b2f99173-cbf0-4012-960e-24a783187467",
   "metadata": {},
   "outputs": [
    {
     "name": "stdin",
     "output_type": "stream",
     "text": [
      "enter which operation want to perform multiplication\n",
      "enter num1 3\n",
      "enter num2 8\n"
     ]
    },
    {
     "name": "stdout",
     "output_type": "stream",
     "text": [
      "the multiplication of 3 & 8\n",
      "provide suitable operation\n"
     ]
    }
   ],
   "source": [
    "operation=input(\"enter which operation want to perform\")\n",
    "num1= eval(input(\"enter num1\"))\n",
    "num2= eval(input(\"enter num2\"))\n",
    "if operation=='addition':\n",
    "    print(\"the addition of {} & {}\".format(num1,num2,num1+num2))\n",
    "if operation=='multiplication':\n",
    "    print(\"the multiplication of {} & {}\".format(num1,num2,num1*num2))\n",
    "if operation=='subtraction':\n",
    "    print(\"the subtraction of {} & {}\".format(num1,num2,num1-num2))   \n",
    "if operation=='division':\n",
    "    print(\"the division of {} & {}\".format(num1,num2,num1/num2))\n",
    "else:\n",
    "    print(\"provide suitable operation\")"
   ]
  },
  {
   "cell_type": "markdown",
   "id": "103bba7f-4338-4bcd-bece-f1871733dff4",
   "metadata": {},
   "source": [
    "############NESTED IF-ELSE"
   ]
  },
  {
   "cell_type": "code",
   "execution_count": 41,
   "id": "cb9f47fd-c6b3-45de-9d4d-e94167c2d9a9",
   "metadata": {},
   "outputs": [
    {
     "name": "stdin",
     "output_type": "stream",
     "text": [
      "enter a number: 45\n"
     ]
    },
    {
     "name": "stdout",
     "output_type": "stream",
     "text": [
      "i want to check one more condition\n",
      "negative number\n"
     ]
    }
   ],
   "source": [
    "number= eval(input(\"enter a number:\"))\n",
    "if number>=0:\n",
    "    print(\"i want to check one more condition\")\n",
    "if number==0:\n",
    "    print(\"zero number\")\n",
    "else:\n",
    "    print(\"negative number\")"
   ]
  },
  {
   "cell_type": "code",
   "execution_count": 48,
   "id": "b9d73f0a-90ca-4719-8dc9-343dad76bb8c",
   "metadata": {},
   "outputs": [
    {
     "ename": "SyntaxError",
     "evalue": "invalid syntax (513339100.py, line 15)",
     "output_type": "error",
     "traceback": [
      "\u001b[1;36m  Cell \u001b[1;32mIn[48], line 15\u001b[1;36m\u001b[0m\n\u001b[1;33m    elif gender=='female':\u001b[0m\n\u001b[1;37m    ^\u001b[0m\n\u001b[1;31mSyntaxError\u001b[0m\u001b[1;31m:\u001b[0m invalid syntax\n"
     ]
    }
   ],
   "source": [
    "gender= input(\"enter gender either male or female\")\n",
    "if gender == \"male\":\n",
    "    age=eval(input(\"enter ur age:\"))\n",
    "if age>60:\n",
    "    print(\"senior citizen\")\n",
    "elif age>=30:\n",
    "    print(\"middle aged man\")\n",
    "elif age>=20:\n",
    "    print(\"young boy\")\n",
    "elif age>=13:\n",
    "    print(\"Teenage boy\")\n",
    "else:\n",
    "    print(\"boy\")\n",
    "\n",
    "elif gender=='female':\n",
    "age=eval(input(\"enter ur age:\"))\n",
    "if age>60:\n",
    "    print(\"senior citizen\")\n",
    "elif age>=30:\n",
    "    print(\"middle aged women\")\n",
    "elif age>=20:\n",
    "    print(\"young girl\")\n",
    "elif age>=13:\n",
    "    print(\"Teenage girl\")\n",
    "else:\n",
    "    print(\"girl\")\n",
    "\n",
    "\n",
    "else\n",
    "    print(\"provide proper gender\")\n",
    "    except Exception as e:\n",
    "    print(e)"
   ]
  },
  {
   "cell_type": "code",
   "execution_count": null,
   "id": "8732f6b5-3495-4bc7-880d-081bc525428b",
   "metadata": {},
   "outputs": [],
   "source": []
  },
  {
   "cell_type": "code",
   "execution_count": null,
   "id": "ecd3afb8-1958-41ee-a16c-f9f160eaf258",
   "metadata": {},
   "outputs": [],
   "source": []
  }
 ],
 "metadata": {
  "kernelspec": {
   "display_name": "Python 3 (ipykernel)",
   "language": "python",
   "name": "python3"
  },
  "language_info": {
   "codemirror_mode": {
    "name": "ipython",
    "version": 3
   },
   "file_extension": ".py",
   "mimetype": "text/x-python",
   "name": "python",
   "nbconvert_exporter": "python",
   "pygments_lexer": "ipython3",
   "version": "3.12.4"
  }
 },
 "nbformat": 4,
 "nbformat_minor": 5
}
