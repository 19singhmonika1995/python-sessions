{
 "cells": [
  {
   "attachments": {},
   "cell_type": "markdown",
   "id": "be6f37da-b4c3-4613-a066-556cc88cf94a",
   "metadata": {},
   "source": [
    "whenever we want to read any file\n",
    "\n",
    "-TYPE OF FILE:\n",
    "\n",
    "     -.txt\n",
    "     \n",
    "     -.csv(comma separated value)\n",
    "     \n",
    "     -.xlsx\n",
    "     \n",
    "     -.json\n",
    "     \n",
    "     -.xml(IOT data)\n",
    "     \n",
    "     -.parquet (encoded files)\n",
    "     \n",
    "     -.delta (encoded files)\n",
    "     \n",
    "     -.pdf\n",
    "     \n",
    "     -.jpg\n",
    "     \n",
    "     -.png\n",
    "\n",
    "\n",
    "\n"
   ]
  },
  {
   "cell_type": "code",
   "execution_count": null,
   "id": "be9af74c-5562-4e0d-b118-d73b1c015f5a",
   "metadata": {},
   "outputs": [],
   "source": []
  }
 ],
 "metadata": {
  "kernelspec": {
   "display_name": "Python 3 (ipykernel)",
   "language": "python",
   "name": "python3"
  },
  "language_info": {
   "codemirror_mode": {
    "name": "ipython",
    "version": 3
   },
   "file_extension": ".py",
   "mimetype": "text/x-python",
   "name": "python",
   "nbconvert_exporter": "python",
   "pygments_lexer": "ipython3",
   "version": "3.12.4"
  }
 },
 "nbformat": 4,
 "nbformat_minor": 5
}
