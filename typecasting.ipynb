{
 "cells": [
  {
   "cell_type": "markdown",
   "id": "da695727-c075-4572-b9f4-ce3548d2cd2d",
   "metadata": {},
   "source": [
    "********integer to other datatype***********"
   ]
  },
  {
   "cell_type": "code",
   "execution_count": 1,
   "id": "3042cd60-8348-4ac4-8a17-01c847fcf38d",
   "metadata": {},
   "outputs": [
    {
     "data": {
      "text/plain": [
       "100"
      ]
     },
     "execution_count": 1,
     "metadata": {},
     "output_type": "execute_result"
    }
   ],
   "source": [
    "number= 100\n",
    "number"
   ]
  },
  {
   "cell_type": "code",
   "execution_count": 2,
   "id": "bfd1b1cd-e6a2-412b-a7a8-b492668300c0",
   "metadata": {},
   "outputs": [
    {
     "data": {
      "text/plain": [
       "int"
      ]
     },
     "execution_count": 2,
     "metadata": {},
     "output_type": "execute_result"
    }
   ],
   "source": [
    "type(number)"
   ]
  },
  {
   "cell_type": "markdown",
   "id": "f0ff5614-b8d6-4a55-8a77-2d9f1a25e7f7",
   "metadata": {},
   "source": [
    "#case1: integer--------->float"
   ]
  },
  {
   "cell_type": "code",
   "execution_count": 3,
   "id": "4d3d5f6c-8752-4933-91e6-b21ac5e77e5d",
   "metadata": {},
   "outputs": [
    {
     "ename": "NameError",
     "evalue": "name 'float_number' is not defined",
     "output_type": "error",
     "traceback": [
      "\u001b[1;31m---------------------------------------------------------------------------\u001b[0m",
      "\u001b[1;31mNameError\u001b[0m                                 Traceback (most recent call last)",
      "Cell \u001b[1;32mIn[3], line 1\u001b[0m\n\u001b[1;32m----> 1\u001b[0m float_number\n",
      "\u001b[1;31mNameError\u001b[0m: name 'float_number' is not defined"
     ]
    }
   ],
   "source": [
    "float_number"
   ]
  },
  {
   "cell_type": "code",
   "execution_count": 4,
   "id": "0a475788-84e8-4c01-b056-85b95b345cc0",
   "metadata": {},
   "outputs": [
    {
     "data": {
      "text/plain": [
       "100.0"
      ]
     },
     "execution_count": 4,
     "metadata": {},
     "output_type": "execute_result"
    }
   ],
   "source": [
    "float_number= 100.0\n",
    "float_number"
   ]
  },
  {
   "cell_type": "code",
   "execution_count": 5,
   "id": "a3b58c27-60f6-4bd9-9845-4c968423c6d5",
   "metadata": {},
   "outputs": [
    {
     "data": {
      "text/plain": [
       "float"
      ]
     },
     "execution_count": 5,
     "metadata": {},
     "output_type": "execute_result"
    }
   ],
   "source": [
    "type(float_number)"
   ]
  },
  {
   "cell_type": "markdown",
   "id": "1790fb26-247a-4586-85f2-988bd3a045cd",
   "metadata": {},
   "source": [
    "#case2: integer------------->string"
   ]
  },
  {
   "cell_type": "code",
   "execution_count": 6,
   "id": "ae69b980-17fe-4dc0-bbe6-71ad30523c38",
   "metadata": {},
   "outputs": [
    {
     "ename": "NameError",
     "evalue": "name 'num1' is not defined",
     "output_type": "error",
     "traceback": [
      "\u001b[1;31m---------------------------------------------------------------------------\u001b[0m",
      "\u001b[1;31mNameError\u001b[0m                                 Traceback (most recent call last)",
      "Cell \u001b[1;32mIn[6], line 1\u001b[0m\n\u001b[1;32m----> 1\u001b[0m string_num\u001b[38;5;241m=\u001b[39m \u001b[38;5;28mstr\u001b[39m(num1)\n",
      "\u001b[1;31mNameError\u001b[0m: name 'num1' is not defined"
     ]
    }
   ],
   "source": [
    "string_num= str(num1)"
   ]
  },
  {
   "cell_type": "code",
   "execution_count": 11,
   "id": "ab532e7e-7633-441e-a2f7-93384a24810a",
   "metadata": {},
   "outputs": [
    {
     "ename": "NameError",
     "evalue": "name 'num' is not defined",
     "output_type": "error",
     "traceback": [
      "\u001b[1;31m---------------------------------------------------------------------------\u001b[0m",
      "\u001b[1;31mNameError\u001b[0m                                 Traceback (most recent call last)",
      "Cell \u001b[1;32mIn[11], line 1\u001b[0m\n\u001b[1;32m----> 1\u001b[0m string_num\u001b[38;5;241m=\u001b[39m \u001b[38;5;28mstr\u001b[39m(num)\n\u001b[0;32m      2\u001b[0m string_num\n",
      "\u001b[1;31mNameError\u001b[0m: name 'num' is not defined"
     ]
    }
   ],
   "source": [
    "string_num= str(num)\n",
    "string_num"
   ]
  },
  {
   "cell_type": "code",
   "execution_count": 12,
   "id": "8c8122a2-468d-4543-8e31-ab95f34c7f9e",
   "metadata": {},
   "outputs": [
    {
     "ename": "NameError",
     "evalue": "name 'num1' is not defined",
     "output_type": "error",
     "traceback": [
      "\u001b[1;31m---------------------------------------------------------------------------\u001b[0m",
      "\u001b[1;31mNameError\u001b[0m                                 Traceback (most recent call last)",
      "Cell \u001b[1;32mIn[12], line 1\u001b[0m\n\u001b[1;32m----> 1\u001b[0m string_num\u001b[38;5;241m=\u001b[39m \u001b[38;5;28mstr\u001b[39m(num1)\n\u001b[0;32m      2\u001b[0m string_num\n",
      "\u001b[1;31mNameError\u001b[0m: name 'num1' is not defined"
     ]
    }
   ],
   "source": [
    "string_num= str(num1)\n",
    "string_num"
   ]
  },
  {
   "cell_type": "code",
   "execution_count": 12,
   "id": "9d477727-daff-48dc-b6a0-5d491ffb4e95",
   "metadata": {},
   "outputs": [
    {
     "ename": "NameError",
     "evalue": "name 'num1' is not defined",
     "output_type": "error",
     "traceback": [
      "\u001b[1;31m---------------------------------------------------------------------------\u001b[0m",
      "\u001b[1;31mNameError\u001b[0m                                 Traceback (most recent call last)",
      "Cell \u001b[1;32mIn[12], line 1\u001b[0m\n\u001b[1;32m----> 1\u001b[0m string_num\u001b[38;5;241m=\u001b[39m \u001b[38;5;28mstr\u001b[39m(num1)\n\u001b[0;32m      2\u001b[0m string_num\n",
      "\u001b[1;31mNameError\u001b[0m: name 'num1' is not defined"
     ]
    }
   ],
   "source": [
    "string_num= str(num1)\n",
    "string_num"
   ]
  },
  {
   "cell_type": "code",
   "execution_count": 17,
   "id": "6de7e469-cec9-4cd8-81b8-c3df7c9f39ee",
   "metadata": {},
   "outputs": [
    {
     "data": {
      "text/plain": [
       "'monika'"
      ]
     },
     "execution_count": 17,
     "metadata": {},
     "output_type": "execute_result"
    }
   ],
   "source": [
    "string_num= str('monika')\n",
    "string_num"
   ]
  },
  {
   "cell_type": "code",
   "execution_count": 7,
   "id": "46ea3cfe-d672-4ba4-8a61-f5651c906204",
   "metadata": {},
   "outputs": [],
   "source": [
    "string_num= '100'"
   ]
  },
  {
   "cell_type": "code",
   "execution_count": 8,
   "id": "8c4eefd5-b108-45d0-a77a-66721a996750",
   "metadata": {},
   "outputs": [
    {
     "data": {
      "text/plain": [
       "str"
      ]
     },
     "execution_count": 8,
     "metadata": {},
     "output_type": "execute_result"
    }
   ],
   "source": [
    "type(string_num)"
   ]
  },
  {
   "cell_type": "markdown",
   "id": "1c780371-06f5-4e89-9f00-3130acd00bad",
   "metadata": {},
   "source": [
    "#case3: integer----------> BOOLEAN"
   ]
  },
  {
   "cell_type": "code",
   "execution_count": 9,
   "id": "c86ad173-2039-4c96-a00a-3853d1c3e0fe",
   "metadata": {},
   "outputs": [
    {
     "ename": "NameError",
     "evalue": "name 'number1' is not defined",
     "output_type": "error",
     "traceback": [
      "\u001b[1;31m---------------------------------------------------------------------------\u001b[0m",
      "\u001b[1;31mNameError\u001b[0m                                 Traceback (most recent call last)",
      "Cell \u001b[1;32mIn[9], line 1\u001b[0m\n\u001b[1;32m----> 1\u001b[0m boolean_number\u001b[38;5;241m=\u001b[39m \u001b[38;5;28mbool\u001b[39m(number1)\n\u001b[0;32m      2\u001b[0m boolean_number\n",
      "\u001b[1;31mNameError\u001b[0m: name 'number1' is not defined"
     ]
    }
   ],
   "source": [
    "boolean_number= bool(number1)\n",
    "boolean_number"
   ]
  },
  {
   "cell_type": "code",
   "execution_count": 10,
   "id": "c31326ec-40a3-4b80-85b6-1e35e81336eb",
   "metadata": {},
   "outputs": [
    {
     "data": {
      "text/plain": [
       "True"
      ]
     },
     "execution_count": 10,
     "metadata": {},
     "output_type": "execute_result"
    }
   ],
   "source": [
    "boolean_number= bool(number)\n",
    "boolean_number"
   ]
  },
  {
   "cell_type": "code",
   "execution_count": 13,
   "id": "d0778271-0e7d-475c-a50f-f8572d45a9a3",
   "metadata": {},
   "outputs": [
    {
     "data": {
      "text/plain": [
       "True"
      ]
     },
     "execution_count": 13,
     "metadata": {},
     "output_type": "execute_result"
    }
   ],
   "source": [
    "bool(100)"
   ]
  },
  {
   "cell_type": "code",
   "execution_count": 14,
   "id": "c0bd5e71-b04b-4ccb-a82d-844298ace52b",
   "metadata": {},
   "outputs": [
    {
     "data": {
      "text/plain": [
       "False"
      ]
     },
     "execution_count": 14,
     "metadata": {},
     "output_type": "execute_result"
    }
   ],
   "source": [
    "bool(0)"
   ]
  },
  {
   "cell_type": "markdown",
   "id": "685c4884-d678-4e7c-81e2-e639c0bb324a",
   "metadata": {},
   "source": [
    "*******other than that everything is true.........only bool(0)------FALSE*******"
   ]
  },
  {
   "cell_type": "markdown",
   "id": "65582221-58ef-4add-a41d-c8a50db9d547",
   "metadata": {},
   "source": [
    "#case4:integer to complex"
   ]
  },
  {
   "cell_type": "code",
   "execution_count": 15,
   "id": "9f4a910b-a727-4834-a2c4-db6be7850be9",
   "metadata": {},
   "outputs": [
    {
     "data": {
      "text/plain": [
       "(100+0j)"
      ]
     },
     "execution_count": 15,
     "metadata": {},
     "output_type": "execute_result"
    }
   ],
   "source": [
    "complex(100)"
   ]
  },
  {
   "cell_type": "code",
   "execution_count": 16,
   "id": "f283c824-ee55-405d-ab4c-e46a5c534377",
   "metadata": {},
   "outputs": [
    {
     "data": {
      "text/plain": [
       "(100+0j)"
      ]
     },
     "execution_count": 16,
     "metadata": {},
     "output_type": "execute_result"
    }
   ],
   "source": [
    "complex_num= complex(100)\n",
    "complex_num"
   ]
  },
  {
   "cell_type": "markdown",
   "id": "e4276a35-0192-4fe8-96f2-679090659471",
   "metadata": {},
   "source": [
    "********SUMMARY************"
   ]
  },
  {
   "cell_type": "code",
   "execution_count": 18,
   "id": "2b8e29d5-85ff-443b-9148-6a0873aed5a5",
   "metadata": {},
   "outputs": [
    {
     "ename": "NameError",
     "evalue": "name 'string' is not defined",
     "output_type": "error",
     "traceback": [
      "\u001b[1;31m---------------------------------------------------------------------------\u001b[0m",
      "\u001b[1;31mNameError\u001b[0m                                 Traceback (most recent call last)",
      "Cell \u001b[1;32mIn[18], line 3\u001b[0m\n\u001b[0;32m      1\u001b[0m number1\u001b[38;5;241m=\u001b[39m \u001b[38;5;241m100\u001b[39m\n\u001b[0;32m      2\u001b[0m float_number\u001b[38;5;241m=\u001b[39m \u001b[38;5;28mfloat\u001b[39m(number1)\n\u001b[1;32m----> 3\u001b[0m string_number\u001b[38;5;241m=\u001b[39m string(number1)\n\u001b[0;32m      4\u001b[0m boolean_number\u001b[38;5;241m=\u001b[39m boolean(number1)\n\u001b[0;32m      5\u001b[0m complex_number\u001b[38;5;241m=\u001b[39m \u001b[38;5;28mcomplex\u001b[39m(number1)\n",
      "\u001b[1;31mNameError\u001b[0m: name 'string' is not defined"
     ]
    }
   ],
   "source": [
    "number1= 100\n",
    "float_number= float(number1)\n",
    "string_number= string(number1)\n",
    "boolean_number= boolean(number1)\n",
    "complex_number= complex(number1)"
   ]
  },
  {
   "cell_type": "code",
   "execution_count": 19,
   "id": "815f2955-6116-47b3-b25f-f2352c22e9d8",
   "metadata": {},
   "outputs": [],
   "source": [
    "number1= 100\n",
    "float_number= float(number1)"
   ]
  },
  {
   "cell_type": "code",
   "execution_count": 20,
   "id": "6f20e7a1-666d-4221-bb09-05d89eaea998",
   "metadata": {},
   "outputs": [
    {
     "data": {
      "text/plain": [
       "100.0"
      ]
     },
     "execution_count": 20,
     "metadata": {},
     "output_type": "execute_result"
    }
   ],
   "source": [
    "float_number"
   ]
  },
  {
   "cell_type": "code",
   "execution_count": 21,
   "id": "9ec8de2f-3383-4ebb-8e7a-623762268acd",
   "metadata": {},
   "outputs": [
    {
     "ename": "NameError",
     "evalue": "name 'string' is not defined",
     "output_type": "error",
     "traceback": [
      "\u001b[1;31m---------------------------------------------------------------------------\u001b[0m",
      "\u001b[1;31mNameError\u001b[0m                                 Traceback (most recent call last)",
      "Cell \u001b[1;32mIn[21], line 1\u001b[0m\n\u001b[1;32m----> 1\u001b[0m string_number\u001b[38;5;241m=\u001b[39m string(number1)\n\u001b[0;32m      2\u001b[0m string_number\n",
      "\u001b[1;31mNameError\u001b[0m: name 'string' is not defined"
     ]
    }
   ],
   "source": [
    "string_number= string(number1)\n",
    "string_number"
   ]
  },
  {
   "cell_type": "code",
   "execution_count": 22,
   "id": "023e5a8f-8bc7-4afb-ae74-ba304a426da8",
   "metadata": {},
   "outputs": [
    {
     "ename": "NameError",
     "evalue": "name 'string' is not defined",
     "output_type": "error",
     "traceback": [
      "\u001b[1;31m---------------------------------------------------------------------------\u001b[0m",
      "\u001b[1;31mNameError\u001b[0m                                 Traceback (most recent call last)",
      "Cell \u001b[1;32mIn[22], line 1\u001b[0m\n\u001b[1;32m----> 1\u001b[0m string_number\u001b[38;5;241m=\u001b[39m string(\u001b[38;5;124m'\u001b[39m\u001b[38;5;124mnumber1\u001b[39m\u001b[38;5;124m'\u001b[39m)\n\u001b[0;32m      2\u001b[0m string_number\n",
      "\u001b[1;31mNameError\u001b[0m: name 'string' is not defined"
     ]
    }
   ],
   "source": [
    "string_number= string('number1')\n",
    "string_number"
   ]
  },
  {
   "cell_type": "code",
   "execution_count": 23,
   "id": "39695de2-2363-4252-bc50-04a258771f8d",
   "metadata": {},
   "outputs": [
    {
     "data": {
      "text/plain": [
       "'100'"
      ]
     },
     "execution_count": 23,
     "metadata": {},
     "output_type": "execute_result"
    }
   ],
   "source": [
    "string_number= str(number1)\n",
    "string_number"
   ]
  },
  {
   "cell_type": "code",
   "execution_count": 24,
   "id": "17841eb2-d580-43ba-906b-82d5f63a4987",
   "metadata": {},
   "outputs": [
    {
     "ename": "NameError",
     "evalue": "name 'boolean' is not defined",
     "output_type": "error",
     "traceback": [
      "\u001b[1;31m---------------------------------------------------------------------------\u001b[0m",
      "\u001b[1;31mNameError\u001b[0m                                 Traceback (most recent call last)",
      "Cell \u001b[1;32mIn[24], line 1\u001b[0m\n\u001b[1;32m----> 1\u001b[0m boolean_number\u001b[38;5;241m=\u001b[39m boolean(number1)\n\u001b[0;32m      2\u001b[0m boolean_number\n",
      "\u001b[1;31mNameError\u001b[0m: name 'boolean' is not defined"
     ]
    }
   ],
   "source": [
    "boolean_number= boolean(number1)\n",
    "boolean_number"
   ]
  },
  {
   "cell_type": "code",
   "execution_count": 25,
   "id": "89d52118-cf38-406f-b37b-2b29d931b4cd",
   "metadata": {},
   "outputs": [
    {
     "data": {
      "text/plain": [
       "True"
      ]
     },
     "execution_count": 25,
     "metadata": {},
     "output_type": "execute_result"
    }
   ],
   "source": [
    "boolean_number= bool(number1)\n",
    "boolean_number"
   ]
  },
  {
   "cell_type": "code",
   "execution_count": 26,
   "id": "b549b045-4ab1-4247-9a47-ea4534a4154c",
   "metadata": {},
   "outputs": [
    {
     "data": {
      "text/plain": [
       "(100+0j)"
      ]
     },
     "execution_count": 26,
     "metadata": {},
     "output_type": "execute_result"
    }
   ],
   "source": [
    "complex_number= complex(number)\n",
    "complex_number"
   ]
  },
  {
   "cell_type": "code",
   "execution_count": 27,
   "id": "06937ace-870c-4e13-9a69-ab8d3515c18b",
   "metadata": {},
   "outputs": [],
   "source": [
    "number1= 100\n",
    "float_number= float(number1)\n",
    "string_number= str(number1)\n",
    "boolean_number= bool(number1)\n",
    "complex_number= complex(number1)"
   ]
  },
  {
   "cell_type": "code",
   "execution_count": 28,
   "id": "4e954bcd-be89-4376-8e27-6cb107741f19",
   "metadata": {},
   "outputs": [
    {
     "data": {
      "text/plain": [
       "100.0"
      ]
     },
     "execution_count": 28,
     "metadata": {},
     "output_type": "execute_result"
    }
   ],
   "source": [
    "float_number"
   ]
  },
  {
   "cell_type": "code",
   "execution_count": 29,
   "id": "df62ef7e-2286-4cbd-a9b1-d5757276ba53",
   "metadata": {},
   "outputs": [
    {
     "data": {
      "text/plain": [
       "'100'"
      ]
     },
     "execution_count": 29,
     "metadata": {},
     "output_type": "execute_result"
    }
   ],
   "source": [
    "string_number"
   ]
  },
  {
   "cell_type": "code",
   "execution_count": 30,
   "id": "17933c38-d901-42e0-a2bf-9e214f9d0c07",
   "metadata": {},
   "outputs": [
    {
     "data": {
      "text/plain": [
       "True"
      ]
     },
     "execution_count": 30,
     "metadata": {},
     "output_type": "execute_result"
    }
   ],
   "source": [
    "boolean_number"
   ]
  },
  {
   "cell_type": "code",
   "execution_count": 31,
   "id": "23938261-c87c-4412-be4f-63f912b2591c",
   "metadata": {},
   "outputs": [
    {
     "data": {
      "text/plain": [
       "(100+0j)"
      ]
     },
     "execution_count": 31,
     "metadata": {},
     "output_type": "execute_result"
    }
   ],
   "source": [
    "complex_number"
   ]
  },
  {
   "cell_type": "markdown",
   "id": "be54579a-af76-4981-b7f9-05165dcd1973",
   "metadata": {},
   "source": [
    "**********convert float to other types***********"
   ]
  },
  {
   "cell_type": "code",
   "execution_count": 32,
   "id": "14d0180d-02bc-4ce3-ac7e-60fa74b83d64",
   "metadata": {},
   "outputs": [],
   "source": [
    "number2= 100.5\n",
    "int_num= float(number2)\n",
    "string_number= str(number2)\n",
    "boolean_num= bool(number2)\n",
    "complex_number= complex(number2)"
   ]
  },
  {
   "cell_type": "code",
   "execution_count": 33,
   "id": "24047018-25b9-45e0-909a-8e0e256dbc92",
   "metadata": {},
   "outputs": [
    {
     "data": {
      "text/plain": [
       "100.5"
      ]
     },
     "execution_count": 33,
     "metadata": {},
     "output_type": "execute_result"
    }
   ],
   "source": [
    "int_num"
   ]
  },
  {
   "cell_type": "code",
   "execution_count": 34,
   "id": "85f69116-2566-4129-8d01-5678cfa4a84f",
   "metadata": {},
   "outputs": [
    {
     "data": {
      "text/plain": [
       "'100.5'"
      ]
     },
     "execution_count": 34,
     "metadata": {},
     "output_type": "execute_result"
    }
   ],
   "source": [
    "string_number"
   ]
  },
  {
   "cell_type": "code",
   "execution_count": 35,
   "id": "edeba740-d6f7-4437-b259-f9dbe5ad63af",
   "metadata": {},
   "outputs": [
    {
     "data": {
      "text/plain": [
       "True"
      ]
     },
     "execution_count": 35,
     "metadata": {},
     "output_type": "execute_result"
    }
   ],
   "source": [
    "boolean_num"
   ]
  },
  {
   "cell_type": "code",
   "execution_count": 36,
   "id": "f3d216d4-32ea-4de6-8982-5dc54f171c94",
   "metadata": {},
   "outputs": [
    {
     "data": {
      "text/plain": [
       "(100.5+0j)"
      ]
     },
     "execution_count": 36,
     "metadata": {},
     "output_type": "execute_result"
    }
   ],
   "source": [
    "complex_number"
   ]
  },
  {
   "cell_type": "code",
   "execution_count": 37,
   "id": "2fde821f-ded4-45d2-a2d7-8760192beb6b",
   "metadata": {},
   "outputs": [
    {
     "data": {
      "text/plain": [
       "101"
      ]
     },
     "execution_count": 37,
     "metadata": {},
     "output_type": "execute_result"
    }
   ],
   "source": [
    "round(100.6)"
   ]
  },
  {
   "cell_type": "markdown",
   "id": "17e431e9-5286-4fda-9121-ff895032fa44",
   "metadata": {},
   "source": [
    "************string to other datatypes*******"
   ]
  },
  {
   "cell_type": "markdown",
   "id": "65578f3d-f0ec-49ad-88b6-507e0b325e3f",
   "metadata": {},
   "source": [
    "#case1:"
   ]
  },
  {
   "cell_type": "code",
   "execution_count": 38,
   "id": "a4bcf1f7-b2b0-4ee1-b824-f1457f2d8a72",
   "metadata": {},
   "outputs": [
    {
     "ename": "ValueError",
     "evalue": "invalid literal for int() with base 10: 'apple'",
     "output_type": "error",
     "traceback": [
      "\u001b[1;31m---------------------------------------------------------------------------\u001b[0m",
      "\u001b[1;31mValueError\u001b[0m                                Traceback (most recent call last)",
      "Cell \u001b[1;32mIn[38], line 2\u001b[0m\n\u001b[0;32m      1\u001b[0m string_value1\u001b[38;5;241m=\u001b[39m \u001b[38;5;124m'\u001b[39m\u001b[38;5;124mapple\u001b[39m\u001b[38;5;124m'\u001b[39m\n\u001b[1;32m----> 2\u001b[0m \u001b[38;5;28mint\u001b[39m(string_value1)\n",
      "\u001b[1;31mValueError\u001b[0m: invalid literal for int() with base 10: 'apple'"
     ]
    }
   ],
   "source": [
    "string_value1= 'apple'\n",
    "int(string_value1)"
   ]
  },
  {
   "cell_type": "code",
   "execution_count": 39,
   "id": "12cae629-e3f8-4f8a-95ac-4b673979608e",
   "metadata": {},
   "outputs": [
    {
     "ename": "ValueError",
     "evalue": "could not convert string to float: 'apple'",
     "output_type": "error",
     "traceback": [
      "\u001b[1;31m---------------------------------------------------------------------------\u001b[0m",
      "\u001b[1;31mValueError\u001b[0m                                Traceback (most recent call last)",
      "Cell \u001b[1;32mIn[39], line 1\u001b[0m\n\u001b[1;32m----> 1\u001b[0m \u001b[38;5;28mfloat\u001b[39m(string_value1)\n",
      "\u001b[1;31mValueError\u001b[0m: could not convert string to float: 'apple'"
     ]
    }
   ],
   "source": [
    "float(string_value1)"
   ]
  },
  {
   "cell_type": "code",
   "execution_count": 40,
   "id": "cb3ad772-eeda-4109-a4b6-256e4ad0f97f",
   "metadata": {},
   "outputs": [
    {
     "data": {
      "text/plain": [
       "True"
      ]
     },
     "execution_count": 40,
     "metadata": {},
     "output_type": "execute_result"
    }
   ],
   "source": [
    "bool(string_value1)"
   ]
  },
  {
   "cell_type": "code",
   "execution_count": 41,
   "id": "197204cd-c8ae-418b-8f76-a73b9a95c2b7",
   "metadata": {},
   "outputs": [
    {
     "ename": "ValueError",
     "evalue": "complex() arg is a malformed string",
     "output_type": "error",
     "traceback": [
      "\u001b[1;31m---------------------------------------------------------------------------\u001b[0m",
      "\u001b[1;31mValueError\u001b[0m                                Traceback (most recent call last)",
      "Cell \u001b[1;32mIn[41], line 1\u001b[0m\n\u001b[1;32m----> 1\u001b[0m \u001b[38;5;28mcomplex\u001b[39m(string_value1)\n",
      "\u001b[1;31mValueError\u001b[0m: complex() arg is a malformed string"
     ]
    }
   ],
   "source": [
    "complex(string_value1)"
   ]
  },
  {
   "cell_type": "code",
   "execution_count": 42,
   "id": "c075b1b3-fd53-4771-90f7-1a4607fb2e92",
   "metadata": {},
   "outputs": [],
   "source": [
    "#case2:"
   ]
  },
  {
   "cell_type": "code",
   "execution_count": 43,
   "id": "8e3ae673-0d20-4db0-9f36-0b692777dec1",
   "metadata": {},
   "outputs": [
    {
     "ename": "ValueError",
     "evalue": "invalid literal for int() with base 10: '10.5'",
     "output_type": "error",
     "traceback": [
      "\u001b[1;31m---------------------------------------------------------------------------\u001b[0m",
      "\u001b[1;31mValueError\u001b[0m                                Traceback (most recent call last)",
      "Cell \u001b[1;32mIn[43], line 2\u001b[0m\n\u001b[0;32m      1\u001b[0m string_value2\u001b[38;5;241m=\u001b[39m \u001b[38;5;124m'\u001b[39m\u001b[38;5;124m10.5\u001b[39m\u001b[38;5;124m'\u001b[39m\n\u001b[1;32m----> 2\u001b[0m \u001b[38;5;28mint\u001b[39m(string_value2)\n",
      "\u001b[1;31mValueError\u001b[0m: invalid literal for int() with base 10: '10.5'"
     ]
    }
   ],
   "source": [
    "string_value2= '10.5'\n",
    "int(string_value2)"
   ]
  },
  {
   "cell_type": "code",
   "execution_count": 44,
   "id": "2fde90a7-0040-442d-9cc8-2ba7663f84d1",
   "metadata": {},
   "outputs": [
    {
     "data": {
      "text/plain": [
       "10.5"
      ]
     },
     "execution_count": 44,
     "metadata": {},
     "output_type": "execute_result"
    }
   ],
   "source": [
    "float(string_value2)"
   ]
  },
  {
   "cell_type": "code",
   "execution_count": 45,
   "id": "c827ba34-e00c-4a60-97a1-23841355e597",
   "metadata": {},
   "outputs": [
    {
     "data": {
      "text/plain": [
       "True"
      ]
     },
     "execution_count": 45,
     "metadata": {},
     "output_type": "execute_result"
    }
   ],
   "source": [
    "bool(string_value2)"
   ]
  },
  {
   "cell_type": "code",
   "execution_count": 46,
   "id": "cefd45a4-520e-47b6-bb72-0308907341f3",
   "metadata": {},
   "outputs": [
    {
     "data": {
      "text/plain": [
       "(10.5+0j)"
      ]
     },
     "execution_count": 46,
     "metadata": {},
     "output_type": "execute_result"
    }
   ],
   "source": [
    "complex(string_value2)"
   ]
  },
  {
   "cell_type": "markdown",
   "id": "6acf017f-d0da-470f-ba76-6f003d2b8758",
   "metadata": {},
   "source": [
    "*******string to integer******"
   ]
  },
  {
   "cell_type": "code",
   "execution_count": 47,
   "id": "1cb817b0-32a8-4439-9e65-e45874b9cdb6",
   "metadata": {},
   "outputs": [
    {
     "data": {
      "text/plain": [
       "10"
      ]
     },
     "execution_count": 47,
     "metadata": {},
     "output_type": "execute_result"
    }
   ],
   "source": [
    "string1= '10.5'\n",
    "n1= float(string1)\n",
    "n2= int(n1)\n",
    "n2"
   ]
  },
  {
   "cell_type": "code",
   "execution_count": null,
   "id": "d36a6ec6-20b7-4b61-98d1-28bdcf4530e0",
   "metadata": {},
   "outputs": [],
   "source": []
  }
 ],
 "metadata": {
  "kernelspec": {
   "display_name": "Python 3 (ipykernel)",
   "language": "python",
   "name": "python3"
  },
  "language_info": {
   "codemirror_mode": {
    "name": "ipython",
    "version": 3
   },
   "file_extension": ".py",
   "mimetype": "text/x-python",
   "name": "python",
   "nbconvert_exporter": "python",
   "pygments_lexer": "ipython3",
   "version": "3.12.4"
  }
 },
 "nbformat": 4,
 "nbformat_minor": 5
}
