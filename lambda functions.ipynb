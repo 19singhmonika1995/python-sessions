{
 "cells": [
  {
   "cell_type": "markdown",
   "id": "1983a3aa-4240-462b-9913-82f8afb89e1a",
   "metadata": {},
   "source": [
    "#lambda"
   ]
  },
  {
   "cell_type": "markdown",
   "id": "7faac2c1-3973-488e-9bda-f5af7cec276f",
   "metadata": {},
   "source": [
    "#create basic function"
   ]
  },
  {
   "cell_type": "code",
   "execution_count": 1,
   "id": "74c71db5-9e3c-48b9-918e-9facbd8a3aa2",
   "metadata": {},
   "outputs": [
    {
     "data": {
      "text/plain": [
       "30"
      ]
     },
     "execution_count": 1,
     "metadata": {},
     "output_type": "execute_result"
    }
   ],
   "source": [
    "def add(x):\n",
    "    return(x+10)\n",
    "\n",
    "add(20)"
   ]
  },
  {
   "cell_type": "code",
   "execution_count": 2,
   "id": "9283a135-d42d-4d84-9268-cf39b2d2367a",
   "metadata": {},
   "outputs": [
    {
     "data": {
      "text/plain": [
       "30"
      ]
     },
     "execution_count": 2,
     "metadata": {},
     "output_type": "execute_result"
    }
   ],
   "source": [
    "#same thing if we call in a variable\n",
    "\n",
    "def add(x):\n",
    "    summ=x+10\n",
    "    return(summ)\n",
    "add(20)"
   ]
  },
  {
   "cell_type": "code",
   "execution_count": 3,
   "id": "c94f8152-c382-42c9-a229-d53958f953bc",
   "metadata": {},
   "outputs": [
    {
     "data": {
      "text/plain": [
       "30"
      ]
     },
     "execution_count": 3,
     "metadata": {},
     "output_type": "execute_result"
    }
   ],
   "source": [
    "#how can we implement using lambda functions?\n",
    "#one argument\n",
    "\n",
    "def add(x):\n",
    "    return(x+10)\n",
    "\n",
    "add(20)                     #argument:x        #return:x+10\n",
    "\n",
    "\n",
    "\n"
   ]
  },
  {
   "cell_type": "code",
   "execution_count": 4,
   "id": "fc004176-7e22-447b-8f23-c91494799195",
   "metadata": {},
   "outputs": [
    {
     "data": {
      "text/plain": [
       "30"
      ]
     },
     "execution_count": 4,
     "metadata": {},
     "output_type": "execute_result"
    }
   ],
   "source": [
    "#format:lambda<argument>:<output>\n",
    "add=lambda x:x+10\n",
    "add(20)"
   ]
  },
  {
   "cell_type": "code",
   "execution_count": 5,
   "id": "ccf24325-6354-49bb-bb93-d62658854a97",
   "metadata": {},
   "outputs": [],
   "source": [
    "#qns\n",
    "\n",
    "def square(x):\n",
    "    return(X*x)"
   ]
  },
  {
   "cell_type": "code",
   "execution_count": 6,
   "id": "8d4b4ca4-4def-4f41-8e50-728313d060a8",
   "metadata": {},
   "outputs": [
    {
     "data": {
      "text/plain": [
       "25"
      ]
     },
     "execution_count": 6,
     "metadata": {},
     "output_type": "execute_result"
    }
   ],
   "source": [
    "square=lambda x:x*x\n",
    "square(5)"
   ]
  },
  {
   "cell_type": "code",
   "execution_count": 7,
   "id": "a2182e0f-7b08-46ea-ba75-ec7e9d2c37ed",
   "metadata": {},
   "outputs": [],
   "source": [
    "#qns\n",
    "\n",
    "def cube(x):\n",
    "    return(X*x*x)"
   ]
  },
  {
   "cell_type": "code",
   "execution_count": 9,
   "id": "29c13170-e4a4-4d71-b14d-8549b2249c56",
   "metadata": {},
   "outputs": [
    {
     "data": {
      "text/plain": [
       "8"
      ]
     },
     "execution_count": 9,
     "metadata": {},
     "output_type": "execute_result"
    }
   ],
   "source": [
    "cube=lambda x:x*x*x\n",
    "cube(2)"
   ]
  },
  {
   "cell_type": "markdown",
   "id": "eef88a5d-1d0f-40c0-9749-05ffeb3a6697",
   "metadata": {},
   "source": [
    "#TWO ARGUMENTS"
   ]
  },
  {
   "cell_type": "code",
   "execution_count": 11,
   "id": "bfa0fa91-c6f8-4fb1-a589-aeca67a0fd66",
   "metadata": {},
   "outputs": [
    {
     "data": {
      "text/plain": [
       "50"
      ]
     },
     "execution_count": 11,
     "metadata": {},
     "output_type": "execute_result"
    }
   ],
   "source": [
    "def add(a,b):\n",
    "    return(a+b)\n",
    "\n",
    "add(20,30)                 #arguments:a,b             #return:a+b"
   ]
  },
  {
   "cell_type": "code",
   "execution_count": 13,
   "id": "dfc6b0c6-456b-4c5e-86a0-ae385ffcf6fb",
   "metadata": {},
   "outputs": [
    {
     "data": {
      "text/plain": [
       "50"
      ]
     },
     "execution_count": 13,
     "metadata": {},
     "output_type": "execute_result"
    }
   ],
   "source": [
    "add=lambda a,b:a+b\n",
    "add(20,30)                      #format:lambda <args1>,<args2>:<output>"
   ]
  },
  {
   "cell_type": "markdown",
   "id": "3f565933-558a-466a-b901-2f393bdaff8c",
   "metadata": {},
   "source": [
    "#THREE ARGUMENTS"
   ]
  },
  {
   "cell_type": "code",
   "execution_count": 14,
   "id": "c5bfc00f-d24c-4a2e-88f8-8764ffac4492",
   "metadata": {},
   "outputs": [
    {
     "data": {
      "text/plain": [
       "5.0"
      ]
     },
     "execution_count": 14,
     "metadata": {},
     "output_type": "execute_result"
    }
   ],
   "source": [
    "#implement average of 3 numbers using lambda?\n",
    "average=lambda a,b,c : (a+b+c)/3\n",
    "average(5,5,5)"
   ]
  },
  {
   "cell_type": "code",
   "execution_count": 15,
   "id": "52d40f06-ca50-41a1-9a51-6f0818a41174",
   "metadata": {},
   "outputs": [
    {
     "data": {
      "text/plain": [
       "46.67"
      ]
     },
     "execution_count": 15,
     "metadata": {},
     "output_type": "execute_result"
    }
   ],
   "source": [
    "#implement average of 3 numbers make c as default parameter using lambda?\n",
    "average=lambda a,b,c=30 : round((a+b+c)/3,2)\n",
    "average(50,60)"
   ]
  },
  {
   "cell_type": "markdown",
   "id": "d19eb48e-ae30-4dcc-92f2-02ca921d9b23",
   "metadata": {},
   "source": [
    "#if-else:"
   ]
  },
  {
   "cell_type": "code",
   "execution_count": 16,
   "id": "9ebaca15-ebcb-4844-a9d9-801c723e9c76",
   "metadata": {},
   "outputs": [
    {
     "data": {
      "text/plain": [
       "200"
      ]
     },
     "execution_count": 16,
     "metadata": {},
     "output_type": "execute_result"
    }
   ],
   "source": [
    "#create a function for finding greater number between 2 numbers?\n",
    "\n",
    "def greater(n1,n2):\n",
    "    if n1>n2:\n",
    "        return(n1)\n",
    "\n",
    "    else:\n",
    "        return(n2)\n",
    "\n",
    "greater(100,200)"
   ]
  },
  {
   "cell_type": "code",
   "execution_count": 22,
   "id": "e055bdff-bee0-4be5-a898-724109a148d1",
   "metadata": {},
   "outputs": [
    {
     "data": {
      "text/plain": [
       "[200]"
      ]
     },
     "execution_count": 22,
     "metadata": {},
     "output_type": "execute_result"
    }
   ],
   "source": [
    "l1=[]\n",
    "def greater(n1,n2):\n",
    "    if n1>n2:\n",
    "        l1.append(n1)\n",
    "    else:\n",
    "        l1.append(n2)\n",
    "\n",
    "greater(100,200)\n",
    "l1"
   ]
  },
  {
   "attachments": {},
   "cell_type": "markdown",
   "id": "dfcb6f3d-308d-40f9-b594-fa5cc5996925",
   "metadata": {},
   "source": [
    "**LIST COMPREHENSION**\n",
    "\n",
    "#$l1=[<if_output> <if-condition> else <else_output> <loop>]$\n",
    "\n"
   ]
  },
  {
   "cell_type": "code",
   "execution_count": 23,
   "id": "90cffa25-2734-45a8-8504-f7d5ed2a1e51",
   "metadata": {},
   "outputs": [],
   "source": [
    "#lambda <args1>,<args2>:<if_output> <if condition> else <else output>"
   ]
  },
  {
   "cell_type": "code",
   "execution_count": 24,
   "id": "58bb2ae4-dfc3-498e-a401-49fcc2ec22db",
   "metadata": {},
   "outputs": [
    {
     "data": {
      "text/plain": [
       "8"
      ]
     },
     "execution_count": 24,
     "metadata": {},
     "output_type": "execute_result"
    }
   ],
   "source": [
    "greater=lambda a,b : (a if a>b else b)\n",
    "greater(8,3)"
   ]
  },
  {
   "cell_type": "markdown",
   "id": "16eb1dc6-353b-46a5-be72-f2317d091e30",
   "metadata": {},
   "source": [
    "-LAMBDA FUNCTION is nothing but create a function\n",
    "\n",
    "       -one argument\n",
    "       \n",
    "       -multiple arguments\n",
    "       \n",
    "       -if else conditions\n",
    "       \n",
    "       -if else conditions same like list comprehension\n",
    "       \n",
    "       -elif(not applicable)"
   ]
  },
  {
   "cell_type": "code",
   "execution_count": 26,
   "id": "5adb8c94-d054-46e5-af4a-a2e650e96217",
   "metadata": {},
   "outputs": [
    {
     "name": "stdout",
     "output_type": "stream",
     "text": [
      "['Hyd', 'Mumbai', 'Chennai']\n"
     ]
    }
   ],
   "source": [
    "#list1=['hyd','mumbai','chennai']\n",
    "#output:['Hyd','Mumbai','Chennai']\n",
    "\n",
    "#METHOD1: USE APPEND METHOD\n",
    "list1=['hyd','mumbai','chennai']\n",
    "list2=[]\n",
    "for i in list1:\n",
    "    list2.append(i.capitalize())\n",
    "\n",
    "print(list2)"
   ]
  },
  {
   "cell_type": "code",
   "execution_count": 27,
   "id": "a751a704-07dc-4aea-91fa-971d4938e922",
   "metadata": {},
   "outputs": [
    {
     "data": {
      "text/plain": [
       "['Hyd', 'Mumbai', 'Chennai']"
      ]
     },
     "execution_count": 27,
     "metadata": {},
     "output_type": "execute_result"
    }
   ],
   "source": [
    "#METHOD2: USE LIST COMPREHENSION\n",
    "[i.capitalize() for i in list1]"
   ]
  },
  {
   "cell_type": "code",
   "execution_count": 28,
   "id": "ea5df518-c323-4e8a-aa6a-541b3adf5868",
   "metadata": {},
   "outputs": [
    {
     "data": {
      "text/plain": [
       "(<function __main__.<lambda>(i)>, ['hyd', 'mumbai', 'chennai'])"
      ]
     },
     "execution_count": 28,
     "metadata": {},
     "output_type": "execute_result"
    }
   ],
   "source": [
    "#METHOD3: MAKE A LAMBDA FUNCTION\n",
    "list1=['hyd','mumbai','chennai']\n",
    "lambda i:i.capitalize(), list1"
   ]
  },
  {
   "cell_type": "code",
   "execution_count": 29,
   "id": "c9b1358e-de36-438f-84cf-0531d505e322",
   "metadata": {},
   "outputs": [
    {
     "data": {
      "text/plain": [
       "['Hyd', 'Mumbai', 'Chennai']"
      ]
     },
     "execution_count": 29,
     "metadata": {},
     "output_type": "execute_result"
    }
   ],
   "source": [
    "#METHOD3: MAKE A LAMBDA FUNCTION\n",
    "\n",
    "list1=['hyd','mumbai','chennai']\n",
    "lambda i:i.capitalize(), list1             #make a lambda function and add your iterator\n",
    "map(lambda i:i.capitalize(), list1)        #map both function and iterator\n",
    "list(map(lambda i:i.capitalize(), list1))  #save the result in a list"
   ]
  },
  {
   "cell_type": "code",
   "execution_count": 30,
   "id": "f7ed4918-b163-45e4-9eb1-7094a8215d57",
   "metadata": {},
   "outputs": [
    {
     "data": {
      "text/plain": [
       "(<function __main__.<lambda>(i)>, [1, 2, 3, 4, 5])"
      ]
     },
     "execution_count": 30,
     "metadata": {},
     "output_type": "execute_result"
    }
   ],
   "source": [
    "list1=[1,2,3,4,5]\n",
    "      #[1,4,9,16,25]\n",
    "lambda i:i*i,list1"
   ]
  },
  {
   "cell_type": "code",
   "execution_count": 31,
   "id": "7cc9f188-b261-4988-8686-6f3d2d53ddbe",
   "metadata": {},
   "outputs": [
    {
     "name": "stdout",
     "output_type": "stream",
     "text": [
      "1\n",
      "4\n",
      "9\n",
      "16\n",
      "25\n"
     ]
    }
   ],
   "source": [
    "list1=[1,2,3,4,5]\n",
    "      #[1,4,9,16,25]\n",
    "lambda i:i*i,list1\n",
    "for i in map(lambda i:i*i,list1):\n",
    "    print(i)"
   ]
  },
  {
   "cell_type": "code",
   "execution_count": 32,
   "id": "0ad0ce37-bc05-4182-9f23-f1343ee124d8",
   "metadata": {},
   "outputs": [
    {
     "data": {
      "text/plain": [
       "[1, 4, 9, 16, 25]"
      ]
     },
     "execution_count": 32,
     "metadata": {},
     "output_type": "execute_result"
    }
   ],
   "source": [
    "lambda i:i*i,list1\n",
    "map(lambda i:i*i,list1)\n",
    "list(map(lambda i:i*i,list1))"
   ]
  },
  {
   "cell_type": "code",
   "execution_count": 33,
   "id": "c7652592-8217-4d6b-a14d-501237416e48",
   "metadata": {},
   "outputs": [
    {
     "name": "stdout",
     "output_type": "stream",
     "text": [
      "12\n",
      "24\n",
      "36\n"
     ]
    }
   ],
   "source": [
    "list1=[1,2,3]\n",
    "list2=[11,22,33]             #[12,24,36]\n",
    "for i,j in zip(list1,list2):\n",
    "    print(i+j)"
   ]
  },
  {
   "cell_type": "code",
   "execution_count": 34,
   "id": "5a275bed-c374-4d39-bc2b-c0a864e77d81",
   "metadata": {},
   "outputs": [
    {
     "data": {
      "text/plain": [
       "[12, 24, 36]"
      ]
     },
     "execution_count": 34,
     "metadata": {},
     "output_type": "execute_result"
    }
   ],
   "source": [
    "list(map(lambda i,j : i+j,list1,list2))"
   ]
  },
  {
   "cell_type": "code",
   "execution_count": 39,
   "id": "9c658161-f31d-4e97-8b17-9ccb8893d4bc",
   "metadata": {},
   "outputs": [
    {
     "name": "stdout",
     "output_type": "stream",
     "text": [
      "['h#d', 'mum#ai']\n"
     ]
    }
   ],
   "source": [
    "list1=['h#d', 'mum#ai', 'chennai']\n",
    "#['h#d', 'mum#ai']\n",
    "list2=[]\n",
    "for i in list1:\n",
    "    if '#' in i:\n",
    "        list2.append(i)\n",
    "print(list2)"
   ]
  },
  {
   "cell_type": "code",
   "execution_count": 38,
   "id": "4cee8f5b-d4bc-451c-8855-63aa565c6ae7",
   "metadata": {},
   "outputs": [
    {
     "data": {
      "text/plain": [
       "[True, True, False]"
      ]
     },
     "execution_count": 38,
     "metadata": {},
     "output_type": "execute_result"
    }
   ],
   "source": [
    "list(map(lambda i:'#' in i, list1))               #condition mapping to list of items"
   ]
  },
  {
   "cell_type": "code",
   "execution_count": 37,
   "id": "019d692d-00d7-426b-a0dd-878f877b4b28",
   "metadata": {},
   "outputs": [
    {
     "data": {
      "text/plain": [
       "['h#d', 'mum#ai']"
      ]
     },
     "execution_count": 37,
     "metadata": {},
     "output_type": "execute_result"
    }
   ],
   "source": [
    "list(filter(lambda i:'#' in i, list1))"
   ]
  },
  {
   "cell_type": "code",
   "execution_count": null,
   "id": "65894765-7b41-4448-92a7-b6a2f16d71fd",
   "metadata": {},
   "outputs": [],
   "source": []
  }
 ],
 "metadata": {
  "kernelspec": {
   "display_name": "Python 3 (ipykernel)",
   "language": "python",
   "name": "python3"
  },
  "language_info": {
   "codemirror_mode": {
    "name": "ipython",
    "version": 3
   },
   "file_extension": ".py",
   "mimetype": "text/x-python",
   "name": "python",
   "nbconvert_exporter": "python",
   "pygments_lexer": "ipython3",
   "version": "3.12.4"
  }
 },
 "nbformat": 4,
 "nbformat_minor": 5
}
