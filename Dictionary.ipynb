{
 "cells": [
  {
   "cell_type": "code",
   "execution_count": 1,
   "id": "6b233de5-a6bf-4187-93ba-f6747e6f197a",
   "metadata": {},
   "outputs": [],
   "source": [
    "list1=['Ram','Raheem','Robert']\n",
    "list2=[25,30,35]\n",
    "#{key:value}"
   ]
  },
  {
   "cell_type": "code",
   "execution_count": 2,
   "id": "ba2522cf-24ac-4ac6-944e-6c9dba7d8131",
   "metadata": {},
   "outputs": [
    {
     "name": "stdout",
     "output_type": "stream",
     "text": [
      "Ram 25\n",
      "Raheem 30\n",
      "Robert 35\n"
     ]
    }
   ],
   "source": [
    "#zip method\n",
    "\n",
    "for i,j in zip (list1,list2):\n",
    "    print(i,j)"
   ]
  },
  {
   "cell_type": "code",
   "execution_count": 3,
   "id": "f3db7684-eb70-451b-9735-d736793a9716",
   "metadata": {},
   "outputs": [
    {
     "data": {
      "text/plain": [
       "{'Ram': 25, 'Raheem': 30, 'Robert': 35}"
      ]
     },
     "execution_count": 3,
     "metadata": {},
     "output_type": "execute_result"
    }
   ],
   "source": [
    "#dictionary\n",
    "\n",
    "d1={'Ram':25,\n",
    "    'Raheem':30,\n",
    "    'Robert':35}\n",
    "d1"
   ]
  },
  {
   "cell_type": "code",
   "execution_count": 4,
   "id": "7fe42aae-201d-4e43-980c-86d80b4e7129",
   "metadata": {},
   "outputs": [
    {
     "data": {
      "text/plain": [
       "{'25:Ram', '30:Raheem', '35:Robert'}"
      ]
     },
     "execution_count": 4,
     "metadata": {},
     "output_type": "execute_result"
    }
   ],
   "source": [
    "d2={'25:Ram','30:Raheem','35:Robert'}\n",
    "d2"
   ]
  },
  {
   "cell_type": "code",
   "execution_count": 11,
   "id": "fe550a26-2456-45c4-ab42-e63c230c6330",
   "metadata": {},
   "outputs": [
    {
     "data": {
      "text/plain": [
       "{(2, 4, 6): 'even', (3, 5, 7): 'odd'}"
      ]
     },
     "execution_count": 11,
     "metadata": {},
     "output_type": "execute_result"
    }
   ],
   "source": [
    "d3={(2,4,6):'even',\n",
    "    (3,5,7):'odd'}\n",
    "d3\n",
    "\n",
    "#d3={[2,4,6]:'even',\n",
    "    #[3,5,7]:'odd'}\n",
    "#d3           #[]fail"
   ]
  },
  {
   "cell_type": "code",
   "execution_count": 10,
   "id": "56e7958c-8796-4cdb-a0e8-840f3ead6031",
   "metadata": {},
   "outputs": [
    {
     "data": {
      "text/plain": [
       "{'even': (2, 4, 6), 'odd': (3, 5, 7)}"
      ]
     },
     "execution_count": 10,
     "metadata": {},
     "output_type": "execute_result"
    }
   ],
   "source": [
    "d4={'even':(2,4,6),\n",
    "    'odd':(3,5,7)}\n",
    "d4\n"
   ]
  },
  {
   "cell_type": "code",
   "execution_count": 12,
   "id": "8af86b98-2ffa-418b-955e-888c2a0f2052",
   "metadata": {},
   "outputs": [
    {
     "data": {
      "text/plain": [
       "{'item_list': {'fruits': 'Apple'}}"
      ]
     },
     "execution_count": 12,
     "metadata": {},
     "output_type": "execute_result"
    }
   ],
   "source": [
    "d5={'item_list':{'fruits':'Apple'}}\n",
    "d5\n",
    "\n",
    "#d6={{'fruits':'Apple'}:'item_list'}\n",
    "#d6          #error"
   ]
  },
  {
   "cell_type": "code",
   "execution_count": 1,
   "id": "47c9ecb6-58c0-4ebb-8411-51a4a5c9adc4",
   "metadata": {},
   "outputs": [
    {
     "data": {
      "text/plain": [
       "[1, 2]"
      ]
     },
     "execution_count": 1,
     "metadata": {},
     "output_type": "execute_result"
    }
   ],
   "source": [
    "a=[1,2]\n",
    "a"
   ]
  },
  {
   "cell_type": "code",
   "execution_count": 2,
   "id": "010f056f-961d-4b80-8152-429d1273e995",
   "metadata": {},
   "outputs": [
    {
     "data": {
      "text/plain": [
       "2"
      ]
     },
     "execution_count": 2,
     "metadata": {},
     "output_type": "execute_result"
    }
   ],
   "source": [
    "c,d=(1,2)\n",
    "d"
   ]
  },
  {
   "cell_type": "code",
   "execution_count": 4,
   "id": "1416fa56-9d23-4f75-90fa-8f25f6a596d0",
   "metadata": {},
   "outputs": [
    {
     "data": {
      "text/plain": [
       "(1, 2)"
      ]
     },
     "execution_count": 4,
     "metadata": {},
     "output_type": "execute_result"
    }
   ],
   "source": [
    "a=1,2\n",
    "a                 #tuple but it doesn't take it as list"
   ]
  },
  {
   "attachments": {},
   "cell_type": "markdown",
   "id": "5f592c6b-161a-40d8-be78-7e39e3c6f882",
   "metadata": {},
   "source": [
    "$#Dictionary is a $key:value$  pair$\n",
    "\n",
    "\n",
    "$#At values position,we can take any datatype$\n",
    "\n",
    "\n",
    "$#At key position, list and dictionary will fail...............only tuple will take$\n",
    "\n",
    "\n",
    "$#duplicates are not allowed but in list duplicates r allowed$\n",
    "\n",
    "\n",
    "$#if you will update a key value,latest value it will take$\n",
    "\n",
    "\n",
    "\n",
    "\n",
    "\n",
    "\n",
    "\n",
    "\n",
    "\n"
   ]
  },
  {
   "cell_type": "code",
   "execution_count": 6,
   "id": "66c5d24f-3ea5-429f-a6e9-7051c564d7b5",
   "metadata": {},
   "outputs": [
    {
     "data": {
      "text/plain": [
       "{'A': 1, 'B': 2}"
      ]
     },
     "execution_count": 6,
     "metadata": {},
     "output_type": "execute_result"
    }
   ],
   "source": [
    "d1={'A':1,'B':2,'A':1}\n",
    "d1                                #duplicates r not allowed"
   ]
  },
  {
   "cell_type": "code",
   "execution_count": 8,
   "id": "1c3c1142-d2b9-4060-a1e2-19902bd2407d",
   "metadata": {},
   "outputs": [
    {
     "data": {
      "text/plain": [
       "{'A': 3, 'B': 2}"
      ]
     },
     "execution_count": 8,
     "metadata": {},
     "output_type": "execute_result"
    }
   ],
   "source": [
    "d3={'A':1,'B':2,'A':3}\n",
    "d3                             #new pair will come"
   ]
  },
  {
   "cell_type": "markdown",
   "id": "0306a845-846b-403e-91f8-e70b3816273f",
   "metadata": {},
   "source": [
    "**type**"
   ]
  },
  {
   "cell_type": "code",
   "execution_count": 13,
   "id": "a17a3820-1841-4cf6-bd95-754997eaf2ef",
   "metadata": {},
   "outputs": [
    {
     "data": {
      "text/plain": [
       "dict"
      ]
     },
     "execution_count": 13,
     "metadata": {},
     "output_type": "execute_result"
    }
   ],
   "source": [
    "type(d1)"
   ]
  },
  {
   "cell_type": "code",
   "execution_count": 15,
   "id": "72928c23-a8a1-457f-932e-5625cf36b69f",
   "metadata": {},
   "outputs": [
    {
     "data": {
      "text/plain": [
       "dict"
      ]
     },
     "execution_count": 15,
     "metadata": {},
     "output_type": "execute_result"
    }
   ],
   "source": [
    "type(d3)"
   ]
  },
  {
   "cell_type": "markdown",
   "id": "32aeca8e-0662-40ea-9d3d-239a16bae199",
   "metadata": {},
   "source": [
    "$#OPERSTORS:-TYPE\n",
    "             LEN\n",
    "             MAX\n",
    "             MIN\n",
    "             SUM$"
   ]
  },
  {
   "cell_type": "code",
   "execution_count": 17,
   "id": "7915b88a-6682-4cb4-8029-d0dbfc90031e",
   "metadata": {},
   "outputs": [
    {
     "data": {
      "text/plain": [
       "'Robert'"
      ]
     },
     "execution_count": 17,
     "metadata": {},
     "output_type": "execute_result"
    }
   ],
   "source": [
    "d1={'Ram':25,\n",
    "    'Raheem':30,\n",
    "    'Robert':35}\n",
    "max(d1)                                #maximum & minimum value based on key only"
   ]
  },
  {
   "cell_type": "code",
   "execution_count": 18,
   "id": "cef417db-760a-4ea0-9f2a-1ef5f92c8358",
   "metadata": {},
   "outputs": [
    {
     "data": {
      "text/plain": [
       "'Raheem'"
      ]
     },
     "execution_count": 18,
     "metadata": {},
     "output_type": "execute_result"
    }
   ],
   "source": [
    "min(d1)"
   ]
  },
  {
   "cell_type": "code",
   "execution_count": 19,
   "id": "dc0213e5-8d3f-40df-8a83-5bf23ce7f329",
   "metadata": {},
   "outputs": [
    {
     "data": {
      "text/plain": [
       "3"
      ]
     },
     "execution_count": 19,
     "metadata": {},
     "output_type": "execute_result"
    }
   ],
   "source": [
    "len(d1)"
   ]
  },
  {
   "cell_type": "code",
   "execution_count": 20,
   "id": "adf05540-fbac-4b19-bc42-82455e85c000",
   "metadata": {},
   "outputs": [
    {
     "data": {
      "text/plain": [
       "{'Ram': 25, 'Raheem': 30, 'Robert': 35}"
      ]
     },
     "execution_count": 20,
     "metadata": {},
     "output_type": "execute_result"
    }
   ],
   "source": [
    "d1"
   ]
  },
  {
   "cell_type": "code",
   "execution_count": 22,
   "id": "9c88f384-c017-415e-a3fe-2e4b49df5b4c",
   "metadata": {},
   "outputs": [
    {
     "ename": "TypeError",
     "evalue": "unsupported operand type(s) for +: 'int' and 'str'",
     "output_type": "error",
     "traceback": [
      "\u001b[1;31m---------------------------------------------------------------------------\u001b[0m",
      "\u001b[1;31mTypeError\u001b[0m                                 Traceback (most recent call last)",
      "Cell \u001b[1;32mIn[22], line 4\u001b[0m\n\u001b[0;32m      1\u001b[0m d1\u001b[38;5;241m=\u001b[39m{\u001b[38;5;124m'\u001b[39m\u001b[38;5;124mRam\u001b[39m\u001b[38;5;124m'\u001b[39m:\u001b[38;5;241m25\u001b[39m,\n\u001b[0;32m      2\u001b[0m     \u001b[38;5;124m'\u001b[39m\u001b[38;5;124mRaheem\u001b[39m\u001b[38;5;124m'\u001b[39m:\u001b[38;5;241m30\u001b[39m,\n\u001b[0;32m      3\u001b[0m     \u001b[38;5;124m'\u001b[39m\u001b[38;5;124mRobert\u001b[39m\u001b[38;5;124m'\u001b[39m:\u001b[38;5;241m35\u001b[39m}           \n\u001b[1;32m----> 4\u001b[0m \u001b[38;5;28msum\u001b[39m(d1)\n",
      "\u001b[1;31mTypeError\u001b[0m: unsupported operand type(s) for +: 'int' and 'str'"
     ]
    }
   ],
   "source": [
    "d1={'Ram':25,\n",
    "    'Raheem':30,\n",
    "    'Robert':35}           \n",
    "sum(d1)"
   ]
  },
  {
   "cell_type": "code",
   "execution_count": 24,
   "id": "dae3a990-39d0-4512-8f5c-9c4d1815d018",
   "metadata": {},
   "outputs": [
    {
     "data": {
      "text/plain": [
       "4400"
      ]
     },
     "execution_count": 24,
     "metadata": {},
     "output_type": "execute_result"
    }
   ],
   "source": [
    "d1={100:25,\n",
    "    300:30,\n",
    "    4000:35}           \n",
    "sum(d1)                #if key has numeric.....then we can do sum"
   ]
  },
  {
   "cell_type": "markdown",
   "id": "fcd5450a-8288-4f4f-8f00-dc4fb8e8a203",
   "metadata": {},
   "source": [
    "**IN**"
   ]
  },
  {
   "cell_type": "code",
   "execution_count": 25,
   "id": "ac1feecb-1d67-45ab-bab0-b6d82db1332b",
   "metadata": {},
   "outputs": [
    {
     "data": {
      "text/plain": [
       "{'Ram': 25, 'Raheem': 30, 'Robert': 35}"
      ]
     },
     "execution_count": 25,
     "metadata": {},
     "output_type": "execute_result"
    }
   ],
   "source": [
    "d1={'Ram':25,\n",
    "    'Raheem':30,\n",
    "    'Robert':35}           \n",
    "d1"
   ]
  },
  {
   "cell_type": "code",
   "execution_count": 26,
   "id": "4b6ce765-34ba-403d-8070-84d295aaf6af",
   "metadata": {},
   "outputs": [
    {
     "data": {
      "text/plain": [
       "True"
      ]
     },
     "execution_count": 26,
     "metadata": {},
     "output_type": "execute_result"
    }
   ],
   "source": [
    "d1={'Ram':25,\n",
    "    'Raheem':30,\n",
    "    'Robert':35}           \n",
    "'Ram' in d1"
   ]
  },
  {
   "cell_type": "code",
   "execution_count": 27,
   "id": "ed5e8bec-461b-402c-9b5b-f08a351bd717",
   "metadata": {},
   "outputs": [
    {
     "ename": "SyntaxError",
     "evalue": "illegal target for annotation (2106383994.py, line 1)",
     "output_type": "error",
     "traceback": [
      "\u001b[1;36m  Cell \u001b[1;32mIn[27], line 1\u001b[1;36m\u001b[0m\n\u001b[1;33m    'Ram':25 in d1\u001b[0m\n\u001b[1;37m    ^\u001b[0m\n\u001b[1;31mSyntaxError\u001b[0m\u001b[1;31m:\u001b[0m illegal target for annotation\n"
     ]
    }
   ],
   "source": [
    "'Ram':25 in d1"
   ]
  },
  {
   "cell_type": "code",
   "execution_count": 28,
   "id": "1fc7a7ae-212a-48b6-92e4-a3595cd13659",
   "metadata": {},
   "outputs": [
    {
     "data": {
      "text/plain": [
       "False"
      ]
     },
     "execution_count": 28,
     "metadata": {},
     "output_type": "execute_result"
    }
   ],
   "source": [
    "25 in d1"
   ]
  },
  {
   "cell_type": "code",
   "execution_count": 29,
   "id": "b4fc5604-6de3-4b0b-86e0-55990814c82d",
   "metadata": {},
   "outputs": [
    {
     "name": "stdout",
     "output_type": "stream",
     "text": [
      "Ram\n",
      "Raheem\n",
      "Robert\n"
     ]
    }
   ],
   "source": [
    "for i in d1:\n",
    "    print(i)               #key value will come"
   ]
  },
  {
   "cell_type": "code",
   "execution_count": 30,
   "id": "8a2c99c0-6a49-437d-9230-d891e78b7a1d",
   "metadata": {},
   "outputs": [
    {
     "data": {
      "text/plain": [
       "True"
      ]
     },
     "execution_count": 30,
     "metadata": {},
     "output_type": "execute_result"
    }
   ],
   "source": [
    "str1='apple'\n",
    "'a' in str1"
   ]
  },
  {
   "cell_type": "code",
   "execution_count": 31,
   "id": "86e2c5c7-c04b-4e6b-aea5-d95d2b40b5fe",
   "metadata": {},
   "outputs": [
    {
     "data": {
      "text/plain": [
       "True"
      ]
     },
     "execution_count": 31,
     "metadata": {},
     "output_type": "execute_result"
    }
   ],
   "source": [
    "l1=[1,2,3]\n",
    "1 in l1"
   ]
  },
  {
   "cell_type": "code",
   "execution_count": 32,
   "id": "d8ba40f9-fe09-466e-b168-bf25ac68465a",
   "metadata": {},
   "outputs": [
    {
     "name": "stdout",
     "output_type": "stream",
     "text": [
      "1\n",
      "2\n",
      "3\n"
     ]
    }
   ],
   "source": [
    "for i in l1:print(i)"
   ]
  },
  {
   "cell_type": "markdown",
   "id": "e521a2e8-3bf2-419f-897f-5e76e7cb9584",
   "metadata": {},
   "source": [
    "**index**"
   ]
  },
  {
   "cell_type": "code",
   "execution_count": 33,
   "id": "794175d1-4db9-45bf-a83d-25d0a55eb5b3",
   "metadata": {},
   "outputs": [
    {
     "data": {
      "text/plain": [
       "10"
      ]
     },
     "execution_count": 33,
     "metadata": {},
     "output_type": "execute_result"
    }
   ],
   "source": [
    "l1=[10,20,30,40]\n",
    "l1[0]"
   ]
  },
  {
   "cell_type": "code",
   "execution_count": 34,
   "id": "9cfc70d1-02db-48ac-9d0b-e4b9e3a5ee1f",
   "metadata": {},
   "outputs": [
    {
     "data": {
      "text/plain": [
       "'a'"
      ]
     },
     "execution_count": 34,
     "metadata": {},
     "output_type": "execute_result"
    }
   ],
   "source": [
    "str1='apple'\n",
    "str1[0]"
   ]
  },
  {
   "cell_type": "code",
   "execution_count": 35,
   "id": "49c5af3a-5d91-47d6-9f90-828fb949aef2",
   "metadata": {},
   "outputs": [
    {
     "ename": "KeyError",
     "evalue": "0",
     "output_type": "error",
     "traceback": [
      "\u001b[1;31m---------------------------------------------------------------------------\u001b[0m",
      "\u001b[1;31mKeyError\u001b[0m                                  Traceback (most recent call last)",
      "Cell \u001b[1;32mIn[35], line 4\u001b[0m\n\u001b[0;32m      1\u001b[0m d1\u001b[38;5;241m=\u001b[39m{\u001b[38;5;124m'\u001b[39m\u001b[38;5;124mRam\u001b[39m\u001b[38;5;124m'\u001b[39m:\u001b[38;5;241m25\u001b[39m,\n\u001b[0;32m      2\u001b[0m     \u001b[38;5;124m'\u001b[39m\u001b[38;5;124mRaheem\u001b[39m\u001b[38;5;124m'\u001b[39m:\u001b[38;5;241m30\u001b[39m,\n\u001b[0;32m      3\u001b[0m     \u001b[38;5;124m'\u001b[39m\u001b[38;5;124mRobert\u001b[39m\u001b[38;5;124m'\u001b[39m:\u001b[38;5;241m35\u001b[39m}           \n\u001b[1;32m----> 4\u001b[0m d1[\u001b[38;5;241m0\u001b[39m]\n",
      "\u001b[1;31mKeyError\u001b[0m: 0"
     ]
    }
   ],
   "source": [
    "d1={'Ram':25,\n",
    "    'Raheem':30,\n",
    "    'Robert':35}           \n",
    "d1[0]"
   ]
  },
  {
   "cell_type": "code",
   "execution_count": 36,
   "id": "9593639e-1267-4af1-a94b-2fcd5657a76c",
   "metadata": {},
   "outputs": [
    {
     "data": {
      "text/plain": [
       "25"
      ]
     },
     "execution_count": 36,
     "metadata": {},
     "output_type": "execute_result"
    }
   ],
   "source": [
    "d1={'Ram':25,\n",
    "    'Raheem':30,\n",
    "    'Robert':35}           \n",
    "d1['Ram']"
   ]
  },
  {
   "cell_type": "code",
   "execution_count": 37,
   "id": "ca9fe958-8fbc-4214-abd8-f6aa71bbcdfa",
   "metadata": {},
   "outputs": [
    {
     "name": "stdout",
     "output_type": "stream",
     "text": [
      "Ram\n",
      "Raheem\n",
      "Robert\n"
     ]
    }
   ],
   "source": [
    "#can we get values using for loop?\n",
    "for i in d1:\n",
    "    print(i)"
   ]
  },
  {
   "cell_type": "code",
   "execution_count": 39,
   "id": "97d58bcb-7bb7-41b8-8e9d-dc9e38b074d9",
   "metadata": {},
   "outputs": [
    {
     "name": "stdout",
     "output_type": "stream",
     "text": [
      "Ram 25\n",
      "Raheem 30\n",
      "Robert 35\n"
     ]
    }
   ],
   "source": [
    "for key in d1:\n",
    "    print(key,d1[key])"
   ]
  },
  {
   "cell_type": "code",
   "execution_count": 41,
   "id": "1b2abb82-3232-4682-84d8-9ea50ca34639",
   "metadata": {},
   "outputs": [
    {
     "name": "stdout",
     "output_type": "stream",
     "text": [
      "0\n",
      "1\n",
      "2\n"
     ]
    }
   ],
   "source": [
    "for key in range(len(d1)):\n",
    "    print(key)"
   ]
  },
  {
   "cell_type": "code",
   "execution_count": 42,
   "id": "7f73e9d1-9916-499a-8699-75cf8bc34617",
   "metadata": {},
   "outputs": [
    {
     "name": "stdout",
     "output_type": "stream",
     "text": [
      "The age of Ram is 25\n",
      "The age of Raheem is 30\n",
      "The age of Robert is 35\n"
     ]
    }
   ],
   "source": [
    "for key in d1:\n",
    "    print(\"The age of {} is {}\".format(key,d1[key]))"
   ]
  },
  {
   "cell_type": "code",
   "execution_count": 43,
   "id": "ef262363-6a4a-4741-86b1-4172acc0285b",
   "metadata": {},
   "outputs": [
    {
     "name": "stdout",
     "output_type": "stream",
     "text": [
      "0 10\n",
      "1 20\n",
      "2 30\n",
      "3 40\n"
     ]
    }
   ],
   "source": [
    "for i in range(len(l1)):\n",
    "    print(i,l1[i])"
   ]
  },
  {
   "cell_type": "markdown",
   "id": "c175f082-b876-46d8-9f84-84e832c2050f",
   "metadata": {},
   "source": [
    "$#creating a empty dictionary and update$"
   ]
  },
  {
   "cell_type": "code",
   "execution_count": 45,
   "id": "dd110232-bd1d-48b3-b35e-003d3af34ad1",
   "metadata": {},
   "outputs": [
    {
     "name": "stdout",
     "output_type": "stream",
     "text": [
      "  apple\n"
     ]
    }
   ],
   "source": [
    "s='  '\n",
    "for i in 'apple':\n",
    "    s=s+i\n",
    "\n",
    "print(s)"
   ]
  },
  {
   "cell_type": "code",
   "execution_count": 47,
   "id": "a1d4f958-eccc-4fb3-a8f8-cabb56ae45f6",
   "metadata": {},
   "outputs": [
    {
     "data": {
      "text/plain": [
       "[0, 1, 2, 3, 4, 5, 6, 7, 8, 9]"
      ]
     },
     "execution_count": 47,
     "metadata": {},
     "output_type": "execute_result"
    }
   ],
   "source": [
    "l=[i for i in range(10)]\n",
    "l=[]\n",
    "for i in range(10):\n",
    "    l.append(i)\n",
    "\n",
    "l"
   ]
  },
  {
   "cell_type": "code",
   "execution_count": 48,
   "id": "d3201ddb-fdf3-4ae2-99e7-10904ceece50",
   "metadata": {},
   "outputs": [
    {
     "data": {
      "text/plain": [
       "{'fruit': 'Apple'}"
      ]
     },
     "execution_count": 48,
     "metadata": {},
     "output_type": "execute_result"
    }
   ],
   "source": [
    "d1={}\n",
    "d1['fruit']='Apple'\n",
    "d1"
   ]
  },
  {
   "cell_type": "code",
   "execution_count": 49,
   "id": "7acd5570-15cf-4842-b750-0238a2eef73f",
   "metadata": {},
   "outputs": [
    {
     "data": {
      "text/plain": [
       "{'name': 'Monika', 'company': 'TCS', 'study': 'B-tech', 'place': 'hajipur'}"
      ]
     },
     "execution_count": 49,
     "metadata": {},
     "output_type": "execute_result"
    }
   ],
   "source": [
    "#WAP to create a database name=monika\n",
    "                          #company=tcs\n",
    "                          #study=btech\n",
    "                          #place=hajipur\n",
    "\n",
    "d1={}\n",
    "d1['name']='Monika'\n",
    "d1['company']='TCS'\n",
    "d1['study']='B-tech'\n",
    "d1['place']='hajipur'\n",
    "\n",
    "d1"
   ]
  },
  {
   "cell_type": "code",
   "execution_count": 52,
   "id": "049083ce-c7e0-4c7e-bbd0-0a4585f33004",
   "metadata": {},
   "outputs": [
    {
     "data": {
      "text/plain": [
       "{'Ram': 25, 'Raheem': 30, 'Robert': 35}"
      ]
     },
     "execution_count": 52,
     "metadata": {},
     "output_type": "execute_result"
    }
   ],
   "source": [
    "#WAP to create a dictionary based on 2 lists\n",
    "#name=['Ram','Raheem','Robert']\n",
    "#age=[25,30,35]\n",
    "\n",
    "#METHOD1:\n",
    "name=['Ram','Raheem','Robert']\n",
    "age=[25,30,35]\n",
    "dict1={}\n",
    "for i,j in zip(name,age):\n",
    "    dict1[i]=j\n",
    "\n",
    "dict1"
   ]
  },
  {
   "cell_type": "code",
   "execution_count": 55,
   "id": "b018447e-4aed-423b-baf7-b35b07515e08",
   "metadata": {},
   "outputs": [
    {
     "data": {
      "text/plain": [
       "{'Ram': 25, 'Raheem': 30, 'Robert': 35}"
      ]
     },
     "execution_count": 55,
     "metadata": {},
     "output_type": "execute_result"
    }
   ],
   "source": [
    "#METHOD2:\n",
    "dict1={}\n",
    "for i in range(len(name)):\n",
    "    dict1[name[i]]=age[i]\n",
    "\n",
    "dict1"
   ]
  },
  {
   "cell_type": "code",
   "execution_count": 56,
   "id": "4d8a34bc-cbb9-40b7-8537-906e00878ba9",
   "metadata": {},
   "outputs": [
    {
     "data": {
      "text/plain": [
       "{'Ram': 25, 'Raheem': 30, 'Robert': 35}"
      ]
     },
     "execution_count": 56,
     "metadata": {},
     "output_type": "execute_result"
    }
   ],
   "source": [
    "#METHOD3:\n",
    "\n",
    "dict1={name[i]:age[i] for i in range(len(name))}\n",
    "dict1"
   ]
  },
  {
   "cell_type": "markdown",
   "id": "ab6f6b4f-5405-41c9-affc-bfd3b903f5ea",
   "metadata": {},
   "source": [
    "**DICTIONARY COMPREHENSION**"
   ]
  },
  {
   "cell_type": "code",
   "execution_count": 60,
   "id": "007db28b-8949-4ca9-b8bf-4229acc1e84b",
   "metadata": {},
   "outputs": [
    {
     "data": {
      "text/plain": [
       "{'Ram': 25, 'Raheem': 30, 'Robert': 35}"
      ]
     },
     "execution_count": 60,
     "metadata": {},
     "output_type": "execute_result"
    }
   ],
   "source": [
    "name=['Ram','Raheem','Robert']\n",
    "age=[25,30,35]\n",
    "dict1={}\n",
    "for i,j in zip(name,age):\n",
    "    dict1[i]=j\n",
    "\n",
    "dict1                        #DICTIONARY"
   ]
  },
  {
   "cell_type": "code",
   "execution_count": 61,
   "id": "0e35d6d0-b6b3-4833-98bd-a62f9b29f058",
   "metadata": {},
   "outputs": [
    {
     "data": {
      "text/plain": [
       "{'Ram': 25, 'Raheem': 30, 'Robert': 35}"
      ]
     },
     "execution_count": 61,
     "metadata": {},
     "output_type": "execute_result"
    }
   ],
   "source": [
    "dict1={name:age for name,age in zip (name,age)}\n",
    "dict1                         #DICTIONARY COMPREHENSION"
   ]
  },
  {
   "cell_type": "code",
   "execution_count": 63,
   "id": "2b63519d-6d64-4171-b1e0-f58d33a33aa4",
   "metadata": {},
   "outputs": [
    {
     "data": {
      "text/plain": [
       "{'Ram': 25, 'Raheem': 30, 'Robert': 35}"
      ]
     },
     "execution_count": 63,
     "metadata": {},
     "output_type": "execute_result"
    }
   ],
   "source": [
    "dict1={}\n",
    "for i in range(len(name)):\n",
    "    dict1[name[i]]=age[i]\n",
    "\n",
    "dict1                        #DICTIONARY"
   ]
  },
  {
   "cell_type": "code",
   "execution_count": 62,
   "id": "328fcc62-2fdf-4a46-9d70-301c301d49da",
   "metadata": {},
   "outputs": [
    {
     "data": {
      "text/plain": [
       "{'Ram': 25, 'Raheem': 30, 'Robert': 35}"
      ]
     },
     "execution_count": 62,
     "metadata": {},
     "output_type": "execute_result"
    }
   ],
   "source": [
    "dict1={name[i]:age[i] for i in range(len(name))}\n",
    "dict1                          #DICTIONARY COMPREHENSION"
   ]
  },
  {
   "cell_type": "markdown",
   "id": "202a43c2-aeb6-412c-9635-8623c31a90bd",
   "metadata": {},
   "source": [
    "**LIST COMPREHENSION**"
   ]
  },
  {
   "cell_type": "code",
   "execution_count": 65,
   "id": "a56ee015-1bf2-4a3c-8957-ced419cb257f",
   "metadata": {},
   "outputs": [
    {
     "data": {
      "text/plain": [
       "[0, 1, 2]"
      ]
     },
     "execution_count": 65,
     "metadata": {},
     "output_type": "execute_result"
    }
   ],
   "source": [
    "#LIST\n",
    "list1=[]\n",
    "for i in range(len(name)):\n",
    "    list1.append(i)\n",
    "\n",
    "list1"
   ]
  },
  {
   "cell_type": "code",
   "execution_count": 66,
   "id": "cf213ef4-111b-4a1a-b2f3-141591de62fc",
   "metadata": {},
   "outputs": [
    {
     "data": {
      "text/plain": [
       "[0, 1, 2]"
      ]
     },
     "execution_count": 66,
     "metadata": {},
     "output_type": "execute_result"
    }
   ],
   "source": [
    "#list1\n",
    "list1=[i for i in range(len(name))]\n",
    "list1"
   ]
  },
  {
   "cell_type": "code",
   "execution_count": 70,
   "id": "e4dd03cd-00a0-4e3a-ba92-1c5f1992ff44",
   "metadata": {},
   "outputs": [
    {
     "name": "stdout",
     "output_type": "stream",
     "text": [
      "RandomNumber:{random_number}\n",
      "EvenOddDictionary:{num_dict}\n"
     ]
    }
   ],
   "source": [
    "#WAP take 5 random numbers and create a dictionary with even&odd\n",
    "import random\n",
    "random_number=[random.randint(1,100) for i in range(5)]\n",
    "num_dict={'even':[],'odd':[]}\n",
    "for number in random_number:\n",
    "    if number%2==0:\n",
    "        num_dict['even'].append(number)\n",
    "    else:\n",
    "        num_dict['odd'].append(number)\n",
    "\n",
    "print(\"RandomNumber:{random_number}\")\n",
    "print(\"EvenOddDictionary:{num_dict}\")"
   ]
  },
  {
   "cell_type": "code",
   "execution_count": 71,
   "id": "9cf1951f-1c71-4cfd-8071-7a79590e59a4",
   "metadata": {},
   "outputs": [],
   "source": [
    "import os"
   ]
  },
  {
   "cell_type": "code",
   "execution_count": 72,
   "id": "e0f1459f-8a3d-4cae-af44-6b7aa550d3dd",
   "metadata": {},
   "outputs": [
    {
     "data": {
      "text/plain": [
       "'C:\\\\Users\\\\91807\\\\OneDrive\\\\Document\\\\DataScience\\\\Monika\\\\DataScience'"
      ]
     },
     "execution_count": 72,
     "metadata": {},
     "output_type": "execute_result"
    }
   ],
   "source": [
    "os.getcwd()"
   ]
  },
  {
   "cell_type": "markdown",
   "id": "07e813fe-438f-494d-99bd-64107732fa78",
   "metadata": {},
   "source": [
    "**DICTIONARY METHODS**"
   ]
  },
  {
   "cell_type": "code",
   "execution_count": 74,
   "id": "857c7ead-9caf-4734-bdc2-261cba1285e3",
   "metadata": {},
   "outputs": [
    {
     "data": {
      "text/plain": [
       "['__class__',\n",
       " '__class_getitem__',\n",
       " '__contains__',\n",
       " '__delattr__',\n",
       " '__delitem__',\n",
       " '__dir__',\n",
       " '__doc__',\n",
       " '__eq__',\n",
       " '__format__',\n",
       " '__ge__',\n",
       " '__getattribute__',\n",
       " '__getitem__',\n",
       " '__getstate__',\n",
       " '__gt__',\n",
       " '__hash__',\n",
       " '__init__',\n",
       " '__init_subclass__',\n",
       " '__ior__',\n",
       " '__iter__',\n",
       " '__le__',\n",
       " '__len__',\n",
       " '__lt__',\n",
       " '__ne__',\n",
       " '__new__',\n",
       " '__or__',\n",
       " '__reduce__',\n",
       " '__reduce_ex__',\n",
       " '__repr__',\n",
       " '__reversed__',\n",
       " '__ror__',\n",
       " '__setattr__',\n",
       " '__setitem__',\n",
       " '__sizeof__',\n",
       " '__str__',\n",
       " '__subclasshook__',\n",
       " 'clear',\n",
       " 'copy',\n",
       " 'fromkeys',\n",
       " 'get',\n",
       " 'items',\n",
       " 'keys',\n",
       " 'pop',\n",
       " 'popitem',\n",
       " 'setdefault',\n",
       " 'update',\n",
       " 'values']"
      ]
     },
     "execution_count": 74,
     "metadata": {},
     "output_type": "execute_result"
    }
   ],
   "source": [
    "dir({})"
   ]
  },
  {
   "cell_type": "markdown",
   "id": "2580f490-ba22-476d-9c8c-06b9f1b8452e",
   "metadata": {},
   "source": [
    "**items**"
   ]
  },
  {
   "cell_type": "code",
   "execution_count": 75,
   "id": "aed2bc24-d2ff-47eb-9d08-e02f0c9b40db",
   "metadata": {},
   "outputs": [
    {
     "data": {
      "text/plain": [
       "dict_items([('Ram', 25), ('Raheem', 30), ('Robert', 35)])"
      ]
     },
     "execution_count": 75,
     "metadata": {},
     "output_type": "execute_result"
    }
   ],
   "source": [
    "d1={'Ram':25,\n",
    "    'Raheem':30,\n",
    "    'Robert':35}           \n",
    "d1.items()"
   ]
  },
  {
   "cell_type": "code",
   "execution_count": 95,
   "id": "d04bf47c-dd47-4b6c-b00c-860c2975cab8",
   "metadata": {},
   "outputs": [
    {
     "data": {
      "text/plain": [
       "dict_items"
      ]
     },
     "execution_count": 95,
     "metadata": {},
     "output_type": "execute_result"
    }
   ],
   "source": [
    "type(items)"
   ]
  },
  {
   "cell_type": "markdown",
   "id": "4c2f5404-2941-479a-ad63-09a62546b7de",
   "metadata": {},
   "source": [
    "**keys**"
   ]
  },
  {
   "cell_type": "code",
   "execution_count": 77,
   "id": "cd89c4bd-8c71-48b1-9419-56888af4aacf",
   "metadata": {},
   "outputs": [
    {
     "data": {
      "text/plain": [
       "dict_keys(['Ram', 'Raheem', 'Robert'])"
      ]
     },
     "execution_count": 77,
     "metadata": {},
     "output_type": "execute_result"
    }
   ],
   "source": [
    "d1={'Ram':25,\n",
    "    'Raheem':30,\n",
    "    'Robert':35}           \n",
    "d1.keys()"
   ]
  },
  {
   "cell_type": "code",
   "execution_count": 84,
   "id": "5273768e-8eb4-4ec3-a1d9-f83926f9b80f",
   "metadata": {},
   "outputs": [
    {
     "data": {
      "text/plain": [
       "dict_items([('Ram', 25), ('Raheem', 30), ('Robert', 35)])"
      ]
     },
     "execution_count": 84,
     "metadata": {},
     "output_type": "execute_result"
    }
   ],
   "source": [
    "items=d1.items()\n",
    "items"
   ]
  },
  {
   "cell_type": "code",
   "execution_count": 97,
   "id": "e2836739-3e37-4824-9146-f99217cc037d",
   "metadata": {},
   "outputs": [
    {
     "data": {
      "text/plain": [
       "dict_keys"
      ]
     },
     "execution_count": 97,
     "metadata": {},
     "output_type": "execute_result"
    }
   ],
   "source": [
    "d1={'Ram':25,\n",
    "    'Raheem':30,\n",
    "    'Robert':35}           \n",
    "keys=d1.keys()\n",
    "type(keys)"
   ]
  },
  {
   "cell_type": "markdown",
   "id": "9d2edf0c-b6ee-40ea-b8e0-1ac9a7f9af2d",
   "metadata": {},
   "source": [
    "**values**"
   ]
  },
  {
   "cell_type": "code",
   "execution_count": 78,
   "id": "bbb64532-4427-40f3-bac0-2dae36f89538",
   "metadata": {},
   "outputs": [
    {
     "data": {
      "text/plain": [
       "dict_values([25, 30, 35])"
      ]
     },
     "execution_count": 78,
     "metadata": {},
     "output_type": "execute_result"
    }
   ],
   "source": [
    "d1={'Ram':25,\n",
    "    'Raheem':30,\n",
    "    'Robert':35}           \n",
    "d1.values()"
   ]
  },
  {
   "cell_type": "code",
   "execution_count": 98,
   "id": "1f70d188-d680-4d6c-b6cf-0234f8b759b6",
   "metadata": {},
   "outputs": [
    {
     "data": {
      "text/plain": [
       "dict_values"
      ]
     },
     "execution_count": 98,
     "metadata": {},
     "output_type": "execute_result"
    }
   ],
   "source": [
    "d1={'Ram':25,\n",
    "    'Raheem':30,\n",
    "    'Robert':35}           \n",
    "values=d1.values()\n",
    "type(values)"
   ]
  },
  {
   "cell_type": "code",
   "execution_count": 80,
   "id": "83adb8f8-208f-4f96-a413-69b916db3f05",
   "metadata": {},
   "outputs": [
    {
     "data": {
      "text/plain": [
       "[25, 30, 35, 400]"
      ]
     },
     "execution_count": 80,
     "metadata": {},
     "output_type": "execute_result"
    }
   ],
   "source": [
    "l1=[25,30,35]\n",
    "l1.append(400)\n",
    "l1"
   ]
  },
  {
   "cell_type": "code",
   "execution_count": 99,
   "id": "77fe16d5-fc3a-47c5-bb50-dadcc8c1473d",
   "metadata": {},
   "outputs": [
    {
     "data": {
      "text/plain": [
       "dict_values([25, 30, 35])"
      ]
     },
     "execution_count": 99,
     "metadata": {},
     "output_type": "execute_result"
    }
   ],
   "source": [
    "values\n"
   ]
  },
  {
   "cell_type": "code",
   "execution_count": 103,
   "id": "467a7f4d-12c3-4b8a-9b8e-0f1a772c8aa6",
   "metadata": {},
   "outputs": [
    {
     "data": {
      "text/plain": [
       "[25, 30, 35]"
      ]
     },
     "execution_count": 103,
     "metadata": {},
     "output_type": "execute_result"
    }
   ],
   "source": [
    "#convert into a list #need to apply list method\n",
    "values\n",
    "list(values)"
   ]
  },
  {
   "cell_type": "code",
   "execution_count": 101,
   "id": "3b083ed6-df2c-463d-a36a-9b6a07860491",
   "metadata": {},
   "outputs": [
    {
     "data": {
      "text/plain": [
       "[25, 30, 35]"
      ]
     },
     "execution_count": 101,
     "metadata": {},
     "output_type": "execute_result"
    }
   ],
   "source": [
    "values\n",
    "value_list=list(values)\n",
    "value_list"
   ]
  },
  {
   "cell_type": "code",
   "execution_count": 102,
   "id": "5d6663b0-ae1c-4cb0-86cc-7e76d6dc9b4c",
   "metadata": {},
   "outputs": [
    {
     "data": {
      "text/plain": [
       "['Ram', 'Raheem', 'Robert']"
      ]
     },
     "execution_count": 102,
     "metadata": {},
     "output_type": "execute_result"
    }
   ],
   "source": [
    "key_list=list(keys)\n",
    "key_list"
   ]
  },
  {
   "cell_type": "code",
   "execution_count": 105,
   "id": "8adda791-04cf-41d4-b27b-28321949f55e",
   "metadata": {},
   "outputs": [
    {
     "data": {
      "text/plain": [
       "{'Ram': 25, 'Raheem': 30, 'Robert': 35}"
      ]
     },
     "execution_count": 105,
     "metadata": {},
     "output_type": "execute_result"
    }
   ],
   "source": [
    "#I will give the dictionary\n",
    "#can we extract keys@values in a list1:\n",
    "\n",
    "d1={'Ram':25,\n",
    "    'Raheem':30,\n",
    "    'Robert':35}   \n",
    "keys=list(d1.keys())\n",
    "values=list(d1.keys())\n",
    "\n",
    "d1"
   ]
  },
  {
   "cell_type": "code",
   "execution_count": 106,
   "id": "096732b4-ddcd-4cd4-b0ec-4f79ae2b026b",
   "metadata": {},
   "outputs": [
    {
     "data": {
      "text/plain": [
       "{'Ram': 'Ram', 'Raheem': 'Raheem', 'Robert': 'Robert'}"
      ]
     },
     "execution_count": 106,
     "metadata": {},
     "output_type": "execute_result"
    }
   ],
   "source": [
    "dict(zip(keys,values))"
   ]
  },
  {
   "cell_type": "code",
   "execution_count": 109,
   "id": "0c3e6ba1-b46c-4494-9ec5-2eb69ab409b5",
   "metadata": {},
   "outputs": [
    {
     "data": {
      "text/plain": [
       "['virat.kohli@blr.com', ' rohit.sharma@mumbai.com', ' kl.rahul@lucknow.com']"
      ]
     },
     "execution_count": 109,
     "metadata": {},
     "output_type": "execute_result"
    }
   ],
   "source": [
    "#s1='virat.kohli@blr.com, rohit.sharma@mumbai.com, kl.rahul@lucknow.com'\n",
    "#{'first_name':['virat','rohit','kl'],\n",
    "#'second_name':['kohli','sharma','rahul'],\n",
    "#'company':['blr','mumbai','lucknow']}\n",
    "\n",
    "s1='virat.kohli@blr.com, rohit.sharma@mumbai.com, kl.rahul@lucknow.com'\n",
    "s1.split(',')"
   ]
  },
  {
   "cell_type": "code",
   "execution_count": 111,
   "id": "1f63092d-79dd-43a2-beae-07d464071960",
   "metadata": {},
   "outputs": [
    {
     "data": {
      "text/plain": [
       "5"
      ]
     },
     "execution_count": 111,
     "metadata": {},
     "output_type": "execute_result"
    }
   ],
   "source": [
    "str1='virat.kohli@blr.com'\n",
    "str1.find('.')"
   ]
  },
  {
   "cell_type": "code",
   "execution_count": 112,
   "id": "3af5cdb2-be61-4f8c-9c6c-6e1db18f9f7b",
   "metadata": {},
   "outputs": [
    {
     "data": {
      "text/plain": [
       "'virat'"
      ]
     },
     "execution_count": 112,
     "metadata": {},
     "output_type": "execute_result"
    }
   ],
   "source": [
    "str1[:5]"
   ]
  },
  {
   "cell_type": "code",
   "execution_count": 114,
   "id": "4f0b7357-a42e-429b-8b29-65a4ca6c177f",
   "metadata": {},
   "outputs": [
    {
     "data": {
      "text/plain": [
       "'virat'"
      ]
     },
     "execution_count": 114,
     "metadata": {},
     "output_type": "execute_result"
    }
   ],
   "source": [
    "f_name=str1[:str1.find('.')]\n",
    "f_name"
   ]
  },
  {
   "cell_type": "code",
   "execution_count": 115,
   "id": "5ad89538-00e5-4e5f-9a93-c4088d2ea806",
   "metadata": {},
   "outputs": [
    {
     "data": {
      "text/plain": [
       "11"
      ]
     },
     "execution_count": 115,
     "metadata": {},
     "output_type": "execute_result"
    }
   ],
   "source": [
    "str1.find('@')"
   ]
  },
  {
   "cell_type": "code",
   "execution_count": 116,
   "id": "e24f54b2-78a3-44e6-916e-1453fd55ef18",
   "metadata": {},
   "outputs": [
    {
     "data": {
      "text/plain": [
       "'kohli'"
      ]
     },
     "execution_count": 116,
     "metadata": {},
     "output_type": "execute_result"
    }
   ],
   "source": [
    "s_name=str1[str1.find('.')+1:str1.find('@')]\n",
    "s_name"
   ]
  },
  {
   "cell_type": "code",
   "execution_count": 117,
   "id": "87c02737-f525-4a86-9be8-97872304862d",
   "metadata": {},
   "outputs": [
    {
     "data": {
      "text/plain": [
       "'blr'"
      ]
     },
     "execution_count": 117,
     "metadata": {},
     "output_type": "execute_result"
    }
   ],
   "source": [
    "c_name=str1[str1.find('@')+1:str1.find('.',str1.find('.')+1)]\n",
    "c_name"
   ]
  },
  {
   "cell_type": "code",
   "execution_count": 120,
   "id": "d51fd07c-884c-44a1-af8c-ecd33a71b7e7",
   "metadata": {},
   "outputs": [
    {
     "data": {
      "text/plain": [
       "(['virat', ' rohit', ' kl'],\n",
       " ['kohli', 'sharma', 'rahul'],\n",
       " ['blr', 'mumbai', 'lucknow'])"
      ]
     },
     "execution_count": 120,
     "metadata": {},
     "output_type": "execute_result"
    }
   ],
   "source": [
    "d1={}\n",
    "f_name=[str1[:str1.find('.')] for str1 in s1.split(',')]\n",
    "s_name=[str1[str1.find('.')+1:str1.find('@')] for str1 in s1.split(',')]\n",
    "c_name=[str1[str1.find('@')+1:str1.find('.',str1.find('.')+1)] for str1 in s1.split(',')]\n",
    "\n",
    "f_name,s_name,c_name"
   ]
  },
  {
   "cell_type": "markdown",
   "id": "fe18b055-bf0d-4886-89de-cc8c699db677",
   "metadata": {},
   "source": [
    "$words$-$frequency$"
   ]
  },
  {
   "cell_type": "code",
   "execution_count": 127,
   "id": "8d10c201-eba2-4bcf-a79c-0e59a4624367",
   "metadata": {},
   "outputs": [
    {
     "data": {
      "text/plain": [
       "{'can': 4, 'you': 2, 'canner': 2, 'able': 1, 'to': 1}"
      ]
     },
     "execution_count": 127,
     "metadata": {},
     "output_type": "execute_result"
    }
   ],
   "source": [
    "#biggest repeated words\n",
    "str1='can can you canner can you able to can canner'\n",
    "#{'can':4,'you':2,'canner':2,'able':1,'to':1}\n",
    "l1=str1.split(' ')\n",
    "d1={}\n",
    "\n",
    "for i in l1:\n",
    "    d1[i]=l1.count(i)\n",
    "\n",
    "d1"
   ]
  },
  {
   "cell_type": "code",
   "execution_count": 128,
   "id": "1819bb9c-6505-41ca-a0ac-0327dd4dc180",
   "metadata": {},
   "outputs": [
    {
     "data": {
      "text/plain": [
       "['can', 'can', 'you', 'canner', 'can', 'you', 'able', 'to', 'can', 'canner']"
      ]
     },
     "execution_count": 128,
     "metadata": {},
     "output_type": "execute_result"
    }
   ],
   "source": [
    "str1.split(' ')"
   ]
  },
  {
   "cell_type": "code",
   "execution_count": 129,
   "id": "f68b3939-0004-4ba7-a942-3ca8cd315ac2",
   "metadata": {},
   "outputs": [
    {
     "data": {
      "text/plain": [
       "dict_keys(['can', 'you', 'canner', 'able', 'to'])"
      ]
     },
     "execution_count": 129,
     "metadata": {},
     "output_type": "execute_result"
    }
   ],
   "source": [
    "d1.keys()"
   ]
  },
  {
   "cell_type": "code",
   "execution_count": 130,
   "id": "b92daa0f-eae4-4bf4-a1cb-2e6c8536c4a7",
   "metadata": {},
   "outputs": [
    {
     "data": {
      "text/plain": [
       "dict_values([4, 2, 2, 1, 1])"
      ]
     },
     "execution_count": 130,
     "metadata": {},
     "output_type": "execute_result"
    }
   ],
   "source": [
    "d1.values()"
   ]
  },
  {
   "cell_type": "code",
   "execution_count": 131,
   "id": "4968adad-72d2-422b-b638-b74aa1de3dae",
   "metadata": {},
   "outputs": [
    {
     "data": {
      "text/plain": [
       "(['can', 'you', 'canner', 'able', 'to'], [4, 2, 2, 1, 1])"
      ]
     },
     "execution_count": 131,
     "metadata": {},
     "output_type": "execute_result"
    }
   ],
   "source": [
    "keys=list(d1.keys())\n",
    "values=list(d1.values())\n",
    "keys,values"
   ]
  },
  {
   "cell_type": "code",
   "execution_count": 133,
   "id": "c5795383-ac71-4885-90cf-8f58a062250c",
   "metadata": {},
   "outputs": [
    {
     "data": {
      "text/plain": [
       "4"
      ]
     },
     "execution_count": 133,
     "metadata": {},
     "output_type": "execute_result"
    }
   ],
   "source": [
    "i=max(values)\n",
    "i"
   ]
  },
  {
   "cell_type": "code",
   "execution_count": 134,
   "id": "8bfd3334-b9df-43bc-a468-1b0f1ab2b58a",
   "metadata": {},
   "outputs": [
    {
     "data": {
      "text/plain": [
       "0"
      ]
     },
     "execution_count": 134,
     "metadata": {},
     "output_type": "execute_result"
    }
   ],
   "source": [
    "values.index(i)"
   ]
  },
  {
   "cell_type": "code",
   "execution_count": 135,
   "id": "3e75fceb-b88e-415c-ae32-93a7fa1ec43b",
   "metadata": {},
   "outputs": [
    {
     "data": {
      "text/plain": [
       "'can'"
      ]
     },
     "execution_count": 135,
     "metadata": {},
     "output_type": "execute_result"
    }
   ],
   "source": [
    "keys[0]"
   ]
  },
  {
   "cell_type": "code",
   "execution_count": 136,
   "id": "39969c1b-8abe-4aac-bf52-1f38eac6af30",
   "metadata": {},
   "outputs": [
    {
     "data": {
      "text/plain": [
       "'can'"
      ]
     },
     "execution_count": 136,
     "metadata": {},
     "output_type": "execute_result"
    }
   ],
   "source": [
    "keys[values.index(max(values))]"
   ]
  },
  {
   "cell_type": "code",
   "execution_count": 139,
   "id": "21169763-4f32-47bd-acaa-d2f28370aed0",
   "metadata": {},
   "outputs": [
    {
     "data": {
      "text/plain": [
       "{'a': 70, 'b': 130, 'c': 240}"
      ]
     },
     "execution_count": 139,
     "metadata": {},
     "output_type": "execute_result"
    }
   ],
   "source": [
    "d1={'a':20,'b':30,'c':40}\n",
    "d2={'a':50,'b':100,'c':200}\n",
    "#method 1:\n",
    "d3={}\n",
    "if len(d1)==len(d2):\n",
    "    for i in d1:\n",
    "        d3[i]=d1[i]+d2[i]\n",
    "\n",
    "d3"
   ]
  },
  {
   "cell_type": "code",
   "execution_count": 144,
   "id": "e303d78a-8c3d-4dd2-9130-f91d455acf23",
   "metadata": {},
   "outputs": [
    {
     "data": {
      "text/plain": [
       "{'a': 70, 'b': 130, 'c': 240, 'd': 500}"
      ]
     },
     "execution_count": 144,
     "metadata": {},
     "output_type": "execute_result"
    }
   ],
   "source": [
    "#method 2:\n",
    "d1={'a':20,'b':30,'c':40, 'd':500}\n",
    "d2={'a':50,'b':100,'c':200}\n",
    "\n",
    "for i in range(min(len(d1), len(d2))):\n",
    "    d1[list(d1.keys())[i]]+=d2[list(d2.keys())[i]]\n",
    "\n",
    "d1"
   ]
  },
  {
   "cell_type": "markdown",
   "id": "cd27737b-9437-47c4-b684-d01fdd9e8b64",
   "metadata": {},
   "source": [
    "$clear$-$copy$"
   ]
  },
  {
   "cell_type": "code",
   "execution_count": 2,
   "id": "919b6fe5-830b-4c5d-b938-5ce346bc1269",
   "metadata": {},
   "outputs": [
    {
     "data": {
      "text/plain": [
       "{'a': 20, 'b': 30, 'c': 40, 'd': 500}"
      ]
     },
     "execution_count": 2,
     "metadata": {},
     "output_type": "execute_result"
    }
   ],
   "source": [
    "#take one dictionary\n",
    "#take second dictionary\n",
    "#copy 1st into 2nd dictionary\n",
    "#clear 1st\n",
    "#and print both\n",
    "\n",
    "d1={'a':20,'b':30,'c':40, 'd':500}\n",
    "d2=d1.copy()\n",
    "d1"
   ]
  },
  {
   "cell_type": "code",
   "execution_count": 3,
   "id": "6e0d4e63-1edb-43e3-a8db-381dd5cb52d5",
   "metadata": {},
   "outputs": [
    {
     "name": "stdout",
     "output_type": "stream",
     "text": [
      "{}\n",
      "{'a': 20, 'b': 30, 'c': 40, 'd': 500}\n"
     ]
    }
   ],
   "source": [
    "d1={'a':20,'b':30,'c':40, 'd':500}\n",
    "d2=d1.copy()\n",
    "d1.clear()\n",
    "print(d1)\n",
    "print(d2)"
   ]
  },
  {
   "cell_type": "markdown",
   "id": "abd861f3-3024-495e-ae15-c62eb935f405",
   "metadata": {},
   "source": [
    "$pop$-$popitem$-$del$"
   ]
  },
  {
   "attachments": {},
   "cell_type": "markdown",
   "id": "7ae0a2ed-b62e-4d69-a77a-c7a6288a0878",
   "metadata": {},
   "source": [
    "$#-what is pop?$\n",
    "\n",
    "\n",
    "       $- is a method or build-in function$\n",
    "\n",
    "       \n",
    "       $-will remove specific key and return corresponding value$\n",
    "\n",
    "       \n",
    "       $-if the key is not found,return the default if given otherwise raises key error$\n",
    "\n",
    "       \n",
    "\n",
    "$#-what is popitem?$\n",
    "\n",
    "\n",
    "        $- is a method or build-in function$\n",
    "\n",
    "        \n",
    "        $-remove and return a (key,value) pair as a tuple$\n",
    "\n",
    "        \n",
    "        $-pairs are returned in LIFO order$\n",
    "\n",
    "        \n",
    "        $-raises keyError if the dictionary is empty$\n",
    "\n",
    "        \n",
    "$#-what is del?$\n",
    "\n",
    "\n",
    "        $- is a keyword$\n",
    "\n",
    "        \n",
    "        $-del can delete the dictionary in 1 shot$\n",
    "\n",
    "        \n",
    "        $-it can delete an item by providing specific key$\n",
    "\n",
    "\n",
    "\n",
    "\n"
   ]
  },
  {
   "cell_type": "code",
   "execution_count": 16,
   "id": "56931f7d-056e-40a0-b7c6-d1aa12e1b7b9",
   "metadata": {},
   "outputs": [
    {
     "ename": "TypeError",
     "evalue": "pop expected at least 1 argument, got 0",
     "output_type": "error",
     "traceback": [
      "\u001b[1;31m---------------------------------------------------------------------------\u001b[0m",
      "\u001b[1;31mTypeError\u001b[0m                                 Traceback (most recent call last)",
      "Cell \u001b[1;32mIn[16], line 1\u001b[0m\n\u001b[1;32m----> 1\u001b[0m d1\u001b[38;5;241m.\u001b[39mpop()\n",
      "\u001b[1;31mTypeError\u001b[0m: pop expected at least 1 argument, got 0"
     ]
    }
   ],
   "source": [
    "d1.pop()"
   ]
  },
  {
   "cell_type": "code",
   "execution_count": 5,
   "id": "de783c91-6db0-4aae-be53-7713dfa1a6b3",
   "metadata": {},
   "outputs": [
    {
     "data": {
      "text/plain": [
       "20"
      ]
     },
     "execution_count": 5,
     "metadata": {},
     "output_type": "execute_result"
    }
   ],
   "source": [
    "d2={'a': 20, 'b': 30, 'c': 40, 'd': 500}\n",
    "d2.pop('a')"
   ]
  },
  {
   "cell_type": "code",
   "execution_count": 6,
   "id": "ee61991c-c49e-47f8-b9aa-34ec9d4ed674",
   "metadata": {},
   "outputs": [
    {
     "data": {
      "text/plain": [
       "('d', 500)"
      ]
     },
     "execution_count": 6,
     "metadata": {},
     "output_type": "execute_result"
    }
   ],
   "source": [
    "d2.popitem()"
   ]
  },
  {
   "cell_type": "code",
   "execution_count": 7,
   "id": "9b7dfc4c-e108-40d7-8e78-2e2096e2cfe8",
   "metadata": {},
   "outputs": [],
   "source": [
    "del[d2]"
   ]
  },
  {
   "cell_type": "code",
   "execution_count": 8,
   "id": "da5d1048-e61f-4ead-9d43-80ff47ef9616",
   "metadata": {},
   "outputs": [
    {
     "ename": "NameError",
     "evalue": "name 'd2' is not defined",
     "output_type": "error",
     "traceback": [
      "\u001b[1;31m---------------------------------------------------------------------------\u001b[0m",
      "\u001b[1;31mNameError\u001b[0m                                 Traceback (most recent call last)",
      "Cell \u001b[1;32mIn[8], line 1\u001b[0m\n\u001b[1;32m----> 1\u001b[0m d2\n",
      "\u001b[1;31mNameError\u001b[0m: name 'd2' is not defined"
     ]
    }
   ],
   "source": [
    "d2"
   ]
  },
  {
   "cell_type": "code",
   "execution_count": 10,
   "id": "0172cb80-a5c7-4b19-9f69-1f786ea82d8c",
   "metadata": {},
   "outputs": [],
   "source": [
    "l1=[10,20,30,40,50]\n",
    "#del l1[<index>]\n",
    "del l1[1]"
   ]
  },
  {
   "cell_type": "code",
   "execution_count": 11,
   "id": "a91b4678-63cf-44ff-874b-1e439d0be429",
   "metadata": {},
   "outputs": [
    {
     "data": {
      "text/plain": [
       "[10, 30, 40, 50]"
      ]
     },
     "execution_count": 11,
     "metadata": {},
     "output_type": "execute_result"
    }
   ],
   "source": [
    "l1"
   ]
  },
  {
   "cell_type": "code",
   "execution_count": 12,
   "id": "ee17d310-f205-4f58-a9e8-9c1932b84718",
   "metadata": {},
   "outputs": [
    {
     "data": {
      "text/plain": [
       "{'a': 20, 'b': 30, 'c': 40, 'd': 500}"
      ]
     },
     "execution_count": 12,
     "metadata": {},
     "output_type": "execute_result"
    }
   ],
   "source": [
    "d2={'a': 20, 'b': 30, 'c': 40, 'd': 500}\n",
    "d2"
   ]
  },
  {
   "cell_type": "code",
   "execution_count": 14,
   "id": "44cff229-d781-4912-9f33-89540a4f7382",
   "metadata": {},
   "outputs": [
    {
     "data": {
      "text/plain": [
       "{'a': 20, 'b': 30, 'd': 500}"
      ]
     },
     "execution_count": 14,
     "metadata": {},
     "output_type": "execute_result"
    }
   ],
   "source": [
    "d2={'a': 20, 'b': 30, 'c': 40, 'd': 500}\n",
    "del d2['c']\n",
    "d2"
   ]
  },
  {
   "cell_type": "code",
   "execution_count": 15,
   "id": "153c27f7-e6a1-4b70-9cb0-63fad936b3be",
   "metadata": {},
   "outputs": [
    {
     "ename": "NameError",
     "evalue": "name 'd2' is not defined",
     "output_type": "error",
     "traceback": [
      "\u001b[1;31m---------------------------------------------------------------------------\u001b[0m",
      "\u001b[1;31mNameError\u001b[0m                                 Traceback (most recent call last)",
      "Cell \u001b[1;32mIn[15], line 2\u001b[0m\n\u001b[0;32m      1\u001b[0m \u001b[38;5;28;01mdel\u001b[39;00m(d2)\n\u001b[1;32m----> 2\u001b[0m d2\n",
      "\u001b[1;31mNameError\u001b[0m: name 'd2' is not defined"
     ]
    }
   ],
   "source": [
    "del(d2)\n",
    "d2"
   ]
  },
  {
   "cell_type": "code",
   "execution_count": 17,
   "id": "aa0d856e-94b1-489f-a91d-6b292b5c1e39",
   "metadata": {},
   "outputs": [],
   "source": [
    "d1={'a': 1, 'b': 2, 'c': 3}\n",
    "del d1['c']"
   ]
  },
  {
   "cell_type": "code",
   "execution_count": 18,
   "id": "aaaa112c-2623-4a2f-a406-9b6e16d61f28",
   "metadata": {},
   "outputs": [
    {
     "data": {
      "text/plain": [
       "{'a': 1, 'b': 2}"
      ]
     },
     "execution_count": 18,
     "metadata": {},
     "output_type": "execute_result"
    }
   ],
   "source": [
    "d1"
   ]
  },
  {
   "cell_type": "code",
   "execution_count": 19,
   "id": "5dd1638f-d10f-44c4-8875-f1a2e9be700a",
   "metadata": {},
   "outputs": [
    {
     "ename": "KeyError",
     "evalue": "'c'",
     "output_type": "error",
     "traceback": [
      "\u001b[1;31m---------------------------------------------------------------------------\u001b[0m",
      "\u001b[1;31mKeyError\u001b[0m                                  Traceback (most recent call last)",
      "Cell \u001b[1;32mIn[19], line 1\u001b[0m\n\u001b[1;32m----> 1\u001b[0m d1\u001b[38;5;241m.\u001b[39mpop(\u001b[38;5;124m'\u001b[39m\u001b[38;5;124mc\u001b[39m\u001b[38;5;124m'\u001b[39m)\n",
      "\u001b[1;31mKeyError\u001b[0m: 'c'"
     ]
    }
   ],
   "source": [
    "d1.pop('c')"
   ]
  },
  {
   "cell_type": "code",
   "execution_count": 20,
   "id": "2db4d3f5-5157-483f-ae2d-2046ab9ad1ff",
   "metadata": {},
   "outputs": [
    {
     "data": {
      "text/plain": [
       "2"
      ]
     },
     "execution_count": 20,
     "metadata": {},
     "output_type": "execute_result"
    }
   ],
   "source": [
    "d1.pop('b')"
   ]
  },
  {
   "cell_type": "code",
   "execution_count": 21,
   "id": "690cbe8d-e375-4280-9ebd-e51a31845bf0",
   "metadata": {},
   "outputs": [
    {
     "data": {
      "text/plain": [
       "('a', 1)"
      ]
     },
     "execution_count": 21,
     "metadata": {},
     "output_type": "execute_result"
    }
   ],
   "source": [
    "d1.popitem()"
   ]
  },
  {
   "cell_type": "code",
   "execution_count": 24,
   "id": "6c47b3f9-6d86-48f0-a825-03037cc1f0e1",
   "metadata": {},
   "outputs": [
    {
     "ename": "NameError",
     "evalue": "name 'd1' is not defined",
     "output_type": "error",
     "traceback": [
      "\u001b[1;31m---------------------------------------------------------------------------\u001b[0m",
      "\u001b[1;31mNameError\u001b[0m                                 Traceback (most recent call last)",
      "Cell \u001b[1;32mIn[24], line 1\u001b[0m\n\u001b[1;32m----> 1\u001b[0m \u001b[38;5;28;01mdel\u001b[39;00m (d1)\n",
      "\u001b[1;31mNameError\u001b[0m: name 'd1' is not defined"
     ]
    }
   ],
   "source": [
    "del (d1)"
   ]
  },
  {
   "cell_type": "code",
   "execution_count": 23,
   "id": "6cd3850b-e389-4212-bfb6-8bfdf5779b1b",
   "metadata": {},
   "outputs": [
    {
     "ename": "NameError",
     "evalue": "name 'd1' is not defined",
     "output_type": "error",
     "traceback": [
      "\u001b[1;31m---------------------------------------------------------------------------\u001b[0m",
      "\u001b[1;31mNameError\u001b[0m                                 Traceback (most recent call last)",
      "Cell \u001b[1;32mIn[23], line 1\u001b[0m\n\u001b[1;32m----> 1\u001b[0m d1\n",
      "\u001b[1;31mNameError\u001b[0m: name 'd1' is not defined"
     ]
    }
   ],
   "source": [
    "d1"
   ]
  },
  {
   "cell_type": "markdown",
   "id": "f368fba1-454a-4ff9-8a22-5faec39211ec",
   "metadata": {},
   "source": [
    "$fromkeys$-$get$"
   ]
  },
  {
   "cell_type": "code",
   "execution_count": 25,
   "id": "12848734-5f69-4292-9a95-ccd95661b3a3",
   "metadata": {},
   "outputs": [
    {
     "data": {
      "text/plain": [
       "30"
      ]
     },
     "execution_count": 25,
     "metadata": {},
     "output_type": "execute_result"
    }
   ],
   "source": [
    "d1={'a': 20, 'b': 30, 'd': 500}\n",
    "#want to access 30 value\n",
    "d1['b']"
   ]
  },
  {
   "cell_type": "code",
   "execution_count": 27,
   "id": "f5ccc620-a673-458c-bfcf-1590f3bf6067",
   "metadata": {},
   "outputs": [
    {
     "data": {
      "text/plain": [
       "30"
      ]
     },
     "execution_count": 27,
     "metadata": {},
     "output_type": "execute_result"
    }
   ],
   "source": [
    "d1.get('b')"
   ]
  },
  {
   "cell_type": "code",
   "execution_count": 28,
   "id": "1300bb81-d2b6-4a1a-b5b2-a8dbdcadb216",
   "metadata": {},
   "outputs": [],
   "source": [
    "d1.get('z')"
   ]
  },
  {
   "cell_type": "code",
   "execution_count": 30,
   "id": "fd682ead-3395-41d9-a4f1-4eaf27d2e886",
   "metadata": {},
   "outputs": [
    {
     "ename": "KeyError",
     "evalue": "'z'",
     "output_type": "error",
     "traceback": [
      "\u001b[1;31m---------------------------------------------------------------------------\u001b[0m",
      "\u001b[1;31mKeyError\u001b[0m                                  Traceback (most recent call last)",
      "Cell \u001b[1;32mIn[30], line 1\u001b[0m\n\u001b[1;32m----> 1\u001b[0m d1[\u001b[38;5;124m'\u001b[39m\u001b[38;5;124mz\u001b[39m\u001b[38;5;124m'\u001b[39m]\n",
      "\u001b[1;31mKeyError\u001b[0m: 'z'"
     ]
    }
   ],
   "source": [
    "d1['z']"
   ]
  },
  {
   "cell_type": "markdown",
   "id": "5956012f-2ef8-4b36-8f19-5dde5fa41a41",
   "metadata": {},
   "source": [
    "-how many ways we can do\n",
    "\n",
    "-what output it is returning\n",
    "\n",
    "-what is the difference\n",
    "\n",
    "-we can access the values by providing key as index & key in get methods\n",
    "\n",
    "-but if the key is not present in dictionary, key as index will give keyerror\n",
    "\n",
    "-get method will not return anything and no error"
   ]
  },
  {
   "cell_type": "markdown",
   "id": "411b9299-fa30-4f9e-89c4-1e34445fc3f0",
   "metadata": {},
   "source": [
    "**fromkeys:**"
   ]
  },
  {
   "cell_type": "markdown",
   "id": "fd250ad6-24ad-494a-8620-65f62285745f",
   "metadata": {},
   "source": [
    "-it create a new dictionary\n",
    "\n",
    "-create a new dictionary from the given sequence of elements\n",
    "\n",
    "-create new dictionary with iterable key\n",
    "\n",
    "$#something we can print by using for-loop$"
   ]
  },
  {
   "cell_type": "code",
   "execution_count": 31,
   "id": "1a6270bf-7828-4e8a-9ca6-b6a8a282f1b2",
   "metadata": {},
   "outputs": [
    {
     "data": {
      "text/plain": [
       "{'R': None, 'a': None, 'h': None, 'e': None, 'm': None}"
      ]
     },
     "execution_count": 31,
     "metadata": {},
     "output_type": "execute_result"
    }
   ],
   "source": [
    "d2=d1.fromkeys('Raheem')\n",
    "d2"
   ]
  },
  {
   "cell_type": "code",
   "execution_count": 32,
   "id": "173ce527-437e-43c9-ac41-3d47a4963fbb",
   "metadata": {},
   "outputs": [
    {
     "data": {
      "text/plain": [
       "{'R': 25, 'a': 25, 'h': 25, 'e': 25, 'm': 25}"
      ]
     },
     "execution_count": 32,
     "metadata": {},
     "output_type": "execute_result"
    }
   ],
   "source": [
    "d2=d1.fromkeys('Raheem',25)\n",
    "d2"
   ]
  },
  {
   "cell_type": "code",
   "execution_count": 33,
   "id": "5d6f6d9b-67ba-4dfa-aa4a-50bad3c0c018",
   "metadata": {},
   "outputs": [
    {
     "data": {
      "text/plain": [
       "{'a': 20, 'b': 30, 'd': 500}"
      ]
     },
     "execution_count": 33,
     "metadata": {},
     "output_type": "execute_result"
    }
   ],
   "source": [
    "d1"
   ]
  },
  {
   "cell_type": "code",
   "execution_count": 34,
   "id": "a18a3ab3-da3e-4582-9c03-6bbb373a4b07",
   "metadata": {},
   "outputs": [
    {
     "data": {
      "text/plain": [
       "'Sourav'"
      ]
     },
     "execution_count": 34,
     "metadata": {},
     "output_type": "execute_result"
    }
   ],
   "source": [
    "name='sourav'\n",
    "name.capitalize()"
   ]
  },
  {
   "cell_type": "code",
   "execution_count": 35,
   "id": "375f716f-e6ea-465b-bd07-e6bf1e417ec0",
   "metadata": {},
   "outputs": [
    {
     "data": {
      "text/plain": [
       "'sourav'"
      ]
     },
     "execution_count": 35,
     "metadata": {},
     "output_type": "execute_result"
    }
   ],
   "source": [
    "name                     #method will not update..........we need to save in some variable"
   ]
  },
  {
   "cell_type": "code",
   "execution_count": 36,
   "id": "5c74e82e-50ea-46b5-ae01-3cafcec92dd1",
   "metadata": {},
   "outputs": [
    {
     "data": {
      "text/plain": [
       "('sourav', 'Sourav')"
      ]
     },
     "execution_count": 36,
     "metadata": {},
     "output_type": "execute_result"
    }
   ],
   "source": [
    "name='sourav'\n",
    "new=name.capitalize()\n",
    "name,new"
   ]
  },
  {
   "cell_type": "code",
   "execution_count": 39,
   "id": "d6df29c7-ac37-4bfc-bb2c-8e3b659947c4",
   "metadata": {},
   "outputs": [
    {
     "data": {
      "text/plain": [
       "{1: 'odd', 3: 'odd', 5: 'odd'}"
      ]
     },
     "execution_count": 39,
     "metadata": {},
     "output_type": "execute_result"
    }
   ],
   "source": [
    "d3={}.fromkeys([1,3,5],'odd')\n",
    "d3"
   ]
  },
  {
   "cell_type": "code",
   "execution_count": 40,
   "id": "cca071e8-c53b-49a0-b3af-818d633623f6",
   "metadata": {},
   "outputs": [
    {
     "name": "stdout",
     "output_type": "stream",
     "text": [
      "1\n",
      "3\n",
      "5\n"
     ]
    }
   ],
   "source": [
    "for i in [1,3,5]:\n",
    "    print(i)"
   ]
  },
  {
   "attachments": {},
   "cell_type": "markdown",
   "id": "da1e566d-fcfb-41d9-9517-e9971d5b786b",
   "metadata": {},
   "source": [
    "$set$-$as$-$default$\n",
    "\n",
    "-return value of the key\n",
    "\n",
    "-if key is not present returns default\n"
   ]
  },
  {
   "cell_type": "code",
   "execution_count": 42,
   "id": "a61bb18b-3daf-4ca6-acfe-3f731024811e",
   "metadata": {},
   "outputs": [
    {
     "data": {
      "text/plain": [
       "{'nareshit': 'DS', 'city': None}"
      ]
     },
     "execution_count": 42,
     "metadata": {},
     "output_type": "execute_result"
    }
   ],
   "source": [
    "d1={}\n",
    "d1.setdefault('nareshit','DS')\n",
    "d1.setdefault('city')\n",
    "d1"
   ]
  },
  {
   "cell_type": "code",
   "execution_count": 43,
   "id": "4149100b-4ba5-42c5-b71b-e61044a03fa5",
   "metadata": {},
   "outputs": [
    {
     "data": {
      "text/plain": [
       "{'nareshit': 'DS'}"
      ]
     },
     "execution_count": 43,
     "metadata": {},
     "output_type": "execute_result"
    }
   ],
   "source": [
    "d2={}\n",
    "d2['nareshit']='DS'\n",
    "d2"
   ]
  },
  {
   "cell_type": "code",
   "execution_count": 44,
   "id": "8342b090-dfbd-45a7-bc69-54c503fb0a55",
   "metadata": {},
   "outputs": [
    {
     "ename": "KeyError",
     "evalue": "'city'",
     "output_type": "error",
     "traceback": [
      "\u001b[1;31m---------------------------------------------------------------------------\u001b[0m",
      "\u001b[1;31mKeyError\u001b[0m                                  Traceback (most recent call last)",
      "Cell \u001b[1;32mIn[44], line 3\u001b[0m\n\u001b[0;32m      1\u001b[0m d2\u001b[38;5;241m=\u001b[39m{}\n\u001b[0;32m      2\u001b[0m d2[\u001b[38;5;124m'\u001b[39m\u001b[38;5;124mnareshit\u001b[39m\u001b[38;5;124m'\u001b[39m]\u001b[38;5;241m=\u001b[39m\u001b[38;5;124m'\u001b[39m\u001b[38;5;124mDS\u001b[39m\u001b[38;5;124m'\u001b[39m\n\u001b[1;32m----> 3\u001b[0m d2[\u001b[38;5;124m'\u001b[39m\u001b[38;5;124mcity\u001b[39m\u001b[38;5;124m'\u001b[39m]\n\u001b[0;32m      4\u001b[0m d2\n",
      "\u001b[1;31mKeyError\u001b[0m: 'city'"
     ]
    }
   ],
   "source": [
    "d2={}\n",
    "d2['nareshit']='DS'\n",
    "d2['city']\n",
    "d2"
   ]
  },
  {
   "cell_type": "code",
   "execution_count": 48,
   "id": "e15fb3cb-9e3b-479e-b364-e51a6fc50c56",
   "metadata": {},
   "outputs": [
    {
     "data": {
      "text/plain": [
       "{'nareshit': ['DS', 'MLops', 'DE'], 'city': None}"
      ]
     },
     "execution_count": 48,
     "metadata": {},
     "output_type": "execute_result"
    }
   ],
   "source": [
    "d1={}\n",
    "d1.setdefault('nareshit','DS')\n",
    "d1.setdefault('city')\n",
    "d1.setdefault('nareshit',['DS','MLops','DE'])\n",
    "d1['nareshit']=['DS','MLops','DE']\n",
    "d1.setdefault('city','hyd')\n",
    "d1"
   ]
  },
  {
   "cell_type": "markdown",
   "id": "12f210d5-b121-40e1-b4a8-08fa55ef557e",
   "metadata": {},
   "source": [
    "d1={}\n",
    "d1.setdefault('city')\n",
    "d1.setdefault('city','hyd')\n",
    "d1"
   ]
  },
  {
   "cell_type": "markdown",
   "id": "e295d964-d896-4b5b-bd80-c428983acc10",
   "metadata": {},
   "source": [
    "$update$\n",
    "\n",
    "-it inserts the particular items to the dictionary"
   ]
  },
  {
   "cell_type": "code",
   "execution_count": 50,
   "id": "b048cd60-6086-44c5-9020-29421404b147",
   "metadata": {},
   "outputs": [
    {
     "name": "stdout",
     "output_type": "stream",
     "text": [
      "{'a': 1, 'b': 7, 'c': 5, 'd': 9}\n"
     ]
    }
   ],
   "source": [
    "d1={'a': 1, 'b': 4, 'c': 5}\n",
    "d2={'b':7, 'd':9}\n",
    "d1.update(d2)\n",
    "print(d1)"
   ]
  },
  {
   "cell_type": "code",
   "execution_count": 52,
   "id": "8fa38b78-df65-4b21-a4c4-d47362a22fd7",
   "metadata": {},
   "outputs": [
    {
     "data": {
      "text/plain": [
       "[1, 4, 5, 4, 9]"
      ]
     },
     "execution_count": 52,
     "metadata": {},
     "output_type": "execute_result"
    }
   ],
   "source": [
    "l1=[1,4,5]\n",
    "l2=[4,9]\n",
    "l1.extend(l2)\n",
    "l1                  #list duplicates r allowed but in Dictionary duplicates r not allowed"
   ]
  },
  {
   "cell_type": "code",
   "execution_count": 54,
   "id": "671119e1-ce3d-4fea-a7cc-575b069c2f75",
   "metadata": {},
   "outputs": [
    {
     "name": "stdout",
     "output_type": "stream",
     "text": [
      "{'b': 4, 'd': 9, 'a': 1, 'c': 5}\n"
     ]
    }
   ],
   "source": [
    "d1={'a': 1, 'b': 4, 'c': 5}\n",
    "d2={'b':7, 'd':9}\n",
    "d2.update(d1)\n",
    "print(d2)                 #update method will update a dictionary with elements from another dictionary. It modifies the dictionary."
   ]
  },
  {
   "cell_type": "code",
   "execution_count": 55,
   "id": "3963a271-5c29-47d4-a446-3fe14b09759e",
   "metadata": {},
   "outputs": [
    {
     "data": {
      "text/plain": [
       "{1: 2, 2: 3}"
      ]
     },
     "execution_count": 55,
     "metadata": {},
     "output_type": "execute_result"
    }
   ],
   "source": [
    "t1=[(1,2),(2,3)]\n",
    "d1={}\n",
    "d1.update(t1)\n",
    "d1"
   ]
  },
  {
   "cell_type": "code",
   "execution_count": null,
   "id": "ebf2a598-ebe3-4d05-9c80-8920320fdab4",
   "metadata": {},
   "outputs": [],
   "source": []
  }
 ],
 "metadata": {
  "kernelspec": {
   "display_name": "Python 3 (ipykernel)",
   "language": "python",
   "name": "python3"
  },
  "language_info": {
   "codemirror_mode": {
    "name": "ipython",
    "version": 3
   },
   "file_extension": ".py",
   "mimetype": "text/x-python",
   "name": "python",
   "nbconvert_exporter": "python",
   "pygments_lexer": "ipython3",
   "version": "3.12.4"
  }
 },
 "nbformat": 4,
 "nbformat_minor": 5
}
