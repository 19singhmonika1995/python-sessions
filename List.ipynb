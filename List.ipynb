{
 "cells": [
  {
   "cell_type": "code",
   "execution_count": 10,
   "id": "bb4fb06f-f4ca-4fb3-a1a2-7d53bfa8efcb",
   "metadata": {},
   "outputs": [
    {
     "data": {
      "text/plain": [
       "[1, 2, 3, 4]"
      ]
     },
     "execution_count": 10,
     "metadata": {},
     "output_type": "execute_result"
    }
   ],
   "source": [
    "list1=[1,2,3,4]\n",
    "list1                                 #we can write numbers"
   ]
  },
  {
   "cell_type": "code",
   "execution_count": 9,
   "id": "6f2ecac8-53a2-4b7a-9796-c4976ecf8842",
   "metadata": {},
   "outputs": [
    {
     "data": {
      "text/plain": [
       "['A', 'B', 'C', 'D']"
      ]
     },
     "execution_count": 9,
     "metadata": {},
     "output_type": "execute_result"
    }
   ],
   "source": [
    "list2=['A','B','C','D']\n",
    "list2                                 #we can write strings"
   ]
  },
  {
   "cell_type": "code",
   "execution_count": 4,
   "id": "cdf41ef6-4ec4-4f79-946a-601cc72fd940",
   "metadata": {},
   "outputs": [
    {
     "data": {
      "text/plain": [
       "[1, 2, 3, 4, 'A', 'B', 'C', 'D']"
      ]
     },
     "execution_count": 4,
     "metadata": {},
     "output_type": "execute_result"
    }
   ],
   "source": [
    "list3=[1,2,3,4,'A','B','C','D']\n",
    "list3"
   ]
  },
  {
   "cell_type": "code",
   "execution_count": 11,
   "id": "a76d4e13-a666-4622-ad80-d659ab4b7092",
   "metadata": {},
   "outputs": [
    {
     "data": {
      "text/plain": [
       "[1, 'Apple', 10.5, (10+20j), True]"
      ]
     },
     "execution_count": 11,
     "metadata": {},
     "output_type": "execute_result"
    }
   ],
   "source": [
    "list4=[1,'Apple',10.5,(10+20j),True]\n",
    "list4                                              #heterogeneous(different) datatypes are allowed"
   ]
  },
  {
   "cell_type": "code",
   "execution_count": 12,
   "id": "4a10948e-49b9-4ffc-88f0-34df1e3ec6a8",
   "metadata": {},
   "outputs": [
    {
     "data": {
      "text/plain": [
       "[100, 100, 100]"
      ]
     },
     "execution_count": 12,
     "metadata": {},
     "output_type": "execute_result"
    }
   ],
   "source": [
    "list5=[100,100,100]\n",
    "list5                                    #duplicates are allowed"
   ]
  },
  {
   "cell_type": "code",
   "execution_count": 8,
   "id": "deb0158c-e642-44dc-9fd3-32031e75358b",
   "metadata": {},
   "outputs": [
    {
     "data": {
      "text/plain": [
       "[[1, 2, 3, 4]]"
      ]
     },
     "execution_count": 8,
     "metadata": {},
     "output_type": "execute_result"
    }
   ],
   "source": [
    "list6=[[1,2,3,4]]\n",
    "list6                               #list in list also works"
   ]
  },
  {
   "cell_type": "markdown",
   "id": "b7860252-59a1-46ce-b3ef-7c7442f9538e",
   "metadata": {},
   "source": [
    "**type**"
   ]
  },
  {
   "cell_type": "code",
   "execution_count": 13,
   "id": "84ca54fc-ef3e-4a80-aa41-e50680a54ef1",
   "metadata": {},
   "outputs": [
    {
     "data": {
      "text/plain": [
       "list"
      ]
     },
     "execution_count": 13,
     "metadata": {},
     "output_type": "execute_result"
    }
   ],
   "source": [
    "type(list1)"
   ]
  },
  {
   "cell_type": "code",
   "execution_count": 15,
   "id": "3a87b429-4429-47b4-a9c6-874b396e7598",
   "metadata": {},
   "outputs": [
    {
     "data": {
      "text/plain": [
       "list"
      ]
     },
     "execution_count": 15,
     "metadata": {},
     "output_type": "execute_result"
    }
   ],
   "source": [
    "type(list2)\n",
    "type(list3)\n",
    "type(list4)\n",
    "type(list5)\n",
    "type(list6)"
   ]
  },
  {
   "cell_type": "markdown",
   "id": "2834274f-c3c7-4258-8784-e24057f63ae5",
   "metadata": {},
   "source": [
    "**max**"
   ]
  },
  {
   "cell_type": "code",
   "execution_count": 18,
   "id": "783a7d43-bec6-40be-9370-f49ee4c4984f",
   "metadata": {},
   "outputs": [
    {
     "data": {
      "text/plain": [
       "4"
      ]
     },
     "execution_count": 18,
     "metadata": {},
     "output_type": "execute_result"
    }
   ],
   "source": [
    "max(list1)\n",
    "\n"
   ]
  },
  {
   "cell_type": "code",
   "execution_count": 19,
   "id": "ed12290b-7c0c-4d77-b5bd-0f3cc2411f57",
   "metadata": {},
   "outputs": [
    {
     "data": {
      "text/plain": [
       "'D'"
      ]
     },
     "execution_count": 19,
     "metadata": {},
     "output_type": "execute_result"
    }
   ],
   "source": [
    "max(list2)\n"
   ]
  },
  {
   "cell_type": "code",
   "execution_count": 24,
   "id": "8b9372d9-96b0-4fa2-b4c1-5543c9a935a9",
   "metadata": {},
   "outputs": [
    {
     "ename": "TypeError",
     "evalue": "'>' not supported between instances of 'str' and 'int'",
     "output_type": "error",
     "traceback": [
      "\u001b[1;31m---------------------------------------------------------------------------\u001b[0m",
      "\u001b[1;31mTypeError\u001b[0m                                 Traceback (most recent call last)",
      "Cell \u001b[1;32mIn[24], line 1\u001b[0m\n\u001b[1;32m----> 1\u001b[0m \u001b[38;5;28mmax\u001b[39m(list3)\n",
      "\u001b[1;31mTypeError\u001b[0m: '>' not supported between instances of 'str' and 'int'"
     ]
    }
   ],
   "source": [
    "max(list3)\n",
    "                              #error becoz we cant compare different datatypes"
   ]
  },
  {
   "cell_type": "code",
   "execution_count": 21,
   "id": "9540534d-4cb7-4c3e-a85c-f9f9b91dc666",
   "metadata": {},
   "outputs": [
    {
     "ename": "TypeError",
     "evalue": "'>' not supported between instances of 'str' and 'int'",
     "output_type": "error",
     "traceback": [
      "\u001b[1;31m---------------------------------------------------------------------------\u001b[0m",
      "\u001b[1;31mTypeError\u001b[0m                                 Traceback (most recent call last)",
      "Cell \u001b[1;32mIn[21], line 1\u001b[0m\n\u001b[1;32m----> 1\u001b[0m \u001b[38;5;28mmax\u001b[39m(list4)\n",
      "\u001b[1;31mTypeError\u001b[0m: '>' not supported between instances of 'str' and 'int'"
     ]
    }
   ],
   "source": [
    "max(list4)\n"
   ]
  },
  {
   "cell_type": "code",
   "execution_count": 22,
   "id": "796142e4-c409-4208-b389-aaacd8af4e1a",
   "metadata": {},
   "outputs": [
    {
     "data": {
      "text/plain": [
       "100"
      ]
     },
     "execution_count": 22,
     "metadata": {},
     "output_type": "execute_result"
    }
   ],
   "source": [
    "max(list5)\n"
   ]
  },
  {
   "cell_type": "code",
   "execution_count": 23,
   "id": "27654d6d-3296-4cc2-a86d-c6b5a5434445",
   "metadata": {},
   "outputs": [
    {
     "data": {
      "text/plain": [
       "[1, 2, 3, 4]"
      ]
     },
     "execution_count": 23,
     "metadata": {},
     "output_type": "execute_result"
    }
   ],
   "source": [
    "max(list6)"
   ]
  },
  {
   "cell_type": "markdown",
   "id": "a2e5060b-e359-48eb-bb1d-d43d6dccd725",
   "metadata": {},
   "source": [
    "**min**"
   ]
  },
  {
   "cell_type": "code",
   "execution_count": 25,
   "id": "d1b3b7b6-66ba-40fc-b074-6bcde0860e20",
   "metadata": {},
   "outputs": [
    {
     "name": "stdout",
     "output_type": "stream",
     "text": [
      "1\n"
     ]
    }
   ],
   "source": [
    "print(min(list1))"
   ]
  },
  {
   "cell_type": "code",
   "execution_count": 26,
   "id": "ec1d752e-4904-4c0d-bc14-46549f062f84",
   "metadata": {},
   "outputs": [
    {
     "name": "stdout",
     "output_type": "stream",
     "text": [
      "A\n"
     ]
    }
   ],
   "source": [
    "print(min(list2))"
   ]
  },
  {
   "cell_type": "code",
   "execution_count": 27,
   "id": "74659c35-69d5-420f-8893-4148feeb931c",
   "metadata": {},
   "outputs": [
    {
     "ename": "TypeError",
     "evalue": "'<' not supported between instances of 'str' and 'int'",
     "output_type": "error",
     "traceback": [
      "\u001b[1;31m---------------------------------------------------------------------------\u001b[0m",
      "\u001b[1;31mTypeError\u001b[0m                                 Traceback (most recent call last)",
      "Cell \u001b[1;32mIn[27], line 1\u001b[0m\n\u001b[1;32m----> 1\u001b[0m \u001b[38;5;28mprint\u001b[39m(\u001b[38;5;28mmin\u001b[39m(list3))\n",
      "\u001b[1;31mTypeError\u001b[0m: '<' not supported between instances of 'str' and 'int'"
     ]
    }
   ],
   "source": [
    "print(min(list3))"
   ]
  },
  {
   "cell_type": "code",
   "execution_count": 28,
   "id": "7fca29d7-f7ba-41f4-9785-0d7171ec821c",
   "metadata": {},
   "outputs": [
    {
     "ename": "TypeError",
     "evalue": "'<' not supported between instances of 'str' and 'int'",
     "output_type": "error",
     "traceback": [
      "\u001b[1;31m---------------------------------------------------------------------------\u001b[0m",
      "\u001b[1;31mTypeError\u001b[0m                                 Traceback (most recent call last)",
      "Cell \u001b[1;32mIn[28], line 1\u001b[0m\n\u001b[1;32m----> 1\u001b[0m \u001b[38;5;28mprint\u001b[39m(\u001b[38;5;28mmin\u001b[39m(list4))\n",
      "\u001b[1;31mTypeError\u001b[0m: '<' not supported between instances of 'str' and 'int'"
     ]
    }
   ],
   "source": [
    "print(min(list4))"
   ]
  },
  {
   "cell_type": "code",
   "execution_count": 29,
   "id": "7a6a3217-ac8e-4f38-a9f0-d867e7f9a973",
   "metadata": {},
   "outputs": [
    {
     "name": "stdout",
     "output_type": "stream",
     "text": [
      "100\n"
     ]
    }
   ],
   "source": [
    "print(min(list5))"
   ]
  },
  {
   "cell_type": "code",
   "execution_count": 30,
   "id": "53a45e95-75c7-499d-b991-69c3e4a13503",
   "metadata": {},
   "outputs": [
    {
     "name": "stdout",
     "output_type": "stream",
     "text": [
      "[1, 2, 3, 4]\n"
     ]
    }
   ],
   "source": [
    "print(min(list6))"
   ]
  },
  {
   "cell_type": "markdown",
   "id": "b0e9ac4a-6e6b-4834-951c-efd2213938bd",
   "metadata": {},
   "source": [
    "**len**"
   ]
  },
  {
   "cell_type": "code",
   "execution_count": 31,
   "id": "3e4064c1-5315-4349-8087-dae00e8953ae",
   "metadata": {},
   "outputs": [
    {
     "name": "stdout",
     "output_type": "stream",
     "text": [
      "4\n"
     ]
    }
   ],
   "source": [
    "print(len(list1))"
   ]
  },
  {
   "cell_type": "code",
   "execution_count": 32,
   "id": "36146db9-d53d-45c3-9717-dfe17b4514b3",
   "metadata": {},
   "outputs": [
    {
     "name": "stdout",
     "output_type": "stream",
     "text": [
      "4\n"
     ]
    }
   ],
   "source": [
    "print(len(list2))"
   ]
  },
  {
   "cell_type": "code",
   "execution_count": 33,
   "id": "f0fd2fc0-c4eb-433e-8f5f-267f4e1b0029",
   "metadata": {},
   "outputs": [
    {
     "name": "stdout",
     "output_type": "stream",
     "text": [
      "8\n"
     ]
    }
   ],
   "source": [
    "print(len(list3))"
   ]
  },
  {
   "cell_type": "code",
   "execution_count": 34,
   "id": "1b90b172-a12e-48e4-a2ec-f059c2003e59",
   "metadata": {},
   "outputs": [
    {
     "name": "stdout",
     "output_type": "stream",
     "text": [
      "5\n"
     ]
    }
   ],
   "source": [
    "print(len(list4))"
   ]
  },
  {
   "cell_type": "code",
   "execution_count": 35,
   "id": "c446a4f3-5e5e-4f1d-bfc6-0541eb6e5ad6",
   "metadata": {},
   "outputs": [
    {
     "name": "stdout",
     "output_type": "stream",
     "text": [
      "3\n"
     ]
    }
   ],
   "source": [
    "print(len(list5))"
   ]
  },
  {
   "cell_type": "code",
   "execution_count": 36,
   "id": "ce01ec47-30b9-4f5d-b55e-4cef155e532f",
   "metadata": {},
   "outputs": [
    {
     "name": "stdout",
     "output_type": "stream",
     "text": [
      "1\n"
     ]
    }
   ],
   "source": [
    "print(len(list6))"
   ]
  },
  {
   "cell_type": "markdown",
   "id": "7ba4ff3e-8279-4c72-8fa6-f72229c59117",
   "metadata": {},
   "source": [
    "**sum**"
   ]
  },
  {
   "cell_type": "code",
   "execution_count": 38,
   "id": "616af6d2-d515-44ec-8e0d-7e3e147d4769",
   "metadata": {},
   "outputs": [
    {
     "name": "stdout",
     "output_type": "stream",
     "text": [
      "[1, 2, 3, 4]\n",
      "10\n"
     ]
    }
   ],
   "source": [
    "print(list1)\n",
    "print(sum(list1))"
   ]
  },
  {
   "cell_type": "code",
   "execution_count": 39,
   "id": "058bb2cb-334c-43a2-a483-6c9c027d8362",
   "metadata": {},
   "outputs": [
    {
     "name": "stdout",
     "output_type": "stream",
     "text": [
      "['A', 'B', 'C', 'D']\n"
     ]
    },
    {
     "ename": "TypeError",
     "evalue": "unsupported operand type(s) for +: 'int' and 'str'",
     "output_type": "error",
     "traceback": [
      "\u001b[1;31m---------------------------------------------------------------------------\u001b[0m",
      "\u001b[1;31mTypeError\u001b[0m                                 Traceback (most recent call last)",
      "Cell \u001b[1;32mIn[39], line 2\u001b[0m\n\u001b[0;32m      1\u001b[0m \u001b[38;5;28mprint\u001b[39m(list2)\n\u001b[1;32m----> 2\u001b[0m \u001b[38;5;28mprint\u001b[39m(\u001b[38;5;28msum\u001b[39m(list2))\n",
      "\u001b[1;31mTypeError\u001b[0m: unsupported operand type(s) for +: 'int' and 'str'"
     ]
    }
   ],
   "source": [
    "print(list2)\n",
    "print(sum(list2))"
   ]
  },
  {
   "cell_type": "markdown",
   "id": "b0d189eb-edae-46e6-aef4-a7fe33765ab1",
   "metadata": {},
   "source": [
    "**in**"
   ]
  },
  {
   "cell_type": "code",
   "execution_count": 40,
   "id": "e371decd-2076-4c0e-b522-92c9771e8ff1",
   "metadata": {},
   "outputs": [
    {
     "data": {
      "text/plain": [
       "[1, 2, 3, 4]"
      ]
     },
     "execution_count": 40,
     "metadata": {},
     "output_type": "execute_result"
    }
   ],
   "source": [
    "list1"
   ]
  },
  {
   "cell_type": "code",
   "execution_count": 43,
   "id": "e2931b9f-f3fb-46b6-a169-a5e35941fbdd",
   "metadata": {},
   "outputs": [
    {
     "data": {
      "text/plain": [
       "True"
      ]
     },
     "execution_count": 43,
     "metadata": {},
     "output_type": "execute_result"
    }
   ],
   "source": [
    "1 in list1\n",
    "2 in list1\n",
    "3 in list1\n",
    "4 in list1"
   ]
  },
  {
   "cell_type": "code",
   "execution_count": 45,
   "id": "d380f014-88de-4f6f-be38-8c524f9bcf69",
   "metadata": {},
   "outputs": [
    {
     "name": "stdout",
     "output_type": "stream",
     "text": [
      "1\n",
      "2\n",
      "3\n",
      "4\n"
     ]
    }
   ],
   "source": [
    "#can we iterate through for-loop?\n",
    "\n",
    "for i in list1:\n",
    "    print(i)"
   ]
  },
  {
   "cell_type": "markdown",
   "id": "33e3425d-d866-4c24-b1ff-25fe3638d0e8",
   "metadata": {},
   "source": [
    "**concatenation**"
   ]
  },
  {
   "cell_type": "code",
   "execution_count": 46,
   "id": "46c98d5a-46f9-41e5-b791-121636b557f0",
   "metadata": {},
   "outputs": [],
   "source": [
    "list1=[1,2,3,4]\n",
    "list2=['A','B','C','D']"
   ]
  },
  {
   "cell_type": "code",
   "execution_count": 47,
   "id": "467f1d3f-1330-4abb-a2ba-9a3b8a051f8b",
   "metadata": {},
   "outputs": [
    {
     "data": {
      "text/plain": [
       "[1, 2, 3, 4, 'A', 'B', 'C', 'D']"
      ]
     },
     "execution_count": 47,
     "metadata": {},
     "output_type": "execute_result"
    }
   ],
   "source": [
    "list1+list2"
   ]
  },
  {
   "cell_type": "code",
   "execution_count": 49,
   "id": "a13a87cd-25ad-4cce-aacd-40784e446d4b",
   "metadata": {},
   "outputs": [
    {
     "data": {
      "text/plain": [
       "['A', 'B', 'C', 'D', 1, 2, 3, 4]"
      ]
     },
     "execution_count": 49,
     "metadata": {},
     "output_type": "execute_result"
    }
   ],
   "source": [
    "list2+list1                        #FIFO"
   ]
  },
  {
   "cell_type": "code",
   "execution_count": 50,
   "id": "815872a1-5866-4ecc-a0dd-e21621d4c6f4",
   "metadata": {},
   "outputs": [
    {
     "ename": "TypeError",
     "evalue": "unsupported operand type(s) for -: 'list' and 'list'",
     "output_type": "error",
     "traceback": [
      "\u001b[1;31m---------------------------------------------------------------------------\u001b[0m",
      "\u001b[1;31mTypeError\u001b[0m                                 Traceback (most recent call last)",
      "Cell \u001b[1;32mIn[50], line 1\u001b[0m\n\u001b[1;32m----> 1\u001b[0m list1\u001b[38;5;241m-\u001b[39mlist2\n\u001b[0;32m      2\u001b[0m list1\u001b[38;5;241m*\u001b[39mlist2\n\u001b[0;32m      3\u001b[0m list1\u001b[38;5;241m/\u001b[39mlist2\n",
      "\u001b[1;31mTypeError\u001b[0m: unsupported operand type(s) for -: 'list' and 'list'"
     ]
    }
   ],
   "source": [
    "list1-list2\n",
    "list1*list2\n",
    "list1/list2              #GIVES ERROR"
   ]
  },
  {
   "attachments": {},
   "cell_type": "markdown",
   "id": "2b398428-45a4-45e2-b2c1-41c5ed99033a",
   "metadata": {},
   "source": [
    "**INDEX**\n",
    "\n",
    "$python index start with zero$\n",
    "\n",
    "\n",
    "\n",
    "$list3[0],list3[1],list3[2],list3[3],list3[4],list3[5]$\n",
    "\n",
    "list3(i)  where i=0,1,2,3,4..............\n",
    "\n",
    "\n",
    "\n"
   ]
  },
  {
   "cell_type": "code",
   "execution_count": 53,
   "id": "d89c2b79-da55-4d84-8c1a-a4a04e7cb6fb",
   "metadata": {},
   "outputs": [
    {
     "name": "stdout",
     "output_type": "stream",
     "text": [
      "0 A\n",
      "1 B\n",
      "2 C\n",
      "3 D\n",
      "4 1\n",
      "5 2\n",
      "6 3\n",
      "7 4\n"
     ]
    }
   ],
   "source": [
    "list3=['A', 'B', 'C', 'D', 1, 2, 3, 4]\n",
    "for i in range(len(list3)):\n",
    "    print (i,list3[i])"
   ]
  },
  {
   "cell_type": "code",
   "execution_count": 54,
   "id": "96b33547-5b07-4b39-8848-12a9b7f24d47",
   "metadata": {},
   "outputs": [
    {
     "data": {
      "text/plain": [
       "4"
      ]
     },
     "execution_count": 54,
     "metadata": {},
     "output_type": "execute_result"
    }
   ],
   "source": [
    "list3[-1]"
   ]
  },
  {
   "cell_type": "code",
   "execution_count": 56,
   "id": "90223e5a-d820-406b-a684-ad74cd46d6b2",
   "metadata": {},
   "outputs": [
    {
     "name": "stdout",
     "output_type": "stream",
     "text": [
      "positive index is:0 and negative index is-8:for an elementA\n",
      "positive index is:1 and negative index is-7:for an elementB\n",
      "positive index is:2 and negative index is-6:for an elementC\n",
      "positive index is:3 and negative index is-5:for an elementD\n",
      "positive index is:4 and negative index is-4:for an element1\n",
      "positive index is:5 and negative index is-3:for an element2\n",
      "positive index is:6 and negative index is-2:for an element3\n",
      "positive index is:7 and negative index is-1:for an element4\n"
     ]
    }
   ],
   "source": [
    "for i in range(len(list3)):\n",
    "    print('positive index is:{} and negative index is{}:for an element{}'.format(i,i-len(list3),list3[i]))"
   ]
  },
  {
   "cell_type": "code",
   "execution_count": 59,
   "id": "487f4110-21cd-4796-a081-4c6747317030",
   "metadata": {},
   "outputs": [
    {
     "name": "stdout",
     "output_type": "stream",
     "text": [
      "Ab\n",
      "Cd\n",
      "Ef\n"
     ]
    }
   ],
   "source": [
    "#WAP find the elements which are having len<3\n",
    "\n",
    "list1=['Apple','Ball','Cat','Ab','Cd','Ef']\n",
    "for i in range(len(list1)):\n",
    "    #print(list1[i])\n",
    "    if len(list1[i])<3:\n",
    "        print(list1[i])\n"
   ]
  },
  {
   "cell_type": "code",
   "execution_count": 60,
   "id": "376a7cbd-1b6c-4942-91a9-b321a85a898d",
   "metadata": {},
   "outputs": [
    {
     "name": "stdout",
     "output_type": "stream",
     "text": [
      "A#ple\n",
      "Bal#\n",
      "C#t\n"
     ]
    }
   ],
   "source": [
    "#WAP find the elements which are having #\n",
    "\n",
    "list1=['A#ple','Bal#','C#t','Ab','Cd','Ef']\n",
    "for i in list1:\n",
    "    if '#' in i:\n",
    "        print(i)\n"
   ]
  },
  {
   "cell_type": "code",
   "execution_count": 61,
   "id": "df3ea586-fefb-461a-b890-26a0a2899cd5",
   "metadata": {},
   "outputs": [
    {
     "name": "stdout",
     "output_type": "stream",
     "text": [
      "3\n"
     ]
    }
   ],
   "source": [
    "#count\n",
    "\n",
    "list1=['A#ple','Bal#','C#t','Ab','Cd','Ef']\n",
    "count=0\n",
    "for i in list1:\n",
    "    if '#' in i:\n",
    "        count=count+1\n",
    "\n",
    "print(count)\n",
    "\n"
   ]
  },
  {
   "cell_type": "code",
   "execution_count": 80,
   "id": "d0a419b7-ad2e-4f86-ab75-fae7428c3d01",
   "metadata": {},
   "outputs": [
    {
     "data": {
      "text/plain": [
       "'cherry'"
      ]
     },
     "execution_count": 80,
     "metadata": {},
     "output_type": "execute_result"
    }
   ],
   "source": [
    "list1=[[[[['cherry']]]]]\n",
    "#retrive cherry\n",
    "list1[0][0][0][0][0]"
   ]
  },
  {
   "cell_type": "code",
   "execution_count": 75,
   "id": "20375cb2-614a-4af3-a2c4-29cfdc87d4ce",
   "metadata": {},
   "outputs": [
    {
     "data": {
      "text/plain": [
       "'Ball'"
      ]
     },
     "execution_count": 75,
     "metadata": {},
     "output_type": "execute_result"
    }
   ],
   "source": [
    "list2=[1,2,3,['Apple','Ball']]\n",
    "#retrive ball\n",
    "#elements:4\n",
    "list2[3][0]\n",
    "list2[3][1]             #3=total-1"
   ]
  },
  {
   "cell_type": "code",
   "execution_count": 90,
   "id": "6dc10c73-38ea-4fcc-af65-8ccdaf7d3f64",
   "metadata": {},
   "outputs": [
    {
     "data": {
      "text/plain": [
       "'Car'"
      ]
     },
     "execution_count": 90,
     "metadata": {},
     "output_type": "execute_result"
    }
   ],
   "source": [
    "list3=[[[[[['A','B',[[[1,2,3,['Car']]]]]]]]]]\n",
    "#retrive car\n",
    "list3[0][0][0][0][0][2][0][0][3][0]"
   ]
  },
  {
   "cell_type": "code",
   "execution_count": 93,
   "id": "daa2e721-4f76-4520-aa8c-71ff7ef2ed4e",
   "metadata": {},
   "outputs": [
    {
     "data": {
      "text/plain": [
       "[100, 'B', 'C']"
      ]
     },
     "execution_count": 93,
     "metadata": {},
     "output_type": "execute_result"
    }
   ],
   "source": [
    "list1=['A','B','C']\n",
    "list1[0]=100\n",
    "list1"
   ]
  },
  {
   "cell_type": "markdown",
   "id": "2e6934e9-511a-442c-aa6d-1c48ded54f79",
   "metadata": {},
   "source": [
    "**clear-copy**"
   ]
  },
  {
   "cell_type": "code",
   "execution_count": 94,
   "id": "6d07892c-c23a-4c9e-91e3-2e9e75c21b39",
   "metadata": {},
   "outputs": [
    {
     "data": {
      "text/plain": [
       "[1, 2, 3, 4]"
      ]
     },
     "execution_count": 94,
     "metadata": {},
     "output_type": "execute_result"
    }
   ],
   "source": [
    "list1=[1,2,3,4]\n",
    "list2=list1.copy()\n",
    "list2"
   ]
  },
  {
   "cell_type": "code",
   "execution_count": 95,
   "id": "9abab398-6f05-4328-8066-4a9e2ef60bb7",
   "metadata": {},
   "outputs": [],
   "source": [
    "list1.clear()"
   ]
  },
  {
   "cell_type": "code",
   "execution_count": 96,
   "id": "1eb8d2b1-422d-4299-a459-de7e19b8e02d",
   "metadata": {},
   "outputs": [
    {
     "name": "stdout",
     "output_type": "stream",
     "text": [
      "list1: []\n"
     ]
    }
   ],
   "source": [
    "print('list1:',list1)"
   ]
  },
  {
   "cell_type": "code",
   "execution_count": 97,
   "id": "f58efe21-2da2-47fd-89be-3b438c894a49",
   "metadata": {},
   "outputs": [
    {
     "name": "stdout",
     "output_type": "stream",
     "text": [
      "list2: [1, 2, 3, 4]\n"
     ]
    }
   ],
   "source": [
    "print('list2:',list2)"
   ]
  },
  {
   "attachments": {},
   "cell_type": "markdown",
   "id": "a9f2544e-404b-46da-9cc0-e11804301911",
   "metadata": {},
   "source": [
    "**append**\n",
    "$add something at the end of written documents$\n",
    "\n",
    "\n"
   ]
  },
  {
   "cell_type": "code",
   "execution_count": 100,
   "id": "86297a43-df59-424b-bb09-92511505509e",
   "metadata": {},
   "outputs": [
    {
     "data": {
      "text/plain": [
       "[100, 200, 300]"
      ]
     },
     "execution_count": 100,
     "metadata": {},
     "output_type": "execute_result"
    }
   ],
   "source": [
    "list1=[100,200]  #[100,200,300]\n",
    "list1.append(300)\n",
    "list1"
   ]
  },
  {
   "cell_type": "code",
   "execution_count": 107,
   "id": "0eb1b63c-6765-45ae-89c6-9e9ef757ad4d",
   "metadata": {},
   "outputs": [
    {
     "data": {
      "text/plain": [
       "[100, 200, 300]"
      ]
     },
     "execution_count": 107,
     "metadata": {},
     "output_type": "execute_result"
    }
   ],
   "source": [
    "list11=[]\n",
    "list11.append(100)\n",
    "list11.append(200)\n",
    "list11.append(300)               #append exactly takes only 1 argument\n",
    "list11"
   ]
  },
  {
   "cell_type": "code",
   "execution_count": 105,
   "id": "e12e58e5-ac99-463d-8e13-84d5efc0830a",
   "metadata": {},
   "outputs": [
    {
     "name": "stdout",
     "output_type": "stream",
     "text": [
      "1\n",
      "4\n",
      "9\n",
      "16\n",
      "25\n"
     ]
    }
   ],
   "source": [
    "#input list=[1,2,3,4,5]\n",
    "#create a new list=[1,4,9,16,25]\n",
    "list1=[1,2,3,4,5]\n",
    "for i in list1:\n",
    "    print(i*i)"
   ]
  },
  {
   "cell_type": "code",
   "execution_count": 109,
   "id": "7ef6f760-5ea4-431a-8010-6286e5ee0e58",
   "metadata": {},
   "outputs": [
    {
     "data": {
      "text/plain": [
       "[1, 4, 9, 16, 25]"
      ]
     },
     "execution_count": 109,
     "metadata": {},
     "output_type": "execute_result"
    }
   ],
   "source": [
    "list1=[1,2,3,4,5]\n",
    "output=[]\n",
    "for i in list1:\n",
    "    output.append(i*i)\n",
    "\n",
    "output"
   ]
  },
  {
   "cell_type": "code",
   "execution_count": 110,
   "id": "30b957fc-3476-4af3-b170-72d4362a36e6",
   "metadata": {},
   "outputs": [
    {
     "name": "stdout",
     "output_type": "stream",
     "text": [
      "Hyderabad\n",
      "Bengaluru\n",
      "Delhi\n"
     ]
    }
   ],
   "source": [
    "list2=['hyderabad','bengaluru','delhi']\n",
    "for i in list2:\n",
    "    print(i.capitalize())"
   ]
  },
  {
   "cell_type": "code",
   "execution_count": 113,
   "id": "61aa0f33-87b7-44d6-8cad-78e1d067cebc",
   "metadata": {},
   "outputs": [
    {
     "data": {
      "text/plain": [
       "['hyde#abad', 'beng#luru']"
      ]
     },
     "execution_count": 113,
     "metadata": {},
     "output_type": "execute_result"
    }
   ],
   "source": [
    "list3=['hyde#abad','beng#luru','delhi']\n",
    "output=[]\n",
    "for i in list3:\n",
    "    if '#' in i:\n",
    "        output.append(i)\n",
    "\n",
    "output"
   ]
  },
  {
   "cell_type": "markdown",
   "id": "ee65db6b-652d-481d-9182-2d4b45a23ceb",
   "metadata": {},
   "source": [
    "**list comprehension**"
   ]
  },
  {
   "cell_type": "code",
   "execution_count": 114,
   "id": "bfa10763-aefc-4038-b9c7-c4c9eddbebc0",
   "metadata": {},
   "outputs": [
    {
     "data": {
      "text/plain": [
       "[1, 4, 9, 16, 25]"
      ]
     },
     "execution_count": 114,
     "metadata": {},
     "output_type": "execute_result"
    }
   ],
   "source": [
    "list1=[1,2,3,4,5]\n",
    "output=[]\n",
    "for i in list1:\n",
    "    output.append(i*i)\n",
    "\n",
    "output"
   ]
  },
  {
   "cell_type": "code",
   "execution_count": 115,
   "id": "3c9f0b51-07ce-4499-98f0-4fb488cf4204",
   "metadata": {},
   "outputs": [
    {
     "data": {
      "text/plain": [
       "[1, 4, 9, 16, 25]"
      ]
     },
     "execution_count": 115,
     "metadata": {},
     "output_type": "execute_result"
    }
   ],
   "source": [
    "#list comprehension means code in a single line\n",
    "\n",
    "output1=[i*i for i in list1]\n",
    "output1"
   ]
  },
  {
   "cell_type": "code",
   "execution_count": 116,
   "id": "9456a31a-f346-49b3-b1b1-914c8bbf5ca5",
   "metadata": {},
   "outputs": [
    {
     "name": "stdout",
     "output_type": "stream",
     "text": [
      "Hyderabad\n",
      "Bengaluru\n",
      "Delhi\n"
     ]
    }
   ],
   "source": [
    "list2=['hyderabad','bengaluru','delhi']\n",
    "for i in list2:\n",
    "    print(i.capitalize())"
   ]
  },
  {
   "cell_type": "code",
   "execution_count": 117,
   "id": "5544475a-ca68-4052-b0fd-b16dc5d88e69",
   "metadata": {},
   "outputs": [
    {
     "data": {
      "text/plain": [
       "['Hyderabad', 'Bengaluru', 'Delhi']"
      ]
     },
     "execution_count": 117,
     "metadata": {},
     "output_type": "execute_result"
    }
   ],
   "source": [
    "output1=[i.capitalize() for i in list2]\n",
    "output1"
   ]
  },
  {
   "cell_type": "code",
   "execution_count": 119,
   "id": "432a2f46-0759-4eab-876d-be9fc931153b",
   "metadata": {},
   "outputs": [
    {
     "name": "stdout",
     "output_type": "stream",
     "text": [
      "1\n",
      "2\n",
      "3\n",
      "4\n",
      "5\n",
      "6\n",
      "7\n",
      "8\n",
      "9\n",
      "10\n",
      "11\n",
      "12\n",
      "13\n",
      "14\n",
      "15\n",
      "16\n",
      "17\n",
      "18\n",
      "19\n",
      "20\n"
     ]
    }
   ],
   "source": [
    "for i in range(1,21):\n",
    "    print(i)                      #create a list of 20 numbers from 1 to 20"
   ]
  },
  {
   "cell_type": "code",
   "execution_count": 121,
   "id": "66b65976-553e-4ce6-9c61-b7f5e832ad21",
   "metadata": {},
   "outputs": [
    {
     "data": {
      "text/plain": [
       "[1, 2, 3, 4, 5, 6, 7, 8, 9, 10, 11, 12, 13, 14, 15, 16, 17, 18, 19, 20]"
      ]
     },
     "execution_count": 121,
     "metadata": {},
     "output_type": "execute_result"
    }
   ],
   "source": [
    "for i in range(1,21):\n",
    "    numbers=[]\n",
    "\n",
    "for i in range(1,21):\n",
    "    numbers.append(i)\n",
    "\n",
    "numbers"
   ]
  },
  {
   "cell_type": "code",
   "execution_count": 124,
   "id": "1c6a4860-4bbd-4adf-a1f8-6e207a60b5e9",
   "metadata": {},
   "outputs": [
    {
     "data": {
      "text/plain": [
       "[1, 2, 3, 4, 5, 6, 7, 8, 9, 10, 11, 12, 13, 14, 15, 16, 17, 18, 19, 20]"
      ]
     },
     "execution_count": 124,
     "metadata": {},
     "output_type": "execute_result"
    }
   ],
   "source": [
    "numbers=[i for i in range(1,21)]\n",
    "numbers"
   ]
  },
  {
   "cell_type": "markdown",
   "id": "fca10f40-e70a-441f-94e7-3f8b8d38db19",
   "metadata": {},
   "source": [
    "**list comprehension with if condition**"
   ]
  },
  {
   "cell_type": "code",
   "execution_count": 1,
   "id": "4ad13e45-c63b-4943-b62a-177872605fcb",
   "metadata": {},
   "outputs": [
    {
     "data": {
      "text/plain": [
       "['hyde#abad', 'beng#luru']"
      ]
     },
     "execution_count": 1,
     "metadata": {},
     "output_type": "execute_result"
    }
   ],
   "source": [
    "list3=['hyde#abad','beng#luru','delhi']\n",
    "output=[]\n",
    "for i in list3:\n",
    "    if '#' in i:\n",
    "        output.append(i)\n",
    "\n",
    "output"
   ]
  },
  {
   "cell_type": "code",
   "execution_count": 3,
   "id": "3a63e282-aad4-447f-b995-b3722fd2b3c7",
   "metadata": {},
   "outputs": [
    {
     "data": {
      "text/plain": [
       "['hyde#abad', 'beng#luru']"
      ]
     },
     "execution_count": 3,
     "metadata": {},
     "output_type": "execute_result"
    }
   ],
   "source": [
    "output1=[i for i in list3 if '#' in i]   #[<output><for loop><if-condition>]\n",
    "output1"
   ]
  },
  {
   "cell_type": "code",
   "execution_count": 4,
   "id": "2369bbbb-c54a-408b-b644-7225d3f7f4f8",
   "metadata": {},
   "outputs": [
    {
     "data": {
      "text/plain": [
       "['ac', 'a']"
      ]
     },
     "execution_count": 4,
     "metadata": {},
     "output_type": "execute_result"
    }
   ],
   "source": [
    "list4=['abcd','abc','ac','a']\n",
    "#elements less than 3?\n",
    "#['ac','a']\n",
    "\n",
    "output=[i for i in list4 if len(i)<3]\n",
    "output"
   ]
  },
  {
   "cell_type": "markdown",
   "id": "61bd0957-887a-4390-98f4-45a5a39c530b",
   "metadata": {},
   "source": [
    "**if-else condition**"
   ]
  },
  {
   "cell_type": "code",
   "execution_count": 5,
   "id": "566495c6-f7a8-4a78-a7a4-0339883b6e9a",
   "metadata": {},
   "outputs": [
    {
     "name": "stdout",
     "output_type": "stream",
     "text": [
      "even:2\n",
      "even:4\n",
      "even:6\n"
     ]
    }
   ],
   "source": [
    "list1=[1,2,3,4,5,6]\n",
    "for i in list1:\n",
    "    if i%2==0:\n",
    "        print(\"even:{}\".format(i))"
   ]
  },
  {
   "cell_type": "code",
   "execution_count": 6,
   "id": "5c17ca6c-4185-43bb-9275-7542b281108f",
   "metadata": {},
   "outputs": [
    {
     "name": "stdout",
     "output_type": "stream",
     "text": [
      "odd:1\n",
      "even:2\n",
      "odd:3\n",
      "even:4\n",
      "odd:5\n",
      "even:6\n"
     ]
    }
   ],
   "source": [
    "list1=[1,2,3,4,5,6]\n",
    "for i in list1:\n",
    "    if i%2==0:\n",
    "        print(\"even:{}\".format(i))\n",
    "\n",
    "    else:\n",
    "         print(\"odd:{}\".format(i))                       #METHOD 1"
   ]
  },
  {
   "cell_type": "code",
   "execution_count": 11,
   "id": "0db5ce9c-9d35-4bcc-908b-bc1c09517601",
   "metadata": {},
   "outputs": [
    {
     "data": {
      "text/plain": [
       "['odd:1', 'even:2', 'odd:3', 'even:4', 'odd:5', 'even:6']"
      ]
     },
     "execution_count": 11,
     "metadata": {},
     "output_type": "execute_result"
    }
   ],
   "source": [
    "#METHOD 2\n",
    "list1=[1,2,3,4,5,6]\n",
    "output=[]\n",
    "for i in list1:\n",
    "    if i%2==0:\n",
    "        output.append(\"even:{}\".format(i))\n",
    "\n",
    "    else:\n",
    "         output.append(\"odd:{}\".format(i)) \n",
    "\n",
    "output"
   ]
  },
  {
   "cell_type": "code",
   "execution_count": 13,
   "id": "a5e3f05f-3713-4765-9c0c-bb2c941bdc62",
   "metadata": {},
   "outputs": [
    {
     "data": {
      "text/plain": [
       "['odd:1', 'even:2', 'odd:3', 'even:4', 'odd:5', 'even:6']"
      ]
     },
     "execution_count": 13,
     "metadata": {},
     "output_type": "execute_result"
    }
   ],
   "source": [
    "#METHOD 3\n",
    "#[<if-output><if-condition>else<else-output><for loop>]\n",
    "\n",
    "[\"even:{}\".format(i) if i%2==0 else \"odd:{}\".format(i) for i in list1]\n",
    "\n"
   ]
  },
  {
   "cell_type": "markdown",
   "id": "e36dac5e-b7b6-40ca-998e-6180e68c0e1c",
   "metadata": {},
   "source": [
    "**count**"
   ]
  },
  {
   "cell_type": "code",
   "execution_count": 14,
   "id": "494355a8-1b09-4fb8-8c27-884414e4015e",
   "metadata": {},
   "outputs": [
    {
     "data": {
      "text/plain": [
       "2"
      ]
     },
     "execution_count": 14,
     "metadata": {},
     "output_type": "execute_result"
    }
   ],
   "source": [
    "list1=[1,2,3,'A','B','B','C']\n",
    "list1.count('B')"
   ]
  },
  {
   "cell_type": "code",
   "execution_count": 17,
   "id": "68748337-5f08-45c5-bb9e-e9866a685e39",
   "metadata": {},
   "outputs": [
    {
     "name": "stdout",
     "output_type": "stream",
     "text": [
      "2\n"
     ]
    }
   ],
   "source": [
    "count=0\n",
    "for i in list1:\n",
    "    if i=='B':\n",
    "        count=count+1\n",
    "\n",
    "print(count)"
   ]
  },
  {
   "cell_type": "markdown",
   "id": "4b536280-81e6-4bb6-a58a-bb63c9f130d6",
   "metadata": {},
   "source": [
    "**extend**"
   ]
  },
  {
   "cell_type": "code",
   "execution_count": 19,
   "id": "15d50872-f29a-4e5f-8db9-f317c92b4176",
   "metadata": {},
   "outputs": [
    {
     "data": {
      "text/plain": [
       "['A', 'B', 'C', 1, 2, 3]"
      ]
     },
     "execution_count": 19,
     "metadata": {},
     "output_type": "execute_result"
    }
   ],
   "source": [
    "list1=['A','B','C']\n",
    "list2=[1,2,3]\n",
    "list1.extend(list2)\n",
    "list1"
   ]
  },
  {
   "cell_type": "markdown",
   "id": "f2541736-08ec-436f-a7da-ef87a5eb3534",
   "metadata": {},
   "source": [
    "**extend vs append vs concat**"
   ]
  },
  {
   "cell_type": "code",
   "execution_count": 23,
   "id": "8799ac99-0d63-45c3-bc12-5b271bbd8c4d",
   "metadata": {},
   "outputs": [
    {
     "data": {
      "text/plain": [
       "['A', 'B', 'C', 1, 2, 3]"
      ]
     },
     "execution_count": 23,
     "metadata": {},
     "output_type": "execute_result"
    }
   ],
   "source": [
    "#extend: will update the list by adding new elements, the result also save in a same list\n",
    "\n",
    "list1=['A','B','C']\n",
    "list2=[1,2,3]\n",
    "list1.extend(list2)\n",
    "list1"
   ]
  },
  {
   "cell_type": "code",
   "execution_count": 24,
   "id": "67684c09-f892-442e-bdc0-50e0d53de9da",
   "metadata": {},
   "outputs": [
    {
     "data": {
      "text/plain": [
       "['A', 'B', 'C', [1, 2, 3]]"
      ]
     },
     "execution_count": 24,
     "metadata": {},
     "output_type": "execute_result"
    }
   ],
   "source": [
    "#append: will add the element at last, that element can be any type\n",
    "\n",
    "list1=['A','B','C']\n",
    "list2=[1,2,3]\n",
    "list1.append(list2)\n",
    "list1"
   ]
  },
  {
   "cell_type": "code",
   "execution_count": 25,
   "id": "ff1b52bf-92d8-4e42-998b-15728ee622fe",
   "metadata": {},
   "outputs": [
    {
     "data": {
      "text/plain": [
       "['A', 'B', 'C', 1, 2, 3]"
      ]
     },
     "execution_count": 25,
     "metadata": {},
     "output_type": "execute_result"
    }
   ],
   "source": [
    "#concat: will add 2 list, but the result will not update in a same list\n",
    "\n",
    "list1=['A','B','C']\n",
    "list2=[1,2,3]\n",
    "list1+list2\n"
   ]
  },
  {
   "attachments": {},
   "cell_type": "markdown",
   "id": "afb974dd-a988-46ec-82d1-7870dcc37313",
   "metadata": {},
   "source": [
    "**ITERATOR**===================>LOOP==============>STRING, LOOP\n",
    "\n",
    "**THE ELEMENTS WE CAN PRINT USING FOR LOOP**\n",
    "\n",
    "\n",
    "SUPPOSE,\n",
    "\n",
    "\n",
    "**string='python' we can print each letter using for loop**\n",
    "\n",
    "\n",
    "**list1=[1,2,3] we can print each letter using for loop**\n",
    "\n",
    "\n",
    "\n",
    "\n"
   ]
  },
  {
   "cell_type": "code",
   "execution_count": 26,
   "id": "8ec12062-2244-417b-8ad7-766f6cc8b36e",
   "metadata": {},
   "outputs": [
    {
     "name": "stdout",
     "output_type": "stream",
     "text": [
      "n\n",
      "o\n",
      "h\n",
      "t\n",
      "y\n",
      "p\n"
     ]
    }
   ],
   "source": [
    "val=reversed('python')\n",
    "for i in val:\n",
    "    print(i)"
   ]
  },
  {
   "cell_type": "code",
   "execution_count": 27,
   "id": "d3cae1e5-d461-4757-ac2c-e7a84f5c28d1",
   "metadata": {},
   "outputs": [
    {
     "data": {
      "text/plain": [
       "[1, 2, 3, 1, 2, 3, 4]"
      ]
     },
     "execution_count": 27,
     "metadata": {},
     "output_type": "execute_result"
    }
   ],
   "source": [
    "list1=[1,2,3]\n",
    "list1.extend([1,2,3,4])\n",
    "list1"
   ]
  },
  {
   "cell_type": "code",
   "execution_count": 28,
   "id": "b9edef7b-030a-4f3d-9682-29606d93c714",
   "metadata": {},
   "outputs": [
    {
     "data": {
      "text/plain": [
       "[1, 2, 3, 'p', 'y', 't', 'h', 'o', 'n']"
      ]
     },
     "execution_count": 28,
     "metadata": {},
     "output_type": "execute_result"
    }
   ],
   "source": [
    "list1=[1,2,3]\n",
    "list1.extend('python')\n",
    "list1"
   ]
  },
  {
   "cell_type": "code",
   "execution_count": 29,
   "id": "957b4925-cfcb-4762-bafb-517208751266",
   "metadata": {},
   "outputs": [
    {
     "data": {
      "text/plain": [
       "[1, 2, 3, 'python']"
      ]
     },
     "execution_count": 29,
     "metadata": {},
     "output_type": "execute_result"
    }
   ],
   "source": [
    "list1=[1,2,3]\n",
    "list1.append('python')\n",
    "list1"
   ]
  },
  {
   "cell_type": "code",
   "execution_count": 30,
   "id": "babce62b-dbdc-458f-b750-a07aedc89411",
   "metadata": {},
   "outputs": [
    {
     "data": {
      "text/plain": [
       "[1, 2, 3, 'p', 'y', 't', 'h', 'o', 'n', 'python']"
      ]
     },
     "execution_count": 30,
     "metadata": {},
     "output_type": "execute_result"
    }
   ],
   "source": [
    "list1=[1,2,3]\n",
    "list1.extend('python')\n",
    "list1.append('python')\n",
    "list1"
   ]
  },
  {
   "cell_type": "markdown",
   "id": "75dd9493-bc8d-4cd2-9590-e09d6f67cf2b",
   "metadata": {},
   "source": [
    "**pop-remove-del**"
   ]
  },
  {
   "cell_type": "code",
   "execution_count": 37,
   "id": "305a4a86-473f-43f8-bfd2-f91aa2bbd9e4",
   "metadata": {},
   "outputs": [
    {
     "data": {
      "text/plain": [
       "'python'"
      ]
     },
     "execution_count": 37,
     "metadata": {},
     "output_type": "execute_result"
    }
   ],
   "source": [
    "list1=[1, 2, 3, 'p', 'y', 't', 'h', 'o', 'n', 'python']\n",
    "list1.pop()"
   ]
  },
  {
   "cell_type": "code",
   "execution_count": 38,
   "id": "a4dd6e3b-9ac6-4501-84b7-2d45bdf2e916",
   "metadata": {},
   "outputs": [
    {
     "data": {
      "text/plain": [
       "[1, 2, 3, 'p', 'y', 't', 'h', 'o', 'n']"
      ]
     },
     "execution_count": 38,
     "metadata": {},
     "output_type": "execute_result"
    }
   ],
   "source": [
    "list1=[1, 2, 3, 'p', 'y', 't', 'h', 'o', 'n', 'python']\n",
    "list1.pop()\n",
    "list1"
   ]
  },
  {
   "cell_type": "code",
   "execution_count": 39,
   "id": "92aa6f54-52e9-4db3-bd85-a87c2a1696ab",
   "metadata": {},
   "outputs": [
    {
     "data": {
      "text/plain": [
       "'t'"
      ]
     },
     "execution_count": 39,
     "metadata": {},
     "output_type": "execute_result"
    }
   ],
   "source": [
    "#pop remove the last element and return the item\n",
    "#inside bracket default argument is there index=-1(last value)\n",
    "#if i provide any index,it will remove that element\n",
    "list1.pop(5)\n"
   ]
  },
  {
   "cell_type": "code",
   "execution_count": 41,
   "id": "3f2de309-4616-47c7-9831-16a9f6832cec",
   "metadata": {},
   "outputs": [
    {
     "data": {
      "text/plain": [
       "'t'"
      ]
     },
     "execution_count": 41,
     "metadata": {},
     "output_type": "execute_result"
    }
   ],
   "source": [
    "#it is also returning, which element it is removing\n",
    "\n",
    "list1=[1, 2, 3, 'p', 'y', 't', 'h', 'o', 'n', 'python']\n",
    "list1.pop(list1.index('t'))"
   ]
  },
  {
   "cell_type": "markdown",
   "id": "a81b4d5f-a440-42e4-9829-a27d28446f22",
   "metadata": {},
   "source": [
    "**remove**"
   ]
  },
  {
   "cell_type": "code",
   "execution_count": 43,
   "id": "fe4e4b9a-2244-4c8d-bfdd-7a4423dde0f7",
   "metadata": {},
   "outputs": [
    {
     "data": {
      "text/plain": [
       "[1, 2, 3, 'p', 'y', 't', 'o', 'n', 'python']"
      ]
     },
     "execution_count": 43,
     "metadata": {},
     "output_type": "execute_result"
    }
   ],
   "source": [
    "list1=[1, 2, 3, 'p', 'y', 't', 'h', 'o', 'n', 'python']\n",
    "list1.remove('h')\n",
    "list1"
   ]
  },
  {
   "cell_type": "code",
   "execution_count": 44,
   "id": "5256b577-adb4-4bbc-8bce-1bcb7442ec12",
   "metadata": {},
   "outputs": [
    {
     "data": {
      "text/plain": [
       "[200, 100, 300]"
      ]
     },
     "execution_count": 44,
     "metadata": {},
     "output_type": "execute_result"
    }
   ],
   "source": [
    "#remove 1st occurence of value and raises valueerror if the value is not present\n",
    "\n",
    "list1=[100,200,100,300]    #duplicates are allowed\n",
    "list1.remove(100)          #1st occurence will gone\n",
    "list1"
   ]
  },
  {
   "attachments": {},
   "cell_type": "markdown",
   "id": "a9a499dc-3b19-4d1f-89d2-aefd915c3c6a",
   "metadata": {},
   "source": [
    "**del**\n",
    "\n"
   ]
  },
  {
   "cell_type": "code",
   "execution_count": 50,
   "id": "c75cc987-b963-4531-96e6-c5fddbf9bbb2",
   "metadata": {},
   "outputs": [
    {
     "data": {
      "text/plain": [
       "[100, 200, 300]"
      ]
     },
     "execution_count": 50,
     "metadata": {},
     "output_type": "execute_result"
    }
   ],
   "source": [
    "#del is a keyword(green color)\n",
    "#apply for strings,list,dictionary\n",
    "list1=[100,200,100,300] \n",
    "del list1[2]\n",
    "list1"
   ]
  },
  {
   "cell_type": "code",
   "execution_count": 51,
   "id": "fac38e02-75ca-41a6-b77e-8b60a2dfa360",
   "metadata": {},
   "outputs": [
    {
     "ename": "NameError",
     "evalue": "name 'list1' is not defined",
     "output_type": "error",
     "traceback": [
      "\u001b[1;31m---------------------------------------------------------------------------\u001b[0m",
      "\u001b[1;31mNameError\u001b[0m                                 Traceback (most recent call last)",
      "Cell \u001b[1;32mIn[51], line 3\u001b[0m\n\u001b[0;32m      1\u001b[0m list1\u001b[38;5;241m=\u001b[39m[\u001b[38;5;241m100\u001b[39m,\u001b[38;5;241m200\u001b[39m,\u001b[38;5;241m100\u001b[39m,\u001b[38;5;241m300\u001b[39m] \n\u001b[0;32m      2\u001b[0m \u001b[38;5;28;01mdel\u001b[39;00m (list1)\n\u001b[1;32m----> 3\u001b[0m list1\n",
      "\u001b[1;31mNameError\u001b[0m: name 'list1' is not defined"
     ]
    }
   ],
   "source": [
    "list1=[100,200,100,300] \n",
    "del (list1)\n",
    "list1"
   ]
  },
  {
   "cell_type": "code",
   "execution_count": 52,
   "id": "39469322-47c3-4789-aef5-af22c6704215",
   "metadata": {},
   "outputs": [
    {
     "data": {
      "text/plain": [
       "4"
      ]
     },
     "execution_count": 52,
     "metadata": {},
     "output_type": "execute_result"
    }
   ],
   "source": [
    "list1=[1,2,3,4,2,6]\n",
    "f_i=list1.index(2)\n",
    "list1.index(2,f_i+1)"
   ]
  },
  {
   "cell_type": "markdown",
   "id": "f68c0b83-ef14-4a3e-b249-6897101eee4a",
   "metadata": {},
   "source": [
    "**zip**"
   ]
  },
  {
   "cell_type": "code",
   "execution_count": 53,
   "id": "c33a12ec-f75c-4720-82fd-bd4328882446",
   "metadata": {},
   "outputs": [
    {
     "name": "stdout",
     "output_type": "stream",
     "text": [
      "Ram 25\n",
      "Robert 30\n",
      "Raheem 35\n"
     ]
    }
   ],
   "source": [
    "list1=['Ram','Robert','Raheem']\n",
    "list2=[25,30,35]\n",
    "\n",
    "for i,j in zip(list1,list2):\n",
    "    print(i,j)"
   ]
  },
  {
   "cell_type": "code",
   "execution_count": 55,
   "id": "1f3d41d1-f95b-4c95-a0d8-c7286cee0432",
   "metadata": {},
   "outputs": [
    {
     "name": "stdout",
     "output_type": "stream",
     "text": [
      "Ram age is 25\n",
      "Robert age is 30\n",
      "Raheem age is 35\n"
     ]
    }
   ],
   "source": [
    "list1=['Ram','Robert','Raheem']\n",
    "list2=[25,30,35]\n",
    "\n",
    "for i,j in zip(list1,list2):\n",
    "    print(\"{} age is {}\".format(i,j))"
   ]
  },
  {
   "cell_type": "code",
   "execution_count": 56,
   "id": "bbdbc032-0835-4e4b-8ac9-6b51ea10514e",
   "metadata": {},
   "outputs": [
    {
     "data": {
      "text/plain": [
       "[125, 230, 335]"
      ]
     },
     "execution_count": 56,
     "metadata": {},
     "output_type": "execute_result"
    }
   ],
   "source": [
    "list1=[100,200,300]\n",
    "list2=[25,30,35]\n",
    "output=[i+j for i,j in zip (list1,list2)]\n",
    "output"
   ]
  },
  {
   "cell_type": "code",
   "execution_count": null,
   "id": "81f07b92-7e84-48aa-ad92-5ccce0937b24",
   "metadata": {},
   "outputs": [],
   "source": []
  }
 ],
 "metadata": {
  "kernelspec": {
   "display_name": "Python 3 (ipykernel)",
   "language": "python",
   "name": "python3"
  },
  "language_info": {
   "codemirror_mode": {
    "name": "ipython",
    "version": 3
   },
   "file_extension": ".py",
   "mimetype": "text/x-python",
   "name": "python",
   "nbconvert_exporter": "python",
   "pygments_lexer": "ipython3",
   "version": "3.12.4"
  }
 },
 "nbformat": 4,
 "nbformat_minor": 5
}
