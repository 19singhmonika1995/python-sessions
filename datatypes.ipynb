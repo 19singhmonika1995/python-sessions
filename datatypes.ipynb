{
 "cells": [
  {
   "cell_type": "markdown",
   "id": "2ff53fd8-c00b-4cc6-8038-dc4cd716ef5b",
   "metadata": {},
   "source": [
    "integer: int\n",
    "float: float\n",
    "string: str\n",
    "boolean: bool\n",
    "complex conjugate: complex"
   ]
  },
  {
   "cell_type": "code",
   "execution_count": null,
   "id": "70fb90a2-c565-4e05-a239-2633e845630c",
   "metadata": {},
   "outputs": [],
   "source": []
  },
  {
   "cell_type": "markdown",
   "id": "3da22bf5-bccf-48b9-a87d-4bed01b3f821",
   "metadata": {},
   "source": [
    "*****integer*****"
   ]
  },
  {
   "cell_type": "code",
   "execution_count": 1,
   "id": "f155c4b7-b960-4f71-aedf-108d6c41778f",
   "metadata": {},
   "outputs": [
    {
     "data": {
      "text/plain": [
       "100"
      ]
     },
     "execution_count": 1,
     "metadata": {},
     "output_type": "execute_result"
    }
   ],
   "source": [
    "number=100\n",
    "number"
   ]
  },
  {
   "cell_type": "code",
   "execution_count": 2,
   "id": "4f5668ad-0c85-42b8-89db-2923e51740ac",
   "metadata": {},
   "outputs": [
    {
     "data": {
      "text/plain": [
       "int"
      ]
     },
     "execution_count": 2,
     "metadata": {},
     "output_type": "execute_result"
    }
   ],
   "source": [
    "type(number)"
   ]
  },
  {
   "cell_type": "markdown",
   "id": "51b64f54-fe7a-4382-8685-c356a3179655",
   "metadata": {},
   "source": [
    "*****binary*****"
   ]
  },
  {
   "cell_type": "code",
   "execution_count": 3,
   "id": "3835b582-4dc0-4cd7-a530-6c0bf06050c5",
   "metadata": {},
   "outputs": [
    {
     "data": {
      "text/plain": [
       "6"
      ]
     },
     "execution_count": 3,
     "metadata": {},
     "output_type": "execute_result"
    }
   ],
   "source": [
    "0b110"
   ]
  },
  {
   "cell_type": "code",
   "execution_count": 4,
   "id": "19101ba5-7a19-4421-a8dd-8f71730d8697",
   "metadata": {},
   "outputs": [
    {
     "data": {
      "text/plain": [
       "29"
      ]
     },
     "execution_count": 4,
     "metadata": {},
     "output_type": "execute_result"
    }
   ],
   "source": [
    "0b011101"
   ]
  },
  {
   "cell_type": "code",
   "execution_count": 5,
   "id": "1623c9bc-ea9f-4b66-8658-bd34b65ec0e1",
   "metadata": {},
   "outputs": [
    {
     "data": {
      "text/plain": [
       "7"
      ]
     },
     "execution_count": 5,
     "metadata": {},
     "output_type": "execute_result"
    }
   ],
   "source": [
    "0b111"
   ]
  },
  {
   "cell_type": "code",
   "execution_count": 6,
   "id": "eb5a1825-896b-4a52-9ed7-b9c8e31a8860",
   "metadata": {},
   "outputs": [
    {
     "data": {
      "text/plain": [
       "7"
      ]
     },
     "execution_count": 6,
     "metadata": {},
     "output_type": "execute_result"
    }
   ],
   "source": [
    "0b111"
   ]
  },
  {
   "cell_type": "code",
   "execution_count": 7,
   "id": "47a07fcb-49e7-4485-8b9b-a2cff22a2b7a",
   "metadata": {},
   "outputs": [
    {
     "data": {
      "text/plain": [
       "5"
      ]
     },
     "execution_count": 7,
     "metadata": {},
     "output_type": "execute_result"
    }
   ],
   "source": [
    "0b101"
   ]
  },
  {
   "cell_type": "code",
   "execution_count": 8,
   "id": "ba1d92c9-5fa1-4aaa-a8d2-19f37b09af25",
   "metadata": {},
   "outputs": [
    {
     "data": {
      "text/plain": [
       "15"
      ]
     },
     "execution_count": 8,
     "metadata": {},
     "output_type": "execute_result"
    }
   ],
   "source": [
    "0b1111"
   ]
  },
  {
   "cell_type": "code",
   "execution_count": 9,
   "id": "f3463829-6429-496d-8a5b-200c0ab91777",
   "metadata": {},
   "outputs": [
    {
     "data": {
      "text/plain": [
       "14"
      ]
     },
     "execution_count": 9,
     "metadata": {},
     "output_type": "execute_result"
    }
   ],
   "source": [
    "0b1110"
   ]
  },
  {
   "cell_type": "code",
   "execution_count": 10,
   "id": "b0e34d68-d4ba-491a-a26a-de8cc7c3ca4c",
   "metadata": {},
   "outputs": [
    {
     "ename": "SyntaxError",
     "evalue": "invalid syntax (3050685202.py, line 1)",
     "output_type": "error",
     "traceback": [
      "\u001b[1;36m  Cell \u001b[1;32mIn[10], line 1\u001b[1;36m\u001b[0m\n\u001b[1;33m    *****octa*****\u001b[0m\n\u001b[1;37m    ^\u001b[0m\n\u001b[1;31mSyntaxError\u001b[0m\u001b[1;31m:\u001b[0m invalid syntax\n"
     ]
    }
   ],
   "source": [
    "*****octa*****"
   ]
  },
  {
   "cell_type": "markdown",
   "id": "55603626-c464-4c71-bb18-cef11754f962",
   "metadata": {},
   "source": [
    "*****octa*****"
   ]
  },
  {
   "cell_type": "code",
   "execution_count": 11,
   "id": "6947265b-3956-4d77-a53e-2d3cc787546b",
   "metadata": {},
   "outputs": [
    {
     "data": {
      "text/plain": [
       "83"
      ]
     },
     "execution_count": 11,
     "metadata": {},
     "output_type": "execute_result"
    }
   ],
   "source": [
    "0o123"
   ]
  },
  {
   "cell_type": "code",
   "execution_count": 12,
   "id": "df5d5076-9e50-4694-b12d-a902eb0fcab8",
   "metadata": {},
   "outputs": [
    {
     "data": {
      "text/plain": [
       "4012"
      ]
     },
     "execution_count": 12,
     "metadata": {},
     "output_type": "execute_result"
    }
   ],
   "source": [
    "0o7654"
   ]
  },
  {
   "cell_type": "code",
   "execution_count": 13,
   "id": "7bd81aae-9499-4379-af9a-1fcb7e54d005",
   "metadata": {},
   "outputs": [
    {
     "data": {
      "text/plain": [
       "494"
      ]
     },
     "execution_count": 13,
     "metadata": {},
     "output_type": "execute_result"
    }
   ],
   "source": [
    "0o756"
   ]
  },
  {
   "cell_type": "markdown",
   "id": "706ad3aa-3785-4bdf-a84f-35c92b7f4ed2",
   "metadata": {},
   "source": [
    "*****hexa*****"
   ]
  },
  {
   "cell_type": "code",
   "execution_count": 14,
   "id": "36046118-c373-429d-8251-037af547046a",
   "metadata": {},
   "outputs": [
    {
     "data": {
      "text/plain": [
       "2748"
      ]
     },
     "execution_count": 14,
     "metadata": {},
     "output_type": "execute_result"
    }
   ],
   "source": [
    "0xabc"
   ]
  },
  {
   "cell_type": "code",
   "execution_count": 15,
   "id": "055e293f-b9e8-41d7-8076-b155fbf655d7",
   "metadata": {},
   "outputs": [
    {
     "data": {
      "text/plain": [
       "2527"
      ]
     },
     "execution_count": 15,
     "metadata": {},
     "output_type": "execute_result"
    }
   ],
   "source": [
    "0X9DF"
   ]
  },
  {
   "cell_type": "markdown",
   "id": "bbca577a-1c76-45b8-9bb6-511bdd271940",
   "metadata": {},
   "source": [
    "*****float*****"
   ]
  },
  {
   "cell_type": "code",
   "execution_count": 16,
   "id": "80a0af2a-514f-49c4-b846-f7255ac5aeb1",
   "metadata": {},
   "outputs": [
    {
     "data": {
      "text/plain": [
       "123.5"
      ]
     },
     "execution_count": 16,
     "metadata": {},
     "output_type": "execute_result"
    }
   ],
   "source": [
    "number1=123.5\n",
    "number1"
   ]
  },
  {
   "cell_type": "code",
   "execution_count": 17,
   "id": "e8359099-67c5-4156-be40-0c1e6024ebd5",
   "metadata": {},
   "outputs": [
    {
     "data": {
      "text/plain": [
       "float"
      ]
     },
     "execution_count": 17,
     "metadata": {},
     "output_type": "execute_result"
    }
   ],
   "source": [
    "type(number1)"
   ]
  },
  {
   "cell_type": "markdown",
   "id": "086ac35b-767d-4a93-a7d3-27a5f429d7de",
   "metadata": {},
   "source": [
    "*****e representation*****"
   ]
  },
  {
   "cell_type": "code",
   "execution_count": 18,
   "id": "8787cecc-4038-43e9-bd8f-fb57416da602",
   "metadata": {},
   "outputs": [
    {
     "data": {
      "text/plain": [
       "10000.0"
      ]
     },
     "execution_count": 18,
     "metadata": {},
     "output_type": "execute_result"
    }
   ],
   "source": [
    "10e3"
   ]
  },
  {
   "cell_type": "code",
   "execution_count": 19,
   "id": "b984df17-0116-4286-9cb6-a593e39a28b6",
   "metadata": {},
   "outputs": [
    {
     "data": {
      "text/plain": [
       "10000.0"
      ]
     },
     "execution_count": 19,
     "metadata": {},
     "output_type": "execute_result"
    }
   ],
   "source": [
    "10e+3"
   ]
  },
  {
   "cell_type": "code",
   "execution_count": 20,
   "id": "292c441f-cbd6-4e45-9820-7a8f9409f431",
   "metadata": {},
   "outputs": [
    {
     "data": {
      "text/plain": [
       "0.01"
      ]
     },
     "execution_count": 20,
     "metadata": {},
     "output_type": "execute_result"
    }
   ],
   "source": [
    "10e-3"
   ]
  },
  {
   "cell_type": "code",
   "execution_count": 21,
   "id": "0dc3a6b4-22ba-468c-abdf-6a0572f01a01",
   "metadata": {},
   "outputs": [
    {
     "data": {
      "text/plain": [
       "1.23e-08"
      ]
     },
     "execution_count": 21,
     "metadata": {},
     "output_type": "execute_result"
    }
   ],
   "source": [
    "123e-10"
   ]
  },
  {
   "cell_type": "code",
   "execution_count": 22,
   "id": "95e713ec-3f44-450f-be21-075fbff5f0fc",
   "metadata": {},
   "outputs": [
    {
     "data": {
      "text/plain": [
       "0.01"
      ]
     },
     "execution_count": 22,
     "metadata": {},
     "output_type": "execute_result"
    }
   ],
   "source": [
    "1000e-5"
   ]
  },
  {
   "cell_type": "markdown",
   "id": "f05e0b5c-9dbb-46fc-beba-69e6be7c838e",
   "metadata": {},
   "source": [
    "*****strings*****"
   ]
  },
  {
   "cell_type": "code",
   "execution_count": 23,
   "id": "6bf7470f-a39e-4a0a-8afd-b041d8be5a50",
   "metadata": {},
   "outputs": [],
   "source": [
    "name=\"python\""
   ]
  },
  {
   "cell_type": "code",
   "execution_count": 24,
   "id": "199f22be-f862-4fd4-a107-d1659d3344b4",
   "metadata": {},
   "outputs": [
    {
     "data": {
      "text/plain": [
       "str"
      ]
     },
     "execution_count": 24,
     "metadata": {},
     "output_type": "execute_result"
    }
   ],
   "source": [
    "type(name)"
   ]
  },
  {
   "cell_type": "code",
   "execution_count": 25,
   "id": "018750e8-796c-4c1e-9427-916ddb70835b",
   "metadata": {},
   "outputs": [],
   "source": [
    "name=\"1000\""
   ]
  },
  {
   "cell_type": "code",
   "execution_count": 26,
   "id": "02168197-e92e-447a-bac3-93943f0c22b1",
   "metadata": {},
   "outputs": [
    {
     "data": {
      "text/plain": [
       "str"
      ]
     },
     "execution_count": 26,
     "metadata": {},
     "output_type": "execute_result"
    }
   ],
   "source": [
    "type(name)"
   ]
  },
  {
   "cell_type": "code",
   "execution_count": 27,
   "id": "ab70914d-02ff-47f6-90b8-305120e3d9fd",
   "metadata": {},
   "outputs": [
    {
     "data": {
      "text/plain": [
       "str"
      ]
     },
     "execution_count": 27,
     "metadata": {},
     "output_type": "execute_result"
    }
   ],
   "source": [
    "name2='hiiiieeee'\n",
    "type(name2)"
   ]
  },
  {
   "cell_type": "code",
   "execution_count": 28,
   "id": "5142209d-270e-4685-bd85-91760426efa9",
   "metadata": {},
   "outputs": [
    {
     "ename": "SyntaxError",
     "evalue": "unterminated string literal (detected at line 2) (1483164868.py, line 2)",
     "output_type": "error",
     "traceback": [
      "\u001b[1;36m  Cell \u001b[1;32mIn[28], line 2\u001b[1;36m\u001b[0m\n\u001b[1;33m    howww aree uuu\"\"\"\"\u001b[0m\n\u001b[1;37m                     ^\u001b[0m\n\u001b[1;31mSyntaxError\u001b[0m\u001b[1;31m:\u001b[0m unterminated string literal (detected at line 2)\n"
     ]
    }
   ],
   "source": [
    "\"\"\"hiiieeeeeeeeee\n",
    "howww aree uuu\"\"\"\""
   ]
  },
  {
   "cell_type": "code",
   "execution_count": 29,
   "id": "7fe8fe68-a41d-46c5-b5d3-001f2eba4c06",
   "metadata": {},
   "outputs": [
    {
     "ename": "SyntaxError",
     "evalue": "unterminated string literal (detected at line 2) (901545647.py, line 2)",
     "output_type": "error",
     "traceback": [
      "\u001b[1;36m  Cell \u001b[1;32mIn[29], line 2\u001b[1;36m\u001b[0m\n\u001b[1;33m    howww aree uuu\"\"\"\"\u001b[0m\n\u001b[1;37m                     ^\u001b[0m\n\u001b[1;31mSyntaxError\u001b[0m\u001b[1;31m:\u001b[0m unterminated string literal (detected at line 2)\n"
     ]
    }
   ],
   "source": [
    "name3=\"\"\"hiiieeeeeeeeee\n",
    "howww aree uuu\"\"\"\""
   ]
  },
  {
   "cell_type": "code",
   "execution_count": 30,
   "id": "c122a997-b341-4d4b-8d26-2a1206e1f932",
   "metadata": {},
   "outputs": [],
   "source": [
    "name3=\"\"\"hieeeeeeeeeeee\n",
    "howwwwwwwwww rrrrrrrr uuuuuuuuuu\"\"\""
   ]
  },
  {
   "cell_type": "code",
   "execution_count": 31,
   "id": "f481db33-0ed9-43f6-91ed-7d442c795d69",
   "metadata": {},
   "outputs": [
    {
     "data": {
      "text/plain": [
       "str"
      ]
     },
     "execution_count": 31,
     "metadata": {},
     "output_type": "execute_result"
    }
   ],
   "source": [
    "type(name3)"
   ]
  },
  {
   "cell_type": "markdown",
   "id": "8c27d1ab-2117-4772-9e7f-b98e0820dae9",
   "metadata": {},
   "source": [
    "********boolean*******"
   ]
  },
  {
   "cell_type": "code",
   "execution_count": 1,
   "id": "30354660-16d9-49a5-9033-dac228f7cd13",
   "metadata": {},
   "outputs": [
    {
     "ename": "NameError",
     "evalue": "name 'false' is not defined",
     "output_type": "error",
     "traceback": [
      "\u001b[1;31m---------------------------------------------------------------------------\u001b[0m",
      "\u001b[1;31mNameError\u001b[0m                                 Traceback (most recent call last)",
      "Cell \u001b[1;32mIn[1], line 1\u001b[0m\n\u001b[1;32m----> 1\u001b[0m value\u001b[38;5;241m=\u001b[39mfalse\n\u001b[0;32m      2\u001b[0m value\n",
      "\u001b[1;31mNameError\u001b[0m: name 'false' is not defined"
     ]
    }
   ],
   "source": [
    "value=false\n",
    "value"
   ]
  },
  {
   "cell_type": "code",
   "execution_count": 2,
   "id": "cdd439bc-4db2-40f8-8dba-c88388928401",
   "metadata": {},
   "outputs": [
    {
     "data": {
      "text/plain": [
       "False"
      ]
     },
     "execution_count": 2,
     "metadata": {},
     "output_type": "execute_result"
    }
   ],
   "source": [
    "value= False\n",
    "value"
   ]
  },
  {
   "cell_type": "code",
   "execution_count": 3,
   "id": "c5285724-7118-42db-89a8-9664a984eafd",
   "metadata": {},
   "outputs": [
    {
     "data": {
      "text/plain": [
       "bool"
      ]
     },
     "execution_count": 3,
     "metadata": {},
     "output_type": "execute_result"
    }
   ],
   "source": [
    "type(value)"
   ]
  },
  {
   "cell_type": "code",
   "execution_count": 4,
   "id": "16716df4-ff3a-4e91-984f-9650f7daa6b7",
   "metadata": {},
   "outputs": [
    {
     "data": {
      "text/plain": [
       "bool"
      ]
     },
     "execution_count": 4,
     "metadata": {},
     "output_type": "execute_result"
    }
   ],
   "source": [
    "value1= True\n",
    "type(value1)"
   ]
  },
  {
   "cell_type": "code",
   "execution_count": 5,
   "id": "7b0f06b6-c77b-47f0-97c1-b6951feb2f7c",
   "metadata": {},
   "outputs": [
    {
     "ename": "NameError",
     "evalue": "name 'true' is not defined",
     "output_type": "error",
     "traceback": [
      "\u001b[1;31m---------------------------------------------------------------------------\u001b[0m",
      "\u001b[1;31mNameError\u001b[0m                                 Traceback (most recent call last)",
      "Cell \u001b[1;32mIn[5], line 1\u001b[0m\n\u001b[1;32m----> 1\u001b[0m name2\u001b[38;5;241m=\u001b[39m true\n",
      "\u001b[1;31mNameError\u001b[0m: name 'true' is not defined"
     ]
    }
   ],
   "source": [
    "name2= true"
   ]
  },
  {
   "cell_type": "code",
   "execution_count": 6,
   "id": "78ab96b4-d933-4f80-830e-ea93f2bb150b",
   "metadata": {},
   "outputs": [
    {
     "data": {
      "text/plain": [
       "100"
      ]
     },
     "execution_count": 6,
     "metadata": {},
     "output_type": "execute_result"
    }
   ],
   "source": [
    "true= 100\n",
    "name2= true\n",
    "name2\n"
   ]
  },
  {
   "cell_type": "code",
   "execution_count": 7,
   "id": "d5f9be7e-7655-4e5b-aa4f-33a876558fdc",
   "metadata": {},
   "outputs": [
    {
     "data": {
      "text/plain": [
       "500"
      ]
     },
     "execution_count": 7,
     "metadata": {},
     "output_type": "execute_result"
    }
   ],
   "source": [
    "a= 100\n",
    "b= 200\n",
    "a= b\n",
    "b= a\n",
    "a= 500\n",
    "b= a\n",
    "b= 900\n",
    "a"
   ]
  },
  {
   "cell_type": "code",
   "execution_count": 8,
   "id": "a259806f-d130-48e6-ad76-2391538b6312",
   "metadata": {},
   "outputs": [
    {
     "ename": "SyntaxError",
     "evalue": "invalid syntax (1505671734.py, line 1)",
     "output_type": "error",
     "traceback": [
      "\u001b[1;36m  Cell \u001b[1;32mIn[8], line 1\u001b[1;36m\u001b[0m\n\u001b[1;33m    **********COMPLEX CONJUGATE********\u001b[0m\n\u001b[1;37m    ^\u001b[0m\n\u001b[1;31mSyntaxError\u001b[0m\u001b[1;31m:\u001b[0m invalid syntax\n"
     ]
    }
   ],
   "source": [
    "**********COMPLEX CONJUGATE********"
   ]
  },
  {
   "cell_type": "markdown",
   "id": "07c5c8f0-fa55-4c14-aec0-167b8daf15cd",
   "metadata": {},
   "source": [
    "**********COMPLEX CONJUGATE********"
   ]
  },
  {
   "cell_type": "code",
   "execution_count": 9,
   "id": "168baf51-06af-4af7-a97b-0413feea483f",
   "metadata": {},
   "outputs": [
    {
     "data": {
      "text/plain": [
       "(3+5j)"
      ]
     },
     "execution_count": 9,
     "metadata": {},
     "output_type": "execute_result"
    }
   ],
   "source": [
    "number= 3+5j\n",
    "number"
   ]
  },
  {
   "cell_type": "code",
   "execution_count": 10,
   "id": "06ff3b3c-5640-4bfc-bef8-519dd019de7d",
   "metadata": {},
   "outputs": [
    {
     "data": {
      "text/plain": [
       "complex"
      ]
     },
     "execution_count": 10,
     "metadata": {},
     "output_type": "execute_result"
    }
   ],
   "source": [
    "type(number)"
   ]
  },
  {
   "cell_type": "code",
   "execution_count": 11,
   "id": "c7386163-fa6b-4dd4-80a8-3aaf79705ed4",
   "metadata": {},
   "outputs": [
    {
     "data": {
      "text/plain": [
       "['__abs__',\n",
       " '__add__',\n",
       " '__bool__',\n",
       " '__class__',\n",
       " '__complex__',\n",
       " '__delattr__',\n",
       " '__dir__',\n",
       " '__doc__',\n",
       " '__eq__',\n",
       " '__format__',\n",
       " '__ge__',\n",
       " '__getattribute__',\n",
       " '__getnewargs__',\n",
       " '__getstate__',\n",
       " '__gt__',\n",
       " '__hash__',\n",
       " '__init__',\n",
       " '__init_subclass__',\n",
       " '__le__',\n",
       " '__lt__',\n",
       " '__mul__',\n",
       " '__ne__',\n",
       " '__neg__',\n",
       " '__new__',\n",
       " '__pos__',\n",
       " '__pow__',\n",
       " '__radd__',\n",
       " '__reduce__',\n",
       " '__reduce_ex__',\n",
       " '__repr__',\n",
       " '__rmul__',\n",
       " '__rpow__',\n",
       " '__rsub__',\n",
       " '__rtruediv__',\n",
       " '__setattr__',\n",
       " '__sizeof__',\n",
       " '__str__',\n",
       " '__sub__',\n",
       " '__subclasshook__',\n",
       " '__truediv__',\n",
       " 'conjugate',\n",
       " 'imag',\n",
       " 'real']"
      ]
     },
     "execution_count": 11,
     "metadata": {},
     "output_type": "execute_result"
    }
   ],
   "source": [
    "dir(number)"
   ]
  },
  {
   "cell_type": "code",
   "execution_count": 12,
   "id": "dac8d47f-69d6-46c7-9565-e86f6fa223d8",
   "metadata": {},
   "outputs": [
    {
     "data": {
      "text/plain": [
       "3.0"
      ]
     },
     "execution_count": 12,
     "metadata": {},
     "output_type": "execute_result"
    }
   ],
   "source": [
    "number.real"
   ]
  },
  {
   "cell_type": "code",
   "execution_count": 13,
   "id": "f3498175-6e92-4a7a-833f-d0fd967d1557",
   "metadata": {},
   "outputs": [
    {
     "data": {
      "text/plain": [
       "5.0"
      ]
     },
     "execution_count": 13,
     "metadata": {},
     "output_type": "execute_result"
    }
   ],
   "source": [
    "number.imag"
   ]
  },
  {
   "cell_type": "code",
   "execution_count": 14,
   "id": "8c03b48e-9454-4106-a1e9-919d93cbb0c7",
   "metadata": {},
   "outputs": [
    {
     "data": {
      "text/plain": [
       "<function complex.conjugate()>"
      ]
     },
     "execution_count": 14,
     "metadata": {},
     "output_type": "execute_result"
    }
   ],
   "source": [
    "number.conjugate"
   ]
  },
  {
   "cell_type": "code",
   "execution_count": 15,
   "id": "3fdb9727-f3ec-444d-bc1b-df5138172b82",
   "metadata": {},
   "outputs": [
    {
     "data": {
      "text/plain": [
       "(3-5j)"
      ]
     },
     "execution_count": 15,
     "metadata": {},
     "output_type": "execute_result"
    }
   ],
   "source": [
    "number.conjugate()"
   ]
  },
  {
   "cell_type": "code",
   "execution_count": 16,
   "id": "1fd95bb8-d082-4a9a-bf1f-3e082c70bb14",
   "metadata": {},
   "outputs": [
    {
     "data": {
      "text/plain": [
       "(4+10j)"
      ]
     },
     "execution_count": 16,
     "metadata": {},
     "output_type": "execute_result"
    }
   ],
   "source": [
    "number= 4+10j\n",
    "number"
   ]
  },
  {
   "cell_type": "code",
   "execution_count": 17,
   "id": "f183f09b-a2f2-4fd0-916d-9d181ed664be",
   "metadata": {},
   "outputs": [
    {
     "data": {
      "text/plain": [
       "complex"
      ]
     },
     "execution_count": 17,
     "metadata": {},
     "output_type": "execute_result"
    }
   ],
   "source": [
    "type(number)"
   ]
  },
  {
   "cell_type": "code",
   "execution_count": 18,
   "id": "352804d6-9551-4d40-9c62-1fa6deb35262",
   "metadata": {},
   "outputs": [
    {
     "data": {
      "text/plain": [
       "4.0"
      ]
     },
     "execution_count": 18,
     "metadata": {},
     "output_type": "execute_result"
    }
   ],
   "source": [
    "number.real"
   ]
  },
  {
   "cell_type": "code",
   "execution_count": 19,
   "id": "afe4aa81-4df9-4033-a159-82ac88219b85",
   "metadata": {},
   "outputs": [
    {
     "data": {
      "text/plain": [
       "10.0"
      ]
     },
     "execution_count": 19,
     "metadata": {},
     "output_type": "execute_result"
    }
   ],
   "source": [
    "number.imag"
   ]
  },
  {
   "cell_type": "code",
   "execution_count": 20,
   "id": "0d67338b-2f0b-4283-98c1-ee4d04aed9a6",
   "metadata": {},
   "outputs": [
    {
     "data": {
      "text/plain": [
       "(4-10j)"
      ]
     },
     "execution_count": 20,
     "metadata": {},
     "output_type": "execute_result"
    }
   ],
   "source": [
    "number.conjugate()"
   ]
  },
  {
   "cell_type": "markdown",
   "id": "36fc1adf-f9da-486f-9087-12b1a9d912cf",
   "metadata": {},
   "source": [
    "###error"
   ]
  },
  {
   "cell_type": "code",
   "execution_count": 21,
   "id": "69fca139-706e-467f-b3e2-9b40e6c20d4a",
   "metadata": {},
   "outputs": [
    {
     "ename": "NameError",
     "evalue": "name 'random' is not defined",
     "output_type": "error",
     "traceback": [
      "\u001b[1;31m---------------------------------------------------------------------------\u001b[0m",
      "\u001b[1;31mNameError\u001b[0m                                 Traceback (most recent call last)",
      "Cell \u001b[1;32mIn[21], line 1\u001b[0m\n\u001b[1;32m----> 1\u001b[0m random\u001b[38;5;241m.\u001b[39mrandint()\n",
      "\u001b[1;31mNameError\u001b[0m: name 'random' is not defined"
     ]
    }
   ],
   "source": [
    "random.randint()"
   ]
  },
  {
   "cell_type": "code",
   "execution_count": 22,
   "id": "bc93b87c-5e02-4f3f-b8fe-768c4b695e2d",
   "metadata": {},
   "outputs": [
    {
     "ename": "NameError",
     "evalue": "name 'randoa' is not defined",
     "output_type": "error",
     "traceback": [
      "\u001b[1;31m---------------------------------------------------------------------------\u001b[0m",
      "\u001b[1;31mNameError\u001b[0m                                 Traceback (most recent call last)",
      "Cell \u001b[1;32mIn[22], line 1\u001b[0m\n\u001b[1;32m----> 1\u001b[0m randoa,bm\u001b[38;5;241m.\u001b[39mrandint(a,b)\n",
      "\u001b[1;31mNameError\u001b[0m: name 'randoa' is not defined"
     ]
    }
   ],
   "source": [
    "randoa,bm.randint(a,b)"
   ]
  },
  {
   "cell_type": "code",
   "execution_count": 23,
   "id": "4b43fd52-e29d-45bb-ad11-873c66e78a7c",
   "metadata": {},
   "outputs": [
    {
     "ename": "NameError",
     "evalue": "name 'random' is not defined",
     "output_type": "error",
     "traceback": [
      "\u001b[1;31m---------------------------------------------------------------------------\u001b[0m",
      "\u001b[1;31mNameError\u001b[0m                                 Traceback (most recent call last)",
      "Cell \u001b[1;32mIn[23], line 1\u001b[0m\n\u001b[1;32m----> 1\u001b[0m random\u001b[38;5;241m.\u001b[39mrandint(a,b)\n",
      "\u001b[1;31mNameError\u001b[0m: name 'random' is not defined"
     ]
    }
   ],
   "source": [
    "random.randint(a,b)"
   ]
  },
  {
   "cell_type": "code",
   "execution_count": 1,
   "id": "9ccc9fbc-75c5-4bdd-b194-c7d02350cd7f",
   "metadata": {},
   "outputs": [
    {
     "ename": "NameError",
     "evalue": "name 'a' is not defined",
     "output_type": "error",
     "traceback": [
      "\u001b[1;31m---------------------------------------------------------------------------\u001b[0m",
      "\u001b[1;31mNameError\u001b[0m                                 Traceback (most recent call last)",
      "Cell \u001b[1;32mIn[1], line 2\u001b[0m\n\u001b[0;32m      1\u001b[0m \u001b[38;5;28;01mimport\u001b[39;00m \u001b[38;5;21;01mrandom\u001b[39;00m\n\u001b[1;32m----> 2\u001b[0m random\u001b[38;5;241m.\u001b[39mrandint(a,b)\n",
      "\u001b[1;31mNameError\u001b[0m: name 'a' is not defined"
     ]
    }
   ],
   "source": [
    "import random\n",
    "random.randint(a,b)"
   ]
  },
  {
   "cell_type": "code",
   "execution_count": 2,
   "id": "650856d5-7754-421c-ae82-42c9268e8c09",
   "metadata": {},
   "outputs": [
    {
     "data": {
      "text/plain": [
       "551"
      ]
     },
     "execution_count": 2,
     "metadata": {},
     "output_type": "execute_result"
    }
   ],
   "source": [
    "import random\n",
    "random.randint(10,600)"
   ]
  },
  {
   "cell_type": "code",
   "execution_count": 3,
   "id": "30f59247-3b48-4d9d-a706-b02b9d5b2f28",
   "metadata": {},
   "outputs": [
    {
     "ename": "TypeError",
     "evalue": "math.sin() takes exactly one argument (0 given)",
     "output_type": "error",
     "traceback": [
      "\u001b[1;31m---------------------------------------------------------------------------\u001b[0m",
      "\u001b[1;31mTypeError\u001b[0m                                 Traceback (most recent call last)",
      "Cell \u001b[1;32mIn[3], line 2\u001b[0m\n\u001b[0;32m      1\u001b[0m \u001b[38;5;28;01mimport\u001b[39;00m \u001b[38;5;21;01mmath\u001b[39;00m\n\u001b[1;32m----> 2\u001b[0m math\u001b[38;5;241m.\u001b[39msin()\n",
      "\u001b[1;31mTypeError\u001b[0m: math.sin() takes exactly one argument (0 given)"
     ]
    }
   ],
   "source": [
    "import math\n",
    "math.sin()"
   ]
  },
  {
   "cell_type": "code",
   "execution_count": 4,
   "id": "018245ba-3303-4714-9a91-2197a2a9ccb7",
   "metadata": {},
   "outputs": [
    {
     "data": {
      "text/plain": [
       "0.8939966636005579"
      ]
     },
     "execution_count": 4,
     "metadata": {},
     "output_type": "execute_result"
    }
   ],
   "source": [
    "import math\n",
    "math.sin(90)"
   ]
  },
  {
   "cell_type": "code",
   "execution_count": 5,
   "id": "ae57a392-e6ea-4c05-88aa-e4ebce9cc36e",
   "metadata": {},
   "outputs": [
    {
     "data": {
      "text/plain": [
       "0j"
      ]
     },
     "execution_count": 5,
     "metadata": {},
     "output_type": "execute_result"
    }
   ],
   "source": [
    "complex()"
   ]
  },
  {
   "cell_type": "code",
   "execution_count": null,
   "id": "2e0dc932-485b-4010-a220-07341684ee84",
   "metadata": {},
   "outputs": [],
   "source": []
  }
 ],
 "metadata": {
  "kernelspec": {
   "display_name": "Python 3 (ipykernel)",
   "language": "python",
   "name": "python3"
  },
  "language_info": {
   "codemirror_mode": {
    "name": "ipython",
    "version": 3
   },
   "file_extension": ".py",
   "mimetype": "text/x-python",
   "name": "python",
   "nbconvert_exporter": "python",
   "pygments_lexer": "ipython3",
   "version": "3.12.4"
  }
 },
 "nbformat": 4,
 "nbformat_minor": 5
}
