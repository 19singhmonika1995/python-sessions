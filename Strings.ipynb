{
 "cells": [
  {
   "cell_type": "markdown",
   "id": "d24aaddd-5a7b-444b-8edc-f3b4d91757d7",
   "metadata": {},
   "source": [
    "**how to read the strings?**"
   ]
  },
  {
   "cell_type": "code",
   "execution_count": 2,
   "id": "4ca5a74f-c0d9-4a4e-b368-7b209be592fd",
   "metadata": {},
   "outputs": [
    {
     "data": {
      "text/plain": [
       "'python'"
      ]
     },
     "execution_count": 2,
     "metadata": {},
     "output_type": "execute_result"
    }
   ],
   "source": [
    "string1='python'\n",
    "string1"
   ]
  },
  {
   "cell_type": "code",
   "execution_count": 3,
   "id": "ab4d1e4e-f6e1-48a9-ab8a-a7e7c63cdc42",
   "metadata": {},
   "outputs": [
    {
     "data": {
      "text/plain": [
       "'python'"
      ]
     },
     "execution_count": 3,
     "metadata": {},
     "output_type": "execute_result"
    }
   ],
   "source": [
    "string1=\"python\"\n",
    "string1"
   ]
  },
  {
   "cell_type": "code",
   "execution_count": 4,
   "id": "0d58c071-9208-4d79-8047-f450b787078c",
   "metadata": {},
   "outputs": [
    {
     "data": {
      "text/plain": [
       "'python'"
      ]
     },
     "execution_count": 4,
     "metadata": {},
     "output_type": "execute_result"
    }
   ],
   "source": [
    "string2=\"python\"\n",
    "string2"
   ]
  },
  {
   "attachments": {},
   "cell_type": "markdown",
   "id": "66aa7c5c-d184-47eb-9c51-6e7ebcfe2d02",
   "metadata": {},
   "source": [
    "**TRIPLE QUOTES**\n",
    "\n",
    "Docstring is used to tell some information about our python code"
   ]
  },
  {
   "cell_type": "code",
   "execution_count": 9,
   "id": "dcac2a6b-2cff-4d9d-9c4e-948aba9497b3",
   "metadata": {},
   "outputs": [
    {
     "data": {
      "text/plain": [
       "'\\nI am creating a hello function\\narguments: None\\nreturn: None\\n'"
      ]
     },
     "execution_count": 9,
     "metadata": {},
     "output_type": "execute_result"
    }
   ],
   "source": [
    "\"\"\"\n",
    "I am creating a hello function\n",
    "arguments: None\n",
    "return: None\n",
    "\"\"\"\n",
    "\n",
    "def hello():print(\"good morning\")"
   ]
  },
  {
   "cell_type": "markdown",
   "id": "999b767e-c278-4dec-a215-2ba761e1b243",
   "metadata": {},
   "source": [
    "**If u want to highlight the word 'python' in 'hello python'**"
   ]
  },
  {
   "cell_type": "code",
   "execution_count": 11,
   "id": "9a582cd1-4d81-485a-a17a-0de6ce1e1546",
   "metadata": {},
   "outputs": [
    {
     "name": "stdout",
     "output_type": "stream",
     "text": [
      "hello \"python\"\n"
     ]
    }
   ],
   "source": [
    "string3='hello \"python\"'\n",
    "print(string3)"
   ]
  },
  {
   "cell_type": "code",
   "execution_count": 12,
   "id": "b38d3871-f3fd-48ba-8f33-d307a5d1a44c",
   "metadata": {},
   "outputs": [
    {
     "name": "stdout",
     "output_type": "stream",
     "text": [
      "hello 'python'\n"
     ]
    }
   ],
   "source": [
    "string3=\"hello 'python'\"\n",
    "print(string3)"
   ]
  },
  {
   "cell_type": "markdown",
   "id": "6c2ccdce-1e8e-4655-a74b-a56bf868901a",
   "metadata": {},
   "source": [
    "**type**"
   ]
  },
  {
   "cell_type": "code",
   "execution_count": 13,
   "id": "00b62b98-318c-4cd1-8dfa-01f29371fa56",
   "metadata": {},
   "outputs": [
    {
     "data": {
      "text/plain": [
       "'python'"
      ]
     },
     "execution_count": 13,
     "metadata": {},
     "output_type": "execute_result"
    }
   ],
   "source": [
    "string1='python'\n",
    "string1"
   ]
  },
  {
   "cell_type": "code",
   "execution_count": 14,
   "id": "4711a55c-3ab7-4812-b564-321caa75cb67",
   "metadata": {},
   "outputs": [
    {
     "data": {
      "text/plain": [
       "str"
      ]
     },
     "execution_count": 14,
     "metadata": {},
     "output_type": "execute_result"
    }
   ],
   "source": [
    "type(string1)"
   ]
  },
  {
   "cell_type": "markdown",
   "id": "17fee5b2-a93b-43fc-91cc-3f12f5ce0d44",
   "metadata": {},
   "source": [
    "**len:**"
   ]
  },
  {
   "cell_type": "code",
   "execution_count": 16,
   "id": "0f35f455-220c-47f4-bb82-3c37c28c6d38",
   "metadata": {},
   "outputs": [
    {
     "data": {
      "text/plain": [
       "6"
      ]
     },
     "execution_count": 16,
     "metadata": {},
     "output_type": "execute_result"
    }
   ],
   "source": [
    "len(string1)"
   ]
  },
  {
   "cell_type": "markdown",
   "id": "a9591cec-9f09-4054-96af-10edc8ca56e6",
   "metadata": {},
   "source": [
    "**max-min**"
   ]
  },
  {
   "cell_type": "code",
   "execution_count": 18,
   "id": "a6ca5373-7e80-4cb5-9b6b-c940cfb90acf",
   "metadata": {},
   "outputs": [
    {
     "data": {
      "text/plain": [
       "'p'"
      ]
     },
     "execution_count": 18,
     "metadata": {},
     "output_type": "execute_result"
    }
   ],
   "source": [
    "string1='Pp'\n",
    "max(string1)"
   ]
  },
  {
   "cell_type": "markdown",
   "id": "305bbf16-cf94-4fe1-8468-a9fdab53f097",
   "metadata": {},
   "source": [
    "'p'-----becoz they follow ASCII code\n",
    "        'A':65\n",
    "        'a':97"
   ]
  },
  {
   "cell_type": "code",
   "execution_count": 20,
   "id": "d9a91d6c-143d-4363-9d2e-ce354d117ecd",
   "metadata": {},
   "outputs": [
    {
     "data": {
      "text/plain": [
       "('p', 'P')"
      ]
     },
     "execution_count": 20,
     "metadata": {},
     "output_type": "execute_result"
    }
   ],
   "source": [
    "String1='python'\n",
    "max(string1),min(string1)"
   ]
  },
  {
   "attachments": {},
   "cell_type": "markdown",
   "id": "2b0e1e9e-19a0-4352-ba04-2b8df7923c01",
   "metadata": {},
   "source": [
    "**ord-chr**-------will provide ascii value of character\n",
    "\n"
   ]
  },
  {
   "cell_type": "code",
   "execution_count": 22,
   "id": "38276284-7761-4976-bec8-ffb086163cc5",
   "metadata": {},
   "outputs": [
    {
     "data": {
      "text/plain": [
       "80"
      ]
     },
     "execution_count": 22,
     "metadata": {},
     "output_type": "execute_result"
    }
   ],
   "source": [
    "ord('P')"
   ]
  },
  {
   "cell_type": "code",
   "execution_count": 45,
   "id": "a1450da5-2d95-4edd-a6ba-9a71ed2142b4",
   "metadata": {},
   "outputs": [
    {
     "data": {
      "text/plain": [
       "112"
      ]
     },
     "execution_count": 45,
     "metadata": {},
     "output_type": "execute_result"
    }
   ],
   "source": [
    "ord('p')"
   ]
  },
  {
   "cell_type": "code",
   "execution_count": 23,
   "id": "c3abad92-34f2-4146-907f-328e6fafe554",
   "metadata": {},
   "outputs": [
    {
     "data": {
      "text/plain": [
       "(112, 121, 116, 104, 111, 110)"
      ]
     },
     "execution_count": 23,
     "metadata": {},
     "output_type": "execute_result"
    }
   ],
   "source": [
    "ord('p'),ord('y'),ord('t'),ord('h'),ord('o'),ord('n')"
   ]
  },
  {
   "cell_type": "code",
   "execution_count": 24,
   "id": "2536319d-9996-4b27-8693-48dc4373dde4",
   "metadata": {},
   "outputs": [
    {
     "data": {
      "text/plain": [
       "('p', 'y', 't', 'h', 'o', 'n')"
      ]
     },
     "execution_count": 24,
     "metadata": {},
     "output_type": "execute_result"
    }
   ],
   "source": [
    "chr(112),chr(121),chr(116),chr(104),chr(111),chr(110)"
   ]
  },
  {
   "cell_type": "code",
   "execution_count": 25,
   "id": "8a029e8d-5f35-4cd5-ae57-c9b7b9165b4f",
   "metadata": {},
   "outputs": [
    {
     "name": "stdout",
     "output_type": "stream",
     "text": [
      "0\n",
      "1\n",
      "2\n",
      "3\n",
      "4\n",
      "5\n"
     ]
    }
   ],
   "source": [
    "for i in range(len('python')):\n",
    "    print(i)"
   ]
  },
  {
   "cell_type": "markdown",
   "id": "1160782e-feac-4c0c-8b90-629ec92c6210",
   "metadata": {},
   "source": [
    "**In-operator:**"
   ]
  },
  {
   "cell_type": "code",
   "execution_count": 26,
   "id": "f729d153-63bf-4e0f-acb7-6e9d60556e8e",
   "metadata": {},
   "outputs": [
    {
     "name": "stdout",
     "output_type": "stream",
     "text": [
      "p\n",
      "y\n",
      "t\n",
      "h\n",
      "o\n",
      "n\n"
     ]
    }
   ],
   "source": [
    "string1='python'\n",
    "for i in string1:\n",
    "    print(i)"
   ]
  },
  {
   "attachments": {},
   "cell_type": "markdown",
   "id": "e366efd6-777d-4f26-adca-82d92a0d5a20",
   "metadata": {},
   "source": [
    "**range():-----------u need to provide number inside the range**\n",
    "**in():--------------is used only for strings**\n",
    "\n",
    "**if you want print the letters using for loop go for IN operator**\n",
    "\n",
    "\n",
    "\n"
   ]
  },
  {
   "cell_type": "code",
   "execution_count": 27,
   "id": "60a1578e-e7a4-4bf2-b361-844024cb1be2",
   "metadata": {},
   "outputs": [
    {
     "name": "stdout",
     "output_type": "stream",
     "text": [
      "the ascii value of p is 112\n",
      "the ascii value of y is 121\n",
      "the ascii value of t is 116\n",
      "the ascii value of h is 104\n",
      "the ascii value of o is 111\n",
      "the ascii value of n is 110\n"
     ]
    }
   ],
   "source": [
    "import string\n",
    "for i in string1:\n",
    "    print(\"the ascii value of {} is {}\".format(i,ord(i)))"
   ]
  },
  {
   "cell_type": "markdown",
   "id": "3451af27-e477-45e3-8fbe-0be9f23799e1",
   "metadata": {},
   "source": [
    "**Print the ASCII value of A TO Z**"
   ]
  },
  {
   "cell_type": "code",
   "execution_count": 47,
   "id": "3cf9c2ab-6df7-466d-a1f1-44a6998b88d9",
   "metadata": {},
   "outputs": [
    {
     "name": "stdout",
     "output_type": "stream",
     "text": [
      "the ascii value of A is 65\n",
      "the ascii value of B is 66\n",
      "the ascii value of C is 67\n",
      "the ascii value of D is 68\n",
      "the ascii value of E is 69\n",
      "the ascii value of F is 70\n",
      "the ascii value of G is 71\n",
      "the ascii value of H is 72\n",
      "the ascii value of I is 73\n",
      "the ascii value of J is 74\n",
      "the ascii value of K is 75\n",
      "the ascii value of L is 76\n",
      "the ascii value of M is 77\n",
      "the ascii value of N is 78\n",
      "the ascii value of O is 79\n",
      "the ascii value of P is 80\n",
      "the ascii value of Q is 81\n",
      "the ascii value of R is 82\n",
      "the ascii value of S is 83\n",
      "the ascii value of T is 84\n",
      "the ascii value of U is 85\n",
      "the ascii value of V is 86\n",
      "the ascii value of W is 87\n",
      "the ascii value of X is 88\n",
      "the ascii value of Y is 89\n",
      "the ascii value of Z is 90\n"
     ]
    }
   ],
   "source": [
    "string1='ABCDEFGHIJKLMNOPQRSTUVWXYZ'\n",
    "for i in string1:\n",
    "    print(\"the ascii value of {} is {}\".format(i,ord(i)))"
   ]
  },
  {
   "cell_type": "code",
   "execution_count": 48,
   "id": "77a0d384-37d9-4332-8594-7281eae744a7",
   "metadata": {},
   "outputs": [
    {
     "name": "stdout",
     "output_type": "stream",
     "text": [
      "the ascii value of a is 97\n",
      "the ascii value of b is 98\n",
      "the ascii value of c is 99\n",
      "the ascii value of d is 100\n",
      "the ascii value of e is 101\n",
      "the ascii value of f is 102\n",
      "the ascii value of g is 103\n",
      "the ascii value of h is 104\n",
      "the ascii value of i is 105\n",
      "the ascii value of j is 106\n",
      "the ascii value of k is 107\n",
      "the ascii value of l is 108\n",
      "the ascii value of m is 109\n",
      "the ascii value of n is 110\n",
      "the ascii value of o is 111\n",
      "the ascii value of p is 112\n",
      "the ascii value of q is 113\n",
      "the ascii value of r is 114\n",
      "the ascii value of s is 115\n",
      "the ascii value of t is 116\n",
      "the ascii value of u is 117\n",
      "the ascii value of v is 118\n",
      "the ascii value of w is 119\n",
      "the ascii value of x is 120\n",
      "the ascii value of y is 121\n",
      "the ascii value of z is 122\n"
     ]
    }
   ],
   "source": [
    "string1='abcdefghijklmnopqrstuvwxyz'\n",
    "for i in string1:\n",
    "    print(\"the ascii value of {} is {}\".format(i,ord(i)))"
   ]
  },
  {
   "cell_type": "code",
   "execution_count": 49,
   "id": "c0c89e6f-8996-4123-8a2d-62293ec53abd",
   "metadata": {},
   "outputs": [],
   "source": [
    "import string"
   ]
  },
  {
   "cell_type": "code",
   "execution_count": 50,
   "id": "639ac7eb-07ec-4848-8559-2ac3a48773d7",
   "metadata": {},
   "outputs": [
    {
     "data": {
      "text/plain": [
       "['Formatter',\n",
       " 'Template',\n",
       " '_ChainMap',\n",
       " '__all__',\n",
       " '__builtins__',\n",
       " '__cached__',\n",
       " '__doc__',\n",
       " '__file__',\n",
       " '__loader__',\n",
       " '__name__',\n",
       " '__package__',\n",
       " '__spec__',\n",
       " '_re',\n",
       " '_sentinel_dict',\n",
       " '_string',\n",
       " 'ascii_letters',\n",
       " 'ascii_lowercase',\n",
       " 'ascii_uppercase',\n",
       " 'capwords',\n",
       " 'digits',\n",
       " 'hexdigits',\n",
       " 'octdigits',\n",
       " 'printable',\n",
       " 'punctuation',\n",
       " 'whitespace']"
      ]
     },
     "execution_count": 50,
     "metadata": {},
     "output_type": "execute_result"
    }
   ],
   "source": [
    "dir(string)"
   ]
  },
  {
   "cell_type": "code",
   "execution_count": 51,
   "id": "cffab34d-ad80-4970-8399-630e6582d204",
   "metadata": {},
   "outputs": [
    {
     "data": {
      "text/plain": [
       "('ABCDEFGHIJKLMNOPQRSTUVWXYZ',)"
      ]
     },
     "execution_count": 51,
     "metadata": {},
     "output_type": "execute_result"
    }
   ],
   "source": [
    "string.ascii_uppercase,"
   ]
  },
  {
   "cell_type": "code",
   "execution_count": 52,
   "id": "aa9a6659-6dd4-40ba-a4e9-e8d9fca6fc5c",
   "metadata": {},
   "outputs": [
    {
     "name": "stdout",
     "output_type": "stream",
     "text": [
      "the ascii value of A is 65\n",
      "the ascii value of B is 66\n",
      "the ascii value of C is 67\n",
      "the ascii value of D is 68\n",
      "the ascii value of E is 69\n",
      "the ascii value of F is 70\n",
      "the ascii value of G is 71\n",
      "the ascii value of H is 72\n",
      "the ascii value of I is 73\n",
      "the ascii value of J is 74\n",
      "the ascii value of K is 75\n",
      "the ascii value of L is 76\n",
      "the ascii value of M is 77\n",
      "the ascii value of N is 78\n",
      "the ascii value of O is 79\n",
      "the ascii value of P is 80\n",
      "the ascii value of Q is 81\n",
      "the ascii value of R is 82\n",
      "the ascii value of S is 83\n",
      "the ascii value of T is 84\n",
      "the ascii value of U is 85\n",
      "the ascii value of V is 86\n",
      "the ascii value of W is 87\n",
      "the ascii value of X is 88\n",
      "the ascii value of Y is 89\n",
      "the ascii value of Z is 90\n"
     ]
    }
   ],
   "source": [
    "for i in string.ascii_uppercase:\n",
    "    print(\"the ascii value of {} is {}\".format(i,ord(i)))"
   ]
  },
  {
   "cell_type": "code",
   "execution_count": 53,
   "id": "77ad80a0-4b90-4a72-a560-8a144f08591d",
   "metadata": {},
   "outputs": [
    {
     "name": "stdout",
     "output_type": "stream",
     "text": [
      "the ascii value of a is 97\n",
      "the ascii value of b is 98\n",
      "the ascii value of c is 99\n",
      "the ascii value of d is 100\n",
      "the ascii value of e is 101\n",
      "the ascii value of f is 102\n",
      "the ascii value of g is 103\n",
      "the ascii value of h is 104\n",
      "the ascii value of i is 105\n",
      "the ascii value of j is 106\n",
      "the ascii value of k is 107\n",
      "the ascii value of l is 108\n",
      "the ascii value of m is 109\n",
      "the ascii value of n is 110\n",
      "the ascii value of o is 111\n",
      "the ascii value of p is 112\n",
      "the ascii value of q is 113\n",
      "the ascii value of r is 114\n",
      "the ascii value of s is 115\n",
      "the ascii value of t is 116\n",
      "the ascii value of u is 117\n",
      "the ascii value of v is 118\n",
      "the ascii value of w is 119\n",
      "the ascii value of x is 120\n",
      "the ascii value of y is 121\n",
      "the ascii value of z is 122\n"
     ]
    }
   ],
   "source": [
    "for i in string.ascii_lowercase:\n",
    "    print(\"the ascii value of {} is {}\".format(i,ord(i)))"
   ]
  },
  {
   "cell_type": "code",
   "execution_count": 55,
   "id": "b31aa016-b23a-4919-83d4-508fb97017bf",
   "metadata": {},
   "outputs": [
    {
     "data": {
      "text/plain": [
       "'abcdefghijklmnopqrstuvwxyzABCDEFGHIJKLMNOPQRSTUVWXYZ'"
      ]
     },
     "execution_count": 55,
     "metadata": {},
     "output_type": "execute_result"
    }
   ],
   "source": [
    "string.ascii_letters"
   ]
  },
  {
   "cell_type": "code",
   "execution_count": 56,
   "id": "d00d2b83-e765-4e31-95fa-b10c628a6dd7",
   "metadata": {},
   "outputs": [
    {
     "data": {
      "text/plain": [
       "'0123456789abcdefghijklmnopqrstuvwxyzABCDEFGHIJKLMNOPQRSTUVWXYZ!\"#$%&\\'()*+,-./:;<=>?@[\\\\]^_`{|}~ \\t\\n\\r\\x0b\\x0c'"
      ]
     },
     "execution_count": 56,
     "metadata": {},
     "output_type": "execute_result"
    }
   ],
   "source": [
    "string.printable"
   ]
  },
  {
   "cell_type": "code",
   "execution_count": 57,
   "id": "a2cb4066-94b4-455b-b358-592ce70da1a5",
   "metadata": {},
   "outputs": [
    {
     "data": {
      "text/plain": [
       "['Formatter',\n",
       " 'Template',\n",
       " '_ChainMap',\n",
       " '__all__',\n",
       " '__builtins__',\n",
       " '__cached__',\n",
       " '__doc__',\n",
       " '__file__',\n",
       " '__loader__',\n",
       " '__name__',\n",
       " '__package__',\n",
       " '__spec__',\n",
       " '_re',\n",
       " '_sentinel_dict',\n",
       " '_string',\n",
       " 'ascii_letters',\n",
       " 'ascii_lowercase',\n",
       " 'ascii_uppercase',\n",
       " 'capwords',\n",
       " 'digits',\n",
       " 'hexdigits',\n",
       " 'octdigits',\n",
       " 'printable',\n",
       " 'punctuation',\n",
       " 'whitespace']"
      ]
     },
     "execution_count": 57,
     "metadata": {},
     "output_type": "execute_result"
    }
   ],
   "source": [
    "dir(string)"
   ]
  },
  {
   "cell_type": "code",
   "execution_count": 58,
   "id": "68da165f-4920-4137-a850-830a4eb6ceda",
   "metadata": {},
   "outputs": [
    {
     "name": "stdout",
     "output_type": "stream",
     "text": [
      "the ascii value of ! is 33\n",
      "the ascii value of \" is 34\n",
      "the ascii value of # is 35\n",
      "the ascii value of $ is 36\n",
      "the ascii value of % is 37\n",
      "the ascii value of & is 38\n",
      "the ascii value of ' is 39\n",
      "the ascii value of ( is 40\n",
      "the ascii value of ) is 41\n",
      "the ascii value of * is 42\n",
      "the ascii value of + is 43\n",
      "the ascii value of , is 44\n",
      "the ascii value of - is 45\n",
      "the ascii value of . is 46\n",
      "the ascii value of / is 47\n",
      "the ascii value of : is 58\n",
      "the ascii value of ; is 59\n",
      "the ascii value of < is 60\n",
      "the ascii value of = is 61\n",
      "the ascii value of > is 62\n",
      "the ascii value of ? is 63\n",
      "the ascii value of @ is 64\n",
      "the ascii value of [ is 91\n",
      "the ascii value of \\ is 92\n",
      "the ascii value of ] is 93\n",
      "the ascii value of ^ is 94\n",
      "the ascii value of _ is 95\n",
      "the ascii value of ` is 96\n",
      "the ascii value of { is 123\n",
      "the ascii value of | is 124\n",
      "the ascii value of } is 125\n",
      "the ascii value of ~ is 126\n"
     ]
    }
   ],
   "source": [
    "for i in string.punctuation:\n",
    "    print(\"the ascii value of {} is {}\".format(i,ord(i)))"
   ]
  },
  {
   "cell_type": "code",
   "execution_count": 59,
   "id": "2abbacaf-753a-43c7-8b4f-0d3b06424967",
   "metadata": {},
   "outputs": [
    {
     "name": "stdout",
     "output_type": "stream",
     "text": [
      "the ascii value of a is 97\n",
      "the ascii value of b is 98\n",
      "the ascii value of c is 99\n",
      "the ascii value of d is 100\n",
      "the ascii value of e is 101\n",
      "the ascii value of f is 102\n",
      "the ascii value of g is 103\n",
      "the ascii value of h is 104\n",
      "the ascii value of i is 105\n",
      "the ascii value of j is 106\n",
      "the ascii value of k is 107\n",
      "the ascii value of l is 108\n",
      "the ascii value of m is 109\n",
      "the ascii value of n is 110\n",
      "the ascii value of o is 111\n",
      "the ascii value of p is 112\n",
      "the ascii value of q is 113\n",
      "the ascii value of r is 114\n",
      "the ascii value of s is 115\n",
      "the ascii value of t is 116\n",
      "the ascii value of u is 117\n",
      "the ascii value of v is 118\n",
      "the ascii value of w is 119\n",
      "the ascii value of x is 120\n",
      "the ascii value of y is 121\n",
      "the ascii value of z is 122\n",
      "the ascii value of A is 65\n",
      "the ascii value of B is 66\n",
      "the ascii value of C is 67\n",
      "the ascii value of D is 68\n",
      "the ascii value of E is 69\n",
      "the ascii value of F is 70\n",
      "the ascii value of G is 71\n",
      "the ascii value of H is 72\n",
      "the ascii value of I is 73\n",
      "the ascii value of J is 74\n",
      "the ascii value of K is 75\n",
      "the ascii value of L is 76\n",
      "the ascii value of M is 77\n",
      "the ascii value of N is 78\n",
      "the ascii value of O is 79\n",
      "the ascii value of P is 80\n",
      "the ascii value of Q is 81\n",
      "the ascii value of R is 82\n",
      "the ascii value of S is 83\n",
      "the ascii value of T is 84\n",
      "the ascii value of U is 85\n",
      "the ascii value of V is 86\n",
      "the ascii value of W is 87\n",
      "the ascii value of X is 88\n",
      "the ascii value of Y is 89\n",
      "the ascii value of Z is 90\n"
     ]
    }
   ],
   "source": [
    "for i in string.ascii_letters:\n",
    "    print(\"the ascii value of {} is {}\".format(i,ord(i)))"
   ]
  },
  {
   "cell_type": "code",
   "execution_count": 63,
   "id": "b9257654-7dc8-418f-a110-49d76f35ddce",
   "metadata": {},
   "outputs": [
    {
     "name": "stdout",
     "output_type": "stream",
     "text": [
      "H\n",
      "i\n",
      "i\n",
      "i\n",
      "i\n",
      "i\n",
      "i\n",
      "i\n",
      "i\n",
      " \n",
      "h\n",
      "o\n",
      "w\n",
      " \n",
      "a\n",
      "r\n",
      "e\n",
      " \n",
      "y\n",
      "o\n",
      "u\n",
      " \n",
      "a\n",
      "n\n",
      "d\n",
      " \n",
      "h\n",
      "o\n",
      "w\n",
      " \n",
      "d\n",
      "o\n",
      " \n",
      "y\n",
      "o\n",
      "u\n",
      " \n",
      "d\n",
      "o\n",
      "?\n",
      "2\n"
     ]
    }
   ],
   "source": [
    "string='Hiiiiiiii how are you and how do you do?'\n",
    "count=0\n",
    "for i in string:\n",
    "    print(i)\n",
    "    if i=='a':\n",
    "        count=count+1\n",
    "print(count)"
   ]
  },
  {
   "cell_type": "code",
   "execution_count": 33,
   "id": "f9a37a19-4949-42b0-be0d-4a0b263a4ab8",
   "metadata": {},
   "outputs": [
    {
     "name": "stdout",
     "output_type": "stream",
     "text": [
      "19\n"
     ]
    }
   ],
   "source": [
    "string='Hiiiiiiii how are you and how do you do?'\n",
    "count=0\n",
    "for i in string:\n",
    "    if i in 'aeiou':\n",
    "        count=count+1\n",
    "\n",
    "print(count)\n",
    "    "
   ]
  },
  {
   "cell_type": "code",
   "execution_count": 35,
   "id": "5dbcb161-f815-4e9c-bbcf-a3dd9f7b830b",
   "metadata": {},
   "outputs": [
    {
     "name": "stdout",
     "output_type": "stream",
     "text": [
      "Hiiiiiiii how are you and how do you do?python\n"
     ]
    }
   ],
   "source": [
    "string1='Hiiiiiiii how are you and how do you do?'\n",
    "count=0\n",
    "for i in 'python':\n",
    "    string1=string1+i\n",
    "\n",
    "print(string1)"
   ]
  },
  {
   "cell_type": "markdown",
   "id": "808d1084-7f4b-4026-8c78-888cf835cee4",
   "metadata": {},
   "source": [
    "**STRING CONCATENATION**"
   ]
  },
  {
   "cell_type": "code",
   "execution_count": 36,
   "id": "84b4c4c4-04fc-4d46-9b0d-c386c9bcf24b",
   "metadata": {},
   "outputs": [
    {
     "data": {
      "text/plain": [
       "'Haihow'"
      ]
     },
     "execution_count": 36,
     "metadata": {},
     "output_type": "execute_result"
    }
   ],
   "source": [
    "str1='Hai'\n",
    "str2='how'\n",
    "str1+str2"
   ]
  },
  {
   "cell_type": "code",
   "execution_count": 37,
   "id": "b983a63b-8456-4d91-b945-fced7083af96",
   "metadata": {},
   "outputs": [
    {
     "ename": "TypeError",
     "evalue": "unsupported operand type(s) for -: 'str' and 'str'",
     "output_type": "error",
     "traceback": [
      "\u001b[1;31m---------------------------------------------------------------------------\u001b[0m",
      "\u001b[1;31mTypeError\u001b[0m                                 Traceback (most recent call last)",
      "Cell \u001b[1;32mIn[37], line 1\u001b[0m\n\u001b[1;32m----> 1\u001b[0m str1\u001b[38;5;241m-\u001b[39mstr2\n",
      "\u001b[1;31mTypeError\u001b[0m: unsupported operand type(s) for -: 'str' and 'str'"
     ]
    }
   ],
   "source": [
    "str1-str2"
   ]
  },
  {
   "cell_type": "code",
   "execution_count": 38,
   "id": "b5dd782c-bd7e-4b85-bb7a-1b09f5ed63ef",
   "metadata": {},
   "outputs": [
    {
     "ename": "TypeError",
     "evalue": "can't multiply sequence by non-int of type 'str'",
     "output_type": "error",
     "traceback": [
      "\u001b[1;31m---------------------------------------------------------------------------\u001b[0m",
      "\u001b[1;31mTypeError\u001b[0m                                 Traceback (most recent call last)",
      "Cell \u001b[1;32mIn[38], line 1\u001b[0m\n\u001b[1;32m----> 1\u001b[0m str1\u001b[38;5;241m*\u001b[39mstr2\n",
      "\u001b[1;31mTypeError\u001b[0m: can't multiply sequence by non-int of type 'str'"
     ]
    }
   ],
   "source": [
    "str1*str2"
   ]
  },
  {
   "cell_type": "code",
   "execution_count": 39,
   "id": "004a4c49-9355-4113-aceb-cc3389d9adde",
   "metadata": {},
   "outputs": [
    {
     "ename": "TypeError",
     "evalue": "unsupported operand type(s) for /: 'str' and 'str'",
     "output_type": "error",
     "traceback": [
      "\u001b[1;31m---------------------------------------------------------------------------\u001b[0m",
      "\u001b[1;31mTypeError\u001b[0m                                 Traceback (most recent call last)",
      "Cell \u001b[1;32mIn[39], line 1\u001b[0m\n\u001b[1;32m----> 1\u001b[0m str1\u001b[38;5;241m/\u001b[39mstr2\n",
      "\u001b[1;31mTypeError\u001b[0m: unsupported operand type(s) for /: 'str' and 'str'"
     ]
    }
   ],
   "source": [
    "str1/str2"
   ]
  },
  {
   "cell_type": "markdown",
   "id": "b84df2b9-f714-437f-a3a6-bb42437f8318",
   "metadata": {},
   "source": [
    "**index**"
   ]
  },
  {
   "cell_type": "code",
   "execution_count": 41,
   "id": "59b8ce25-578e-4615-8dd3-7954fc061f24",
   "metadata": {},
   "outputs": [
    {
     "name": "stdout",
     "output_type": "stream",
     "text": [
      "p\n",
      "y\n",
      "t\n",
      "h\n",
      "o\n",
      "n\n"
     ]
    }
   ],
   "source": [
    "string1='python'\n",
    "for i in range(6):\n",
    "    print(string1[i])\n"
   ]
  },
  {
   "cell_type": "markdown",
   "id": "f04bef34-f832-4502-aa62-d211e1dfc804",
   "metadata": {},
   "source": [
    "**in**"
   ]
  },
  {
   "cell_type": "markdown",
   "id": "a1ba0241-bd04-455e-b990-b0ae714377a4",
   "metadata": {},
   "source": [
    "**using in-operator**"
   ]
  },
  {
   "cell_type": "code",
   "execution_count": 42,
   "id": "7a6b9820-9b5c-49d5-9645-fd032f74fd4c",
   "metadata": {},
   "outputs": [
    {
     "name": "stdout",
     "output_type": "stream",
     "text": [
      "p\n",
      "y\n",
      "t\n",
      "h\n",
      "o\n",
      "n\n"
     ]
    }
   ],
   "source": [
    "for i in string1:\n",
    "    print(i)"
   ]
  },
  {
   "attachments": {},
   "cell_type": "markdown",
   "id": "b8393ce0-fdfd-4d82-b0cc-bea7c0a8f890",
   "metadata": {},
   "source": [
    "**using range-operator**\n",
    "\n"
   ]
  },
  {
   "cell_type": "code",
   "execution_count": 43,
   "id": "21d35d7f-1c75-4e60-a4a1-ba723092490e",
   "metadata": {},
   "outputs": [
    {
     "name": "stdout",
     "output_type": "stream",
     "text": [
      "p\n",
      "y\n",
      "t\n",
      "h\n",
      "o\n",
      "n\n"
     ]
    }
   ],
   "source": [
    "for i in range(len(string1)):\n",
    "    print(string1[i])"
   ]
  },
  {
   "cell_type": "code",
   "execution_count": 64,
   "id": "b04e3581-ccd3-49e1-afbf-8e71e2e787d7",
   "metadata": {},
   "outputs": [
    {
     "name": "stdout",
     "output_type": "stream",
     "text": [
      "python"
     ]
    }
   ],
   "source": [
    "string1='python'\n",
    "for i in string1:\n",
    "    print(i,end='')\n",
    "    \n"
   ]
  },
  {
   "cell_type": "code",
   "execution_count": 65,
   "id": "2e6801f2-07e8-41c0-9053-62393aaadc06",
   "metadata": {},
   "outputs": [
    {
     "name": "stdout",
     "output_type": "stream",
     "text": [
      "p  y  t  h  o  n  "
     ]
    }
   ],
   "source": [
    "string1='python'\n",
    "for i in string1:\n",
    "    print(i,end='  ')\n",
    "    "
   ]
  },
  {
   "cell_type": "code",
   "execution_count": 67,
   "id": "05f72cbd-530a-4434-9295-47ac73f2b5ec",
   "metadata": {},
   "outputs": [
    {
     "name": "stdout",
     "output_type": "stream",
     "text": [
      "0 p\n",
      "1 y\n",
      "2 t\n",
      "3 h\n",
      "4 o\n",
      "5 n\n"
     ]
    }
   ],
   "source": [
    "string1='python'\n",
    "for i in range(len(string1)):\n",
    "    print(i,string1[i])"
   ]
  },
  {
   "cell_type": "code",
   "execution_count": 69,
   "id": "324405b4-0b66-4870-9793-b59e57d8da77",
   "metadata": {},
   "outputs": [
    {
     "name": "stdout",
     "output_type": "stream",
     "text": [
      "the index of p is 0\n",
      "the index of y is 1\n",
      "the index of t is 2\n",
      "the index of h is 3\n",
      "the index of o is 4\n",
      "the index of n is 5\n"
     ]
    }
   ],
   "source": [
    "string1='python'\n",
    "for i in range(len(string1)):\n",
    "    print(\"the index of {} is {}\".format(string1[i],i))"
   ]
  },
  {
   "cell_type": "markdown",
   "id": "b8113e6a-58af-495c-b05f-a1336abecef4",
   "metadata": {},
   "source": [
    "**print the number using -ive index between-6 to -1**"
   ]
  },
  {
   "cell_type": "code",
   "execution_count": 70,
   "id": "93be016a-f75c-4d0c-b28a-bf7c24249d09",
   "metadata": {},
   "outputs": [
    {
     "name": "stdout",
     "output_type": "stream",
     "text": [
      "the -ive index of p is -6\n",
      "the -ive index of y is -5\n",
      "the -ive index of t is -4\n",
      "the -ive index of h is -3\n",
      "the -ive index of o is -2\n",
      "the -ive index of n is -1\n"
     ]
    }
   ],
   "source": [
    "string1='python'\n",
    "for i in range(-6,0):\n",
    "    print(\"the -ive index of {} is {}\".format(string1[i],i))\n"
   ]
  },
  {
   "cell_type": "code",
   "execution_count": 73,
   "id": "d9e308f5-e279-4215-aa28-492944848481",
   "metadata": {},
   "outputs": [
    {
     "name": "stdout",
     "output_type": "stream",
     "text": [
      "the -ive index of p is -6\n",
      "the -ive index of y is -5\n",
      "the -ive index of t is -4\n",
      "the -ive index of h is -3\n",
      "the -ive index of o is -2\n",
      "the -ive index of n is -1\n"
     ]
    }
   ],
   "source": [
    "string1='python'\n",
    "for i in range(-len(string1),0):\n",
    "    print(\"the -ive index of {} is {}\".format(string1[i],i))"
   ]
  },
  {
   "cell_type": "code",
   "execution_count": 74,
   "id": "1fc161e4-5b06-440f-a5e4-59813cc74782",
   "metadata": {},
   "outputs": [
    {
     "name": "stdout",
     "output_type": "stream",
     "text": [
      "-6-5-4-3-2-1"
     ]
    }
   ],
   "source": [
    "string1='python'\n",
    "for i in range(-6,0):print(i,end='')"
   ]
  },
  {
   "cell_type": "code",
   "execution_count": 75,
   "id": "5cd3e896-bb86-4a33-a784-54b798950e44",
   "metadata": {},
   "outputs": [
    {
     "name": "stdout",
     "output_type": "stream",
     "text": [
      "-6-5-4-3-2-1"
     ]
    }
   ],
   "source": [
    "string1='python'\n",
    "for i in range(0,6):print(i-6,end='')"
   ]
  },
  {
   "cell_type": "code",
   "execution_count": 76,
   "id": "1d41764d-4524-47b9-9e30-3c8f8fe3ab53",
   "metadata": {},
   "outputs": [
    {
     "name": "stdout",
     "output_type": "stream",
     "text": [
      "the positive index is 0 and the negative index is p\n",
      "the positive index is 1 and the negative index is y\n",
      "the positive index is 2 and the negative index is t\n",
      "the positive index is 3 and the negative index is h\n",
      "the positive index is 4 and the negative index is o\n",
      "the positive index is 5 and the negative index is n\n"
     ]
    }
   ],
   "source": [
    "string1='python'\n",
    "for i in range(len(string1)):\n",
    "    print(\"the positive index is {} and the negative index is {}\".format(i,string1[i],i-6))"
   ]
  },
  {
   "cell_type": "markdown",
   "id": "285b4aa4-0967-4b74-b50c-0f99e981aec0",
   "metadata": {},
   "source": [
    "**implement same example using while loop**"
   ]
  },
  {
   "cell_type": "code",
   "execution_count": 77,
   "id": "7a9f2478-b481-40f3-9e99-6424fe5d01a4",
   "metadata": {},
   "outputs": [
    {
     "name": "stdout",
     "output_type": "stream",
     "text": [
      "0\n",
      "1\n",
      "2\n",
      "3\n",
      "4\n",
      "5\n"
     ]
    }
   ],
   "source": [
    "i=0\n",
    "while i<len(string1):\n",
    "    print(i)\n",
    "    i=i+1\n"
   ]
  },
  {
   "cell_type": "code",
   "execution_count": 80,
   "id": "779e0f32-e12c-4571-8d3d-1a4aae3d3c1f",
   "metadata": {},
   "outputs": [
    {
     "name": "stdout",
     "output_type": "stream",
     "text": [
      "-6 0\n",
      "-5 1\n",
      "-4 2\n",
      "-3 3\n",
      "-2 4\n",
      "-1 5\n"
     ]
    }
   ],
   "source": [
    "string1='python'\n",
    "for i in range(-len(string1),0):\n",
    "    print(i,i+6)"
   ]
  },
  {
   "cell_type": "code",
   "execution_count": 3,
   "id": "105b86d3-7cdd-4c24-bd1a-034b2582e181",
   "metadata": {},
   "outputs": [
    {
     "name": "stdout",
     "output_type": "stream",
     "text": [
      "the positive index is 6 and the negative index is p\n",
      "the positive index is 7 and the negative index is y\n",
      "the positive index is 8 and the negative index is t\n",
      "the positive index is 9 and the negative index is h\n",
      "the positive index is 10 and the negative index is o\n",
      "the positive index is 11 and the negative index is n\n"
     ]
    }
   ],
   "source": [
    "string1='python'\n",
    "i=0\n",
    "while i<len(string1):\n",
    "    print(\"the positive index is {} and the negative index is {}\".format(i+6,string1[i],i))\n",
    "\n",
    "    i=i+1"
   ]
  },
  {
   "cell_type": "markdown",
   "id": "db1b0fb0-f30e-445a-9284-81d2ba082a04",
   "metadata": {},
   "source": [
    "**In-operator**"
   ]
  },
  {
   "cell_type": "code",
   "execution_count": 5,
   "id": "713ef19f-f7db-44e8-9821-c50aa5482c48",
   "metadata": {},
   "outputs": [
    {
     "name": "stdout",
     "output_type": "stream",
     "text": [
      "2\n"
     ]
    }
   ],
   "source": [
    "string1='hiiiii how are you'\n",
    "count=1\n",
    "for i in string1:\n",
    "    if i=='a':\n",
    "        count+=1\n",
    "print(count)"
   ]
  },
  {
   "cell_type": "markdown",
   "id": "918241e5-be65-4505-92bb-60e85191f3dc",
   "metadata": {},
   "source": [
    "**Range-operator**"
   ]
  },
  {
   "cell_type": "code",
   "execution_count": 6,
   "id": "e93ee2ce-1cb1-4364-a12f-1ba6c9d2eb49",
   "metadata": {},
   "outputs": [
    {
     "name": "stdout",
     "output_type": "stream",
     "text": [
      "2\n"
     ]
    }
   ],
   "source": [
    "string1='hiiiii how are you'\n",
    "count=1\n",
    "for i in range(len(string1)):\n",
    "    if string1[i]=='a':\n",
    "        count+=1\n",
    "print(count)"
   ]
  },
  {
   "attachments": {},
   "cell_type": "markdown",
   "id": "86d0cfd3-5b44-4b3f-a61d-b3f6e01dd5f8",
   "metadata": {},
   "source": [
    "**MUTABLE AND IMMUTABLE CONCEPT**\n",
    "\n",
    "List are mutuable but strings are immutable\n",
    "\n"
   ]
  },
  {
   "cell_type": "code",
   "execution_count": 7,
   "id": "3ecf1f67-8eb8-4f0b-b14d-d5f15b4239a2",
   "metadata": {},
   "outputs": [
    {
     "data": {
      "text/plain": [
       "[1000, 200, 300]"
      ]
     },
     "execution_count": 7,
     "metadata": {},
     "output_type": "execute_result"
    }
   ],
   "source": [
    "list1=[100,200,300]\n",
    "list1[0]=1000\n",
    "list1"
   ]
  },
  {
   "cell_type": "markdown",
   "id": "8c326534-1c34-48dd-86b3-ce1cbb52f861",
   "metadata": {},
   "source": [
    "**Slice**"
   ]
  },
  {
   "cell_type": "code",
   "execution_count": null,
   "id": "4770062e-317d-4eab-b8ee-50bbf76b0b44",
   "metadata": {},
   "outputs": [],
   "source": [
    "string1='hiiiii how are you'\n",
    "string1[start:stop]"
   ]
  },
  {
   "cell_type": "code",
   "execution_count": 11,
   "id": "d9805d27-f04a-49f9-a945-887eb581c776",
   "metadata": {},
   "outputs": [
    {
     "data": {
      "text/plain": [
       "'iiii how'"
      ]
     },
     "execution_count": 11,
     "metadata": {},
     "output_type": "execute_result"
    }
   ],
   "source": [
    "string1='hiiiii how are you'\n",
    "string1[2:10]"
   ]
  },
  {
   "cell_type": "code",
   "execution_count": 12,
   "id": "ce4033d6-f3dd-4cc4-b7cb-a6f31cb2b7a5",
   "metadata": {},
   "outputs": [
    {
     "data": {
      "text/plain": [
       "'iio'"
      ]
     },
     "execution_count": 12,
     "metadata": {},
     "output_type": "execute_result"
    }
   ],
   "source": [
    "string1='hiiiii how are you'\n",
    "string1[2:10:3]"
   ]
  },
  {
   "cell_type": "code",
   "execution_count": 13,
   "id": "289512fd-3ac4-4ae0-8b5c-78adbbdf3933",
   "metadata": {},
   "outputs": [
    {
     "data": {
      "text/plain": [
       "'hiiiii how are you'"
      ]
     },
     "execution_count": 13,
     "metadata": {},
     "output_type": "execute_result"
    }
   ],
   "source": [
    "string1[:]"
   ]
  },
  {
   "cell_type": "code",
   "execution_count": 14,
   "id": "fec822b4-ee57-4e43-b88a-a620fb02762f",
   "metadata": {},
   "outputs": [
    {
     "data": {
      "text/plain": [
       "'hiiiii how are you'"
      ]
     },
     "execution_count": 14,
     "metadata": {},
     "output_type": "execute_result"
    }
   ],
   "source": [
    "string1[::]"
   ]
  },
  {
   "cell_type": "code",
   "execution_count": 15,
   "id": "87e25b3b-d40b-4ab8-a572-21f7610973cd",
   "metadata": {},
   "outputs": [
    {
     "data": {
      "text/plain": [
       "''"
      ]
     },
     "execution_count": 15,
     "metadata": {},
     "output_type": "execute_result"
    }
   ],
   "source": [
    "string1[2:10:-3]"
   ]
  },
  {
   "cell_type": "code",
   "execution_count": 16,
   "id": "f81ae620-d928-4ed2-bfde-aea24bdc18b7",
   "metadata": {},
   "outputs": [
    {
     "name": "stdout",
     "output_type": "stream",
     "text": [
      "17\n"
     ]
    }
   ],
   "source": [
    "string1[2:10:-3]\n",
    "print(i)"
   ]
  },
  {
   "cell_type": "code",
   "execution_count": 17,
   "id": "c6d4661e-7ea9-4ce7-871a-84ee9a6fbe5e",
   "metadata": {},
   "outputs": [
    {
     "data": {
      "text/plain": [
       "'ii o r'"
      ]
     },
     "execution_count": 17,
     "metadata": {},
     "output_type": "execute_result"
    }
   ],
   "source": [
    "string1='hiiiii how are you'\n",
    "string1[2:14:2]"
   ]
  },
  {
   "cell_type": "code",
   "execution_count": 18,
   "id": "6cfddf5d-a5e9-4b6e-8d25-9880edcde625",
   "metadata": {},
   "outputs": [
    {
     "data": {
      "text/plain": [
       "''"
      ]
     },
     "execution_count": 18,
     "metadata": {},
     "output_type": "execute_result"
    }
   ],
   "source": [
    "string1='hiiiii how are you'\n",
    "string1[2:14:-2]"
   ]
  },
  {
   "cell_type": "code",
   "execution_count": 19,
   "id": "09265fa1-ca13-401e-b7d7-77820196d1e4",
   "metadata": {},
   "outputs": [
    {
     "data": {
      "text/plain": [
       "''"
      ]
     },
     "execution_count": 19,
     "metadata": {},
     "output_type": "execute_result"
    }
   ],
   "source": [
    "string1='hiiiii how are you'\n",
    "string1[2:-14:-2]"
   ]
  },
  {
   "cell_type": "code",
   "execution_count": 20,
   "id": "0e589327-ef17-416c-830b-ea8234c7f423",
   "metadata": {},
   "outputs": [
    {
     "data": {
      "text/plain": [
       "'i'"
      ]
     },
     "execution_count": 20,
     "metadata": {},
     "output_type": "execute_result"
    }
   ],
   "source": [
    "string1='hiiiii how are you'\n",
    "string1[2:-14:2]"
   ]
  },
  {
   "cell_type": "code",
   "execution_count": 21,
   "id": "81669ebe-14d2-4552-9615-9d16933b975f",
   "metadata": {},
   "outputs": [
    {
     "data": {
      "text/plain": [
       "''"
      ]
     },
     "execution_count": 21,
     "metadata": {},
     "output_type": "execute_result"
    }
   ],
   "source": [
    "string1='hiiiii how are you'\n",
    "string1[-2:-14:2]"
   ]
  },
  {
   "cell_type": "code",
   "execution_count": 22,
   "id": "fa7ce630-1425-4f63-9c62-7788511639de",
   "metadata": {},
   "outputs": [
    {
     "data": {
      "text/plain": [
       "'o r o '"
      ]
     },
     "execution_count": 22,
     "metadata": {},
     "output_type": "execute_result"
    }
   ],
   "source": [
    "string1='hiiiii how are you'\n",
    "string1[-2:-14:-2]"
   ]
  },
  {
   "cell_type": "markdown",
   "id": "8209ae51-6bdb-4a49-abe4-cb56b5ce683a",
   "metadata": {},
   "source": [
    "**Strings Methods**"
   ]
  },
  {
   "cell_type": "code",
   "execution_count": null,
   "id": "293112e3-9c17-4947-95bf-d40afbdcc324",
   "metadata": {},
   "outputs": [],
   "source": [
    "import<package_name>"
   ]
  },
  {
   "cell_type": "code",
   "execution_count": null,
   "id": "740fb4e1-a0ff-45cc-b0fc-24ec22db6573",
   "metadata": {},
   "outputs": [],
   "source": [
    "dir(<package_name>)"
   ]
  },
  {
   "cell_type": "code",
   "execution_count": null,
   "id": "88d1f20e-d5e5-4e58-b683-95c799965617",
   "metadata": {},
   "outputs": [],
   "source": [
    "help(<package_name>.<method_name>)"
   ]
  },
  {
   "cell_type": "code",
   "execution_count": null,
   "id": "a7b84673-89b1-4c1f-88ca-d8daa497de3f",
   "metadata": {},
   "outputs": [],
   "source": [
    "dir('')"
   ]
  },
  {
   "cell_type": "markdown",
   "id": "58812979-f19b-4b72-b22b-b6ffb8e3ddc6",
   "metadata": {},
   "source": [
    "**CAPITALIZE**"
   ]
  },
  {
   "cell_type": "code",
   "execution_count": 23,
   "id": "95a226a3-c8cc-471b-b951-a63ef88de999",
   "metadata": {},
   "outputs": [
    {
     "data": {
      "text/plain": [
       "'Welcome'"
      ]
     },
     "execution_count": 23,
     "metadata": {},
     "output_type": "execute_result"
    }
   ],
   "source": [
    "string1='welcome'\n",
    "string1.capitalize()"
   ]
  },
  {
   "cell_type": "code",
   "execution_count": 24,
   "id": "1312d334-e1f2-4a6e-aea8-bcbd4a44d825",
   "metadata": {},
   "outputs": [
    {
     "name": "stdout",
     "output_type": "stream",
     "text": [
      "Welcome\n",
      "WELCOME\n",
      "welcome\n"
     ]
    }
   ],
   "source": [
    "string1='weLCome'\n",
    "print(string1.capitalize())\n",
    "print(string1.upper())\n",
    "print(string1.lower())"
   ]
  },
  {
   "cell_type": "code",
   "execution_count": 25,
   "id": "65ed6ce1-2edb-43fc-b7e6-b9ea9367d21d",
   "metadata": {},
   "outputs": [
    {
     "ename": "TypeError",
     "evalue": "Random.randint() missing 2 required positional arguments: 'a' and 'b'",
     "output_type": "error",
     "traceback": [
      "\u001b[1;31m---------------------------------------------------------------------------\u001b[0m",
      "\u001b[1;31mTypeError\u001b[0m                                 Traceback (most recent call last)",
      "Cell \u001b[1;32mIn[25], line 2\u001b[0m\n\u001b[0;32m      1\u001b[0m \u001b[38;5;28;01mimport\u001b[39;00m \u001b[38;5;21;01mrandom\u001b[39;00m\n\u001b[1;32m----> 2\u001b[0m random\u001b[38;5;241m.\u001b[39mrandint()\n",
      "\u001b[1;31mTypeError\u001b[0m: Random.randint() missing 2 required positional arguments: 'a' and 'b'"
     ]
    }
   ],
   "source": [
    "import random\n",
    "random.randint()"
   ]
  },
  {
   "cell_type": "code",
   "execution_count": 26,
   "id": "5f851918-9497-4631-bf7b-5117347145f8",
   "metadata": {},
   "outputs": [
    {
     "data": {
      "text/plain": [
       "0j"
      ]
     },
     "execution_count": 26,
     "metadata": {},
     "output_type": "execute_result"
    }
   ],
   "source": [
    "complex()"
   ]
  },
  {
   "cell_type": "markdown",
   "id": "9f7b51f5-6955-471c-874e-1b02fb1e39d4",
   "metadata": {},
   "source": [
    "**casefold**"
   ]
  },
  {
   "cell_type": "code",
   "execution_count": 27,
   "id": "de621971-c1cd-454d-b599-90652005e7a7",
   "metadata": {},
   "outputs": [
    {
     "data": {
      "text/plain": [
       "'welcome'"
      ]
     },
     "execution_count": 27,
     "metadata": {},
     "output_type": "execute_result"
    }
   ],
   "source": [
    "string1='weLCome'\n",
    "string1.casefold()"
   ]
  },
  {
   "cell_type": "code",
   "execution_count": 28,
   "id": "43a76bbf-48be-4932-b821-18079cd63f90",
   "metadata": {},
   "outputs": [
    {
     "data": {
      "text/plain": [
       "'welcome'"
      ]
     },
     "execution_count": 28,
     "metadata": {},
     "output_type": "execute_result"
    }
   ],
   "source": [
    "string2='welcome'\n",
    "string2.casefold()"
   ]
  },
  {
   "cell_type": "markdown",
   "id": "d80666fc-fdaf-4b40-811a-df650172defc",
   "metadata": {},
   "source": [
    "**count**"
   ]
  },
  {
   "cell_type": "code",
   "execution_count": 30,
   "id": "ee72a201-1259-45ba-abca-117cab13100a",
   "metadata": {},
   "outputs": [
    {
     "data": {
      "text/plain": [
       "1"
      ]
     },
     "execution_count": 30,
     "metadata": {},
     "output_type": "execute_result"
    }
   ],
   "source": [
    "string1='hiiiii how are you'\n",
    "string1.count('a')"
   ]
  },
  {
   "cell_type": "code",
   "execution_count": 31,
   "id": "a2c70c2f-39f4-46d9-a874-b97147efd498",
   "metadata": {},
   "outputs": [
    {
     "data": {
      "text/plain": [
       "0"
      ]
     },
     "execution_count": 31,
     "metadata": {},
     "output_type": "execute_result"
    }
   ],
   "source": [
    "string1='hiiiii how are you'\n",
    "string1.count('hai')"
   ]
  },
  {
   "cell_type": "code",
   "execution_count": 32,
   "id": "9493afe5-5e25-4000-bd5e-4feb4f3b5ac8",
   "metadata": {},
   "outputs": [
    {
     "data": {
      "text/plain": [
       "1"
      ]
     },
     "execution_count": 32,
     "metadata": {},
     "output_type": "execute_result"
    }
   ],
   "source": [
    "string1='hiiiii how are you'\n",
    "string1.count('are')"
   ]
  },
  {
   "cell_type": "code",
   "execution_count": 33,
   "id": "59567840-3016-4d30-9a69-dee43d0a22f6",
   "metadata": {},
   "outputs": [
    {
     "data": {
      "text/plain": [
       "3"
      ]
     },
     "execution_count": 33,
     "metadata": {},
     "output_type": "execute_result"
    }
   ],
   "source": [
    "string1='ola ola ola'\n",
    "string1.count('ola')"
   ]
  },
  {
   "cell_type": "code",
   "execution_count": 37,
   "id": "02bd10f2-50f2-4875-9b7e-1a7535f98aa6",
   "metadata": {},
   "outputs": [
    {
     "data": {
      "text/plain": [
       "2"
      ]
     },
     "execution_count": 37,
     "metadata": {},
     "output_type": "execute_result"
    }
   ],
   "source": [
    "string1.count('ola ')"
   ]
  },
  {
   "cell_type": "code",
   "execution_count": 38,
   "id": "e5a4928e-8f03-4a81-8f55-1c398f2e1f91",
   "metadata": {},
   "outputs": [
    {
     "data": {
      "text/plain": [
       "3"
      ]
     },
     "execution_count": 38,
     "metadata": {},
     "output_type": "execute_result"
    }
   ],
   "source": [
    "string1.count('ol')"
   ]
  },
  {
   "cell_type": "code",
   "execution_count": 39,
   "id": "c6496b1e-7a62-4bf8-a12a-0e233985115e",
   "metadata": {},
   "outputs": [
    {
     "name": "stdout",
     "output_type": "stream",
     "text": [
      "0\n"
     ]
    }
   ],
   "source": [
    "print(string1.count('oa'))"
   ]
  },
  {
   "cell_type": "code",
   "execution_count": 40,
   "id": "e3b86062-801b-4d35-828f-a8b6ba41b7df",
   "metadata": {},
   "outputs": [
    {
     "data": {
      "text/plain": [
       "2"
      ]
     },
     "execution_count": 40,
     "metadata": {},
     "output_type": "execute_result"
    }
   ],
   "source": [
    "string1.count('a',4)"
   ]
  },
  {
   "cell_type": "code",
   "execution_count": 41,
   "id": "0b8315fe-11d1-4fa6-9d0b-ffae7cb6c2dc",
   "metadata": {},
   "outputs": [
    {
     "data": {
      "text/plain": [
       "2"
      ]
     },
     "execution_count": 41,
     "metadata": {},
     "output_type": "execute_result"
    }
   ],
   "source": [
    "string1.count('a',6)"
   ]
  },
  {
   "cell_type": "code",
   "execution_count": 42,
   "id": "9f3f2278-90b9-4b29-9ad7-0142fc612147",
   "metadata": {},
   "outputs": [
    {
     "data": {
      "text/plain": [
       "0"
      ]
     },
     "execution_count": 42,
     "metadata": {},
     "output_type": "execute_result"
    }
   ],
   "source": [
    "string1.count('a',4,6)"
   ]
  },
  {
   "cell_type": "code",
   "execution_count": 43,
   "id": "32e493b3-2516-4126-8bf0-2cb3dcaff2ba",
   "metadata": {},
   "outputs": [
    {
     "data": {
      "text/plain": [
       "1"
      ]
     },
     "execution_count": 43,
     "metadata": {},
     "output_type": "execute_result"
    }
   ],
   "source": [
    "string1.count('a',4,7)"
   ]
  },
  {
   "cell_type": "code",
   "execution_count": 50,
   "id": "05064634-bf13-4399-a9ae-47276ea064a0",
   "metadata": {},
   "outputs": [
    {
     "data": {
      "text/plain": [
       "0"
      ]
     },
     "execution_count": 50,
     "metadata": {},
     "output_type": "execute_result"
    }
   ],
   "source": [
    "string1='ola ola ola'\n",
    "string1.count('A')"
   ]
  },
  {
   "cell_type": "code",
   "execution_count": 52,
   "id": "134accbd-bcd6-4b12-a90c-59acadd79e71",
   "metadata": {},
   "outputs": [
    {
     "data": {
      "text/plain": [
       "'ola ola ola'"
      ]
     },
     "execution_count": 52,
     "metadata": {},
     "output_type": "execute_result"
    }
   ],
   "source": [
    "string1='ola ola ola'\n",
    "string1.lower()"
   ]
  },
  {
   "cell_type": "code",
   "execution_count": 53,
   "id": "6ab0c4e3-e930-431a-a1a6-6144c97d021f",
   "metadata": {},
   "outputs": [
    {
     "data": {
      "text/plain": [
       "'OLA OLA OLA'"
      ]
     },
     "execution_count": 53,
     "metadata": {},
     "output_type": "execute_result"
    }
   ],
   "source": [
    "string1='ola ola ola'\n",
    "string1.upper()"
   ]
  },
  {
   "cell_type": "code",
   "execution_count": 55,
   "id": "626791b3-7be4-40ac-9e64-7c7c4079af35",
   "metadata": {},
   "outputs": [
    {
     "data": {
      "text/plain": [
       "2"
      ]
     },
     "execution_count": 55,
     "metadata": {},
     "output_type": "execute_result"
    }
   ],
   "source": [
    "string1='ola ola ola'\n",
    "string1.count('A'.lower(),4)"
   ]
  },
  {
   "cell_type": "code",
   "execution_count": 58,
   "id": "c8341c30-74f9-475e-93c2-0543e14f6f87",
   "metadata": {},
   "outputs": [
    {
     "name": "stdout",
     "output_type": "stream",
     "text": [
      "3\n"
     ]
    }
   ],
   "source": [
    "string1='ola ola ola'\n",
    "count=0\n",
    "for i in string1:\n",
    "    if i=='a':\n",
    "        count+=1\n",
    "\n",
    "print(count)"
   ]
  },
  {
   "attachments": {},
   "cell_type": "markdown",
   "id": "735334ce-64bd-48e4-bc20-2bd1a052d5b6",
   "metadata": {},
   "source": [
    "$ HOW  MANY  OLA  ARE  THERE....? $\n",
    "\n",
    "\n",
    "\n"
   ]
  },
  {
   "cell_type": "code",
   "execution_count": 60,
   "id": "37f7d8a5-4efa-4ebb-9bf3-60fef697fb57",
   "metadata": {},
   "outputs": [
    {
     "name": "stdout",
     "output_type": "stream",
     "text": [
      "1\n"
     ]
    }
   ],
   "source": [
    "string1='ola ola ola'\n",
    "count=0\n",
    "word=''\n",
    "for i in string1:\n",
    "    if i!='':\n",
    "        word+=i\n",
    "    if word=='ola':\n",
    "        count+=1\n",
    "        word=''\n",
    "print(count)"
   ]
  },
  {
   "cell_type": "code",
   "execution_count": 63,
   "id": "b0677ac1-0d22-4de3-9563-f9f223ba20f8",
   "metadata": {},
   "outputs": [
    {
     "name": "stdout",
     "output_type": "stream",
     "text": [
      "3\n"
     ]
    }
   ],
   "source": [
    "string1='ola ola ola'\n",
    "count=0\n",
    "for i in range(len(string1)):\n",
    "    if string1[i:i+3]=='ola':\n",
    "        count+=1\n",
    "\n",
    "print(count)"
   ]
  },
  {
   "cell_type": "markdown",
   "id": "678a6eda-62b0-43dd-a14c-a87c8bc11938",
   "metadata": {},
   "source": [
    "**replace**"
   ]
  },
  {
   "cell_type": "code",
   "execution_count": 64,
   "id": "129700ee-5f32-4e56-be18-0c68d6adc909",
   "metadata": {},
   "outputs": [
    {
     "data": {
      "text/plain": [
       "'weLLLLcome'"
      ]
     },
     "execution_count": 64,
     "metadata": {},
     "output_type": "execute_result"
    }
   ],
   "source": [
    "string1='welcome'\n",
    "string1.replace('l','LLLL')"
   ]
  },
  {
   "cell_type": "code",
   "execution_count": 65,
   "id": "104d0058-ea33-4d9b-804a-eae89b94f37c",
   "metadata": {},
   "outputs": [
    {
     "data": {
      "text/plain": [
       "7"
      ]
     },
     "execution_count": 65,
     "metadata": {},
     "output_type": "execute_result"
    }
   ],
   "source": [
    "len(string1)"
   ]
  },
  {
   "cell_type": "code",
   "execution_count": 66,
   "id": "de6543fd-192d-4609-991a-e65b2ec65b94",
   "metadata": {},
   "outputs": [
    {
     "data": {
      "text/plain": [
       "'w'"
      ]
     },
     "execution_count": 66,
     "metadata": {},
     "output_type": "execute_result"
    }
   ],
   "source": [
    "max(string1)"
   ]
  },
  {
   "cell_type": "code",
   "execution_count": 67,
   "id": "05458892-8613-4b9c-8c23-8b3cce8304c1",
   "metadata": {},
   "outputs": [
    {
     "data": {
      "text/plain": [
       "'res$ar$'"
      ]
     },
     "execution_count": 67,
     "metadata": {},
     "output_type": "execute_result"
    }
   ],
   "source": [
    "string1='restart'\n",
    "string1.replace('t','$')       #replace t with $"
   ]
  },
  {
   "cell_type": "code",
   "execution_count": 69,
   "id": "a72c8133-3b45-4a1f-ac18-3d42c404aa2f",
   "metadata": {},
   "outputs": [
    {
     "data": {
      "text/plain": [
       "'resta$t'"
      ]
     },
     "execution_count": 69,
     "metadata": {},
     "output_type": "execute_result"
    }
   ],
   "source": [
    "string1='restart'\n",
    "s1=string1[0]\n",
    "s2=string1[1:].replace('r','$')\n",
    "s1+s2"
   ]
  },
  {
   "cell_type": "code",
   "execution_count": 70,
   "id": "e8fc4eb6-4223-4f27-bec8-0e909ea37011",
   "metadata": {},
   "outputs": [
    {
     "data": {
      "text/plain": [
       "'resta$t'"
      ]
     },
     "execution_count": 70,
     "metadata": {},
     "output_type": "execute_result"
    }
   ],
   "source": [
    "string1='restart'\n",
    "string1[::-1].replace('r','$',1)[::-1]"
   ]
  },
  {
   "cell_type": "markdown",
   "id": "f8e6b8df-7697-45f4-9550-79576b61967e",
   "metadata": {},
   "source": [
    "**index**"
   ]
  },
  {
   "cell_type": "code",
   "execution_count": 71,
   "id": "2e1ff860-1929-4b71-ae7c-107d70369eae",
   "metadata": {},
   "outputs": [
    {
     "data": {
      "text/plain": [
       "3"
      ]
     },
     "execution_count": 71,
     "metadata": {},
     "output_type": "execute_result"
    }
   ],
   "source": [
    "string1='welcome python'\n",
    "string1.index('c')"
   ]
  },
  {
   "cell_type": "code",
   "execution_count": 73,
   "id": "560eb929-c541-4099-b15a-c395a0277bb0",
   "metadata": {},
   "outputs": [
    {
     "ename": "ValueError",
     "evalue": "substring not found",
     "output_type": "error",
     "traceback": [
      "\u001b[1;31m---------------------------------------------------------------------------\u001b[0m",
      "\u001b[1;31mValueError\u001b[0m                                Traceback (most recent call last)",
      "Cell \u001b[1;32mIn[73], line 1\u001b[0m\n\u001b[1;32m----> 1\u001b[0m string1\u001b[38;5;241m.\u001b[39mindex(\u001b[38;5;124m'\u001b[39m\u001b[38;5;124mz\u001b[39m\u001b[38;5;124m'\u001b[39m)\n",
      "\u001b[1;31mValueError\u001b[0m: substring not found"
     ]
    }
   ],
   "source": [
    "string1.index('z')           #error becoz z is not provided in given string"
   ]
  },
  {
   "cell_type": "code",
   "execution_count": 74,
   "id": "25dbeeb4-86d5-4e57-a157-b205fe457587",
   "metadata": {},
   "outputs": [
    {
     "data": {
      "text/plain": [
       "1"
      ]
     },
     "execution_count": 74,
     "metadata": {},
     "output_type": "execute_result"
    }
   ],
   "source": [
    "string1='haiiii haiiii haiiii haiii'\n",
    "string1.index('a')"
   ]
  },
  {
   "cell_type": "code",
   "execution_count": 76,
   "id": "f1c17878-00d4-4ba3-9528-12feab9ec682",
   "metadata": {},
   "outputs": [
    {
     "ename": "NameError",
     "evalue": "name 'i1' is not defined",
     "output_type": "error",
     "traceback": [
      "\u001b[1;31m---------------------------------------------------------------------------\u001b[0m",
      "\u001b[1;31mNameError\u001b[0m                                 Traceback (most recent call last)",
      "Cell \u001b[1;32mIn[76], line 2\u001b[0m\n\u001b[0;32m      1\u001b[0m string1\u001b[38;5;241m=\u001b[39m\u001b[38;5;124m'\u001b[39m\u001b[38;5;124mhaiiii haiiii haiiii haiii\u001b[39m\u001b[38;5;124m'\u001b[39m\n\u001b[1;32m----> 2\u001b[0m string1\u001b[38;5;241m.\u001b[39mindex(\u001b[38;5;124m'\u001b[39m\u001b[38;5;124ma\u001b[39m\u001b[38;5;124m'\u001b[39m, i1\u001b[38;5;241m+\u001b[39m\u001b[38;5;241m1\u001b[39m)\n",
      "\u001b[1;31mNameError\u001b[0m: name 'i1' is not defined"
     ]
    }
   ],
   "source": [
    "string1='haiiii haiiii haiiii haiii'\n",
    "string1.index('a', i1+1)"
   ]
  },
  {
   "cell_type": "code",
   "execution_count": 77,
   "id": "a875e1c5-4ffe-46d7-a608-7050a7f1e6a8",
   "metadata": {},
   "outputs": [],
   "source": [
    "string1='haiiii haiiii haiiii haiii'\n",
    "i1=string1.index('a')"
   ]
  },
  {
   "cell_type": "code",
   "execution_count": 78,
   "id": "66065815-f5c6-4a8d-84e5-fcadffaa5a1d",
   "metadata": {},
   "outputs": [],
   "source": [
    "i2=string1.index('a', i1+1)"
   ]
  },
  {
   "cell_type": "code",
   "execution_count": 79,
   "id": "9fb1bac7-6d6a-4535-8d0a-550d8023e2b2",
   "metadata": {},
   "outputs": [],
   "source": [
    "i3=string1.index('a', i2+1)"
   ]
  },
  {
   "cell_type": "code",
   "execution_count": 80,
   "id": "c2be7d84-665d-4b3b-8db2-8e45508dc0a2",
   "metadata": {},
   "outputs": [],
   "source": [
    "i4=string1.index('a', i3+1)"
   ]
  },
  {
   "cell_type": "code",
   "execution_count": 81,
   "id": "ca4114c5-a5cf-457c-8e5c-677dda251b62",
   "metadata": {},
   "outputs": [
    {
     "ename": "ValueError",
     "evalue": "substring not found",
     "output_type": "error",
     "traceback": [
      "\u001b[1;31m---------------------------------------------------------------------------\u001b[0m",
      "\u001b[1;31mValueError\u001b[0m                                Traceback (most recent call last)",
      "Cell \u001b[1;32mIn[81], line 1\u001b[0m\n\u001b[1;32m----> 1\u001b[0m i5\u001b[38;5;241m=\u001b[39mstring1\u001b[38;5;241m.\u001b[39mindex(\u001b[38;5;124m'\u001b[39m\u001b[38;5;124ma\u001b[39m\u001b[38;5;124m'\u001b[39m, i4\u001b[38;5;241m+\u001b[39m\u001b[38;5;241m1\u001b[39m)\n",
      "\u001b[1;31mValueError\u001b[0m: substring not found"
     ]
    }
   ],
   "source": [
    "i5=string1.index('a', i4+1)"
   ]
  },
  {
   "cell_type": "markdown",
   "id": "5a8cb377-d886-4171-8887-5cc4a48ec403",
   "metadata": {},
   "source": [
    "**find**"
   ]
  },
  {
   "cell_type": "code",
   "execution_count": 82,
   "id": "64bed8c5-7e57-483d-82cd-09c149d7b169",
   "metadata": {},
   "outputs": [
    {
     "data": {
      "text/plain": [
       "-1"
      ]
     },
     "execution_count": 82,
     "metadata": {},
     "output_type": "execute_result"
    }
   ],
   "source": [
    "string1='hai hai hai hai'\n",
    "string1.find('z')"
   ]
  },
  {
   "cell_type": "code",
   "execution_count": 83,
   "id": "ffd359d6-ca6e-40d8-b7d7-fe4e34822597",
   "metadata": {},
   "outputs": [
    {
     "ename": "ValueError",
     "evalue": "substring not found",
     "output_type": "error",
     "traceback": [
      "\u001b[1;31m---------------------------------------------------------------------------\u001b[0m",
      "\u001b[1;31mValueError\u001b[0m                                Traceback (most recent call last)",
      "Cell \u001b[1;32mIn[83], line 1\u001b[0m\n\u001b[1;32m----> 1\u001b[0m string1\u001b[38;5;241m.\u001b[39mindex(\u001b[38;5;124m'\u001b[39m\u001b[38;5;124mz\u001b[39m\u001b[38;5;124m'\u001b[39m)\n",
      "\u001b[1;31mValueError\u001b[0m: substring not found"
     ]
    }
   ],
   "source": [
    "string1.index('z')"
   ]
  },
  {
   "cell_type": "code",
   "execution_count": 84,
   "id": "e0d225bd-0d45-4a01-83b3-c6ff6534bfdf",
   "metadata": {},
   "outputs": [
    {
     "data": {
      "text/plain": [
       "0"
      ]
     },
     "execution_count": 84,
     "metadata": {},
     "output_type": "execute_result"
    }
   ],
   "source": [
    "string1.count('z')"
   ]
  },
  {
   "cell_type": "code",
   "execution_count": 85,
   "id": "f227b8e5-b98b-4be6-bf64-b2f1fee95223",
   "metadata": {},
   "outputs": [],
   "source": [
    "str1='hai how are you, i am good'"
   ]
  },
  {
   "cell_type": "code",
   "execution_count": 86,
   "id": "40660a0d-e688-497e-99da-50b8ac1cc338",
   "metadata": {},
   "outputs": [
    {
     "data": {
      "text/plain": [
       "2"
      ]
     },
     "execution_count": 86,
     "metadata": {},
     "output_type": "execute_result"
    }
   ],
   "source": [
    "str1.index('i')"
   ]
  },
  {
   "cell_type": "code",
   "execution_count": 87,
   "id": "d94f9318-53f7-47a4-94cb-5ed506583f5b",
   "metadata": {},
   "outputs": [
    {
     "data": {
      "text/plain": [
       "17"
      ]
     },
     "execution_count": 87,
     "metadata": {},
     "output_type": "execute_result"
    }
   ],
   "source": [
    "str1.index('i',str1.index('i')+1)"
   ]
  },
  {
   "attachments": {},
   "cell_type": "markdown",
   "id": "74846b9c-a1d2-4690-8418-51d1e0e00fe6",
   "metadata": {},
   "source": [
    "**strip-lstrip-rstrip**\n",
    "\n",
    "\n",
    "\n"
   ]
  },
  {
   "attachments": {},
   "cell_type": "markdown",
   "id": "7445fdb8-d7f2-4dd3-8a17-0d4c2e163a4c",
   "metadata": {},
   "source": [
    "$strip: remove the spaces from both sides$\n",
    "\n",
    "\n",
    "$lstrip:  remove the spaces from left sides$\n",
    "\n",
    "\n",
    "$rstrip:  remove the spaces from right sides$\n",
    "\n",
    "\n",
    "\n",
    "\n",
    "\n"
   ]
  },
  {
   "cell_type": "code",
   "execution_count": 88,
   "id": "d25cd973-2feb-4c02-86bf-8bd0d74e61fd",
   "metadata": {},
   "outputs": [
    {
     "name": "stdout",
     "output_type": "stream",
     "text": [
      "hello how are you\n"
     ]
    }
   ],
   "source": [
    "str1='  hello how are you  '\n",
    "print(str1.strip())"
   ]
  },
  {
   "cell_type": "code",
   "execution_count": 89,
   "id": "63abeabb-bd4d-481f-a5d7-fcb3979c1ec7",
   "metadata": {},
   "outputs": [
    {
     "name": "stdout",
     "output_type": "stream",
     "text": [
      "hello how are you  \n"
     ]
    }
   ],
   "source": [
    "str1='  hello how are you  '\n",
    "print(str1.lstrip())"
   ]
  },
  {
   "cell_type": "code",
   "execution_count": 90,
   "id": "80687f30-5175-4618-98bc-70a226225f4f",
   "metadata": {},
   "outputs": [
    {
     "name": "stdout",
     "output_type": "stream",
     "text": [
      "  hello how are you\n"
     ]
    }
   ],
   "source": [
    "str1='  hello how are you  '\n",
    "print(str1.rstrip())"
   ]
  },
  {
   "cell_type": "code",
   "execution_count": 92,
   "id": "9aa8e9fa-4d7d-4917-a56c-f399a6754c43",
   "metadata": {},
   "outputs": [],
   "source": [
    "#WAP to extract \n",
    "str1='python.anaconda@nareshit.com'\n",
    "\n",
    "#extract 1st name:python\n",
    "\n",
    "#extract 2nd name:anaconda\n",
    "\n",
    "#extract 3rd name:nareshit"
   ]
  },
  {
   "cell_type": "code",
   "execution_count": 3,
   "id": "00fad417-5fda-4045-b472-e3081cee0d4c",
   "metadata": {},
   "outputs": [
    {
     "data": {
      "text/plain": [
       "6"
      ]
     },
     "execution_count": 3,
     "metadata": {},
     "output_type": "execute_result"
    }
   ],
   "source": [
    "str1='python.anaconda@nareshit.com'\n",
    "str1.find('.')"
   ]
  },
  {
   "cell_type": "code",
   "execution_count": 5,
   "id": "4f0b7739-3031-4a96-9f98-7cfd17553ace",
   "metadata": {},
   "outputs": [
    {
     "data": {
      "text/plain": [
       "'python'"
      ]
     },
     "execution_count": 5,
     "metadata": {},
     "output_type": "execute_result"
    }
   ],
   "source": [
    "str1[0:str1.find('.')]"
   ]
  },
  {
   "cell_type": "code",
   "execution_count": 13,
   "id": "062dd3e7-0b6a-409c-9c4d-5cb6e33f6948",
   "metadata": {},
   "outputs": [
    {
     "data": {
      "text/plain": [
       "('python', 'anaconda', 'nareshit')"
      ]
     },
     "execution_count": 13,
     "metadata": {},
     "output_type": "execute_result"
    }
   ],
   "source": [
    "str1[0:6],str1[7:15],str1[16:24]"
   ]
  },
  {
   "cell_type": "code",
   "execution_count": 22,
   "id": "d371d9de-2c0e-49e2-a584-f1d6ab269941",
   "metadata": {},
   "outputs": [
    {
     "data": {
      "text/plain": [
       "6"
      ]
     },
     "execution_count": 22,
     "metadata": {},
     "output_type": "execute_result"
    }
   ],
   "source": [
    "first_dot=str1.index('.')\n",
    "first_dot"
   ]
  },
  {
   "cell_type": "code",
   "execution_count": 23,
   "id": "a1e8537c-d396-4fb9-8430-eb410997b186",
   "metadata": {},
   "outputs": [
    {
     "data": {
      "text/plain": [
       "24"
      ]
     },
     "execution_count": 23,
     "metadata": {},
     "output_type": "execute_result"
    }
   ],
   "source": [
    "first_dot=str1.index('.')\n",
    "second_dot=str1.index('.',first_dot+1)\n",
    "second_dot"
   ]
  },
  {
   "cell_type": "code",
   "execution_count": 25,
   "id": "32489b64-1fb9-4a1d-8850-8074c45edc16",
   "metadata": {},
   "outputs": [
    {
     "data": {
      "text/plain": [
       "15"
      ]
     },
     "execution_count": 25,
     "metadata": {},
     "output_type": "execute_result"
    }
   ],
   "source": [
    "str1.find('@')"
   ]
  },
  {
   "cell_type": "code",
   "execution_count": 26,
   "id": "2fcdcea1-58be-411e-a193-f96a48679937",
   "metadata": {},
   "outputs": [
    {
     "data": {
      "text/plain": [
       "'nareshit'"
      ]
     },
     "execution_count": 26,
     "metadata": {},
     "output_type": "execute_result"
    }
   ],
   "source": [
    "str1[str1.find('@')+1:second_dot]"
   ]
  },
  {
   "cell_type": "code",
   "execution_count": 27,
   "id": "21d39cdd-6a53-4dde-80a9-20a692cf0171",
   "metadata": {},
   "outputs": [],
   "source": [
    "str1='3.1489'\n",
    "#extract 3\n",
    "#extract 1489"
   ]
  },
  {
   "cell_type": "code",
   "execution_count": 28,
   "id": "250b7025-d021-405e-94b6-4fe390257faf",
   "metadata": {},
   "outputs": [
    {
     "data": {
      "text/plain": [
       "1"
      ]
     },
     "execution_count": 28,
     "metadata": {},
     "output_type": "execute_result"
    }
   ],
   "source": [
    "str1.find('.')"
   ]
  },
  {
   "cell_type": "code",
   "execution_count": 30,
   "id": "8dcbd73e-f837-41f1-b5aa-a944c03131ee",
   "metadata": {},
   "outputs": [
    {
     "data": {
      "text/plain": [
       "'3'"
      ]
     },
     "execution_count": 30,
     "metadata": {},
     "output_type": "execute_result"
    }
   ],
   "source": [
    "str1[str1.index('.')-1]"
   ]
  },
  {
   "cell_type": "code",
   "execution_count": 32,
   "id": "47c71f03-29b0-49b9-beb2-bbfa6507d46e",
   "metadata": {},
   "outputs": [
    {
     "data": {
      "text/plain": [
       "'1489'"
      ]
     },
     "execution_count": 32,
     "metadata": {},
     "output_type": "execute_result"
    }
   ],
   "source": [
    "str1[str1.index('.')+1:]"
   ]
  },
  {
   "attachments": {},
   "cell_type": "markdown",
   "id": "207ec1f3-8276-4cae-bea0-918a665afe77",
   "metadata": {},
   "source": [
    "**startswith-endswith**\n",
    "\n",
    "$  if  consecutive   letters   or    starting    letters    are    there    then    its    true   $\n",
    "\n"
   ]
  },
  {
   "cell_type": "code",
   "execution_count": 33,
   "id": "bf307856-4c7b-4469-b4b8-3f330ef165cd",
   "metadata": {},
   "outputs": [
    {
     "data": {
      "text/plain": [
       "True"
      ]
     },
     "execution_count": 33,
     "metadata": {},
     "output_type": "execute_result"
    }
   ],
   "source": [
    "str1='hi how are you'\n",
    "str1.startswith('hi')"
   ]
  },
  {
   "cell_type": "code",
   "execution_count": 34,
   "id": "b8b47a5c-34d5-4bda-b5d0-7104ff414837",
   "metadata": {},
   "outputs": [
    {
     "data": {
      "text/plain": [
       "True"
      ]
     },
     "execution_count": 34,
     "metadata": {},
     "output_type": "execute_result"
    }
   ],
   "source": [
    "str1.startswith('h')"
   ]
  },
  {
   "cell_type": "code",
   "execution_count": 36,
   "id": "8354f85c-7d8b-4c97-8a1a-9cfb46eee2fe",
   "metadata": {},
   "outputs": [
    {
     "data": {
      "text/plain": [
       "True"
      ]
     },
     "execution_count": 36,
     "metadata": {},
     "output_type": "execute_result"
    }
   ],
   "source": [
    "str1.endswith('you')"
   ]
  },
  {
   "cell_type": "code",
   "execution_count": 37,
   "id": "d2937ea1-6ddb-40d2-b0c1-bd1335d0e87f",
   "metadata": {},
   "outputs": [
    {
     "data": {
      "text/plain": [
       "True"
      ]
     },
     "execution_count": 37,
     "metadata": {},
     "output_type": "execute_result"
    }
   ],
   "source": [
    "str1.endswith('u')"
   ]
  },
  {
   "cell_type": "code",
   "execution_count": 38,
   "id": "b5bd2343-0bb8-49aa-afd4-00297a65f4db",
   "metadata": {},
   "outputs": [
    {
     "data": {
      "text/plain": [
       "['__add__',\n",
       " '__class__',\n",
       " '__contains__',\n",
       " '__delattr__',\n",
       " '__dir__',\n",
       " '__doc__',\n",
       " '__eq__',\n",
       " '__format__',\n",
       " '__ge__',\n",
       " '__getattribute__',\n",
       " '__getitem__',\n",
       " '__getnewargs__',\n",
       " '__getstate__',\n",
       " '__gt__',\n",
       " '__hash__',\n",
       " '__init__',\n",
       " '__init_subclass__',\n",
       " '__iter__',\n",
       " '__le__',\n",
       " '__len__',\n",
       " '__lt__',\n",
       " '__mod__',\n",
       " '__mul__',\n",
       " '__ne__',\n",
       " '__new__',\n",
       " '__reduce__',\n",
       " '__reduce_ex__',\n",
       " '__repr__',\n",
       " '__rmod__',\n",
       " '__rmul__',\n",
       " '__setattr__',\n",
       " '__sizeof__',\n",
       " '__str__',\n",
       " '__subclasshook__',\n",
       " 'capitalize',\n",
       " 'casefold',\n",
       " 'center',\n",
       " 'count',\n",
       " 'encode',\n",
       " 'endswith',\n",
       " 'expandtabs',\n",
       " 'find',\n",
       " 'format',\n",
       " 'format_map',\n",
       " 'index',\n",
       " 'isalnum',\n",
       " 'isalpha',\n",
       " 'isascii',\n",
       " 'isdecimal',\n",
       " 'isdigit',\n",
       " 'isidentifier',\n",
       " 'islower',\n",
       " 'isnumeric',\n",
       " 'isprintable',\n",
       " 'isspace',\n",
       " 'istitle',\n",
       " 'isupper',\n",
       " 'join',\n",
       " 'ljust',\n",
       " 'lower',\n",
       " 'lstrip',\n",
       " 'maketrans',\n",
       " 'partition',\n",
       " 'removeprefix',\n",
       " 'removesuffix',\n",
       " 'replace',\n",
       " 'rfind',\n",
       " 'rindex',\n",
       " 'rjust',\n",
       " 'rpartition',\n",
       " 'rsplit',\n",
       " 'rstrip',\n",
       " 'split',\n",
       " 'splitlines',\n",
       " 'startswith',\n",
       " 'strip',\n",
       " 'swapcase',\n",
       " 'title',\n",
       " 'translate',\n",
       " 'upper',\n",
       " 'zfill']"
      ]
     },
     "execution_count": 38,
     "metadata": {},
     "output_type": "execute_result"
    }
   ],
   "source": [
    "dir('')"
   ]
  },
  {
   "cell_type": "code",
   "execution_count": 40,
   "id": "18737290-07cd-4e16-a7c2-a198f703de2e",
   "metadata": {},
   "outputs": [
    {
     "data": {
      "text/plain": [
       "False"
      ]
     },
     "execution_count": 40,
     "metadata": {},
     "output_type": "execute_result"
    }
   ],
   "source": [
    "string1='abc'\n",
    "string1.isnumeric()"
   ]
  },
  {
   "cell_type": "code",
   "execution_count": 41,
   "id": "6deab745-5815-4db8-933a-8e485230e0d0",
   "metadata": {},
   "outputs": [
    {
     "data": {
      "text/plain": [
       "True"
      ]
     },
     "execution_count": 41,
     "metadata": {},
     "output_type": "execute_result"
    }
   ],
   "source": [
    "string1.isalnum()"
   ]
  },
  {
   "cell_type": "code",
   "execution_count": 42,
   "id": "4c56c692-82ed-4afb-ba22-5e6d0fde4bc7",
   "metadata": {},
   "outputs": [
    {
     "data": {
      "text/plain": [
       "True"
      ]
     },
     "execution_count": 42,
     "metadata": {},
     "output_type": "execute_result"
    }
   ],
   "source": [
    "string1.isalpha()"
   ]
  },
  {
   "cell_type": "code",
   "execution_count": 43,
   "id": "3c1b4022-a484-4772-b205-e7ad13de74ba",
   "metadata": {},
   "outputs": [
    {
     "data": {
      "text/plain": [
       "False"
      ]
     },
     "execution_count": 43,
     "metadata": {},
     "output_type": "execute_result"
    }
   ],
   "source": [
    "string1.isupper()"
   ]
  },
  {
   "cell_type": "code",
   "execution_count": 44,
   "id": "8d0a3b91-86cd-4f1d-b5b7-670fae7acebc",
   "metadata": {},
   "outputs": [
    {
     "data": {
      "text/plain": [
       "True"
      ]
     },
     "execution_count": 44,
     "metadata": {},
     "output_type": "execute_result"
    }
   ],
   "source": [
    "string1.islower()"
   ]
  },
  {
   "cell_type": "code",
   "execution_count": 45,
   "id": "8957833e-ca77-4f77-904a-863f26bfbad0",
   "metadata": {},
   "outputs": [
    {
     "data": {
      "text/plain": [
       "True"
      ]
     },
     "execution_count": 45,
     "metadata": {},
     "output_type": "execute_result"
    }
   ],
   "source": [
    "string1='123'\n",
    "string1.isnumeric()"
   ]
  },
  {
   "cell_type": "code",
   "execution_count": 46,
   "id": "165742bb-5215-4138-a89c-7b1d14e6da89",
   "metadata": {},
   "outputs": [
    {
     "data": {
      "text/plain": [
       "False"
      ]
     },
     "execution_count": 46,
     "metadata": {},
     "output_type": "execute_result"
    }
   ],
   "source": [
    "string1.isalpha()"
   ]
  },
  {
   "cell_type": "code",
   "execution_count": 47,
   "id": "e396195e-256e-495f-9c0c-6d829ca0eb3a",
   "metadata": {},
   "outputs": [
    {
     "data": {
      "text/plain": [
       "False"
      ]
     },
     "execution_count": 47,
     "metadata": {},
     "output_type": "execute_result"
    }
   ],
   "source": [
    "string1.isupper()"
   ]
  },
  {
   "cell_type": "code",
   "execution_count": 48,
   "id": "db0681a7-557a-4b76-a223-ce78e59faeb8",
   "metadata": {},
   "outputs": [
    {
     "data": {
      "text/plain": [
       "False"
      ]
     },
     "execution_count": 48,
     "metadata": {},
     "output_type": "execute_result"
    }
   ],
   "source": [
    "string1.islower()"
   ]
  },
  {
   "cell_type": "code",
   "execution_count": 49,
   "id": "5a592084-4977-4eef-8e1f-cafc83685ae9",
   "metadata": {},
   "outputs": [
    {
     "data": {
      "text/plain": [
       "True"
      ]
     },
     "execution_count": 49,
     "metadata": {},
     "output_type": "execute_result"
    }
   ],
   "source": [
    "string3='abc123'\n",
    "string3.isalnum()"
   ]
  },
  {
   "cell_type": "code",
   "execution_count": 50,
   "id": "0bdf570d-0248-4a45-8964-1b48861b00db",
   "metadata": {},
   "outputs": [
    {
     "data": {
      "text/plain": [
       "True"
      ]
     },
     "execution_count": 50,
     "metadata": {},
     "output_type": "execute_result"
    }
   ],
   "source": [
    "string3.isnumeric()"
   ]
  },
  {
   "cell_type": "code",
   "execution_count": 51,
   "id": "ba8f2fa0-1dda-41df-bba2-58eb1377c8f3",
   "metadata": {},
   "outputs": [
    {
     "data": {
      "text/plain": [
       "False"
      ]
     },
     "execution_count": 51,
     "metadata": {},
     "output_type": "execute_result"
    }
   ],
   "source": [
    "string3.isalpha()"
   ]
  },
  {
   "cell_type": "code",
   "execution_count": 52,
   "id": "4375b3a2-9171-4b12-bb57-64b7ec41136e",
   "metadata": {},
   "outputs": [
    {
     "data": {
      "text/plain": [
       "False"
      ]
     },
     "execution_count": 52,
     "metadata": {},
     "output_type": "execute_result"
    }
   ],
   "source": [
    "string3.isupper()"
   ]
  },
  {
   "cell_type": "code",
   "execution_count": 53,
   "id": "8df1e364-454b-493a-994f-fa57126e6f23",
   "metadata": {},
   "outputs": [
    {
     "data": {
      "text/plain": [
       "False"
      ]
     },
     "execution_count": 53,
     "metadata": {},
     "output_type": "execute_result"
    }
   ],
   "source": [
    "string3.islower()"
   ]
  },
  {
   "cell_type": "markdown",
   "id": "c5b06df0-eb55-464b-9c4d-f72757130cf7",
   "metadata": {},
   "source": [
    "**split**"
   ]
  },
  {
   "cell_type": "code",
   "execution_count": 54,
   "id": "fc6e2f6e-f060-4a54-b3e4-3873b0e88353",
   "metadata": {},
   "outputs": [
    {
     "data": {
      "text/plain": [
       "['hiii', 'how', 'are', 'you']"
      ]
     },
     "execution_count": 54,
     "metadata": {},
     "output_type": "execute_result"
    }
   ],
   "source": [
    "str1='hiii how are you'\n",
    "str1.split()"
   ]
  },
  {
   "cell_type": "code",
   "execution_count": 56,
   "id": "4ef7cb8f-89aa-423e-b628-2e3d1a75d277",
   "metadata": {},
   "outputs": [
    {
     "data": {
      "text/plain": [
       "['hiii how are you']"
      ]
     },
     "execution_count": 56,
     "metadata": {},
     "output_type": "execute_result"
    }
   ],
   "source": [
    "str1='hiii how are you'\n",
    "str1.split(',')"
   ]
  },
  {
   "cell_type": "code",
   "execution_count": 57,
   "id": "3084335b-f35b-4ad2-ae24-0dfcd274d049",
   "metadata": {},
   "outputs": [
    {
     "data": {
      "text/plain": [
       "['hiii how ', 're you']"
      ]
     },
     "execution_count": 57,
     "metadata": {},
     "output_type": "execute_result"
    }
   ],
   "source": [
    "str1='hiii how are you'\n",
    "str1.split('a')"
   ]
  },
  {
   "cell_type": "code",
   "execution_count": 58,
   "id": "bc80f562-20ae-479d-962b-baa3df86c8ed",
   "metadata": {},
   "outputs": [
    {
     "data": {
      "text/plain": [
       "['hiii', 'how,', 'are', 'you']"
      ]
     },
     "execution_count": 58,
     "metadata": {},
     "output_type": "execute_result"
    }
   ],
   "source": [
    "str1='hiii how, are you'\n",
    "str1.split()"
   ]
  },
  {
   "cell_type": "markdown",
   "id": "277ec1fc-fcd3-47ea-b368-f90f07dd3fb9",
   "metadata": {},
   "source": [
    "**strip**"
   ]
  },
  {
   "cell_type": "code",
   "execution_count": 60,
   "id": "5a7f807e-7066-40d5-8b1a-b43d188b80c5",
   "metadata": {},
   "outputs": [
    {
     "data": {
      "text/plain": [
       "'helllooooooooo'"
      ]
     },
     "execution_count": 60,
     "metadata": {},
     "output_type": "execute_result"
    }
   ],
   "source": [
    "str1='%%%helllooooooooo%%%'\n",
    "str1.strip('%')"
   ]
  },
  {
   "cell_type": "code",
   "execution_count": null,
   "id": "e3683225-f670-49ae-b01f-070e0ec3ef9b",
   "metadata": {},
   "outputs": [],
   "source": []
  }
 ],
 "metadata": {
  "kernelspec": {
   "display_name": "Python 3 (ipykernel)",
   "language": "python",
   "name": "python3"
  },
  "language_info": {
   "codemirror_mode": {
    "name": "ipython",
    "version": 3
   },
   "file_extension": ".py",
   "mimetype": "text/x-python",
   "name": "python",
   "nbconvert_exporter": "python",
   "pygments_lexer": "ipython3",
   "version": "3.12.4"
  }
 },
 "nbformat": 4,
 "nbformat_minor": 5
}
