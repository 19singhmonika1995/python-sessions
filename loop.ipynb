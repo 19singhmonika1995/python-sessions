{
 "cells": [
  {
   "cell_type": "markdown",
   "id": "ac38301b-56e7-4627-a072-9c897c58ad36",
   "metadata": {},
   "source": [
    "WAP to print: hello 3 times/iteration==========>loop (concept)"
   ]
  },
  {
   "cell_type": "code",
   "execution_count": 1,
   "id": "a266bed4-1945-4528-b106-3f5d98ebd380",
   "metadata": {},
   "outputs": [
    {
     "name": "stdout",
     "output_type": "stream",
     "text": [
      "hello\n",
      "hello\n",
      "hello\n"
     ]
    }
   ],
   "source": [
    "for i in range(3):\n",
    "    print('hello')"
   ]
  },
  {
   "cell_type": "code",
   "execution_count": 2,
   "id": "b4e0a0af-e3c9-4097-a7e4-13cb2be98659",
   "metadata": {},
   "outputs": [
    {
     "name": "stdout",
     "output_type": "stream",
     "text": [
      "0\n",
      "1\n",
      "2\n"
     ]
    }
   ],
   "source": [
    "for i in range(3):\n",
    "    print(i)"
   ]
  },
  {
   "cell_type": "code",
   "execution_count": 3,
   "id": "9d63c5c9-b792-4d7d-86c8-b8bb37e0769f",
   "metadata": {},
   "outputs": [
    {
     "name": "stdout",
     "output_type": "stream",
     "text": [
      "1\n",
      "2\n",
      "3\n"
     ]
    }
   ],
   "source": [
    "for i in range(1,4):\n",
    "    print(i)"
   ]
  },
  {
   "cell_type": "code",
   "execution_count": 4,
   "id": "99ce8454-4157-4703-bc74-6eab9f861f32",
   "metadata": {},
   "outputs": [
    {
     "name": "stdout",
     "output_type": "stream",
     "text": [
      "2\n",
      "3\n",
      "4\n"
     ]
    }
   ],
   "source": [
    "for i in range(2,5):\n",
    "    print(i)"
   ]
  },
  {
   "cell_type": "code",
   "execution_count": 5,
   "id": "406e274a-8837-4aa5-9152-a40d999504d1",
   "metadata": {},
   "outputs": [
    {
     "name": "stdout",
     "output_type": "stream",
     "text": [
      "Hiii\n",
      "hello\n",
      "hello\n",
      "hello\n",
      "How do u do?\n"
     ]
    }
   ],
   "source": [
    "print('Hiii')\n",
    "for i in range(3):\n",
    "    print('hello')\n",
    "\n",
    "print('How do u do?')"
   ]
  },
  {
   "cell_type": "code",
   "execution_count": 8,
   "id": "9c6b5aba-d77b-48fc-8e0e-742d63433b3f",
   "metadata": {},
   "outputs": [
    {
     "name": "stdout",
     "output_type": "stream",
     "text": [
      "A\n",
      "A\n",
      "A\n",
      "B\n",
      "B\n",
      "C\n",
      "C\n",
      "C\n"
     ]
    }
   ],
   "source": [
    "for i in range(3):\n",
    "    print(\"A\")\n",
    "for i in range(2):\n",
    "    print(\"B\")   \n",
    "for i in range(3):\n",
    "    print(\"C\")"
   ]
  },
  {
   "cell_type": "code",
   "execution_count": 9,
   "id": "300b0a45-a97f-4044-a4a7-fc44c5b17565",
   "metadata": {},
   "outputs": [
    {
     "name": "stdout",
     "output_type": "stream",
     "text": [
      "A\n",
      "B\n",
      "A\n",
      "B\n",
      "A\n",
      "B\n",
      "C\n",
      "C\n",
      "C\n"
     ]
    }
   ],
   "source": [
    "for i in range(3):\n",
    "    print(\"A\")\n",
    "    print(\"B\")   \n",
    "for i in range(3):\n",
    "    print(\"C\")"
   ]
  },
  {
   "cell_type": "markdown",
   "id": "0a4f6ad5-b2a6-48e8-ab08-e8244eb66d8c",
   "metadata": {},
   "source": [
    "*******WAP ask the user to get the square of the numbers between 10 to 15"
   ]
  },
  {
   "cell_type": "code",
   "execution_count": 10,
   "id": "f4a97739-ba2c-43eb-a834-8d5b7b915c51",
   "metadata": {},
   "outputs": [
    {
     "name": "stdout",
     "output_type": "stream",
     "text": [
      "the square of 10 is 100\n",
      "the square of 11 is 121\n",
      "the square of 12 is 144\n",
      "the square of 13 is 169\n",
      "the square of 14 is 196\n",
      "the square of 15 is 225\n"
     ]
    }
   ],
   "source": [
    "for i in range(10,16):\n",
    "    print(\"the square of {} is {}\".format(i,i*i))"
   ]
  },
  {
   "cell_type": "code",
   "execution_count": 11,
   "id": "dbdddc33-cceb-4883-910e-4239101df193",
   "metadata": {},
   "outputs": [
    {
     "name": "stdin",
     "output_type": "stream",
     "text": [
      "enter start number: 2\n",
      "enter stop number: 10\n"
     ]
    },
    {
     "name": "stdout",
     "output_type": "stream",
     "text": [
      "the square of 2 is 4\n",
      "the square of 3 is 9\n",
      "the square of 4 is 16\n",
      "the square of 5 is 25\n",
      "the square of 6 is 36\n",
      "the square of 7 is 49\n",
      "the square of 8 is 64\n",
      "the square of 9 is 81\n"
     ]
    }
   ],
   "source": [
    "num1= eval(input('enter start number:'))\n",
    "num2= eval(input('enter stop number:'))\n",
    "\n",
    "for i in range(num1, num2):\n",
    "    print(\"the square of {} is {}\".format(i,i*i))"
   ]
  },
  {
   "cell_type": "code",
   "execution_count": 12,
   "id": "65b2fcf8-9e09-489a-8f69-9d1270fac1ff",
   "metadata": {},
   "outputs": [
    {
     "name": "stdout",
     "output_type": "stream",
     "text": [
      "the square of 10 is 100\n",
      "the square of 11 is 121\n",
      "the square of 12 is 144\n",
      "the square of 13 is 169\n",
      "the square of 14 is 196\n",
      "the square of 15 is 225\n"
     ]
    }
   ],
   "source": [
    "num1= 10\n",
    "num2= 16\n",
    "\n",
    "for i in range(10, 16):\n",
    "    print(\"the square of {} is {}\".format(i,i*i))"
   ]
  },
  {
   "cell_type": "markdown",
   "id": "8cac4401-12f9-42e4-8a38-cb8b09de5e07",
   "metadata": {},
   "source": [
    "**********FUNCTION WITHOUT ARGUMENTS**********8"
   ]
  },
  {
   "cell_type": "code",
   "execution_count": 15,
   "id": "833fa9e9-c456-4d31-96e5-3362924bff9e",
   "metadata": {},
   "outputs": [
    {
     "name": "stdout",
     "output_type": "stream",
     "text": [
      "the square of 10 is 100\n",
      "the square of 11 is 121\n",
      "the square of 12 is 144\n",
      "the square of 13 is 169\n",
      "the square of 14 is 196\n",
      "the square of 15 is 225\n"
     ]
    },
    {
     "name": "stdin",
     "output_type": "stream",
     "text": [
      "enter start number: 11\n",
      "enter stop number: 22\n"
     ]
    }
   ],
   "source": [
    "def square11():\n",
    "    num1= eval(input('enter start number:'))\n",
    "    num2= eval(input('enter stop number:'))\n",
    "\n",
    "for i in range(num1, num2):\n",
    "    print(\"the square of {} is {}\".format(i,i*i))\n",
    "\n",
    "square11()"
   ]
  },
  {
   "cell_type": "code",
   "execution_count": null,
   "id": "96905c56-68ba-441e-a2b8-6f75f5622664",
   "metadata": {},
   "outputs": [],
   "source": []
  }
 ],
 "metadata": {
  "kernelspec": {
   "display_name": "Python 3 (ipykernel)",
   "language": "python",
   "name": "python3"
  },
  "language_info": {
   "codemirror_mode": {
    "name": "ipython",
    "version": 3
   },
   "file_extension": ".py",
   "mimetype": "text/x-python",
   "name": "python",
   "nbconvert_exporter": "python",
   "pygments_lexer": "ipython3",
   "version": "3.12.4"
  }
 },
 "nbformat": 4,
 "nbformat_minor": 5
}
