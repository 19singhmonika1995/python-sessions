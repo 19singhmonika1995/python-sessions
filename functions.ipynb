{
 "cells": [
  {
   "cell_type": "markdown",
   "id": "097b3704-e8a5-40cc-b1ad-9eba74f13103",
   "metadata": {},
   "source": [
    "FUNCTIONS"
   ]
  },
  {
   "cell_type": "code",
   "execution_count": 1,
   "id": "94d51eaf-2f6b-43be-83f5-30c7c00f547e",
   "metadata": {},
   "outputs": [
    {
     "name": "stdout",
     "output_type": "stream",
     "text": [
      "the addition of 10 and 20 is 30\n"
     ]
    }
   ],
   "source": [
    "n1= 10\n",
    "n2= 20\n",
    "add= n1+n2\n",
    "print(\"the addition of {} and {} is {}\".format(n1,n2,add))"
   ]
  },
  {
   "cell_type": "code",
   "execution_count": 8,
   "id": "f2ea66eb-b36d-4bf0-837b-388490ac5c4e",
   "metadata": {},
   "outputs": [
    {
     "name": "stdout",
     "output_type": "stream",
     "text": [
      "the addition of 10 and 20 is 30\n"
     ]
    }
   ],
   "source": [
    "def addition():\n",
    "    n1= 10\n",
    "    n2= 20\n",
    "    add= n1+n2\n",
    "    print('the addition of {} and {} is {}'.format(n1,n2,add))\n",
    "\n",
    "addition()"
   ]
  },
  {
   "cell_type": "code",
   "execution_count": 9,
   "id": "15449988-a022-442d-9e01-277a04b21708",
   "metadata": {},
   "outputs": [
    {
     "name": "stdout",
     "output_type": "stream",
     "text": [
      "helloooo\n",
      "i am writing function\n"
     ]
    }
   ],
   "source": [
    "def addition():\n",
    "    print('helloooo')\n",
    "    print('i am writing function')\n",
    "\n",
    "addition()"
   ]
  },
  {
   "cell_type": "code",
   "execution_count": 7,
   "id": "98ba1a4d-014b-4ce7-8f53-87497c5e833f",
   "metadata": {},
   "outputs": [
    {
     "name": "stdout",
     "output_type": "stream",
     "text": [
      "helllooooooo goood morning\n"
     ]
    }
   ],
   "source": [
    "def hello_world():\n",
    "    print(\"helllooooooo goood morning\")\n",
    "\n",
    "hello_world()"
   ]
  },
  {
   "cell_type": "markdown",
   "id": "8b21d708-2eb5-4d59-b95e-cda1a6dcbb13",
   "metadata": {},
   "source": [
    "********take 3 numbers find average"
   ]
  },
  {
   "cell_type": "code",
   "execution_count": 15,
   "id": "3363cd2f-067b-474b-9b3e-95733272954a",
   "metadata": {},
   "outputs": [
    {
     "ename": "IndentationError",
     "evalue": "expected an indented block after 'try' statement on line 2 (3128996562.py, line 3)",
     "output_type": "error",
     "traceback": [
      "\u001b[1;36m  Cell \u001b[1;32mIn[15], line 3\u001b[1;36m\u001b[0m\n\u001b[1;33m    n1= eval(input(\"enter num1:\"))\u001b[0m\n\u001b[1;37m    ^\u001b[0m\n\u001b[1;31mIndentationError\u001b[0m\u001b[1;31m:\u001b[0m expected an indented block after 'try' statement on line 2\n"
     ]
    }
   ],
   "source": [
    "def average():\n",
    "    try:\n",
    "    n1= eval(input(\"enter num1:\"))\n",
    "    n2= eval(input(\"enter num2:\"))\n",
    "    n3= eval(input(\"enter num3:\"))\n",
    "\n",
    "    average=(n1+n2+n3)/3\n",
    "    print(\"the average of {}, {}, {} is {}:\".format(num1,num2,num3,average))\n",
    "\n",
    "    except Exception as e:\n",
    "    print(e)\n",
    "\n",
    "average()"
   ]
  },
  {
   "cell_type": "code",
   "execution_count": 6,
   "id": "1a7e8e9c-b0a6-43dd-b696-01cb66c6af0f",
   "metadata": {},
   "outputs": [
    {
     "name": "stdin",
     "output_type": "stream",
     "text": [
      "enter bill amount: 500\n",
      "enter tip amount: 40\n"
     ]
    }
   ],
   "source": [
    "def total_bill():\n",
    "    try:\n",
    "        bill_amt= eval(input(\"enter bill amount:\"))\n",
    "        tip_amt= eval(input(\"enter tip amount:\"))\n",
    "        total_bill= bill_amt + tip_amt\n",
    "        \n",
    "    except exception as e:\n",
    "        print(e)\n",
    "\n",
    "total_bill()"
   ]
  },
  {
   "cell_type": "code",
   "execution_count": 5,
   "id": "341ab86a-9d04-4f75-a4c7-2791c60bf19d",
   "metadata": {},
   "outputs": [
    {
     "name": "stdout",
     "output_type": "stream",
     "text": [
      "37 is an odd num\n"
     ]
    }
   ],
   "source": [
    "import random\n",
    "def even_odd():\n",
    "    try:\n",
    "        num= random.randint(1,100)\n",
    "\n",
    "        if num!=0:\n",
    "            print(\"{} is an odd num\".format(num))\n",
    "        else:\n",
    "            print(\"{} is an even num\".format(num))\n",
    "\n",
    "    except exception as e:\n",
    "        print(e)\n",
    "\n",
    "even_odd()"
   ]
  },
  {
   "cell_type": "code",
   "execution_count": 7,
   "id": "9e33bd36-fe30-4dcc-bddc-b6df915b5e3b",
   "metadata": {},
   "outputs": [
    {
     "name": "stdout",
     "output_type": "stream",
     "text": [
      "hello\n",
      "python\n",
      "calling function\n",
      "we are implementing even odd functions\n",
      "take one number\n",
      "the remainder is not equal to zero\n",
      "51 is an odd number\n",
      "done!\n"
     ]
    }
   ],
   "source": [
    "import random\n",
    "print('hello')\n",
    "print(\"python\")\n",
    "def even_odd():\n",
    "    try:\n",
    "        print('we are implementing even odd functions')\n",
    "        print('take one number')\n",
    "        num= random.randint(1,100)\n",
    "        if num%2==0:\n",
    "            print(\"the remainder is zero\")\n",
    "            print(\"{} is an odd number\".format(num))\n",
    "        else:\n",
    "            print(\"the remainder is not equal to zero\")\n",
    "            print(\"{} is an odd number\".format(num))\n",
    "\n",
    "    except Exception as e:\n",
    "        print(e)\n",
    "\n",
    "print(\"calling function\")\n",
    "even_odd()\n",
    "print(\"done!\")"
   ]
  },
  {
   "cell_type": "code",
   "execution_count": 9,
   "id": "f6674a10-6d19-45f9-9307-b9d0cd33ab13",
   "metadata": {},
   "outputs": [
    {
     "name": "stdout",
     "output_type": "stream",
     "text": [
      "multiplication function starts\n",
      "subtraction function starts\n",
      "anything remains\n",
      "no\n",
      "done!\n"
     ]
    }
   ],
   "source": [
    "def addition():\n",
    "    n1=20\n",
    "    n2=30\n",
    "    print('addition:',n1+n2)\n",
    "\n",
    "print(\"multiplication function starts\")\n",
    "def multiplication():\n",
    "    n1=20\n",
    "    n2=30\n",
    "    print(\"multiplication:\",n1*n2)\n",
    "    print(\"multiplication function is done\")\n",
    "\n",
    "print(\"subtraction function starts\")\n",
    "def subtraction():\n",
    "    n1=20\n",
    "    n2=30\n",
    "    print('subtraction:',n1-n2)\n",
    "    print(\"subtraction function is done\")\n",
    "\n",
    "print(\"anything remains\")\n",
    "print(\"no\")\n",
    "print(\"done!\")\n"
   ]
  },
  {
   "cell_type": "markdown",
   "id": "caab5975-08be-4a1c-8813-a2518631ff02",
   "metadata": {},
   "source": [
    "**********WITH ARGUMENTS********"
   ]
  },
  {
   "cell_type": "code",
   "execution_count": 10,
   "id": "996212af-f678-4ce7-ac00-a2ea6eeb6818",
   "metadata": {},
   "outputs": [
    {
     "name": "stdout",
     "output_type": "stream",
     "text": [
      "the addition of 10 and 20 is 30\n"
     ]
    }
   ],
   "source": [
    "def addition():\n",
    "    n1=10\n",
    "    n2=20\n",
    "    add= n1+n2\n",
    "    print(\"the addition of {} and {} is {}\".format(n1,n2,add))\n",
    "\n",
    "addition()"
   ]
  },
  {
   "cell_type": "code",
   "execution_count": 11,
   "id": "f880d24a-6671-43b0-96ee-2e35624fa137",
   "metadata": {},
   "outputs": [
    {
     "name": "stdout",
     "output_type": "stream",
     "text": [
      "the addition of 20 and 30 is 50\n"
     ]
    }
   ],
   "source": [
    "def addition(n1,n2):\n",
    "    add= n1+n2\n",
    "    print(\"the addition of {} and {} is {}\".format(n1,n2,add))\n",
    "\n",
    "addition(20,30)"
   ]
  },
  {
   "cell_type": "code",
   "execution_count": 13,
   "id": "894964d1-eea8-4746-bb7f-e3d4a019d0da",
   "metadata": {},
   "outputs": [
    {
     "name": "stdin",
     "output_type": "stream",
     "text": [
      "enter num1: 10\n",
      "enter num2: 20\n",
      "enter num3: 30\n"
     ]
    },
    {
     "name": "stdout",
     "output_type": "stream",
     "text": [
      "the average of 10, 20, 30 is 20.0:\n"
     ]
    }
   ],
   "source": [
    "def average():\n",
    "    num1= eval(input(\"enter num1:\"))\n",
    "    num2= eval(input(\"enter num2:\"))\n",
    "    num3= eval(input(\"enter num3:\"))\n",
    "    average=(num1+num2+num3)/3\n",
    "\n",
    "    print(\"the average of {}, {}, {} is {}:\".format(num1,num2,num3,average))\n",
    "\n",
    "average()"
   ]
  },
  {
   "cell_type": "code",
   "execution_count": 17,
   "id": "7d71fdde-1558-4f0b-8e20-cf3518aa75e2",
   "metadata": {},
   "outputs": [
    {
     "name": "stdout",
     "output_type": "stream",
     "text": [
      "enter num1: 10\n",
      "enter num2: 20\n",
      "enter num3: 30\n",
      "the average of 10, 20 and 30\n"
     ]
    }
   ],
   "source": [
    "def average(num1,num2,num3):\n",
    "    print(\"enter num1:\",num1)\n",
    "    print(\"enter num2:\",num2)\n",
    "    print(\"enter num3:\",num3)\n",
    "    average= (num1+num2+num3)/3\n",
    "\n",
    "    print(\"the average of {}, {} and {}\".format(num1,num2,num3,average))\n",
    "\n",
    "average(10,20,30)\n",
    "\n"
   ]
  },
  {
   "cell_type": "code",
   "execution_count": 18,
   "id": "97e4e94e-9d28-44b7-be17-2400caa756dc",
   "metadata": {},
   "outputs": [
    {
     "ename": "SyntaxError",
     "evalue": "invalid syntax. Perhaps you forgot a comma? (4213537922.py, line 3)",
     "output_type": "error",
     "traceback": [
      "\u001b[1;36m  Cell \u001b[1;32mIn[18], line 3\u001b[1;36m\u001b[0m\n\u001b[1;33m    print(\"bill_amt:\",enter bill amount)\u001b[0m\n\u001b[1;37m                      ^\u001b[0m\n\u001b[1;31mSyntaxError\u001b[0m\u001b[1;31m:\u001b[0m invalid syntax. Perhaps you forgot a comma?\n"
     ]
    }
   ],
   "source": [
    "def total_bill(bill_amt, tip_amt):\n",
    "    try:\n",
    "        print(\"bill_amt:\",enter bill amount)\n",
    "        print(\"tip_amt:\",enter tip amount)\n",
    "        total_bill= bill_amt + tip_amt\n",
    "\n",
    "        print(\"total bill is {}\".format(total_bill))\n",
    "    \n",
    "    except exception as e:\n",
    "        print(e)\n",
    "\n",
    "total_bill(1000, 50)"
   ]
  },
  {
   "cell_type": "markdown",
   "id": "aed83714-efe4-437a-a126-8c0519e81e44",
   "metadata": {},
   "source": [
    "normal way***********"
   ]
  },
  {
   "cell_type": "code",
   "execution_count": 21,
   "id": "1ebe1765-5574-4d04-97bd-e2ee268c39d5",
   "metadata": {},
   "outputs": [
    {
     "name": "stdin",
     "output_type": "stream",
     "text": [
      "enter a number 23\n"
     ]
    },
    {
     "ename": "TypeError",
     "evalue": "'int' object is not callable",
     "output_type": "error",
     "traceback": [
      "\u001b[1;31m---------------------------------------------------------------------------\u001b[0m",
      "\u001b[1;31mTypeError\u001b[0m                                 Traceback (most recent call last)",
      "Cell \u001b[1;32mIn[21], line 2\u001b[0m\n\u001b[0;32m      1\u001b[0m num\u001b[38;5;241m=\u001b[39m\u001b[38;5;28meval\u001b[39m(\u001b[38;5;28minput\u001b[39m(\u001b[38;5;124m\"\u001b[39m\u001b[38;5;124menter a number\u001b[39m\u001b[38;5;124m\"\u001b[39m))\n\u001b[1;32m----> 2\u001b[0m \u001b[38;5;28mprint\u001b[39m(\u001b[38;5;124m\"\u001b[39m\u001b[38;5;124mthe square of \u001b[39m\u001b[38;5;132;01m{}\u001b[39;00m\u001b[38;5;124m is \u001b[39m\u001b[38;5;132;01m{}\u001b[39;00m\u001b[38;5;124m\"\u001b[39m\u001b[38;5;241m.\u001b[39mformat(number, number\u001b[38;5;241m*\u001b[39mnumber))\n",
      "\u001b[1;31mTypeError\u001b[0m: 'int' object is not callable"
     ]
    }
   ],
   "source": [
    "num=eval(input(\"enter a number\"))\n",
    "print(\"the square of {} is {}\".format(number, number*number))"
   ]
  },
  {
   "cell_type": "markdown",
   "id": "14b2c603-9df7-4ab9-a8e3-9082789102e0",
   "metadata": {},
   "source": [
    "without argument**********"
   ]
  },
  {
   "cell_type": "code",
   "execution_count": 24,
   "id": "27cb58ed-dd1e-442d-ab29-c88ba9764d98",
   "metadata": {},
   "outputs": [
    {
     "name": "stdin",
     "output_type": "stream",
     "text": [
      "enter a number 23\n"
     ]
    },
    {
     "ename": "TypeError",
     "evalue": "'int' object is not callable",
     "output_type": "error",
     "traceback": [
      "\u001b[1;31m---------------------------------------------------------------------------\u001b[0m",
      "\u001b[1;31mTypeError\u001b[0m                                 Traceback (most recent call last)",
      "Cell \u001b[1;32mIn[24], line 5\u001b[0m\n\u001b[0;32m      2\u001b[0m     number\u001b[38;5;241m=\u001b[39m \u001b[38;5;28meval\u001b[39m(\u001b[38;5;28minput\u001b[39m(\u001b[38;5;124m\"\u001b[39m\u001b[38;5;124menter a number\u001b[39m\u001b[38;5;124m\"\u001b[39m))\n\u001b[0;32m      3\u001b[0m     \u001b[38;5;28mprint\u001b[39m(\u001b[38;5;124m\"\u001b[39m\u001b[38;5;124mthe square of \u001b[39m\u001b[38;5;132;01m{}\u001b[39;00m\u001b[38;5;124m is \u001b[39m\u001b[38;5;132;01m{}\u001b[39;00m\u001b[38;5;124m\"\u001b[39m\u001b[38;5;241m.\u001b[39mformat(number, number\u001b[38;5;241m*\u001b[39mnumber))\n\u001b[1;32m----> 5\u001b[0m square()\n",
      "Cell \u001b[1;32mIn[24], line 3\u001b[0m, in \u001b[0;36msquare\u001b[1;34m()\u001b[0m\n\u001b[0;32m      1\u001b[0m \u001b[38;5;28;01mdef\u001b[39;00m \u001b[38;5;21msquare\u001b[39m():\n\u001b[0;32m      2\u001b[0m     number\u001b[38;5;241m=\u001b[39m \u001b[38;5;28meval\u001b[39m(\u001b[38;5;28minput\u001b[39m(\u001b[38;5;124m\"\u001b[39m\u001b[38;5;124menter a number\u001b[39m\u001b[38;5;124m\"\u001b[39m))\n\u001b[1;32m----> 3\u001b[0m     \u001b[38;5;28mprint\u001b[39m(\u001b[38;5;124m\"\u001b[39m\u001b[38;5;124mthe square of \u001b[39m\u001b[38;5;132;01m{}\u001b[39;00m\u001b[38;5;124m is \u001b[39m\u001b[38;5;132;01m{}\u001b[39;00m\u001b[38;5;124m\"\u001b[39m\u001b[38;5;241m.\u001b[39mformat(number, number\u001b[38;5;241m*\u001b[39mnumber))\n",
      "\u001b[1;31mTypeError\u001b[0m: 'int' object is not callable"
     ]
    }
   ],
   "source": [
    "def square():\n",
    "    number= eval(input(\"enter a number\"))\n",
    "    print(\"the square of {} is {}\".format(number, number*number))\n",
    "\n",
    "square()"
   ]
  },
  {
   "cell_type": "markdown",
   "id": "8d3dda00-6677-4d9f-a2e1-217fede760e6",
   "metadata": {},
   "source": [
    "with argument*******"
   ]
  },
  {
   "cell_type": "code",
   "execution_count": 25,
   "id": "a21ad745-fb07-46a7-b34e-e660e9cbd052",
   "metadata": {},
   "outputs": [
    {
     "ename": "TypeError",
     "evalue": "'int' object is not callable",
     "output_type": "error",
     "traceback": [
      "\u001b[1;31m---------------------------------------------------------------------------\u001b[0m",
      "\u001b[1;31mTypeError\u001b[0m                                 Traceback (most recent call last)",
      "Cell \u001b[1;32mIn[25], line 4\u001b[0m\n\u001b[0;32m      1\u001b[0m \u001b[38;5;28;01mdef\u001b[39;00m \u001b[38;5;21msquare\u001b[39m(num):\n\u001b[0;32m      2\u001b[0m     \u001b[38;5;28mprint\u001b[39m(\u001b[38;5;124m\"\u001b[39m\u001b[38;5;124mthe square of \u001b[39m\u001b[38;5;132;01m{}\u001b[39;00m\u001b[38;5;124m is \u001b[39m\u001b[38;5;132;01m{}\u001b[39;00m\u001b[38;5;124m\"\u001b[39m\u001b[38;5;241m.\u001b[39mformat(number, number\u001b[38;5;241m*\u001b[39mnumber))\n\u001b[1;32m----> 4\u001b[0m square(\u001b[38;5;241m5\u001b[39m)\n",
      "Cell \u001b[1;32mIn[25], line 2\u001b[0m, in \u001b[0;36msquare\u001b[1;34m(num)\u001b[0m\n\u001b[0;32m      1\u001b[0m \u001b[38;5;28;01mdef\u001b[39;00m \u001b[38;5;21msquare\u001b[39m(num):\n\u001b[1;32m----> 2\u001b[0m     \u001b[38;5;28mprint\u001b[39m(\u001b[38;5;124m\"\u001b[39m\u001b[38;5;124mthe square of \u001b[39m\u001b[38;5;132;01m{}\u001b[39;00m\u001b[38;5;124m is \u001b[39m\u001b[38;5;132;01m{}\u001b[39;00m\u001b[38;5;124m\"\u001b[39m\u001b[38;5;241m.\u001b[39mformat(number, number\u001b[38;5;241m*\u001b[39mnumber))\n",
      "\u001b[1;31mTypeError\u001b[0m: 'int' object is not callable"
     ]
    }
   ],
   "source": [
    "def square(num):\n",
    "    print(\"the square of {} is {}\".format(number, number*number))\n",
    "\n",
    "square(5)"
   ]
  },
  {
   "cell_type": "code",
   "execution_count": 28,
   "id": "64741da6-c7f7-4586-89e2-d766c2a8c938",
   "metadata": {},
   "outputs": [
    {
     "name": "stdin",
     "output_type": "stream",
     "text": [
      "enter number: 2\n"
     ]
    },
    {
     "ename": "TypeError",
     "evalue": "'int' object is not callable",
     "output_type": "error",
     "traceback": [
      "\u001b[1;31m---------------------------------------------------------------------------\u001b[0m",
      "\u001b[1;31mTypeError\u001b[0m                                 Traceback (most recent call last)",
      "Cell \u001b[1;32mIn[28], line 6\u001b[0m\n\u001b[0;32m      3\u001b[0m num\u001b[38;5;241m=\u001b[39m\u001b[38;5;28meval\u001b[39m(\u001b[38;5;28minput\u001b[39m(\u001b[38;5;124m\"\u001b[39m\u001b[38;5;124menter number:\u001b[39m\u001b[38;5;124m\"\u001b[39m))\n\u001b[0;32m      5\u001b[0m \u001b[38;5;28;01mif\u001b[39;00m random_num\u001b[38;5;241m==\u001b[39mnum:\u001b[38;5;28mprint\u001b[39m(\u001b[38;5;124m\"\u001b[39m\u001b[38;5;124mu won\u001b[39m\u001b[38;5;124m\"\u001b[39m)\n\u001b[1;32m----> 6\u001b[0m \u001b[38;5;28;01melse\u001b[39;00m: \u001b[38;5;28mprint\u001b[39m(\u001b[38;5;124m\"\u001b[39m\u001b[38;5;124mu lost\u001b[39m\u001b[38;5;124m\"\u001b[39m)\n",
      "\u001b[1;31mTypeError\u001b[0m: 'int' object is not callable"
     ]
    }
   ],
   "source": [
    "import random\n",
    "random_num= random.randint(1,20)\n",
    "num=eval(input(\"enter number:\"))\n",
    "\n",
    "if random_num==num:print(\"u won\")\n",
    "else: print(\"u lost\")"
   ]
  },
  {
   "cell_type": "code",
   "execution_count": 31,
   "id": "2f246da5-1fdc-4250-b2a9-66ca9085cfe6",
   "metadata": {},
   "outputs": [
    {
     "ename": "IndentationError",
     "evalue": "expected an indented block after function definition on line 2 (2276778426.py, line 3)",
     "output_type": "error",
     "traceback": [
      "\u001b[1;36m  Cell \u001b[1;32mIn[31], line 3\u001b[1;36m\u001b[0m\n\u001b[1;33m    random_num= random.randint(1,20)\u001b[0m\n\u001b[1;37m    ^\u001b[0m\n\u001b[1;31mIndentationError\u001b[0m\u001b[1;31m:\u001b[0m expected an indented block after function definition on line 2\n"
     ]
    }
   ],
   "source": [
    "import random\n",
    "def compare():\n",
    "random_num= random.randint(1,20)\n",
    "num=eval(input(\"enter number:\"))\n",
    "\n",
    "if random_num==num:print(\"u won\")\n",
    "else: print(\"u lost\")\n",
    "\n",
    "compare()"
   ]
  },
  {
   "cell_type": "code",
   "execution_count": 32,
   "id": "4c565faa-45f4-4a60-afb7-8e1da45aa5ba",
   "metadata": {},
   "outputs": [
    {
     "ename": "IndentationError",
     "evalue": "expected an indented block after function definition on line 2 (3909339737.py, line 3)",
     "output_type": "error",
     "traceback": [
      "\u001b[1;36m  Cell \u001b[1;32mIn[32], line 3\u001b[1;36m\u001b[0m\n\u001b[1;33m    random_num= random.randint(1,20)\u001b[0m\n\u001b[1;37m    ^\u001b[0m\n\u001b[1;31mIndentationError\u001b[0m\u001b[1;31m:\u001b[0m expected an indented block after function definition on line 2\n"
     ]
    }
   ],
   "source": [
    "import random\n",
    "def compare(num):\n",
    "random_num= random.randint(1,20)\n",
    "num=eval(input(\"enter number:\"))\n",
    "\n",
    "if random_num==num:print(\"u won\")\n",
    "else: print(\"u lost\")\n",
    "\n",
    "compare(eval(input(\"enter num\")))"
   ]
  },
  {
   "cell_type": "code",
   "execution_count": 33,
   "id": "379a792f-6fc6-4ef5-8d53-d1e8d51c0c3e",
   "metadata": {},
   "outputs": [
    {
     "ename": "IndentationError",
     "evalue": "expected an indented block after function definition on line 2 (2701738245.py, line 4)",
     "output_type": "error",
     "traceback": [
      "\u001b[1;36m  Cell \u001b[1;32mIn[33], line 4\u001b[1;36m\u001b[0m\n\u001b[1;33m    if random_num==num:print(\"u won\")\u001b[0m\n\u001b[1;37m    ^\u001b[0m\n\u001b[1;31mIndentationError\u001b[0m\u001b[1;31m:\u001b[0m expected an indented block after function definition on line 2\n"
     ]
    }
   ],
   "source": [
    "import random\n",
    "def compare(random_num, num):\n",
    "\n",
    "if random_num==num:print(\"u won\")\n",
    "else: print(\"u lost becoz the random number is:\",random_num)\n",
    "\n",
    "comparerandom.randint(1,20),(eval(input(\"enter num\")))"
   ]
  },
  {
   "cell_type": "code",
   "execution_count": 34,
   "id": "2f19d4e0-9323-480c-b015-2008b659a4b4",
   "metadata": {},
   "outputs": [
    {
     "name": "stdin",
     "output_type": "stream",
     "text": [
      "enter salary 20000\n",
      "enter tax percent: 4\n"
     ]
    },
    {
     "ename": "TypeError",
     "evalue": "'int' object is not callable",
     "output_type": "error",
     "traceback": [
      "\u001b[1;31m---------------------------------------------------------------------------\u001b[0m",
      "\u001b[1;31mTypeError\u001b[0m                                 Traceback (most recent call last)",
      "Cell \u001b[1;32mIn[34], line 7\u001b[0m\n\u001b[0;32m      5\u001b[0m salary\u001b[38;5;241m=\u001b[39m \u001b[38;5;28meval\u001b[39m(\u001b[38;5;28minput\u001b[39m(\u001b[38;5;124m\"\u001b[39m\u001b[38;5;124menter salary\u001b[39m\u001b[38;5;124m\"\u001b[39m))\n\u001b[0;32m      6\u001b[0m tax_per\u001b[38;5;241m=\u001b[39m \u001b[38;5;28meval\u001b[39m(\u001b[38;5;28minput\u001b[39m(\u001b[38;5;124m\"\u001b[39m\u001b[38;5;124menter tax percent:\u001b[39m\u001b[38;5;124m\"\u001b[39m))\n\u001b[1;32m----> 7\u001b[0m tax_cal(salary,tax_per)\n",
      "Cell \u001b[1;32mIn[34], line 3\u001b[0m, in \u001b[0;36mtax_cal\u001b[1;34m(salary, tax_per)\u001b[0m\n\u001b[0;32m      1\u001b[0m \u001b[38;5;28;01mdef\u001b[39;00m \u001b[38;5;21mtax_cal\u001b[39m(salary,tax_per):\n\u001b[0;32m      2\u001b[0m     total_tax\u001b[38;5;241m=\u001b[39m salary\u001b[38;5;241m*\u001b[39mtax_per\u001b[38;5;241m/\u001b[39m\u001b[38;5;241m100\u001b[39m\n\u001b[1;32m----> 3\u001b[0m     \u001b[38;5;28mprint\u001b[39m(\u001b[38;5;124m\"\u001b[39m\u001b[38;5;124mthe total tax is:\u001b[39m\u001b[38;5;124m\"\u001b[39m,total_tax)\n",
      "\u001b[1;31mTypeError\u001b[0m: 'int' object is not callable"
     ]
    }
   ],
   "source": [
    "def tax_cal(salary,tax_per):\n",
    "    total_tax= salary*tax_per/100\n",
    "    print(\"the total tax is:\",total_tax)\n",
    "\n",
    "salary= eval(input(\"enter salary\"))\n",
    "tax_per= eval(input(\"enter tax percent:\"))\n",
    "tax_cal(salary,tax_per)"
   ]
  },
  {
   "cell_type": "markdown",
   "id": "96a9880c-df60-4a82-afbc-5c52ac20a046",
   "metadata": {},
   "source": [
    "**********DEFAULT PARAMETER*****"
   ]
  },
  {
   "cell_type": "code",
   "execution_count": 35,
   "id": "c0ad1858-38d0-4e83-9eb9-3282ed1b1180",
   "metadata": {},
   "outputs": [
    {
     "ename": "SyntaxError",
     "evalue": "invalid syntax (3122173043.py, line 1)",
     "output_type": "error",
     "traceback": [
      "\u001b[1;36m  Cell \u001b[1;32mIn[35], line 1\u001b[1;36m\u001b[0m\n\u001b[1;33m    def tax_cal(salary*tax_per=20)\u001b[0m\n\u001b[1;37m                      ^\u001b[0m\n\u001b[1;31mSyntaxError\u001b[0m\u001b[1;31m:\u001b[0m invalid syntax\n"
     ]
    }
   ],
   "source": [
    "def tax_cal(salary*tax_per=20)\n",
    "    total_tax= salary*tax_per/100\n",
    "    print(\"the total tax is:\",total_tax)\n",
    "\n",
    "tax_cal(10000)"
   ]
  },
  {
   "cell_type": "code",
   "execution_count": 36,
   "id": "a57d94ee-4d98-49e4-b8b6-39df819ca2a5",
   "metadata": {},
   "outputs": [
    {
     "ename": "TypeError",
     "evalue": "'int' object is not callable",
     "output_type": "error",
     "traceback": [
      "\u001b[1;31m---------------------------------------------------------------------------\u001b[0m",
      "\u001b[1;31mTypeError\u001b[0m                                 Traceback (most recent call last)",
      "Cell \u001b[1;32mIn[36], line 4\u001b[0m\n\u001b[0;32m      1\u001b[0m \u001b[38;5;28;01mdef\u001b[39;00m \u001b[38;5;21mavg\u001b[39m(num1,num2,num3):\n\u001b[0;32m      2\u001b[0m     \u001b[38;5;28mprint\u001b[39m(\u001b[38;5;124m\"\u001b[39m\u001b[38;5;124mthe avg is:\u001b[39m\u001b[38;5;124m\"\u001b[39m, (num1\u001b[38;5;241m+\u001b[39mnum2\u001b[38;5;241m+\u001b[39mnum3)\u001b[38;5;241m/\u001b[39m\u001b[38;5;241m3\u001b[39m)\n\u001b[1;32m----> 4\u001b[0m avg(\u001b[38;5;241m20\u001b[39m,\u001b[38;5;241m30\u001b[39m,\u001b[38;5;241m40\u001b[39m)\n",
      "Cell \u001b[1;32mIn[36], line 2\u001b[0m, in \u001b[0;36mavg\u001b[1;34m(num1, num2, num3)\u001b[0m\n\u001b[0;32m      1\u001b[0m \u001b[38;5;28;01mdef\u001b[39;00m \u001b[38;5;21mavg\u001b[39m(num1,num2,num3):\n\u001b[1;32m----> 2\u001b[0m     \u001b[38;5;28mprint\u001b[39m(\u001b[38;5;124m\"\u001b[39m\u001b[38;5;124mthe avg is:\u001b[39m\u001b[38;5;124m\"\u001b[39m, (num1\u001b[38;5;241m+\u001b[39mnum2\u001b[38;5;241m+\u001b[39mnum3)\u001b[38;5;241m/\u001b[39m\u001b[38;5;241m3\u001b[39m)\n",
      "\u001b[1;31mTypeError\u001b[0m: 'int' object is not callable"
     ]
    }
   ],
   "source": [
    "def avg(num1,num2,num3):\n",
    "    print(\"the avg is:\", (num1+num2+num3)/3)\n",
    "\n",
    "avg(20,30,40)"
   ]
  },
  {
   "cell_type": "code",
   "execution_count": 38,
   "id": "89a0bc72-8105-487c-a921-e75b0546e576",
   "metadata": {},
   "outputs": [
    {
     "ename": "TypeError",
     "evalue": "'int' object is not callable",
     "output_type": "error",
     "traceback": [
      "\u001b[1;31m---------------------------------------------------------------------------\u001b[0m",
      "\u001b[1;31mTypeError\u001b[0m                                 Traceback (most recent call last)",
      "Cell \u001b[1;32mIn[38], line 8\u001b[0m\n\u001b[0;32m      5\u001b[0m     avg\u001b[38;5;241m=\u001b[39m (num1\u001b[38;5;241m+\u001b[39mnum2\u001b[38;5;241m+\u001b[39mnum3)\u001b[38;5;241m/\u001b[39m\u001b[38;5;241m3\u001b[39m\n\u001b[0;32m      6\u001b[0m     \u001b[38;5;28mprint\u001b[39m(\u001b[38;5;124m\"\u001b[39m\u001b[38;5;124mthe avg is:\u001b[39m\u001b[38;5;124m\"\u001b[39m,avg)\n\u001b[1;32m----> 8\u001b[0m avg(\u001b[38;5;241m20\u001b[39m,\u001b[38;5;241m30\u001b[39m)\n",
      "Cell \u001b[1;32mIn[38], line 2\u001b[0m, in \u001b[0;36mavg\u001b[1;34m(num1, num2, num3)\u001b[0m\n\u001b[0;32m      1\u001b[0m \u001b[38;5;28;01mdef\u001b[39;00m \u001b[38;5;21mavg\u001b[39m(num1,num2,num3\u001b[38;5;241m=\u001b[39m\u001b[38;5;241m50\u001b[39m):\n\u001b[1;32m----> 2\u001b[0m     \u001b[38;5;28mprint\u001b[39m(\u001b[38;5;124m\"\u001b[39m\u001b[38;5;124mnum1:\u001b[39m\u001b[38;5;124m\"\u001b[39m,num1)\n\u001b[0;32m      3\u001b[0m     \u001b[38;5;28mprint\u001b[39m(\u001b[38;5;124m\"\u001b[39m\u001b[38;5;124mnum2:\u001b[39m\u001b[38;5;124m\"\u001b[39m,num2)\n\u001b[0;32m      4\u001b[0m     \u001b[38;5;28mprint\u001b[39m(\u001b[38;5;124m\"\u001b[39m\u001b[38;5;124mnum3:\u001b[39m\u001b[38;5;124m\"\u001b[39m,num3)\n",
      "\u001b[1;31mTypeError\u001b[0m: 'int' object is not callable"
     ]
    }
   ],
   "source": [
    "def avg(num1,num2,num3=50):\n",
    "    print(\"num1:\",num1)\n",
    "    print(\"num2:\",num2)\n",
    "    print(\"num3:\",num3)\n",
    "    avg= (num1+num2+num3)/3\n",
    "    print(\"the avg is:\",avg)\n",
    "\n",
    "avg(20,30)"
   ]
  },
  {
   "cell_type": "code",
   "execution_count": 40,
   "id": "4550299f-b7d1-4ec6-b70a-7b2ed2eb616e",
   "metadata": {},
   "outputs": [
    {
     "ename": "TypeError",
     "evalue": "'int' object is not callable",
     "output_type": "error",
     "traceback": [
      "\u001b[1;31m---------------------------------------------------------------------------\u001b[0m",
      "\u001b[1;31mTypeError\u001b[0m                                 Traceback (most recent call last)",
      "Cell \u001b[1;32mIn[40], line 9\u001b[0m\n\u001b[0;32m      6\u001b[0m     avg\u001b[38;5;241m=\u001b[39m (num1\u001b[38;5;241m+\u001b[39mnum2\u001b[38;5;241m+\u001b[39mnum3)\u001b[38;5;241m/\u001b[39m\u001b[38;5;241m3\u001b[39m\n\u001b[0;32m      7\u001b[0m     \u001b[38;5;28mprint\u001b[39m(\u001b[38;5;124m\"\u001b[39m\u001b[38;5;124mthe avg is:\u001b[39m\u001b[38;5;124m\"\u001b[39m,avg)\n\u001b[1;32m----> 9\u001b[0m avg(\u001b[38;5;241m200\u001b[39m,\u001b[38;5;241m300\u001b[39m,\u001b[38;5;241m600\u001b[39m)\n",
      "Cell \u001b[1;32mIn[40], line 2\u001b[0m, in \u001b[0;36mavg\u001b[1;34m(num1, num2, num3)\u001b[0m\n\u001b[0;32m      1\u001b[0m \u001b[38;5;28;01mdef\u001b[39;00m \u001b[38;5;21mavg\u001b[39m(num1,num2,num3\u001b[38;5;241m=\u001b[39m\u001b[38;5;241m50\u001b[39m):\n\u001b[1;32m----> 2\u001b[0m     \u001b[38;5;28mprint\u001b[39m(\u001b[38;5;124m\"\u001b[39m\u001b[38;5;124mnum1:\u001b[39m\u001b[38;5;124m\"\u001b[39m,num1)\n\u001b[0;32m      3\u001b[0m     \u001b[38;5;28mprint\u001b[39m(\u001b[38;5;124m\"\u001b[39m\u001b[38;5;124mnum2:\u001b[39m\u001b[38;5;124m\"\u001b[39m,num2)\n\u001b[0;32m      4\u001b[0m     \u001b[38;5;28mprint\u001b[39m(\u001b[38;5;124m\"\u001b[39m\u001b[38;5;124mnum3:\u001b[39m\u001b[38;5;124m\"\u001b[39m,num3)\n",
      "\u001b[1;31mTypeError\u001b[0m: 'int' object is not callable"
     ]
    }
   ],
   "source": [
    "def avg(num1,num2,num3=50):\n",
    "    print(\"num1:\",num1)\n",
    "    print(\"num2:\",num2)\n",
    "    print(\"num3:\",num3)\n",
    "    num3= 800\n",
    "    avg= (num1+num2+num3)/3\n",
    "    print(\"the avg is:\",avg)\n",
    "\n",
    "avg(200,300,600)"
   ]
  },
  {
   "cell_type": "code",
   "execution_count": null,
   "id": "9bc99d82-4e43-40cc-bfe0-48df550fdf4a",
   "metadata": {},
   "outputs": [],
   "source": [
    "import math\n",
    "pii= math.pi\n",
    "r= eval(input(\"enter the radius\"))\n",
    "area= round(pii*r**2,2)\n",
    "print(\"the area of circle is:\",area)"
   ]
  },
  {
   "cell_type": "markdown",
   "id": "cfb9f86b-3f5c-4183-a4bc-73dc836754ce",
   "metadata": {},
   "source": [
    "********WITHOUT ARGUMENTS:"
   ]
  },
  {
   "cell_type": "code",
   "execution_count": 42,
   "id": "b1a6501f-738f-4ad7-aeed-8c08c7d87b2b",
   "metadata": {},
   "outputs": [
    {
     "ename": "AttributeError",
     "evalue": "module 'math' has no attribute 'pii'",
     "output_type": "error",
     "traceback": [
      "\u001b[1;31m---------------------------------------------------------------------------\u001b[0m",
      "\u001b[1;31mAttributeError\u001b[0m                            Traceback (most recent call last)",
      "Cell \u001b[1;32mIn[42], line 8\u001b[0m\n\u001b[0;32m      5\u001b[0m     area\u001b[38;5;241m=\u001b[39m \u001b[38;5;28mround\u001b[39m(pii\u001b[38;5;241m*\u001b[39mr\u001b[38;5;241m*\u001b[39m\u001b[38;5;241m*\u001b[39m\u001b[38;5;241m2\u001b[39m,\u001b[38;5;241m2\u001b[39m)\n\u001b[0;32m      6\u001b[0m     \u001b[38;5;28mprint\u001b[39m(\u001b[38;5;124m\"\u001b[39m\u001b[38;5;124mthe area of circle is:\u001b[39m\u001b[38;5;124m\"\u001b[39m,area)\n\u001b[1;32m----> 8\u001b[0m area_of_circle()\n",
      "Cell \u001b[1;32mIn[42], line 3\u001b[0m, in \u001b[0;36marea_of_circle\u001b[1;34m()\u001b[0m\n\u001b[0;32m      2\u001b[0m \u001b[38;5;28;01mdef\u001b[39;00m \u001b[38;5;21marea_of_circle\u001b[39m():\n\u001b[1;32m----> 3\u001b[0m     pii\u001b[38;5;241m=\u001b[39m math\u001b[38;5;241m.\u001b[39mpii\n\u001b[0;32m      4\u001b[0m     r\u001b[38;5;241m=\u001b[39m \u001b[38;5;28meval\u001b[39m(\u001b[38;5;28minput\u001b[39m(\u001b[38;5;124m\"\u001b[39m\u001b[38;5;124menter the radius\u001b[39m\u001b[38;5;124m\"\u001b[39m))\n\u001b[0;32m      5\u001b[0m     area\u001b[38;5;241m=\u001b[39m \u001b[38;5;28mround\u001b[39m(pii\u001b[38;5;241m*\u001b[39mr\u001b[38;5;241m*\u001b[39m\u001b[38;5;241m*\u001b[39m\u001b[38;5;241m2\u001b[39m,\u001b[38;5;241m2\u001b[39m)\n",
      "\u001b[1;31mAttributeError\u001b[0m: module 'math' has no attribute 'pii'"
     ]
    }
   ],
   "source": [
    "import math\n",
    "def area_of_circle():\n",
    "    pii= math.pii\n",
    "    r= eval(input(\"enter the radius\"))\n",
    "    area= round(pii*r**2,2)\n",
    "    print(\"the area of circle is:\",area)\n",
    "\n",
    "area_of_circle()"
   ]
  },
  {
   "cell_type": "markdown",
   "id": "5ae9501d-5296-4cb8-b7a1-61e0d4e5bab9",
   "metadata": {},
   "source": [
    "WITH ARGUMENTS\n",
    "    DIRECT PASS\n",
    "    KEYBOARD PASS\n",
    "    DEFAULT ARGUMENTS"
   ]
  },
  {
   "cell_type": "code",
   "execution_count": 43,
   "id": "f4c0aa52-d14c-4e23-b412-c6531bfdd918",
   "metadata": {},
   "outputs": [
    {
     "ename": "AttributeError",
     "evalue": "module 'math' has no attribute 'pii'",
     "output_type": "error",
     "traceback": [
      "\u001b[1;31m---------------------------------------------------------------------------\u001b[0m",
      "\u001b[1;31mAttributeError\u001b[0m                            Traceback (most recent call last)",
      "Cell \u001b[1;32mIn[43], line 7\u001b[0m\n\u001b[0;32m      4\u001b[0m     area\u001b[38;5;241m=\u001b[39m \u001b[38;5;28mround\u001b[39m(pii\u001b[38;5;241m*\u001b[39mr\u001b[38;5;241m*\u001b[39m\u001b[38;5;241m*\u001b[39m\u001b[38;5;241m2\u001b[39m,\u001b[38;5;241m2\u001b[39m)\n\u001b[0;32m      5\u001b[0m     \u001b[38;5;28mprint\u001b[39m(\u001b[38;5;124m\"\u001b[39m\u001b[38;5;124mthe area of circle is:\u001b[39m\u001b[38;5;124m\"\u001b[39m,area)\n\u001b[1;32m----> 7\u001b[0m area_of_circle(\u001b[38;5;241m20\u001b[39m)\n",
      "Cell \u001b[1;32mIn[43], line 3\u001b[0m, in \u001b[0;36marea_of_circle\u001b[1;34m(r)\u001b[0m\n\u001b[0;32m      2\u001b[0m \u001b[38;5;28;01mdef\u001b[39;00m \u001b[38;5;21marea_of_circle\u001b[39m(r):\n\u001b[1;32m----> 3\u001b[0m     pii\u001b[38;5;241m=\u001b[39m math\u001b[38;5;241m.\u001b[39mpii\n\u001b[0;32m      4\u001b[0m     area\u001b[38;5;241m=\u001b[39m \u001b[38;5;28mround\u001b[39m(pii\u001b[38;5;241m*\u001b[39mr\u001b[38;5;241m*\u001b[39m\u001b[38;5;241m*\u001b[39m\u001b[38;5;241m2\u001b[39m,\u001b[38;5;241m2\u001b[39m)\n\u001b[0;32m      5\u001b[0m     \u001b[38;5;28mprint\u001b[39m(\u001b[38;5;124m\"\u001b[39m\u001b[38;5;124mthe area of circle is:\u001b[39m\u001b[38;5;124m\"\u001b[39m,area)\n",
      "\u001b[1;31mAttributeError\u001b[0m: module 'math' has no attribute 'pii'"
     ]
    }
   ],
   "source": [
    "import math\n",
    "def area_of_circle(r):\n",
    "    pii= math.pii\n",
    "    area= round(pii*r**2,2)\n",
    "    print(\"the area of circle is:\",area)\n",
    "\n",
    "area_of_circle(20)"
   ]
  },
  {
   "cell_type": "code",
   "execution_count": 44,
   "id": "94eaf887-376d-429f-8e3b-d12a6f6bbb84",
   "metadata": {},
   "outputs": [
    {
     "name": "stdin",
     "output_type": "stream",
     "text": [
      "enter radius 20\n"
     ]
    },
    {
     "ename": "AttributeError",
     "evalue": "module 'math' has no attribute 'pii'",
     "output_type": "error",
     "traceback": [
      "\u001b[1;31m---------------------------------------------------------------------------\u001b[0m",
      "\u001b[1;31mAttributeError\u001b[0m                            Traceback (most recent call last)",
      "Cell \u001b[1;32mIn[44], line 8\u001b[0m\n\u001b[0;32m      5\u001b[0m     \u001b[38;5;28mprint\u001b[39m(\u001b[38;5;124m\"\u001b[39m\u001b[38;5;124mthe area of circle is:\u001b[39m\u001b[38;5;124m\"\u001b[39m,area)\n\u001b[0;32m      7\u001b[0m r\u001b[38;5;241m=\u001b[39m \u001b[38;5;28meval\u001b[39m(\u001b[38;5;28minput\u001b[39m(\u001b[38;5;124m\"\u001b[39m\u001b[38;5;124menter radius\u001b[39m\u001b[38;5;124m\"\u001b[39m))\n\u001b[1;32m----> 8\u001b[0m area_of_circle(r)\n",
      "Cell \u001b[1;32mIn[44], line 3\u001b[0m, in \u001b[0;36marea_of_circle\u001b[1;34m(r)\u001b[0m\n\u001b[0;32m      2\u001b[0m \u001b[38;5;28;01mdef\u001b[39;00m \u001b[38;5;21marea_of_circle\u001b[39m(r):\n\u001b[1;32m----> 3\u001b[0m     pii\u001b[38;5;241m=\u001b[39m math\u001b[38;5;241m.\u001b[39mpii\n\u001b[0;32m      4\u001b[0m     area\u001b[38;5;241m=\u001b[39m \u001b[38;5;28mround\u001b[39m(pii\u001b[38;5;241m*\u001b[39mr\u001b[38;5;241m*\u001b[39m\u001b[38;5;241m*\u001b[39m\u001b[38;5;241m2\u001b[39m,\u001b[38;5;241m2\u001b[39m)\n\u001b[0;32m      5\u001b[0m     \u001b[38;5;28mprint\u001b[39m(\u001b[38;5;124m\"\u001b[39m\u001b[38;5;124mthe area of circle is:\u001b[39m\u001b[38;5;124m\"\u001b[39m,area)\n",
      "\u001b[1;31mAttributeError\u001b[0m: module 'math' has no attribute 'pii'"
     ]
    }
   ],
   "source": [
    "import math\n",
    "def area_of_circle(r):\n",
    "    pii= math.pii\n",
    "    area= round(pii*r**2,2)\n",
    "    print(\"the area of circle is:\",area)\n",
    "\n",
    "r= eval(input(\"enter radius\"))\n",
    "area_of_circle(r)"
   ]
  },
  {
   "cell_type": "markdown",
   "id": "a053ca10-f080-4206-bf09-c6707c062b34",
   "metadata": {},
   "source": [
    "**********RETURN"
   ]
  },
  {
   "cell_type": "code",
   "execution_count": 45,
   "id": "441f3dc3-6d8f-410e-a434-1f6df235cb42",
   "metadata": {},
   "outputs": [
    {
     "ename": "AttributeError",
     "evalue": "module 'math' has no attribute 'pii'",
     "output_type": "error",
     "traceback": [
      "\u001b[1;31m---------------------------------------------------------------------------\u001b[0m",
      "\u001b[1;31mAttributeError\u001b[0m                            Traceback (most recent call last)",
      "Cell \u001b[1;32mIn[45], line 9\u001b[0m\n\u001b[0;32m      6\u001b[0m     \u001b[38;5;28mprint\u001b[39m(\u001b[38;5;124m\"\u001b[39m\u001b[38;5;124mthe area of circle is:\u001b[39m\u001b[38;5;124m\"\u001b[39m,area11)\n\u001b[0;32m      7\u001b[0m     \u001b[38;5;28;01mreturn\u001b[39;00m(area11,pii)\n\u001b[1;32m----> 9\u001b[0m area11,pii\u001b[38;5;241m=\u001b[39m area_of_circle()\n",
      "Cell \u001b[1;32mIn[45], line 3\u001b[0m, in \u001b[0;36marea_of_circle\u001b[1;34m()\u001b[0m\n\u001b[0;32m      2\u001b[0m \u001b[38;5;28;01mdef\u001b[39;00m \u001b[38;5;21marea_of_circle\u001b[39m():\n\u001b[1;32m----> 3\u001b[0m     pii\u001b[38;5;241m=\u001b[39m math\u001b[38;5;241m.\u001b[39mpii\n\u001b[0;32m      4\u001b[0m     r\u001b[38;5;241m=\u001b[39m \u001b[38;5;28meval\u001b[39m(\u001b[38;5;28minput\u001b[39m(\u001b[38;5;124m\"\u001b[39m\u001b[38;5;124menter radius\u001b[39m\u001b[38;5;124m\"\u001b[39m))\n\u001b[0;32m      5\u001b[0m     area11\u001b[38;5;241m=\u001b[39m \u001b[38;5;28mround\u001b[39m(pii\u001b[38;5;241m*\u001b[39mr\u001b[38;5;241m*\u001b[39m\u001b[38;5;241m*\u001b[39m\u001b[38;5;241m2\u001b[39m,\u001b[38;5;241m2\u001b[39m)\n",
      "\u001b[1;31mAttributeError\u001b[0m: module 'math' has no attribute 'pii'"
     ]
    }
   ],
   "source": [
    "import math\n",
    "def area_of_circle():\n",
    "    pii= math.pii\n",
    "    r= eval(input(\"enter radius\"))\n",
    "    area11= round(pii*r**2,2)\n",
    "    print(\"the area of circle is:\",area11)\n",
    "    return(area11,pii)\n",
    "\n",
    "area11,pii= area_of_circle()"
   ]
  },
  {
   "cell_type": "code",
   "execution_count": 46,
   "id": "5dfdacc7-2378-456d-89d8-7d2903c3fc4b",
   "metadata": {},
   "outputs": [
    {
     "ename": "SyntaxError",
     "evalue": "invalid syntax. Perhaps you forgot a comma? (562768028.py, line 8)",
     "output_type": "error",
     "traceback": [
      "\u001b[1;36m  Cell \u001b[1;32mIn[46], line 8\u001b[1;36m\u001b[0m\n\u001b[1;33m    addition,avg= sum_avg(20'30'40)\u001b[0m\n\u001b[1;37m                          ^\u001b[0m\n\u001b[1;31mSyntaxError\u001b[0m\u001b[1;31m:\u001b[0m invalid syntax. Perhaps you forgot a comma?\n"
     ]
    }
   ],
   "source": [
    "def sum_avg(n1,n2,n3):\n",
    "    summ= n1+n2+n3\n",
    "    avg= summ/3\n",
    "    print('sum:',summ)\n",
    "    print('avg:',avg)\n",
    "    return(summ,avg)\n",
    "\n",
    "addition,avg= sum_avg(20'30'40)\n",
    "print('addition is:',addition,'average is:', average)"
   ]
  },
  {
   "cell_type": "code",
   "execution_count": 47,
   "id": "2598f5be-5086-4d09-bae8-b3f25569786c",
   "metadata": {},
   "outputs": [
    {
     "ename": "TypeError",
     "evalue": "'int' object is not callable",
     "output_type": "error",
     "traceback": [
      "\u001b[1;31m---------------------------------------------------------------------------\u001b[0m",
      "\u001b[1;31mTypeError\u001b[0m                                 Traceback (most recent call last)",
      "Cell \u001b[1;32mIn[47], line 13\u001b[0m\n\u001b[0;32m     10\u001b[0m         \u001b[38;5;28mprint\u001b[39m(\u001b[38;5;124m\"\u001b[39m\u001b[38;5;132;01m{}\u001b[39;00m\u001b[38;5;124m is greater\u001b[39m\u001b[38;5;124m\"\u001b[39m\u001b[38;5;241m.\u001b[39mformat(n3))\n\u001b[0;32m     11\u001b[0m         \u001b[38;5;28;01mreturn\u001b[39;00m(n3)\n\u001b[1;32m---> 13\u001b[0m GREATER\u001b[38;5;241m=\u001b[39m greater(\u001b[38;5;241m20\u001b[39m,\u001b[38;5;241m200\u001b[39m,\u001b[38;5;241m10\u001b[39m)\n\u001b[0;32m     14\u001b[0m \u001b[38;5;28mprint\u001b[39m(greater)\n",
      "Cell \u001b[1;32mIn[47], line 7\u001b[0m, in \u001b[0;36mgreater\u001b[1;34m(n1, n2, n3)\u001b[0m\n\u001b[0;32m      4\u001b[0m     \u001b[38;5;28;01mreturn\u001b[39;00m(n1)\n\u001b[0;32m      6\u001b[0m \u001b[38;5;28;01melif\u001b[39;00m n2\u001b[38;5;241m>\u001b[39mn3:\n\u001b[1;32m----> 7\u001b[0m     \u001b[38;5;28mprint\u001b[39m(\u001b[38;5;124m\"\u001b[39m\u001b[38;5;132;01m{}\u001b[39;00m\u001b[38;5;124m is greater\u001b[39m\u001b[38;5;124m\"\u001b[39m\u001b[38;5;241m.\u001b[39mformat(n2))\n\u001b[0;32m      8\u001b[0m     \u001b[38;5;28;01mreturn\u001b[39;00m(n2)\n\u001b[0;32m      9\u001b[0m \u001b[38;5;28;01melse\u001b[39;00m:\n",
      "\u001b[1;31mTypeError\u001b[0m: 'int' object is not callable"
     ]
    }
   ],
   "source": [
    "def greater(n1,n2,n3):\n",
    "    if n1>n2 and n1>n3:\n",
    "        print(\"n1 is greater\".format(n1))\n",
    "        return(n1)\n",
    "\n",
    "    elif n2>n3:\n",
    "        print(\"{} is greater\".format(n2))\n",
    "        return(n2)\n",
    "    else:\n",
    "        print(\"{} is greater\".format(n3))\n",
    "        return(n3)\n",
    "\n",
    "GREATER= greater(20,200,10)\n",
    "print(greater)"
   ]
  },
  {
   "cell_type": "code",
   "execution_count": 48,
   "id": "2463c551-0a34-47f1-9f10-03be8a27b762",
   "metadata": {},
   "outputs": [
    {
     "ename": "SyntaxError",
     "evalue": "expected ':' (1807221304.py, line 10)",
     "output_type": "error",
     "traceback": [
      "\u001b[1;36m  Cell \u001b[1;32mIn[48], line 10\u001b[1;36m\u001b[0m\n\u001b[1;33m    def div(a,b)\u001b[0m\n\u001b[1;37m                ^\u001b[0m\n\u001b[1;31mSyntaxError\u001b[0m\u001b[1;31m:\u001b[0m expected ':'\n"
     ]
    }
   ],
   "source": [
    "def add(a,b):\n",
    "    return(a+b)\n",
    "\n",
    "def mul(a,b):\n",
    "    return(a*b)\n",
    "\n",
    "def sub(a,b):\n",
    "    return(a-b)\n",
    "\n",
    "def div(a,b)\n",
    "    return(a/b)\n",
    "\n",
    "val_add= add(20,30)\n",
    "val_mul= mul(20,30)\n",
    "val_sub= sub(20,30)\n",
    "val_div= div(20,30)\n",
    "print(val_add,val_sub,val_mul,round(val_div,2))"
   ]
  },
  {
   "cell_type": "code",
   "execution_count": null,
   "id": "b1c13519-4413-40d8-bda4-fef25f93e465",
   "metadata": {},
   "outputs": [],
   "source": []
  }
 ],
 "metadata": {
  "kernelspec": {
   "display_name": "Python 3 (ipykernel)",
   "language": "python",
   "name": "python3"
  },
  "language_info": {
   "codemirror_mode": {
    "name": "ipython",
    "version": 3
   },
   "file_extension": ".py",
   "mimetype": "text/x-python",
   "name": "python",
   "nbconvert_exporter": "python",
   "pygments_lexer": "ipython3",
   "version": "3.12.4"
  }
 },
 "nbformat": 4,
 "nbformat_minor": 5
}
