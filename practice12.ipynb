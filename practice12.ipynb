{
 "cells": [
  {
   "cell_type": "markdown",
   "id": "42854e92-a1f7-4b73-a5fa-bc70a6db985e",
   "metadata": {},
   "source": [
    "**WAP ask the user enter a basic_salary ask the user enter DA amount # ask the user enter HRA amount......calculate total pay? //totalpay=basicpay+DA+HRA"
   ]
  },
  {
   "cell_type": "code",
   "execution_count": 3,
   "id": "0303f1bf-94a9-402a-b56c-32aa79bc2c01",
   "metadata": {},
   "outputs": [
    {
     "name": "stdin",
     "output_type": "stream",
     "text": [
      "enter a basic salary 18000\n",
      "enter a DA amount: 6000\n",
      "enter a HRA amount 5000\n"
     ]
    },
    {
     "name": "stdout",
     "output_type": "stream",
     "text": [
      "the total salary is: 29000\n"
     ]
    }
   ],
   "source": [
    "basic_salary= eval(input(\"enter a basic salary\"))\n",
    "DA_amount= eval(input(\"enter a DA amount:\"))\n",
    "HRA_amount= eval(input(\"enter a HRA amount\"))\n",
    "total_pay= basic_salary+ DA_amount+ HRA_amount\n",
    "print(\"the total salary is:\",total_pay)"
   ]
  },
  {
   "cell_type": "markdown",
   "id": "a47b478e-4f5d-4982-a019-bbfe935e13e6",
   "metadata": {},
   "source": [
    "**WAP ask the user enter salary ask the user tax percentage.....calculate how much tax user need to pay?"
   ]
  },
  {
   "cell_type": "code",
   "execution_count": 4,
   "id": "d7c7bb73-fad7-45c1-baa2-95cd1a9c0389",
   "metadata": {},
   "outputs": [
    {
     "name": "stdin",
     "output_type": "stream",
     "text": [
      "enter ur salary: 15000\n",
      "enter ur tax percentage: 4\n"
     ]
    },
    {
     "name": "stdout",
     "output_type": "stream",
     "text": [
      "total tax is 600.0\n"
     ]
    }
   ],
   "source": [
    "salary= eval(input(\"enter ur salary:\"))\n",
    "tax_percent= eval(input(\"enter ur tax percentage:\"))\n",
    "tax_amount= (salary*tax_percent)/100\n",
    "print(\"total tax is\", tax_amount)"
   ]
  },
  {
   "cell_type": "markdown",
   "id": "94098124-9ebd-4dfd-a404-82a3c240073e",
   "metadata": {},
   "source": [
    "**WAP ask the user to get a random number between 1 and 100 & perform the square of the number\n",
    "###package name:random\n",
    "###method_name:randint"
   ]
  },
  {
   "cell_type": "code",
   "execution_count": 6,
   "id": "ebaeddeb-e993-4443-b719-013284101446",
   "metadata": {},
   "outputs": [
    {
     "name": "stdout",
     "output_type": "stream",
     "text": [
      "the square of 29 is 841\n"
     ]
    }
   ],
   "source": [
    "import random\n",
    "number= random.randint(1,100)\n",
    "square= number*number\n",
    "print(\"the square of {} is {}\".format(number,square))"
   ]
  },
  {
   "cell_type": "code",
   "execution_count": 1,
   "id": "49265215-ffec-4dfb-9a07-32fa0272f92c",
   "metadata": {},
   "outputs": [
    {
     "name": "stdin",
     "output_type": "stream",
     "text": [
      "enter a number 23\n"
     ]
    },
    {
     "name": "stdout",
     "output_type": "stream",
     "text": [
      "the square of 23 is 529\n"
     ]
    }
   ],
   "source": [
    "number= eval(input('enter a number'))\n",
    "square= number*number\n",
    "print(\"the square of {} is {}\".format(number,square))"
   ]
  },
  {
   "cell_type": "code",
   "execution_count": 2,
   "id": "333dfff4-79f7-411f-883b-813fb092d4ac",
   "metadata": {},
   "outputs": [
    {
     "name": "stdout",
     "output_type": "stream",
     "text": [
      "the square of 30 is 900\n"
     ]
    }
   ],
   "source": [
    "number= 30\n",
    "square= number*number\n",
    "print(\"the square of {} is {}\".format(number,square))"
   ]
  },
  {
   "cell_type": "markdown",
   "id": "e2386e5f-982a-4f1c-9a27-0637e448592f",
   "metadata": {},
   "source": [
    "########WAP ask the user enter a distance\n",
    "            ask the user enter a rate per distance\n",
    "        Calculate totalCharge"
   ]
  },
  {
   "cell_type": "code",
   "execution_count": null,
   "id": "971e8ff0-08e4-475d-98b0-a4f917863bf4",
   "metadata": {},
   "outputs": [],
   "source": [
    "distance= eval(input(\"enter distance in km\"))\n",
    "rate= eval(input(\"enter rate per km\"))\n",
    "charge= distance*rate\n",
    "print(\"for {} km the charge is {}\".format(distance,charge))"
   ]
  },
  {
   "cell_type": "markdown",
   "id": "60a402d9-b9e7-4424-ba69-bf62851172a6",
   "metadata": {},
   "source": [
    "*******bill= eval(input(\"total bill in dollars\"))\n",
    "       conversion_rate= eval(input('one dollars equal to:'))\n",
    "       totalAmount= bill* conversion_rate\n",
    "       print(totalAmount)"
   ]
  },
  {
   "cell_type": "code",
   "execution_count": null,
   "id": "425d6dc8-683e-4702-99b4-1bb90c47d895",
   "metadata": {},
   "outputs": [],
   "source": [
    "import time\n",
    "bill= eval(input(\"enter total bill in dollars\"))\n",
    "time.sleep(2)\n",
    "print(\"Manager: Dollars are not accepted\")\n",
    "time.sleep(2)\n",
    "print(\"User: Which currency will be accepted\")\n",
    "time.sleep(2)\n",
    "print(\"Manager: Only indian rupees\")\n",
    "time.sleep(2)\n",
    "conversion_rate= eval(input(\"User: one dollars equal:\"))\n",
    "print(\"for bill of {} dollars, u need to pay {} rupees \".format(bill, bill*conversion_rate))\n",
    "                      "
   ]
  },
  {
   "cell_type": "code",
   "execution_count": null,
   "id": "638712ce-b6cf-4a82-a898-c6397f8c2505",
   "metadata": {},
   "outputs": [],
   "source": [
    "import time\n",
    "print(\"Father: Which course u want to do\")\n",
    "time.sleep(2)\n",
    "print(\"Son: I want to pursue DS\")\n",
    "time.sleep(2)\n",
    "print(\"Father: That's nice\")\n",
    "time.sleep(2)\n",
    "print(\"Father: May i know ur JEE rank?\")\n",
    "print(\"Son: Its 2 lakh+\")\n",
    "time.sleep(2)\n",
    "print(\"Father: How can u pursue?\")\n",
    "print(\"Son: payment seat\")\n",
    "print(\"Father: Which college is offering?\")\n",
    "time.sleep(2)\n",
    "input(\"Son:\")\n",
    "print(\"Father: How much is the fee?\")\n",
    "time.sleep(2)\n",
    "rank=eval(input(\"son:'the fee is:'\"))\n",
    "time.sleep(2)\n",
    "calculate=rank*4\n",
    "time.sleep(2)\n",
    "print(\"son:the total fees is {}\".format(calculate))\n"
   ]
  },
  {
   "cell_type": "code",
   "execution_count": null,
   "id": "55049dc1-3e99-47d6-bead-51bd08ed9d74",
   "metadata": {},
   "outputs": [],
   "source": []
  }
 ],
 "metadata": {
  "kernelspec": {
   "display_name": "Python 3 (ipykernel)",
   "language": "python",
   "name": "python3"
  },
  "language_info": {
   "codemirror_mode": {
    "name": "ipython",
    "version": 3
   },
   "file_extension": ".py",
   "mimetype": "text/x-python",
   "name": "python",
   "nbconvert_exporter": "python",
   "pygments_lexer": "ipython3",
   "version": "3.12.4"
  }
 },
 "nbformat": 4,
 "nbformat_minor": 5
}
